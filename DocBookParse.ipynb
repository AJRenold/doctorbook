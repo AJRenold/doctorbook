{
 "metadata": {
  "name": "DocBookParse"
 },
 "nbformat": 3,
 "nbformat_minor": 0,
 "worksheets": [
  {
   "cells": [
    {
     "cell_type": "code",
     "collapsed": false,
     "input": "import BeautifulSoup as bs\nimport nltk\n\n# READ_PATH = raw_input('Enter the path to the input resource: ')\n# SEARCH_TAG = raw_input(\"Enter the tag you're looking for: \")\n\n# soup = bs.BeautifulStoneSoup(open(READ_PATH, 'rt').read())\n\n# result_t = []\n\n# for t in soup.findAll('keywords'):\n# \tresult_t.append(t)\n\n# clean_results = []\n\n# for t in result_t:\n# \tclean_results.append(nltk.clean_html(t.prettify()))\n\n# print clean_results\n#ORIGINAL_DIRECTORY = '/Users/shoheinarron/Sites/doctorbook/'\nORIGINAL_DRECTORY = '/Users/Desktop/docbookparser/'",
     "language": "python",
     "metadata": {},
     "outputs": [],
     "prompt_number": 1
    },
    {
     "cell_type": "code",
     "collapsed": false,
     "input": "PATH = 'Chapter1.xml'\nsoup = bs.BeautifulStoneSoup(open(ORIGINAL_DIRECTORY + PATH, 'rt').read())\n\nkeyword_result = []\nauthor_result = []\nindexterm_result = []\norgname_result = []\nphrase_result = []\n\ntotal_result = []\nresult_category_list = []\n\nfor t in soup.findAll('keyword'):\n\tkeyword_result.append(t)\n\tresult_category_list.append('keyword')\ntotal_result.append(keyword_result)\n\nfor t in soup.findAll('author'):\n\tauthor_result.append(t)\n\tresult_category_list.append('author')\ntotal_result.append(author_result)\n\nfor t in soup.findAll('indexterm'):\n\tindexterm_result.append(t)\n\tresult_category_list.append('indexterm')\ntotal_result.append(indexterm_result)\n\nfor t in soup.findAll('orgname'):\n\torgname_result.append(t)\n\tresult_category_list.append('orgname')\ntotal_result.append(orgname_result)\n\nfor t in soup.findAll('phrase'):\n\tphrase_result.append(t)\n\tresult_category_list.append('phrase')\ntotal_result.append(phrase_result)",
     "language": "python",
     "metadata": {},
     "outputs": [],
     "prompt_number": 2
    },
    {
     "cell_type": "code",
     "collapsed": false,
     "input": "import re\nnot_quite_clean_results = []\n\nfor result_category in total_result:\n\tfor results in result_category:\n\t\t#print results\n\t\t#print results.prettify()\n\t\tnot_quite_clean_results.append(re.split(r'[ \\t\\n]+', nltk.clean_html(results.prettify())))",
     "language": "python",
     "metadata": {},
     "outputs": [],
     "prompt_number": 3
    },
    {
     "cell_type": "code",
     "collapsed": false,
     "input": "clean_results = []\nfor i in not_quite_clean_results:\n\tclean_results.append(' '.join(i))",
     "language": "python",
     "metadata": {},
     "outputs": [],
     "prompt_number": 4
    },
    {
     "cell_type": "code",
     "collapsed": false,
     "input": "import pandas as pd\nclean_results_series = pd.Series(clean_results)\nresult_categry_list = pd.Series(result_category_list)\nd = {'Category': result_category_list, 'Entry': clean_results_series}\nfinal_result = pd.DataFrame(d)\n\ni = 200\nprint final_result[i:i+100]",
     "language": "python",
     "metadata": {},
     "outputs": [
      {
       "output_type": "stream",
       "stream": "stdout",
       "text": "      Category                                              Entry\n200  indexterm                                                CRM\n201  indexterm                                                 BI\n202  indexterm                                                 KM\n203  indexterm                                                SCM\n204  indexterm                                  organizing degree\n205  indexterm                                organizing how much\n206  indexterm                       degree of organizing systems\n207  indexterm                                                SKU\n208  indexterm                                   costs accounting\n209  indexterm                                         cataloging\n210  indexterm                   library science cataloging rules\n211  indexterm                                      Coase, Ronald\n212  indexterm                                        Smith, Adam\n213  indexterm                                 Williamson, Oliver\n214  indexterm                                   Chandler, Alfred\n215  indexterm                                     Simon, Herbert\n216  indexterm                                  transaction costs\n217  indexterm                                  costs transaction\n218  indexterm                                  costs Moore's Law\n219  indexterm                                        Moore's Law\n220  indexterm                                  costs transaction\n221  indexterm                                    organizing when\n222  indexterm                                temporal parameters\n223  indexterm            tradeoffs organization versus retrieval\n224  indexterm                                               EXIF\n225  indexterm                                     computing EXIF\n226  indexterm                             chronological ordering\n227  indexterm                                 numerical ordering\n228  indexterm                                             LOC-CN\n229  indexterm                                             LOC-SH\n230  indexterm                                               ISBN\n231  indexterm                                     Nunberg, Geoff\n232  indexterm               library science metadata train wreck\n233  indexterm                   Google personalized ad placement\n234  indexterm               search results selection and ranking\n235  indexterm                             ranking search results\n236  indexterm                                          selection\n237  indexterm                                         governance\n238  indexterm                  activities maintenance governance\n239  indexterm                           institutional governance\n240  indexterm                                     organizing how\n241  indexterm                                 organizing by whom\n242  indexterm                           organizing professionals\n243  indexterm                             bibliographic universe\n244  indexterm                                costs human factors\n245  indexterm                                  cataloging formal\n246  indexterm              library science education vs practice\n247  indexterm                                               NSPO\n248  indexterm                       white space print publishing\n249  indexterm                                    Web 2.0 sidebar\n250  indexterm                                Library 2.0 sidebar\n251  indexterm                                 Museum 2.0 sidebar\n252  indexterm                                    Gov 2.0 sidebar\n253  indexterm                                      O'Reilly, Tim\n254  indexterm                                    Dougherty, Dale\n255  indexterm                                         Amazon.com\n256  indexterm                                               eBay\n257  indexterm                                            Twitter\n258  indexterm                                           Facebook\n259  indexterm                                         folksonomy\n260  indexterm                               computing hidden web\n261  indexterm                                             Yahoo!\n262  indexterm                                        Yang, Jerry\n263  indexterm                                        Filo, David\n264  indexterm                               organizing this book\n265  indexterm            tradeoffs organization versus retrieval\n266  indexterm                                                NLP\n267  indexterm                               ranking descriptions\n268  indexterm          tradeoffs descriptive versus prescriptive\n269    orgname                 University of California, Berkeley\n270    orgname                              School of Information\n271    orgname                                           Berkeley\n272    orgname                          World Wide Web Consortium\n273    orgname                                              Apple\n274    orgname  US Department of Labor, Bureau of Labor Statis...\n275    orgname  International Federation of Library Associatio...\n276    orgname   International Federation of Library Associations\n277    orgname                                             Flickr\n278    orgname                                             Google\n279    orgname                                             Google\n280    orgname                                  US District Court\n281    orgname                              US Justice Department\n282    orgname                         Alfred P. Sloan Foundation\n283    orgname                  Digital Public Library of America\n284    orgname                                        US Congress\n285    orgname                             Natural History Museum\n286    orgname                                          Sea World\n287    orgname                 University of California, Berkeley\n288    orgname                                             Google\n289    orgname                                             Google\n290    orgname                                             Google\n291    orgname                                             Flickr\n292    orgname                                            Westlaw\n293    orgname                                         LexisNexis\n294    orgname    National Association of Professional Organizers\n295    orgname                                             Google\n296    orgname                                         Amazon.com\n297    orgname                                               eBay\n298    orgname                                          Wikipedia\n299    orgname                                           Facebook\n"
      }
     ],
     "prompt_number": 22
    },
    {
     "cell_type": "code",
     "collapsed": false,
     "input": "",
     "language": "python",
     "metadata": {},
     "outputs": []
    }
   ],
   "metadata": {}
  }
 ]
}