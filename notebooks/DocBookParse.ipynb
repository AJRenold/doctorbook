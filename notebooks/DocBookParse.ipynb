{
 "metadata": {
  "name": "DocBookParse"
 },
 "nbformat": 3,
 "nbformat_minor": 0,
 "worksheets": [
  {
   "cells": [
    {
     "cell_type": "markdown",
     "metadata": {},
     "source": [
      "<h2>Dr. Book - Linking a Book to Open Data Sources</h2>\n",
      "<h3>Abstract:</h3>\n",
      "<p>For any text-based resource, we will attempt to extract named entities, such as people, places, topics and concepts, to render an annotated version of the text, linking the text to Open Data resources. Our tool parses books authored using the Docbook XML structure (http://docbook.org/tdg51/en/html/) and also uses natural language processing techniques to process raw text, attempting to extract terms which can be linked to wikipedia and other Open Data resources. Our tool is potentially useful for pre and post processing a text document. Pre-processing would take place during the authoring and publication process to create supplementatal resources for inclusion in the text. Post-processing would take place at reading time in the form of a browser or ereader extension which annotates the text of the page.</p>"
     ]
    },
    {
     "cell_type": "markdown",
     "metadata": {},
     "source": [
      "<h3>Original Idea:</h3>\n",
      "<p>Two of our team members are involved in the <i><a href=\"http://www.ischool.berkeley.edu/courses/i290-feb\">Future of eBooks</a></i> seminar in which students have created an <a href=\"www.futurepress.org\">open-source eBook reader</a>. We believe that books should be platform-independent and plugin-extensible.</p>\n",
      "<p>Our team decided to work on a project that would explore the use of Open Data to augment the reading experience by adding semantic web-like links to connect information within a book to the Web.</p> <h4>Project code can be found on github here: <a href=https://github.com/AJRenold/doctorbook>https://github.com/AJRenold/doctorbook</a></h4>"
     ]
    },
    {
     "cell_type": "code",
     "collapsed": false,
     "input": [
      "#imports\n",
      "from bs4 import BeautifulSoup, NavigableString, Tag\n",
      "import nltk\n",
      "import pandas as pd\n",
      "import re\n",
      "from itertools import islice\n",
      "from collections import Counter\n",
      "import os\n",
      "\n",
      "# Our tools\n",
      "from get_wiki_links import WikiUrlFetch, WikiUrlFetchNonDBPedia\n",
      "from get_wiki_text import Wiki2Plain"
     ],
     "language": "python",
     "metadata": {},
     "outputs": [],
     "prompt_number": 2
    },
    {
     "cell_type": "markdown",
     "metadata": {},
     "source": [
      "<h3>TDO: The Discipline of Organizing:</h3>\n",
      "<p>The team chose Prof. Glushko's upcoming textbook <i><a href=\"http://tdo.berkeley.edu/\">The Discipline of Organizing (TDO)</a></i> to use to develop ideas for our project. We thought the book would be a good test case for the project, as it is authored in DocBook XML, with structured markup of entities within the text, and many references to entities with wikipedia entries. This allowed us to work on XML and raw text parsing.</p>"
     ]
    },
    {
     "cell_type": "heading",
     "level": 3,
     "metadata": {},
     "source": [
      "Read Chapter1.xml into BeautifulSoup"
     ]
    },
    {
     "cell_type": "code",
     "collapsed": false,
     "input": [
      "PATH = 'Chapter1.xml'\n",
      "soup = BeautifulSoup(open(PATH, 'rt').read())"
     ],
     "language": "python",
     "metadata": {},
     "outputs": [],
     "prompt_number": 3
    },
    {
     "cell_type": "markdown",
     "metadata": {},
     "source": [
      "<h2>Picking up tags:</h2>\n",
      "<p>TDO uses the <a href=\"http://docbook.org/\">DocBook</a> XML markup standard, providing a solid base for analyzing terms by parsing specific tags in the text.</p>\n",
      "<p>After exploring the text, we opted to use the tags \"keyword,\" \"author,\" \"indexterm,\" \"orgname,\" \"personname,\" and \"phrase.\"</p>\n",
      "<p>Which tags are in the soup?</p>"
     ]
    },
    {
     "cell_type": "code",
     "collapsed": false,
     "input": [
      "book_tags = set([tag.name for tag in soup.findAll(True)])\n",
      "print(book_tags)"
     ],
     "language": "python",
     "metadata": {},
     "outputs": [
      {
       "output_type": "stream",
       "stream": "stdout",
       "text": [
        "set(['ulink', 'surname', 'figure', 'footnote', 'othername', 'primary', 'uri', 'hardware', 'citerefentry', 'manvolnum', 'phrase', 'sidebar', 'tertiary', 'xref', 'sect2', 'para', 'sect1', 'orgname', 'highlights', 'sect1info', 'abbrev', 'filename', 'application', 'emphasis', 'html', 'listitem', 'textobject', 'indexterm', 'chapterinfo', 'firstterm', 'body', 'keywordset', 'blockquote', 'attribution', 'firstname', 'quote', 'symbol', 'literal', 'sect3info', 'citetitle', 'link', 'foreignphrase', 'secondary', 'chapter', 'mediaobject', 'sidebarinfo', 'imagedata', 'keyword', 'glossterm', 'author', 'imageobject', 'personname', 'sect2info', 'refentrytitle', 'action', 'title', 'itemizedlist', 'sect3'])\n"
       ]
      }
     ],
     "prompt_number": 4
    },
    {
     "cell_type": "heading",
     "level": 3,
     "metadata": {},
     "source": [
      "Using selected tags to construct a Pandas DataFrame with terms from the text"
     ]
    },
    {
     "cell_type": "code",
     "collapsed": false,
     "input": [
      "# The following script looks for terms within select tags and creates a Pandas DataFrame object.\n",
      "# The DataFrame consists of \"count\" (term counter), \"tag\" (the XML tag for which the term is an attribute),\n",
      "# and \"term\" (the term found within the tag).\n",
      "\n",
      "list_for_df = []\n",
      "tags = ['keyword','author','indexterm','orgname','personname','phrase']\n",
      "for tag in tags:\n",
      "    for i in soup.findAll(tag):\n",
      "        if i.string == None:\n",
      "            list_for_df.append({ 'term':\" \".join([ child.lower().encode('utf-8') for child in i.stripped_strings ]), \\\n",
      "                                'tag': tag, 'count': 1 })\n",
      "        else:\n",
      "            list_for_df.append({ 'term': re.sub('  +','', i.string.lower().encode('utf-8')), 'tag': tag, 'count': 1 })\n",
      "        \n",
      "book_df = pd.DataFrame(list_for_df)"
     ],
     "language": "python",
     "metadata": {},
     "outputs": [],
     "prompt_number": 5
    },
    {
     "cell_type": "code",
     "collapsed": false,
     "input": [
      "# First 10 entries of the DataFrame.\n",
      "book_df[0:10]"
     ],
     "language": "python",
     "metadata": {},
     "outputs": [
      {
       "html": [
        "<div style=\"max-height:1000px;max-width:1500px;overflow:auto;\">\n",
        "<table border=\"1\" class=\"dataframe\">\n",
        "  <thead>\n",
        "    <tr style=\"text-align: right;\">\n",
        "      <th></th>\n",
        "      <th>count</th>\n",
        "      <th>tag</th>\n",
        "      <th>term</th>\n",
        "    </tr>\n",
        "  </thead>\n",
        "  <tbody>\n",
        "    <tr>\n",
        "      <th>0</th>\n",
        "      <td> 1</td>\n",
        "      <td> keyword</td>\n",
        "      <td>                organize</td>\n",
        "    </tr>\n",
        "    <tr>\n",
        "      <th>1</th>\n",
        "      <td> 1</td>\n",
        "      <td> keyword</td>\n",
        "      <td>       organizing system</td>\n",
        "    </tr>\n",
        "    <tr>\n",
        "      <th>2</th>\n",
        "      <td> 1</td>\n",
        "      <td> keyword</td>\n",
        "      <td>              discipline</td>\n",
        "    </tr>\n",
        "    <tr>\n",
        "      <th>3</th>\n",
        "      <td> 1</td>\n",
        "      <td> keyword</td>\n",
        "      <td>               framework</td>\n",
        "    </tr>\n",
        "    <tr>\n",
        "      <th>4</th>\n",
        "      <td> 1</td>\n",
        "      <td> keyword</td>\n",
        "      <td>                resource</td>\n",
        "    </tr>\n",
        "    <tr>\n",
        "      <th>5</th>\n",
        "      <td> 1</td>\n",
        "      <td> keyword</td>\n",
        "      <td>              collection</td>\n",
        "    </tr>\n",
        "    <tr>\n",
        "      <th>6</th>\n",
        "      <td> 1</td>\n",
        "      <td> keyword</td>\n",
        "      <td> intentional arrangement</td>\n",
        "    </tr>\n",
        "    <tr>\n",
        "      <th>7</th>\n",
        "      <td> 1</td>\n",
        "      <td> keyword</td>\n",
        "      <td>                   agent</td>\n",
        "    </tr>\n",
        "    <tr>\n",
        "      <th>8</th>\n",
        "      <td> 1</td>\n",
        "      <td> keyword</td>\n",
        "      <td>    description resource</td>\n",
        "    </tr>\n",
        "    <tr>\n",
        "      <th>9</th>\n",
        "      <td> 1</td>\n",
        "      <td> keyword</td>\n",
        "      <td>        primary resource</td>\n",
        "    </tr>\n",
        "  </tbody>\n",
        "</table>\n",
        "</div>"
       ],
       "output_type": "pyout",
       "prompt_number": 6,
       "text": [
        "   count      tag                     term\n",
        "0      1  keyword                 organize\n",
        "1      1  keyword        organizing system\n",
        "2      1  keyword               discipline\n",
        "3      1  keyword                framework\n",
        "4      1  keyword                 resource\n",
        "5      1  keyword               collection\n",
        "6      1  keyword  intentional arrangement\n",
        "7      1  keyword                    agent\n",
        "8      1  keyword     description resource\n",
        "9      1  keyword         primary resource"
       ]
      }
     ],
     "prompt_number": 6
    },
    {
     "cell_type": "heading",
     "level": 2,
     "metadata": {},
     "source": [
      "Text Processing with nltk to find Named Entities in the Text"
     ]
    },
    {
     "cell_type": "markdown",
     "metadata": {},
     "source": [
      "<h3>Regex v. Natural Language Processing:</h3>\n",
      "<p>Our team explored both Regex-based, and Natural Language-based entity recognition techniques. We initially worked with Regex, thinking it would provide a more flexible, rule-based method of identifying terms with less overhead. We quickly realized that Natural Language Processing offers a better solution to our problem. As the old hacker adage goes: don't reinvent the wheel!</p>\n",
      "<p>We used <a href=\"http://nltk.org/\">NLTK</a>, a Python module rich in natural language tools, to tag words by part of speech. We then focused on parts of speech which could be mapped to named entities, nouns and proper nouns.</p>"
     ]
    },
    {
     "cell_type": "markdown",
     "metadata": {},
     "source": [
      "<p>Here's the script for cleaning up the text and tagging each word.</p>"
     ]
    },
    {
     "cell_type": "code",
     "collapsed": false,
     "input": [
      "# We used NLTK (Natural Language Toolkit) to identify terms within the text that are not markedup\n",
      "# with XML.\n",
      "\n",
      "# First we create one large text by stripping the markup from XML.\n",
      "all_xml =  \" \".join([ line for line in soup.stripped_strings])\n",
      "text = nltk.clean_html(all_xml)\n",
      "\n",
      "# We then clean the text through string subsitutions.\n",
      "text = re.sub(r\"[\\n\\.,\\(\\)\\?\\!\\-':]\",\"\",text)\n",
      "\n",
      "# Finally, we use nltk.pos_tag to insert part-of-speech tags to each word in the text.\n",
      "tagged_text = nltk.pos_tag(text.split(' '))"
     ],
     "language": "python",
     "metadata": {},
     "outputs": [],
     "prompt_number": 7
    },
    {
     "cell_type": "markdown",
     "metadata": {},
     "source": [
      "<h3>Noun Chains</h3>\n",
      "<p>To create a list of potentially named entities in the document, we looked for nouns and variations of nouns (singlar v. plural, general nouns v. proper nouns). We then developed an algorithm to create chains of nouns that appear next to each other. The hypothesis for this is that two or more nouns appearing next to each other likely name the same entity, such as Berkeley California, Nunberg Geoff, or library information systems</p>"
     ]
    },
    {
     "cell_type": "code",
     "collapsed": false,
     "input": [
      "pos = ['NN','NNS','NNP','NNPS'] ## nltk noun tags\n",
      "\n",
      "terms = []\n",
      "chain = []\n",
      "for term in tagged_text: ## loop through tagged text (in its original order)\n",
      "    \n",
      "    if term[1] in pos: ## if a term is in our pos list, append the term to the chain and to the noun list\n",
      "        chain.append(term)\n",
      "        terms.append(term[0].lower().encode('UTF-8'))\n",
      "        terms.append(\" \".join([ item[0].lower().encode('UTF-8') for item in chain ]))\n",
      "        \n",
      "    else: ## at the end of a sequence of nouns, append the chain to the noun list and reset the chain\n",
      "        if len(chain) > 0:\n",
      "            terms.append(\" \".join([ item[0].lower().encode('UTF-8') for item in chain ]))\n",
      "            chain = []\n",
      "            \n",
      "terms = [ re.sub(' +',' ',term) for term in terms if term != '' ] # clean extra spaces from noun chains\n",
      "terms = [ re.sub('^ ','',term) for term in terms ] "
     ],
     "language": "python",
     "metadata": {},
     "outputs": [],
     "prompt_number": 8
    },
    {
     "cell_type": "code",
     "collapsed": false,
     "input": [
      "## sample of terms scrapped\n",
      "print terms[100:130]"
     ],
     "language": "python",
     "metadata": {},
     "outputs": [
      {
       "output_type": "stream",
       "stream": "stdout",
       "text": [
        "['order', 'order', 'order', '', '', '', 'structure', 'structure', 'organizing', 'structure organizing', 'structure organizing', 'activity', 'activity', 'activity', 'shoes', 'shoes', 'shoes', 'closet', 'closet', 'closet', '', 'books', 'books', 'books', 'book', 'book', 'shelves', 'book shelves', 'book shelves', 'spices']\n"
       ]
      }
     ],
     "prompt_number": 9
    },
    {
     "cell_type": "markdown",
     "metadata": {},
     "source": [
      "<h3>Append new terms to DataFrame</h3>\n",
      "<p>As an approach to processing named entities from a large document, we choose to filter terms that occurred less than a certain number of times. We settled for 2 since setting it higher would have excluded many terms crucial to the understanding of a text. The issue here is that this method, while retaining precision, had very high recall.</p>"
     ]
    },
    {
     "cell_type": "code",
     "collapsed": false,
     "input": [
      "terms_for_df = []\n",
      "term_count = Counter(terms)\n",
      "\n",
      "# count_threshold should be a number that returns a good amount of information within a reasonable amount of time.\n",
      "# This depends on what the reader is looking for, and how much computational power they have.\n",
      "# Theoretically speaking, it could be 0 if a reader wants to see all terms, and can process that amount of data on their computer.\n",
      "count_threshold = 2\n",
      "\n",
      "for term,count in term_count.iteritems():\n",
      "    if count >= count_threshold:\n",
      "        terms_for_df.append({ 'term': term,'count': count })\n",
      "        #print term, count"
     ],
     "language": "python",
     "metadata": {},
     "outputs": [],
     "prompt_number": 10
    },
    {
     "cell_type": "code",
     "collapsed": false,
     "input": [
      "# check state of original book_df (366 terms)\n",
      "book_df"
     ],
     "language": "python",
     "metadata": {},
     "outputs": [
      {
       "output_type": "pyout",
       "prompt_number": 11,
       "text": [
        "<class 'pandas.core.frame.DataFrame'>\n",
        "Int64Index: 366 entries, 0 to 365\n",
        "Data columns:\n",
        "count    366  non-null values\n",
        "tag      366  non-null values\n",
        "term     366  non-null values\n",
        "dtypes: int64(1), object(2)"
       ]
      }
     ],
     "prompt_number": 11
    },
    {
     "cell_type": "code",
     "collapsed": false,
     "input": [
      "## create list of dict for appending to df\n",
      "list_for_df = []\n",
      "for item in terms_for_df:\n",
      "    if item['term'] != \"\" and item['term'] != \" \":\n",
      "        list_for_df.append({ 'term': item['term'], 'count': item['count'], 'tag': 'raw'})"
     ],
     "language": "python",
     "metadata": {},
     "outputs": [],
     "prompt_number": 12
    },
    {
     "cell_type": "heading",
     "level": 4,
     "metadata": {},
     "source": [
      "Append terms scrapped from text to book_df"
     ]
    },
    {
     "cell_type": "code",
     "collapsed": false,
     "input": [
      "book_df = book_df.append(pd.DataFrame(list_for_df))"
     ],
     "language": "python",
     "metadata": {},
     "outputs": [],
     "prompt_number": 13
    },
    {
     "cell_type": "code",
     "collapsed": false,
     "input": [
      "## check the raw terms that were appended\n",
      "df_rawterms = book_df[book_df['tag']=='raw']"
     ],
     "language": "python",
     "metadata": {},
     "outputs": [],
     "prompt_number": 14
    },
    {
     "cell_type": "code",
     "collapsed": false,
     "input": [
      "df_rawterms"
     ],
     "language": "python",
     "metadata": {},
     "outputs": [
      {
       "output_type": "pyout",
       "prompt_number": 15,
       "text": [
        "<class 'pandas.core.frame.DataFrame'>\n",
        "Int64Index: 2863 entries, 0 to 2862\n",
        "Data columns:\n",
        "count    2863  non-null values\n",
        "tag      2863  non-null values\n",
        "term     2863  non-null values\n",
        "dtypes: int64(1), object(2)"
       ]
      }
     ],
     "prompt_number": 15
    },
    {
     "cell_type": "code",
     "collapsed": false,
     "input": [
      "# check state of new book_df (3229 terms)\n",
      "book_df"
     ],
     "language": "python",
     "metadata": {},
     "outputs": [
      {
       "output_type": "pyout",
       "prompt_number": 16,
       "text": [
        "<class 'pandas.core.frame.DataFrame'>\n",
        "Int64Index: 3229 entries, 0 to 2862\n",
        "Data columns:\n",
        "count    3229  non-null values\n",
        "tag      3229  non-null values\n",
        "term     3229  non-null values\n",
        "dtypes: int64(1), object(2)"
       ]
      }
     ],
     "prompt_number": 16
    },
    {
     "cell_type": "code",
     "collapsed": false,
     "input": [
      "## drop duplicated terms\n",
      "book_df.drop_duplicates()"
     ],
     "language": "python",
     "metadata": {},
     "outputs": [
      {
       "output_type": "pyout",
       "prompt_number": 17,
       "text": [
        "<class 'pandas.core.frame.DataFrame'>\n",
        "Int64Index: 3190 entries, 0 to 2862\n",
        "Data columns:\n",
        "count    3190  non-null values\n",
        "tag      3190  non-null values\n",
        "term     3190  non-null values\n",
        "dtypes: int64(1), object(2)"
       ]
      }
     ],
     "prompt_number": 17
    },
    {
     "cell_type": "markdown",
     "metadata": {},
     "source": [
      "<h2>Connecting to the web with DBPedia and Wikipedia:</h2>\n",
      "<p>Our team decided to connect all identified named entities to Wikipedia using a DBpedia Look-up API and DBPedia entity pages. We used an edit distance method to judge the quality of matched entities when the match was not exact. Matches are rated as being \"exact\" (exact match), \"good-partial\" (a likely useful partial match), \"partial\" (dubious match) and \"none\". The match ratings are stored in the DataFrame. After completing the code for this tool, we encapulated the tool in the class WikiUrlFetch, so that it could be easily reusable. This class is available in the appendix of this notebook and on github</p>\n",
      "\n",
      "<p>This method for matching text terms to Wikipedia entries created two of the main challenges of our project</p>\n",
      "<ol>\n",
      "    <li><b>Time dependence on 3rd party APIs</b> - as we worked on mapping named entities to wikipedia urls and expanded our tool from searching for a few terms to searching for thousands of terms, we realized that the response time of the DBPedia APIs was hindering the performance of our tool. For example matching the 3,000+ terms in a single chapter took upwards of three hours.</li>\n",
      "    <li><b>Evaluating match quality</b> - it is a challenge to judge the semantic quality of matches, therefore even good-partial matches do not aways have the same semantic meaning as the term searched</li>\n",
      "</ol>\n",
      "\n",
      "<p>*As an attempted solution to the slow response time from DBPedia, we expermented with another Wikipedia Lookup API. This is shown in the class WikiUrlFetchNonDBPedia in the appendix and on Github.</p>"
     ]
    },
    {
     "cell_type": "code",
     "collapsed": false,
     "input": [
      "from get_wiki_links import WikiUrlFetch, WikiUrlFetchNonDBPedia"
     ],
     "language": "python",
     "metadata": {},
     "outputs": [],
     "prompt_number": 71
    },
    {
     "cell_type": "code",
     "collapsed": false,
     "input": [
      "## example query with WikiUrlFetch\n",
      "w = WikiUrlFetch()\n",
      "print w.fetch_wiki(\"Nunberg Geoff\")"
     ],
     "language": "python",
     "metadata": {},
     "outputs": [
      {
       "output_type": "stream",
       "stream": "stdout",
       "text": [
        "[{'url': 'http://dbpedia.org/resource/Geoffrey_Nunberg', 'term': 'geoffrey nunberg', 'wiki_url': 'http://en.wikipedia.org/wiki/Geoffrey_Nunberg', 'match': 'good-partial'}]\n"
       ]
      }
     ],
     "prompt_number": 18
    },
    {
     "cell_type": "heading",
     "level": 2,
     "metadata": {},
     "source": [
      "Using WikiUrlFetch, look up wikipedia URLs for terms in the text"
     ]
    },
    {
     "cell_type": "code",
     "collapsed": true,
     "input": [
      "from itertools import islice\n",
      "import time\n",
      "\n",
      "list_for_wiki_df = []\n",
      "w = WikiUrlFetch()\n",
      "\n",
      "for row in islice(book_df.iterrows(),1000): # iterations limited 100 because WikiUrlFetch because of API limitations\n",
      "\n",
      "    wikis = w.fetch_wiki(row[1]['term'])\n",
      "    \n",
      "    for wiki in wikis:\n",
      "        print wiki\n",
      "        if wiki['match'] == 'exact' or wiki['match'] == 'good-partial' or wiki['match'] == 'partial':\n",
      "            list_for_wiki_df.append( { 'term': row[1]['term'], 'matched_term': wiki['term'], \\\n",
      "            'count': row[1]['count'], 'match': wiki['match'], 'url': wiki['wiki_url'] } )"
     ],
     "language": "python",
     "metadata": {},
     "outputs": [
      {
       "output_type": "stream",
       "stream": "stdout",
       "text": [
        "{'url': 'http://dbpedia.org/resource/Secretary', 'term': 'secretary', 'wiki_url': 'http://en.wikipedia.org/wiki/Secretary', 'match': 'partial'}\n",
        "{'url': 'http://dbpedia.org/resource/1994_Winter_Olympics', 'term': '1994 winter olympics', 'wiki_url': 'http://en.wikipedia.org/wiki/1994_Winter_Olympics', 'match': 'partial'}\n",
        "{'url': 'http://dbpedia.org/resource/Taboo', 'term': 'taboo', 'wiki_url': 'http://en.wikipedia.org/wiki/Taboo', 'match': 'partial'}"
       ]
      },
      {
       "output_type": "stream",
       "stream": "stdout",
       "text": [
        "\n",
        "{'url': 'http://dbpedia.org/resource/Monasticism', 'term': 'monasticism', 'wiki_url': 'http://en.wikipedia.org/wiki/Monasticism', 'match': 'partial'}\n",
        "{'url': 'http://dbpedia.org/resource/Assault', 'term': 'assault', 'wiki_url': 'http://en.wikipedia.org/wiki/Assault', 'match': 'partial'}"
       ]
      },
      {
       "output_type": "stream",
       "stream": "stdout",
       "text": [
        "\n",
        "{'url': 'http://dbpedia.org/resource/Homicide', 'term': 'homicide', 'wiki_url': 'http://en.wikipedia.org/wiki/Homicide', 'match': 'partial'}\n",
        "{'url': 'http://dbpedia.org/resource/Type_(biology)', 'term': 'type (biology)', 'wiki_url': 'http://en.wikipedia.org/wiki/Type_(biology)', 'match': 'partial'}"
       ]
      },
      {
       "output_type": "stream",
       "stream": "stdout",
       "text": [
        "\n",
        "{'url': 'http://dbpedia.org/resource/Binomial_nomenclature', 'term': 'binomial nomenclature', 'wiki_url': 'http://en.wikipedia.org/wiki/Binomial_nomenclature', 'match': 'partial'}\n",
        "{'url': 'http://dbpedia.org/resource/Metadata', 'term': 'metadata', 'wiki_url': 'http://en.wikipedia.org/wiki/Metadata', 'match': 'exact'}"
       ]
      },
      {
       "output_type": "stream",
       "stream": "stdout",
       "text": [
        "\n",
        "{'url': 'http://dbpedia.org/resource/Charles_Darwin', 'term': 'charles darwin', 'wiki_url': 'http://en.wikipedia.org/wiki/Charles_Darwin', 'match': 'partial'}"
       ]
      },
      {
       "output_type": "stream",
       "stream": "stdout",
       "text": [
        "\n",
        "{'url': 'http://dbpedia.org/resource/Robert_E._Lee', 'term': 'robert e. lee', 'wiki_url': 'http://en.wikipedia.org/wiki/Robert_E._Lee', 'match': 'partial'}\n",
        "{'url': 'http://dbpedia.org/resource/Secretary', 'term': 'secretary', 'wiki_url': 'http://en.wikipedia.org/wiki/Secretary', 'match': 'partial'}"
       ]
      },
      {
       "output_type": "stream",
       "stream": "stdout",
       "text": [
        "\n",
        "{'url': 'http://dbpedia.org/resource/1994_Winter_Olympics', 'term': '1994 winter olympics', 'wiki_url': 'http://en.wikipedia.org/wiki/1994_Winter_Olympics', 'match': 'partial'}\n",
        "{'url': 'http://dbpedia.org/resource/Secretary', 'term': 'secretary', 'wiki_url': 'http://en.wikipedia.org/wiki/Secretary', 'match': 'partial'}"
       ]
      },
      {
       "output_type": "stream",
       "stream": "stdout",
       "text": [
        "\n",
        "{'url': 'http://dbpedia.org/resource/1994_Winter_Olympics', 'term': '1994 winter olympics', 'wiki_url': 'http://en.wikipedia.org/wiki/1994_Winter_Olympics', 'match': 'partial'}\n",
        "{'url': 'http://dbpedia.org/resource/Greatest_hits_album', 'term': 'greatest hits album', 'wiki_url': 'http://en.wikipedia.org/wiki/Greatest_hits_album', 'match': 'partial'}"
       ]
      },
      {
       "output_type": "stream",
       "stream": "stdout",
       "text": [
        "\n",
        "{'url': 'http://dbpedia.org/resource/Toll_road', 'term': 'toll road', 'wiki_url': 'http://en.wikipedia.org/wiki/Toll_road', 'match': 'partial'}\n",
        "{'url': 'http://dbpedia.org/resource/Assault', 'term': 'assault', 'wiki_url': 'http://en.wikipedia.org/wiki/Assault', 'match': 'partial'}"
       ]
      },
      {
       "output_type": "stream",
       "stream": "stdout",
       "text": [
        "\n",
        "{'url': 'http://dbpedia.org/resource/Homicide', 'term': 'homicide', 'wiki_url': 'http://en.wikipedia.org/wiki/Homicide', 'match': 'partial'}\n",
        "{'url': 'http://dbpedia.org/resource/Public_domain', 'term': 'public domain', 'wiki_url': 'http://en.wikipedia.org/wiki/Public_domain', 'match': 'partial'}"
       ]
      },
      {
       "output_type": "stream",
       "stream": "stdout",
       "text": [
        "\n",
        "{'url': 'http://dbpedia.org/resource/Contributing_property', 'term': 'contributing property', 'wiki_url': 'http://en.wikipedia.org/wiki/Contributing_property', 'match': 'partial'}\n",
        "{'url': 'http://dbpedia.org/resource/Public_domain', 'term': 'public domain', 'wiki_url': 'http://en.wikipedia.org/wiki/Public_domain', 'match': 'partial'}"
       ]
      },
      {
       "output_type": "stream",
       "stream": "stdout",
       "text": [
        "\n",
        "{'url': 'http://dbpedia.org/resource/Contributing_property', 'term': 'contributing property', 'wiki_url': 'http://en.wikipedia.org/wiki/Contributing_property', 'match': 'partial'}\n",
        "{'url': 'http://dbpedia.org/resource/Extended_play', 'term': 'extended play', 'wiki_url': 'http://en.wikipedia.org/wiki/Extended_play', 'match': 'partial'}"
       ]
      },
      {
       "output_type": "stream",
       "stream": "stdout",
       "text": [
        "\n",
        "{'url': 'http://dbpedia.org/resource/Computer', 'term': 'computer', 'wiki_url': 'http://en.wikipedia.org/wiki/Computer', 'match': 'partial'}\n",
        "{'url': 'http://dbpedia.org/resource/Terrorism', 'term': 'terrorism', 'wiki_url': 'http://en.wikipedia.org/wiki/Terrorism', 'match': 'partial'}"
       ]
      },
      {
       "output_type": "stream",
       "stream": "stdout",
       "text": [
        "\n",
        "{'url': 'http://dbpedia.org/resource/Sport', 'term': 'sport', 'wiki_url': 'http://en.wikipedia.org/wiki/Sport', 'match': 'partial'}\n",
        "{'term': 'partwhole inclusion', 'match': 'none'}"
       ]
      },
      {
       "output_type": "stream",
       "stream": "stdout",
       "text": [
        "\n",
        "{'url': 'http://dbpedia.org/resource/Subset', 'term': 'subset', 'wiki_url': 'http://en.wikipedia.org/wiki/Subset', 'match': 'partial'}"
       ]
      },
      {
       "output_type": "stream",
       "stream": "stdout",
       "text": [
        "\n",
        "{'url': 'http://dbpedia.org/resource/Social', 'term': 'social', 'wiki_url': 'http://en.wikipedia.org/wiki/Social', 'match': 'partial'}\n",
        "{'url': 'http://dbpedia.org/resource/Extended_play', 'term': 'extended play', 'wiki_url': 'http://en.wikipedia.org/wiki/Extended_play', 'match': 'partial'}"
       ]
      },
      {
       "output_type": "stream",
       "stream": "stdout",
       "text": [
        "\n",
        "{'url': 'http://dbpedia.org/resource/Computer', 'term': 'computer', 'wiki_url': 'http://en.wikipedia.org/wiki/Computer', 'match': 'partial'}\n",
        "{'url': 'http://dbpedia.org/resource/Information_technology', 'term': 'information technology', 'wiki_url': 'http://en.wikipedia.org/wiki/Information_technology', 'match': 'partial'}"
       ]
      },
      {
       "output_type": "stream",
       "stream": "stdout",
       "text": [
        "\n",
        "{'url': 'http://dbpedia.org/resource/Statistics', 'term': 'statistics', 'wiki_url': 'http://en.wikipedia.org/wiki/Statistics', 'match': 'partial'}\n",
        "{'url': 'http://dbpedia.org/resource/Geoffrey_Nunberg', 'term': 'geoffrey nunberg', 'wiki_url': 'http://en.wikipedia.org/wiki/Geoffrey_Nunberg', 'match': 'good-partial'}"
       ]
      },
      {
       "output_type": "stream",
       "stream": "stdout",
       "text": [
        "\n",
        "{'url': 'http://dbpedia.org/resource/Concept_album', 'term': 'concept album', 'wiki_url': 'http://en.wikipedia.org/wiki/Concept_album', 'match': 'partial'}"
       ]
      },
      {
       "output_type": "stream",
       "stream": "stdout",
       "text": [
        "\n",
        "{'url': 'http://dbpedia.org/resource/Social_network', 'term': 'social network', 'wiki_url': 'http://en.wikipedia.org/wiki/Social_network', 'match': 'partial'}\n",
        "{'url': 'http://dbpedia.org/resource/Zoo', 'term': 'zoo', 'wiki_url': 'http://en.wikipedia.org/wiki/Zoo', 'match': 'partial'}"
       ]
      },
      {
       "output_type": "stream",
       "stream": "stdout",
       "text": [
        "\n",
        "{'url': 'http://dbpedia.org/resource/Hoboken,_New_Jersey', 'term': 'hoboken, new jersey', 'wiki_url': 'http://en.wikipedia.org/wiki/Hoboken%2C_New_Jersey', 'match': 'partial'}\n",
        "{'url': 'http://dbpedia.org/resource/Library', 'term': 'library', 'wiki_url': 'http://en.wikipedia.org/wiki/Library', 'match': 'partial'}"
       ]
      },
      {
       "output_type": "stream",
       "stream": "stdout",
       "text": [
        "\n",
        "{'url': 'http://dbpedia.org/resource/Library_of_Congress', 'term': 'library of congress', 'wiki_url': 'http://en.wikipedia.org/wiki/Library_of_Congress', 'match': 'partial'}\n",
        "{'url': 'http://dbpedia.org/resource/Library', 'term': 'library', 'wiki_url': 'http://en.wikipedia.org/wiki/Library', 'match': 'partial'}"
       ]
      },
      {
       "output_type": "stream",
       "stream": "stdout",
       "text": [
        "\n",
        "{'url': 'http://dbpedia.org/resource/Library_of_Congress', 'term': 'library of congress', 'wiki_url': 'http://en.wikipedia.org/wiki/Library_of_Congress', 'match': 'partial'}\n",
        "{'url': 'http://dbpedia.org/resource/Moby', 'term': 'moby', 'wiki_url': 'http://en.wikipedia.org/wiki/Moby', 'match': 'partial'}"
       ]
      },
      {
       "output_type": "stream",
       "stream": "stdout",
       "text": [
        "\n",
        "{'url': 'http://dbpedia.org/resource/Herman_Melville', 'term': 'herman melville', 'wiki_url': 'http://en.wikipedia.org/wiki/Herman_Melville', 'match': 'partial'}\n",
        "{'url': 'http://dbpedia.org/resource/Moby', 'term': 'moby', 'wiki_url': 'http://en.wikipedia.org/wiki/Moby', 'match': 'partial'}"
       ]
      },
      {
       "output_type": "stream",
       "stream": "stdout",
       "text": [
        "\n",
        "{'url': 'http://dbpedia.org/resource/Herman_Melville', 'term': 'herman melville', 'wiki_url': 'http://en.wikipedia.org/wiki/Herman_Melville', 'match': 'partial'}\n",
        "{'url': 'http://dbpedia.org/resource/Race_and_ethnicity_in_the_United_States_Census', 'term': 'race and ethnicity in the united states census', 'wiki_url': 'http://en.wikipedia.org/wiki/Race_and_ethnicity_in_the_United_States_Census', 'match': 'partial'}"
       ]
      },
      {
       "output_type": "stream",
       "stream": "stdout",
       "text": [
        "\n",
        "{'url': 'http://dbpedia.org/resource/White_House', 'term': 'white house', 'wiki_url': 'http://en.wikipedia.org/wiki/White_House', 'match': 'partial'}\n",
        "{'url': 'http://dbpedia.org/resource/Taboo', 'term': 'taboo', 'wiki_url': 'http://en.wikipedia.org/wiki/Taboo', 'match': 'partial'}"
       ]
      },
      {
       "output_type": "stream",
       "stream": "stdout",
       "text": [
        "\n",
        "{'url': 'http://dbpedia.org/resource/Monasticism', 'term': 'monasticism', 'wiki_url': 'http://en.wikipedia.org/wiki/Monasticism', 'match': 'partial'}\n",
        "{'url': 'http://dbpedia.org/resource/Taboo', 'term': 'taboo', 'wiki_url': 'http://en.wikipedia.org/wiki/Taboo', 'match': 'partial'}"
       ]
      },
      {
       "output_type": "stream",
       "stream": "stdout",
       "text": [
        "\n",
        "{'url': 'http://dbpedia.org/resource/Monasticism', 'term': 'monasticism', 'wiki_url': 'http://en.wikipedia.org/wiki/Monasticism', 'match': 'partial'}\n",
        "{'url': 'http://dbpedia.org/resource/Library', 'term': 'library', 'wiki_url': 'http://en.wikipedia.org/wiki/Library', 'match': 'partial'}"
       ]
      },
      {
       "output_type": "stream",
       "stream": "stdout",
       "text": [
        "\n",
        "{'url': 'http://dbpedia.org/resource/Library_of_Congress', 'term': 'library of congress', 'wiki_url': 'http://en.wikipedia.org/wiki/Library_of_Congress', 'match': 'partial'}\n",
        "{'url': 'http://dbpedia.org/resource/Secretary', 'term': 'secretary', 'wiki_url': 'http://en.wikipedia.org/wiki/Secretary', 'match': 'partial'}"
       ]
      },
      {
       "output_type": "stream",
       "stream": "stdout",
       "text": [
        "\n",
        "{'url': 'http://dbpedia.org/resource/1994_Winter_Olympics', 'term': '1994 winter olympics', 'wiki_url': 'http://en.wikipedia.org/wiki/1994_Winter_Olympics', 'match': 'partial'}\n",
        "{'url': 'http://dbpedia.org/resource/Concept_album', 'term': 'concept album', 'wiki_url': 'http://en.wikipedia.org/wiki/Concept_album', 'match': 'partial'}"
       ]
      },
      {
       "output_type": "stream",
       "stream": "stdout",
       "text": [
        "\n",
        "{'url': 'http://dbpedia.org/resource/Social_network', 'term': 'social network', 'wiki_url': 'http://en.wikipedia.org/wiki/Social_network', 'match': 'partial'}\n",
        "{'url': 'http://dbpedia.org/resource/Computing', 'term': 'computing', 'wiki_url': 'http://en.wikipedia.org/wiki/Computing', 'match': 'partial'}"
       ]
      },
      {
       "output_type": "stream",
       "stream": "stdout",
       "text": [
        "\n",
        "{'url': 'http://dbpedia.org/resource/Supercomputer', 'term': 'supercomputer', 'wiki_url': 'http://en.wikipedia.org/wiki/Supercomputer', 'match': 'partial'}\n",
        "{'url': 'http://dbpedia.org/resource/Cataloging', 'term': 'cataloging', 'wiki_url': 'http://en.wikipedia.org/wiki/Cataloging', 'match': 'exact'}"
       ]
      },
      {
       "output_type": "stream",
       "stream": "stdout",
       "text": [
        "\n",
        "{'url': 'http://dbpedia.org/resource/Trade-off', 'term': 'trade-off', 'wiki_url': 'http://en.wikipedia.org/wiki/Trade-off', 'match': 'partial'}"
       ]
      },
      {
       "output_type": "stream",
       "stream": "stdout",
       "text": [
        "\n",
        "{'url': 'http://dbpedia.org/resource/Space\\xe2\\x80\\x93time_tradeoff', 'term': 'space\\xe2\\x80\\x93time tradeoff', 'wiki_url': None, 'match': 'partial'}\n",
        "{'url': 'http://dbpedia.org/resource/Database', 'term': 'database', 'wiki_url': 'http://en.wikipedia.org/wiki/Database', 'match': 'partial'}"
       ]
      },
      {
       "output_type": "stream",
       "stream": "stdout",
       "text": [
        "\n",
        "{'url': 'http://dbpedia.org/resource/Special_relativity', 'term': 'special relativity', 'wiki_url': 'http://en.wikipedia.org/wiki/Special_relativity', 'match': 'partial'}\n",
        "{'url': 'http://dbpedia.org/resource/Trade-off', 'term': 'trade-off', 'wiki_url': 'http://en.wikipedia.org/wiki/Trade-off', 'match': 'partial'}"
       ]
      },
      {
       "output_type": "stream",
       "stream": "stdout",
       "text": [
        "\n",
        "{'url': 'http://dbpedia.org/resource/Space\\xe2\\x80\\x93time_tradeoff', 'term': 'space\\xe2\\x80\\x93time tradeoff', 'wiki_url': None, 'match': 'partial'}\n",
        "{'url': 'http://dbpedia.org/resource/Primary_school', 'term': 'primary school', 'wiki_url': 'http://en.wikipedia.org/wiki/Primary_school', 'match': 'partial'}"
       ]
      },
      {
       "output_type": "stream",
       "stream": "stdout",
       "text": [
        "\n",
        "{'url': 'http://dbpedia.org/resource/Primary_sector_of_the_economy', 'term': 'primary sector of the economy', 'wiki_url': 'http://en.wikipedia.org/wiki/Primary_sector_of_the_economy', 'match': 'partial'}\n",
        "{'url': 'http://dbpedia.org/resource/Concept_album', 'term': 'concept album', 'wiki_url': 'http://en.wikipedia.org/wiki/Concept_album', 'match': 'partial'}"
       ]
      },
      {
       "output_type": "stream",
       "stream": "stdout",
       "text": [
        "\n",
        "{'url': 'http://dbpedia.org/resource/Social_network', 'term': 'social network', 'wiki_url': 'http://en.wikipedia.org/wiki/Social_network', 'match': 'partial'}\n",
        "{'url': 'http://dbpedia.org/resource/Hypertext_Transfer_Protocol', 'term': 'hypertext transfer protocol', 'wiki_url': 'http://en.wikipedia.org/wiki/Hypertext_Transfer_Protocol', 'match': 'partial'}"
       ]
      },
      {
       "output_type": "stream",
       "stream": "stdout",
       "text": [
        "\n",
        "{'url': 'http://dbpedia.org/resource/Conservatoire_de_Paris', 'term': 'conservatoire de paris', 'wiki_url': 'http://en.wikipedia.org/wiki/Conservatoire_de_Paris', 'match': 'partial'}\n",
        "{'url': 'http://dbpedia.org/resource/RAI', 'term': 'rai', 'wiki_url': 'http://en.wikipedia.org/wiki/RAI', 'match': 'good-partial'}"
       ]
      },
      {
       "output_type": "stream",
       "stream": "stdout",
       "text": [
        "\n",
        "{'url': 'http://dbpedia.org/resource/Hypertext_Transfer_Protocol', 'term': 'hypertext transfer protocol', 'wiki_url': 'http://en.wikipedia.org/wiki/Hypertext_Transfer_Protocol', 'match': 'partial'}"
       ]
      },
      {
       "output_type": "stream",
       "stream": "stdout",
       "text": [
        "\n",
        "{'url': 'http://dbpedia.org/resource/Conservatoire_de_Paris', 'term': 'conservatoire de paris', 'wiki_url': 'http://en.wikipedia.org/wiki/Conservatoire_de_Paris', 'match': 'partial'}\n",
        "{'url': 'http://dbpedia.org/resource/RAI', 'term': 'rai', 'wiki_url': 'http://en.wikipedia.org/wiki/RAI', 'match': 'good-partial'}"
       ]
      },
      {
       "output_type": "stream",
       "stream": "stdout",
       "text": [
        "\n",
        "{'url': 'http://dbpedia.org/resource/Hypertext_Transfer_Protocol', 'term': 'hypertext transfer protocol', 'wiki_url': 'http://en.wikipedia.org/wiki/Hypertext_Transfer_Protocol', 'match': 'partial'}"
       ]
      },
      {
       "output_type": "stream",
       "stream": "stdout",
       "text": [
        "\n",
        "{'url': 'http://dbpedia.org/resource/Conservatoire_de_Paris', 'term': 'conservatoire de paris', 'wiki_url': 'http://en.wikipedia.org/wiki/Conservatoire_de_Paris', 'match': 'partial'}\n",
        "{'url': 'http://dbpedia.org/resource/Computer_science', 'term': 'computer science', 'wiki_url': 'http://en.wikipedia.org/wiki/Computer_science', 'match': 'partial'}"
       ]
      },
      {
       "output_type": "stream",
       "stream": "stdout",
       "text": [
        "\n",
        "{'url': 'http://dbpedia.org/resource/Computer', 'term': 'computer', 'wiki_url': 'http://en.wikipedia.org/wiki/Computer', 'match': 'partial'}\n",
        "{'url': 'http://dbpedia.org/resource/IBM', 'term': 'ibm', 'wiki_url': 'http://en.wikipedia.org/wiki/IBM', 'match': 'partial'}"
       ]
      },
      {
       "output_type": "stream",
       "stream": "stdout",
       "text": [
        "\n",
        "{'url': 'http://dbpedia.org/resource/Central_business_district', 'term': 'central business district', 'wiki_url': 'http://en.wikipedia.org/wiki/Central_business_district', 'match': 'partial'}\n",
        "{'url': 'http://dbpedia.org/resource/Public_domain', 'term': 'public domain', 'wiki_url': 'http://en.wikipedia.org/wiki/Public_domain', 'match': 'partial'}"
       ]
      },
      {
       "output_type": "stream",
       "stream": "stdout",
       "text": [
        "\n",
        "{'url': 'http://dbpedia.org/resource/Contributing_property', 'term': 'contributing property', 'wiki_url': 'http://en.wikipedia.org/wiki/Contributing_property', 'match': 'partial'}\n",
        "{'url': 'http://dbpedia.org/resource/Computing', 'term': 'computing', 'wiki_url': 'http://en.wikipedia.org/wiki/Computing', 'match': 'partial'}"
       ]
      },
      {
       "output_type": "stream",
       "stream": "stdout",
       "text": [
        "\n",
        "{'url': 'http://dbpedia.org/resource/Supercomputer', 'term': 'supercomputer', 'wiki_url': 'http://en.wikipedia.org/wiki/Supercomputer', 'match': 'partial'}\n",
        "{'url': 'http://dbpedia.org/resource/IBM', 'term': 'ibm', 'wiki_url': 'http://en.wikipedia.org/wiki/IBM', 'match': 'partial'}"
       ]
      },
      {
       "output_type": "stream",
       "stream": "stdout",
       "text": [
        "\n",
        "{'url': 'http://dbpedia.org/resource/Central_business_district', 'term': 'central business district', 'wiki_url': 'http://en.wikipedia.org/wiki/Central_business_district', 'match': 'partial'}\n",
        "{'url': 'http://dbpedia.org/resource/Greatest_hits_album', 'term': 'greatest hits album', 'wiki_url': 'http://en.wikipedia.org/wiki/Greatest_hits_album', 'match': 'partial'}"
       ]
      },
      {
       "output_type": "stream",
       "stream": "stdout",
       "text": [
        "\n",
        "{'url': 'http://dbpedia.org/resource/Toll_road', 'term': 'toll road', 'wiki_url': 'http://en.wikipedia.org/wiki/Toll_road', 'match': 'partial'}\n",
        "{'url': 'http://dbpedia.org/resource/Concept_album', 'term': 'concept album', 'wiki_url': 'http://en.wikipedia.org/wiki/Concept_album', 'match': 'partial'}"
       ]
      },
      {
       "output_type": "stream",
       "stream": "stdout",
       "text": [
        "\n",
        "{'url': 'http://dbpedia.org/resource/Social_network', 'term': 'social network', 'wiki_url': 'http://en.wikipedia.org/wiki/Social_network', 'match': 'partial'}\n",
        "{'url': 'http://dbpedia.org/resource/Concept_album', 'term': 'concept album', 'wiki_url': 'http://en.wikipedia.org/wiki/Concept_album', 'match': 'partial'}"
       ]
      },
      {
       "output_type": "stream",
       "stream": "stdout",
       "text": [
        "\n",
        "{'url': 'http://dbpedia.org/resource/Social_network', 'term': 'social network', 'wiki_url': 'http://en.wikipedia.org/wiki/Social_network', 'match': 'partial'}\n",
        "{'url': 'http://dbpedia.org/resource/Public_domain', 'term': 'public domain', 'wiki_url': 'http://en.wikipedia.org/wiki/Public_domain', 'match': 'partial'}"
       ]
      },
      {
       "output_type": "stream",
       "stream": "stdout",
       "text": [
        "\n",
        "{'url': 'http://dbpedia.org/resource/Contributing_property', 'term': 'contributing property', 'wiki_url': 'http://en.wikipedia.org/wiki/Contributing_property', 'match': 'partial'}\n",
        "{'url': 'http://dbpedia.org/resource/Public_domain', 'term': 'public domain', 'wiki_url': 'http://en.wikipedia.org/wiki/Public_domain', 'match': 'partial'}"
       ]
      },
      {
       "output_type": "stream",
       "stream": "stdout",
       "text": [
        "\n",
        "{'url': 'http://dbpedia.org/resource/Contributing_property', 'term': 'contributing property', 'wiki_url': 'http://en.wikipedia.org/wiki/Contributing_property', 'match': 'partial'}\n",
        "{'url': 'http://dbpedia.org/resource/Data_set', 'term': 'data set', 'wiki_url': 'http://en.wikipedia.org/wiki/Data_set', 'match': 'good-partial'}"
       ]
      },
      {
       "output_type": "stream",
       "stream": "stdout",
       "text": [
        "\n",
        "{'url': 'http://dbpedia.org/resource/Public_domain', 'term': 'public domain', 'wiki_url': 'http://en.wikipedia.org/wiki/Public_domain', 'match': 'partial'}"
       ]
      },
      {
       "output_type": "stream",
       "stream": "stdout",
       "text": [
        "\n",
        "{'url': 'http://dbpedia.org/resource/Contributing_property', 'term': 'contributing property', 'wiki_url': 'http://en.wikipedia.org/wiki/Contributing_property', 'match': 'partial'}\n",
        "{'url': 'http://dbpedia.org/resource/Library', 'term': 'library', 'wiki_url': 'http://en.wikipedia.org/wiki/Library', 'match': 'partial'}"
       ]
      },
      {
       "output_type": "stream",
       "stream": "stdout",
       "text": [
        "\n",
        "{'url': 'http://dbpedia.org/resource/Library_of_Congress', 'term': 'library of congress', 'wiki_url': 'http://en.wikipedia.org/wiki/Library_of_Congress', 'match': 'partial'}\n",
        "{'url': 'http://dbpedia.org/resource/Assault', 'term': 'assault', 'wiki_url': 'http://en.wikipedia.org/wiki/Assault', 'match': 'partial'}"
       ]
      },
      {
       "output_type": "stream",
       "stream": "stdout",
       "text": [
        "\n",
        "{'url': 'http://dbpedia.org/resource/Homicide', 'term': 'homicide', 'wiki_url': 'http://en.wikipedia.org/wiki/Homicide', 'match': 'partial'}\n",
        "{'url': 'http://dbpedia.org/resource/Concept_album', 'term': 'concept album', 'wiki_url': 'http://en.wikipedia.org/wiki/Concept_album', 'match': 'partial'}"
       ]
      },
      {
       "output_type": "stream",
       "stream": "stdout",
       "text": [
        "\n",
        "{'url': 'http://dbpedia.org/resource/Social_network', 'term': 'social network', 'wiki_url': 'http://en.wikipedia.org/wiki/Social_network', 'match': 'partial'}\n",
        "{'term': 'selforganizing systems', 'match': 'none'}"
       ]
      },
      {
       "output_type": "stream",
       "stream": "stdout",
       "text": [
        "\n",
        "{'url': 'http://dbpedia.org/resource/Adam_Smith', 'term': 'adam smith', 'wiki_url': 'http://en.wikipedia.org/wiki/Adam_Smith', 'match': 'exact'}"
       ]
      },
      {
       "output_type": "stream",
       "stream": "stdout",
       "text": [
        "\n",
        "{'url': 'http://dbpedia.org/resource/Charles_Darwin', 'term': 'charles darwin', 'wiki_url': 'http://en.wikipedia.org/wiki/Charles_Darwin', 'match': 'exact'}"
       ]
      },
      {
       "output_type": "stream",
       "stream": "stdout",
       "text": [
        "\n",
        "{'url': 'http://dbpedia.org/resource/Assault', 'term': 'assault', 'wiki_url': 'http://en.wikipedia.org/wiki/Assault', 'match': 'partial'}"
       ]
      },
      {
       "output_type": "stream",
       "stream": "stdout",
       "text": [
        "\n",
        "{'url': 'http://dbpedia.org/resource/Homicide', 'term': 'homicide', 'wiki_url': 'http://en.wikipedia.org/wiki/Homicide', 'match': 'partial'}\n",
        "{'url': 'http://dbpedia.org/resource/Computing', 'term': 'computing', 'wiki_url': 'http://en.wikipedia.org/wiki/Computing', 'match': 'partial'}"
       ]
      },
      {
       "output_type": "stream",
       "stream": "stdout",
       "text": [
        "\n",
        "{'url': 'http://dbpedia.org/resource/Supercomputer', 'term': 'supercomputer', 'wiki_url': 'http://en.wikipedia.org/wiki/Supercomputer', 'match': 'partial'}\n",
        "{'term': 'selforganizing system', 'match': 'none'}"
       ]
      },
      {
       "output_type": "stream",
       "stream": "stdout",
       "text": [
        "\n",
        "{'url': 'http://dbpedia.org/resource/Statistics', 'term': 'statistics', 'wiki_url': 'http://en.wikipedia.org/wiki/Statistics', 'match': 'partial'}"
       ]
      },
      {
       "output_type": "stream",
       "stream": "stdout",
       "text": [
        "\n",
        "{'url': 'http://dbpedia.org/resource/Molecule', 'term': 'molecule', 'wiki_url': 'http://en.wikipedia.org/wiki/Molecule', 'match': 'partial'}\n",
        "{'url': 'http://dbpedia.org/resource/CERN', 'term': 'cern', 'wiki_url': 'http://en.wikipedia.org/wiki/CERN', 'match': 'exact'}"
       ]
      },
      {
       "output_type": "stream",
       "stream": "stdout",
       "text": [
        "\n",
        "{'term': 'bernerslee tim', 'match': 'none'}"
       ]
      },
      {
       "output_type": "stream",
       "stream": "stdout",
       "text": [
        "\n",
        "{'url': 'http://dbpedia.org/resource/Computer_science', 'term': 'computer science', 'wiki_url': 'http://en.wikipedia.org/wiki/Computer_science', 'match': 'partial'}"
       ]
      },
      {
       "output_type": "stream",
       "stream": "stdout",
       "text": [
        "\n",
        "{'url': 'http://dbpedia.org/resource/Computer', 'term': 'computer', 'wiki_url': 'http://en.wikipedia.org/wiki/Computer', 'match': 'partial'}\n",
        "{'url': 'http://dbpedia.org/resource/Secretary', 'term': 'secretary', 'wiki_url': 'http://en.wikipedia.org/wiki/Secretary', 'match': 'partial'}"
       ]
      },
      {
       "output_type": "stream",
       "stream": "stdout",
       "text": [
        "\n",
        "{'url': 'http://dbpedia.org/resource/1994_Winter_Olympics', 'term': '1994 winter olympics', 'wiki_url': 'http://en.wikipedia.org/wiki/1994_Winter_Olympics', 'match': 'partial'}\n",
        "{'url': 'http://dbpedia.org/resource/Concept_album', 'term': 'concept album', 'wiki_url': 'http://en.wikipedia.org/wiki/Concept_album', 'match': 'partial'}"
       ]
      },
      {
       "output_type": "stream",
       "stream": "stdout",
       "text": [
        "\n",
        "{'url': 'http://dbpedia.org/resource/Social_network', 'term': 'social network', 'wiki_url': 'http://en.wikipedia.org/wiki/Social_network', 'match': 'partial'}\n",
        "{'url': 'http://dbpedia.org/resource/Greek_alphabet', 'term': 'greek alphabet', 'wiki_url': 'http://en.wikipedia.org/wiki/Greek_alphabet', 'match': 'partial'}"
       ]
      },
      {
       "output_type": "stream",
       "stream": "stdout",
       "text": [
        "\n",
        "{'url': 'http://dbpedia.org/resource/Alphabet', 'term': 'alphabet', 'wiki_url': 'http://en.wikipedia.org/wiki/Alphabet', 'match': 'partial'}\n",
        "{'url': 'http://dbpedia.org/resource/Flashback_(narrative)', 'term': 'flashback (narrative)', 'wiki_url': 'http://en.wikipedia.org/wiki/Flashback_%28narrative%29', 'match': 'partial'}"
       ]
      },
      {
       "output_type": "stream",
       "stream": "stdout",
       "text": [
        "\n",
        "{'url': 'http://dbpedia.org/resource/Mesoamerican_chronology', 'term': 'mesoamerican chronology', 'wiki_url': 'http://en.wikipedia.org/wiki/Mesoamerican_chronology', 'match': 'partial'}\n",
        "{'url': 'http://dbpedia.org/resource/Extended_play', 'term': 'extended play', 'wiki_url': 'http://en.wikipedia.org/wiki/Extended_play', 'match': 'partial'}"
       ]
      },
      {
       "output_type": "stream",
       "stream": "stdout",
       "text": [
        "\n",
        "{'url': 'http://dbpedia.org/resource/Computer', 'term': 'computer', 'wiki_url': 'http://en.wikipedia.org/wiki/Computer', 'match': 'partial'}\n",
        "{'url': 'http://dbpedia.org/resource/Race_and_ethnicity_in_the_United_States_Census', 'term': 'race and ethnicity in the united states census', 'wiki_url': 'http://en.wikipedia.org/wiki/Race_and_ethnicity_in_the_United_States_Census', 'match': 'partial'}"
       ]
      },
      {
       "output_type": "stream",
       "stream": "stdout",
       "text": [
        "\n",
        "{'url': 'http://dbpedia.org/resource/White_House', 'term': 'white house', 'wiki_url': 'http://en.wikipedia.org/wiki/White_House', 'match': 'partial'}\n",
        "{'url': 'http://dbpedia.org/resource/Secretary', 'term': 'secretary', 'wiki_url': 'http://en.wikipedia.org/wiki/Secretary', 'match': 'partial'}"
       ]
      },
      {
       "output_type": "stream",
       "stream": "stdout",
       "text": [
        "\n",
        "{'url': 'http://dbpedia.org/resource/1994_Winter_Olympics', 'term': '1994 winter olympics', 'wiki_url': 'http://en.wikipedia.org/wiki/1994_Winter_Olympics', 'match': 'partial'}\n",
        "{'url': 'http://dbpedia.org/resource/Statistics', 'term': 'statistics', 'wiki_url': 'http://en.wikipedia.org/wiki/Statistics', 'match': 'partial'}"
       ]
      },
      {
       "output_type": "stream",
       "stream": "stdout",
       "text": [
        "\n",
        "{'url': 'http://dbpedia.org/resource/Molecule', 'term': 'molecule', 'wiki_url': 'http://en.wikipedia.org/wiki/Molecule', 'match': 'partial'}\n",
        "{'url': 'http://dbpedia.org/resource/IBM', 'term': 'ibm', 'wiki_url': 'http://en.wikipedia.org/wiki/IBM', 'match': 'partial'}"
       ]
      },
      {
       "output_type": "stream",
       "stream": "stdout",
       "text": [
        "\n",
        "{'url': 'http://dbpedia.org/resource/Central_business_district', 'term': 'central business district', 'wiki_url': 'http://en.wikipedia.org/wiki/Central_business_district', 'match': 'partial'}\n",
        "{'url': 'http://dbpedia.org/resource/Scientific_journal', 'term': 'scientific journal', 'wiki_url': 'http://en.wikipedia.org/wiki/Scientific_journal', 'match': 'partial'}"
       ]
      },
      {
       "output_type": "stream",
       "stream": "stdout",
       "text": [
        "\n",
        "{'url': 'http://dbpedia.org/resource/Public_speaking', 'term': 'public speaking', 'wiki_url': 'http://en.wikipedia.org/wiki/Public_speaking', 'match': 'partial'}\n",
        "{'url': 'http://dbpedia.org/resource/Architect', 'term': 'architect', 'wiki_url': 'http://en.wikipedia.org/wiki/Architect', 'match': 'partial'}"
       ]
      },
      {
       "output_type": "stream",
       "stream": "stdout",
       "text": [
        "\n",
        "{'url': 'http://dbpedia.org/resource/Architecture', 'term': 'architecture', 'wiki_url': 'http://en.wikipedia.org/wiki/Architecture', 'match': 'partial'}\n",
        "{'url': 'http://dbpedia.org/resource/Race_and_ethnicity_in_the_United_States_Census', 'term': 'race and ethnicity in the united states census', 'wiki_url': 'http://en.wikipedia.org/wiki/Race_and_ethnicity_in_the_United_States_Census', 'match': 'partial'}"
       ]
      },
      {
       "output_type": "stream",
       "stream": "stdout",
       "text": [
        "\n",
        "{'url': 'http://dbpedia.org/resource/White_House', 'term': 'white house', 'wiki_url': 'http://en.wikipedia.org/wiki/White_House', 'match': 'partial'}\n",
        "{'url': 'http://dbpedia.org/resource/Public_domain', 'term': 'public domain', 'wiki_url': 'http://en.wikipedia.org/wiki/Public_domain', 'match': 'partial'}"
       ]
      },
      {
       "output_type": "stream",
       "stream": "stdout",
       "text": [
        "\n",
        "{'url': 'http://dbpedia.org/resource/Contributing_property', 'term': 'contributing property', 'wiki_url': 'http://en.wikipedia.org/wiki/Contributing_property', 'match': 'partial'}\n",
        "{'url': 'http://dbpedia.org/resource/Terrorism', 'term': 'terrorism', 'wiki_url': 'http://en.wikipedia.org/wiki/Terrorism', 'match': 'partial'}"
       ]
      },
      {
       "output_type": "stream",
       "stream": "stdout",
       "text": [
        "\n",
        "{'url': 'http://dbpedia.org/resource/Sport', 'term': 'sport', 'wiki_url': 'http://en.wikipedia.org/wiki/Sport', 'match': 'partial'}\n",
        "{'url': 'http://dbpedia.org/resource/Regulation', 'term': 'regulation', 'wiki_url': 'http://en.wikipedia.org/wiki/Regulation', 'match': 'partial'}"
       ]
      },
      {
       "output_type": "stream",
       "stream": "stdout",
       "text": [
        "\n",
        "{'url': 'http://dbpedia.org/resource/Internet_access', 'term': 'internet access', 'wiki_url': 'http://en.wikipedia.org/wiki/Internet_access', 'match': 'partial'}\n",
        "{'url': 'http://dbpedia.org/resource/Computer_science', 'term': 'computer science', 'wiki_url': 'http://en.wikipedia.org/wiki/Computer_science', 'match': 'partial'}"
       ]
      },
      {
       "output_type": "stream",
       "stream": "stdout",
       "text": [
        "\n",
        "{'url': 'http://dbpedia.org/resource/Computer', 'term': 'computer', 'wiki_url': 'http://en.wikipedia.org/wiki/Computer', 'match': 'partial'}\n",
        "{'url': 'http://dbpedia.org/resource/Collocation', 'term': 'collocation', 'wiki_url': 'http://en.wikipedia.org/wiki/Collocation', 'match': 'exact'}"
       ]
      },
      {
       "output_type": "stream",
       "stream": "stdout",
       "text": [
        "\n",
        "{'url': 'http://dbpedia.org/resource/Database', 'term': 'database', 'wiki_url': 'http://en.wikipedia.org/wiki/Database', 'match': 'partial'}"
       ]
      },
      {
       "output_type": "stream",
       "stream": "stdout",
       "text": [
        "\n",
        "{'url': 'http://dbpedia.org/resource/Special_relativity', 'term': 'special relativity', 'wiki_url': 'http://en.wikipedia.org/wiki/Special_relativity', 'match': 'partial'}\n",
        "{'url': 'http://dbpedia.org/resource/Computer_science', 'term': 'computer science', 'wiki_url': 'http://en.wikipedia.org/wiki/Computer_science', 'match': 'partial'}"
       ]
      },
      {
       "output_type": "stream",
       "stream": "stdout",
       "text": [
        "\n",
        "{'url': 'http://dbpedia.org/resource/Computer', 'term': 'computer', 'wiki_url': 'http://en.wikipedia.org/wiki/Computer', 'match': 'partial'}\n",
        "{'url': 'http://dbpedia.org/resource/Race_and_ethnicity_in_the_United_States_Census', 'term': 'race and ethnicity in the united states census', 'wiki_url': 'http://en.wikipedia.org/wiki/Race_and_ethnicity_in_the_United_States_Census', 'match': 'partial'}"
       ]
      },
      {
       "output_type": "stream",
       "stream": "stdout",
       "text": [
        "\n",
        "{'url': 'http://dbpedia.org/resource/White_House', 'term': 'white house', 'wiki_url': 'http://en.wikipedia.org/wiki/White_House', 'match': 'partial'}\n",
        "{'url': 'http://dbpedia.org/resource/Library', 'term': 'library', 'wiki_url': 'http://en.wikipedia.org/wiki/Library', 'match': 'partial'}"
       ]
      },
      {
       "output_type": "stream",
       "stream": "stdout",
       "text": [
        "\n",
        "{'url': 'http://dbpedia.org/resource/Library_of_Congress', 'term': 'library of congress', 'wiki_url': 'http://en.wikipedia.org/wiki/Library_of_Congress', 'match': 'partial'}\n",
        "{'url': 'http://dbpedia.org/resource/Protein\\xe2\\x80\\x93protein_interaction', 'term': 'protein\\xe2\\x80\\x93protein interaction', 'wiki_url': None, 'match': 'partial'}"
       ]
      },
      {
       "output_type": "stream",
       "stream": "stdout",
       "text": [
        "\n",
        "{'url': 'http://dbpedia.org/resource/Gravitation', 'term': 'gravitation', 'wiki_url': 'http://en.wikipedia.org/wiki/Gravitation', 'match': 'partial'}\n",
        "{'url': 'http://dbpedia.org/resource/Capital_(economics)', 'term': 'capital (economics)', 'wiki_url': 'http://en.wikipedia.org/wiki/Capital_(economics)', 'match': 'partial'}"
       ]
      },
      {
       "output_type": "stream",
       "stream": "stdout",
       "text": [
        "\n",
        "{'url': 'http://dbpedia.org/resource/Mathematical_optimization', 'term': 'mathematical optimization', 'wiki_url': 'http://en.wikipedia.org/wiki/Mathematical_optimization', 'match': 'partial'}\n",
        "{'url': 'http://dbpedia.org/resource/Computing', 'term': 'computing', 'wiki_url': 'http://en.wikipedia.org/wiki/Computing', 'match': 'partial'}"
       ]
      },
      {
       "output_type": "stream",
       "stream": "stdout",
       "text": [
        "\n",
        "{'url': 'http://dbpedia.org/resource/Supercomputer', 'term': 'supercomputer', 'wiki_url': 'http://en.wikipedia.org/wiki/Supercomputer', 'match': 'partial'}\n",
        "{'url': 'http://dbpedia.org/resource/Computing', 'term': 'computing', 'wiki_url': 'http://en.wikipedia.org/wiki/Computing', 'match': 'partial'}"
       ]
      },
      {
       "output_type": "stream",
       "stream": "stdout",
       "text": [
        "\n",
        "{'url': 'http://dbpedia.org/resource/Supercomputer', 'term': 'supercomputer', 'wiki_url': 'http://en.wikipedia.org/wiki/Supercomputer', 'match': 'partial'}\n",
        "{'url': 'http://dbpedia.org/resource/Concept_album', 'term': 'concept album', 'wiki_url': 'http://en.wikipedia.org/wiki/Concept_album', 'match': 'partial'}"
       ]
      },
      {
       "output_type": "stream",
       "stream": "stdout",
       "text": [
        "\n",
        "{'url': 'http://dbpedia.org/resource/Social_network', 'term': 'social network', 'wiki_url': 'http://en.wikipedia.org/wiki/Social_network', 'match': 'partial'}\n",
        "{'url': 'http://dbpedia.org/resource/Judicial_review', 'term': 'judicial review', 'wiki_url': 'http://en.wikipedia.org/wiki/Judicial_review', 'match': 'partial'}"
       ]
      },
      {
       "output_type": "stream",
       "stream": "stdout",
       "text": [
        "\n",
        "{'url': 'http://dbpedia.org/resource/Witch-hunt', 'term': 'witch-hunt', 'wiki_url': 'http://en.wikipedia.org/wiki/Witch-hunt', 'match': 'partial'}\n",
        "{'url': 'http://dbpedia.org/resource/Motif_(visual_arts)', 'term': 'motif (visual arts)', 'wiki_url': 'http://en.wikipedia.org/wiki/Motif_(visual_arts)', 'match': 'partial'}"
       ]
      },
      {
       "output_type": "stream",
       "stream": "stdout",
       "text": [
        "\n",
        "{'url': 'http://dbpedia.org/resource/Spyware', 'term': 'spyware', 'wiki_url': 'http://en.wikipedia.org/wiki/Spyware', 'match': 'partial'}\n",
        "{'url': 'http://dbpedia.org/resource/Natural_selection', 'term': 'natural selection', 'wiki_url': 'http://en.wikipedia.org/wiki/Natural_selection', 'match': 'partial'}"
       ]
      },
      {
       "output_type": "stream",
       "stream": "stdout",
       "text": [
        "\n",
        "{'url': 'http://dbpedia.org/resource/Selective_breeding', 'term': 'selective breeding', 'wiki_url': 'http://en.wikipedia.org/wiki/Selective_breeding', 'match': 'partial'}\n",
        "{'url': 'http://dbpedia.org/resource/Protein\\xe2\\x80\\x93protein_interaction', 'term': 'protein\\xe2\\x80\\x93protein interaction', 'wiki_url': None, 'match': 'partial'}"
       ]
      },
      {
       "output_type": "stream",
       "stream": "stdout",
       "text": [
        "\n",
        "{'url': 'http://dbpedia.org/resource/Gravitation', 'term': 'gravitation', 'wiki_url': 'http://en.wikipedia.org/wiki/Gravitation', 'match': 'partial'}\n",
        "{'url': 'http://dbpedia.org/resource/IFLA', 'term': 'ifla', 'wiki_url': 'http://en.wikipedia.org/wiki/IFLA', 'match': 'exact'}"
       ]
      },
      {
       "output_type": "stream",
       "stream": "stdout",
       "text": [
        "\n",
        "{'url': 'http://dbpedia.org/resource/Library', 'term': 'library', 'wiki_url': 'http://en.wikipedia.org/wiki/Library', 'match': 'partial'}"
       ]
      },
      {
       "output_type": "stream",
       "stream": "stdout",
       "text": [
        "\n",
        "{'url': 'http://dbpedia.org/resource/Library_of_Congress', 'term': 'library of congress', 'wiki_url': 'http://en.wikipedia.org/wiki/Library_of_Congress', 'match': 'partial'}\n",
        "{'url': 'http://dbpedia.org/resource/Multi-purpose_stadium', 'term': 'multi-purpose stadium', 'wiki_url': 'http://en.wikipedia.org/wiki/Multi-purpose_stadium', 'match': 'partial'}"
       ]
      },
      {
       "output_type": "stream",
       "stream": "stdout",
       "text": [
        "\n",
        "{'url': 'http://dbpedia.org/resource/Dredging', 'term': 'dredging', 'wiki_url': 'http://en.wikipedia.org/wiki/Dredging', 'match': 'partial'}\n",
        "{'url': 'http://dbpedia.org/resource/Compact_Disc', 'term': 'compact disc', 'wiki_url': 'http://en.wikipedia.org/wiki/Compact_Disc', 'match': 'partial'}"
       ]
      },
      {
       "output_type": "stream",
       "stream": "stdout",
       "text": [
        "\n",
        "{'url': 'http://dbpedia.org/resource/Physics', 'term': 'physics', 'wiki_url': 'http://en.wikipedia.org/wiki/Physics', 'match': 'partial'}\n",
        "{'url': 'http://dbpedia.org/resource/Compact_Disc', 'term': 'compact disc', 'wiki_url': 'http://en.wikipedia.org/wiki/Compact_Disc', 'match': 'partial'}"
       ]
      },
      {
       "output_type": "stream",
       "stream": "stdout",
       "text": [
        "\n",
        "{'url': 'http://dbpedia.org/resource/Physics', 'term': 'physics', 'wiki_url': 'http://en.wikipedia.org/wiki/Physics', 'match': 'partial'}\n",
        "{'url': 'http://dbpedia.org/resource/Zoo', 'term': 'zoo', 'wiki_url': 'http://en.wikipedia.org/wiki/Zoo', 'match': 'partial'}"
       ]
      },
      {
       "output_type": "stream",
       "stream": "stdout",
       "text": [
        "\n",
        "{'url': 'http://dbpedia.org/resource/Hoboken,_New_Jersey', 'term': 'hoboken, new jersey', 'wiki_url': 'http://en.wikipedia.org/wiki/Hoboken,_New_Jersey', 'match': 'partial'}\n",
        "{'url': 'http://dbpedia.org/resource/Lawyer', 'term': 'lawyer', 'wiki_url': 'http://en.wikipedia.org/wiki/Lawyer', 'match': 'partial'}"
       ]
      },
      {
       "output_type": "stream",
       "stream": "stdout",
       "text": [
        "\n",
        "{'url': 'http://dbpedia.org/resource/Law', 'term': 'law', 'wiki_url': 'http://en.wikipedia.org/wiki/Law', 'match': 'partial'}\n",
        "{'url': 'http://dbpedia.org/resource/Fair_use', 'term': 'fair use', 'wiki_url': 'http://en.wikipedia.org/wiki/Fair_use', 'match': 'partial'}"
       ]
      },
      {
       "output_type": "stream",
       "stream": "stdout",
       "text": [
        "\n",
        "{'url': 'http://dbpedia.org/resource/Election', 'term': 'election', 'wiki_url': 'http://en.wikipedia.org/wiki/Election', 'match': 'partial'}\n",
        "{'url': 'http://dbpedia.org/resource/Fair_use', 'term': 'fair use', 'wiki_url': 'http://en.wikipedia.org/wiki/Fair_use', 'match': 'partial'}"
       ]
      },
      {
       "output_type": "stream",
       "stream": "stdout",
       "text": [
        "\n",
        "{'url': 'http://dbpedia.org/resource/Public_domain', 'term': 'public domain', 'wiki_url': 'http://en.wikipedia.org/wiki/Public_domain', 'match': 'partial'}\n",
        "{'url': 'http://dbpedia.org/resource/Fair_use', 'term': 'fair use', 'wiki_url': 'http://en.wikipedia.org/wiki/Fair_use', 'match': 'partial'}"
       ]
      },
      {
       "output_type": "stream",
       "stream": "stdout",
       "text": [
        "\n",
        "{'url': 'http://dbpedia.org/resource/Public_domain', 'term': 'public domain', 'wiki_url': 'http://en.wikipedia.org/wiki/Public_domain', 'match': 'partial'}\n",
        "{'url': 'http://dbpedia.org/resource/Capital_(economics)', 'term': 'capital (economics)', 'wiki_url': 'http://en.wikipedia.org/wiki/Capital_(economics)', 'match': 'partial'}"
       ]
      },
      {
       "output_type": "stream",
       "stream": "stdout",
       "text": [
        "\n",
        "{'url': 'http://dbpedia.org/resource/Mathematical_optimization', 'term': 'mathematical optimization', 'wiki_url': 'http://en.wikipedia.org/wiki/Mathematical_optimization', 'match': 'partial'}\n",
        "{'url': 'http://dbpedia.org/resource/IBM', 'term': 'ibm', 'wiki_url': 'http://en.wikipedia.org/wiki/IBM', 'match': 'partial'}"
       ]
      },
      {
       "output_type": "stream",
       "stream": "stdout",
       "text": [
        "\n",
        "{'url': 'http://dbpedia.org/resource/Central_business_district', 'term': 'central business district', 'wiki_url': 'http://en.wikipedia.org/wiki/Central_business_district', 'match': 'partial'}\n",
        "{'url': 'http://dbpedia.org/resource/Fair_use', 'term': 'fair use', 'wiki_url': 'http://en.wikipedia.org/wiki/Fair_use', 'match': 'partial'}"
       ]
      },
      {
       "output_type": "stream",
       "stream": "stdout",
       "text": [
        "\n",
        "{'url': 'http://dbpedia.org/resource/Election', 'term': 'election', 'wiki_url': 'http://en.wikipedia.org/wiki/Election', 'match': 'partial'}\n",
        "{'url': 'http://dbpedia.org/resource/Fair_use', 'term': 'fair use', 'wiki_url': 'http://en.wikipedia.org/wiki/Fair_use', 'match': 'partial'}"
       ]
      },
      {
       "output_type": "stream",
       "stream": "stdout",
       "text": [
        "\n",
        "{'url': 'http://dbpedia.org/resource/Public_domain', 'term': 'public domain', 'wiki_url': 'http://en.wikipedia.org/wiki/Public_domain', 'match': 'partial'}\n",
        "{'url': 'http://dbpedia.org/resource/Secretary', 'term': 'secretary', 'wiki_url': 'http://en.wikipedia.org/wiki/Secretary', 'match': 'partial'}"
       ]
      },
      {
       "output_type": "stream",
       "stream": "stdout",
       "text": [
        "\n",
        "{'url': 'http://dbpedia.org/resource/1994_Winter_Olympics', 'term': '1994 winter olympics', 'wiki_url': 'http://en.wikipedia.org/wiki/1994_Winter_Olympics', 'match': 'partial'}\n",
        "{'url': 'http://dbpedia.org/resource/Secretary', 'term': 'secretary', 'wiki_url': 'http://en.wikipedia.org/wiki/Secretary', 'match': 'partial'}"
       ]
      },
      {
       "output_type": "stream",
       "stream": "stdout",
       "text": [
        "\n",
        "{'url': 'http://dbpedia.org/resource/1994_Winter_Olympics', 'term': '1994 winter olympics', 'wiki_url': 'http://en.wikipedia.org/wiki/1994_Winter_Olympics', 'match': 'partial'}\n",
        "{'url': 'http://dbpedia.org/resource/Architecture', 'term': 'architecture', 'wiki_url': 'http://en.wikipedia.org/wiki/Architecture', 'match': 'partial'}"
       ]
      },
      {
       "output_type": "stream",
       "stream": "stdout",
       "text": [
        "\n",
        "{'url': 'http://dbpedia.org/resource/Gothic_architecture', 'term': 'gothic architecture', 'wiki_url': 'http://en.wikipedia.org/wiki/Gothic_architecture', 'match': 'partial'}\n",
        "{'url': 'http://dbpedia.org/resource/Trade-off', 'term': 'trade-off', 'wiki_url': 'http://en.wikipedia.org/wiki/Trade-off', 'match': 'partial'}"
       ]
      },
      {
       "output_type": "stream",
       "stream": "stdout",
       "text": [
        "\n",
        "{'url': 'http://dbpedia.org/resource/Space\\xe2\\x80\\x93time_tradeoff', 'term': 'space\\xe2\\x80\\x93time tradeoff', 'wiki_url': None, 'match': 'partial'}\n",
        "{'url': 'http://dbpedia.org/resource/Regulation', 'term': 'regulation', 'wiki_url': 'http://en.wikipedia.org/wiki/Regulation', 'match': 'partial'}"
       ]
      },
      {
       "output_type": "stream",
       "stream": "stdout",
       "text": [
        "\n",
        "{'url': 'http://dbpedia.org/resource/Internet_access', 'term': 'internet access', 'wiki_url': 'http://en.wikipedia.org/wiki/Internet_access', 'match': 'partial'}\n",
        "{'url': 'http://dbpedia.org/resource/Secretary', 'term': 'secretary', 'wiki_url': 'http://en.wikipedia.org/wiki/Secretary', 'match': 'partial'}"
       ]
      },
      {
       "output_type": "stream",
       "stream": "stdout",
       "text": [
        "\n",
        "{'url': 'http://dbpedia.org/resource/1994_Winter_Olympics', 'term': '1994 winter olympics', 'wiki_url': 'http://en.wikipedia.org/wiki/1994_Winter_Olympics', 'match': 'partial'}\n",
        "{'url': 'http://dbpedia.org/resource/Architecture', 'term': 'architecture', 'wiki_url': 'http://en.wikipedia.org/wiki/Architecture', 'match': 'partial'}"
       ]
      },
      {
       "output_type": "stream",
       "stream": "stdout",
       "text": [
        "\n",
        "{'url': 'http://dbpedia.org/resource/Gothic_architecture', 'term': 'gothic architecture', 'wiki_url': 'http://en.wikipedia.org/wiki/Gothic_architecture', 'match': 'partial'}\n",
        "{'url': 'http://dbpedia.org/resource/Secretary', 'term': 'secretary', 'wiki_url': 'http://en.wikipedia.org/wiki/Secretary', 'match': 'partial'}"
       ]
      },
      {
       "output_type": "stream",
       "stream": "stdout",
       "text": [
        "\n",
        "{'url': 'http://dbpedia.org/resource/1994_Winter_Olympics', 'term': '1994 winter olympics', 'wiki_url': 'http://en.wikipedia.org/wiki/1994_Winter_Olympics', 'match': 'partial'}\n",
        "{'url': 'http://dbpedia.org/resource/Biological_classification', 'term': 'biological classification', 'wiki_url': 'http://en.wikipedia.org/wiki/Biological_classification', 'match': 'partial'}"
       ]
      },
      {
       "output_type": "stream",
       "stream": "stdout",
       "text": [
        "\n",
        "{'url': 'http://dbpedia.org/resource/Classified_information', 'term': 'classified information', 'wiki_url': 'http://en.wikipedia.org/wiki/Classified_information', 'match': 'partial'}\n",
        "{'url': 'http://dbpedia.org/resource/Electronic_dance_music', 'term': 'electronic dance music', 'wiki_url': 'http://en.wikipedia.org/wiki/Electronic_dance_music', 'match': 'partial'}"
       ]
      },
      {
       "output_type": "stream",
       "stream": "stdout",
       "text": [
        "\n",
        "{'url': 'http://dbpedia.org/resource/Master_of_Education', 'term': 'master of education', 'wiki_url': 'http://en.wikipedia.org/wiki/Master_of_Education', 'match': 'partial'}\n",
        "{'url': 'http://dbpedia.org/resource/Computer_science', 'term': 'computer science', 'wiki_url': 'http://en.wikipedia.org/wiki/Computer_science', 'match': 'partial'}"
       ]
      },
      {
       "output_type": "stream",
       "stream": "stdout",
       "text": [
        "\n",
        "{'url': 'http://dbpedia.org/resource/Computer', 'term': 'computer', 'wiki_url': 'http://en.wikipedia.org/wiki/Computer', 'match': 'partial'}\n",
        "{'url': 'http://dbpedia.org/resource/International_Federation_of_Library_Associations_and_Institutions', 'term': 'international federation of library associations and institutions', 'wiki_url': 'http://en.wikipedia.org/wiki/International_Federation_of_Library_Associations_and_Institutions', 'match': 'partial'}"
       ]
      },
      {
       "output_type": "stream",
       "stream": "stdout",
       "text": [
        "\n",
        "{'url': 'http://dbpedia.org/resource/Israel_Free_Loan_Association', 'term': 'israel free loan association', 'wiki_url': 'http://en.wikipedia.org/wiki/Israel_Free_Loan_Association', 'match': 'partial'}\n",
        "{'url': 'http://dbpedia.org/resource/Library', 'term': 'library', 'wiki_url': 'http://en.wikipedia.org/wiki/Library', 'match': 'partial'}"
       ]
      },
      {
       "output_type": "stream",
       "stream": "stdout",
       "text": [
        "\n",
        "{'url': 'http://dbpedia.org/resource/Library_of_Congress', 'term': 'library of congress', 'wiki_url': 'http://en.wikipedia.org/wiki/Library_of_Congress', 'match': 'partial'}\n",
        "{'url': 'http://dbpedia.org/resource/Secretary', 'term': 'secretary', 'wiki_url': 'http://en.wikipedia.org/wiki/Secretary', 'match': 'partial'}"
       ]
      },
      {
       "output_type": "stream",
       "stream": "stdout",
       "text": [
        "\n",
        "{'url': 'http://dbpedia.org/resource/1994_Winter_Olympics', 'term': '1994 winter olympics', 'wiki_url': 'http://en.wikipedia.org/wiki/1994_Winter_Olympics', 'match': 'partial'}\n",
        "{'url': 'http://dbpedia.org/resource/Secretary', 'term': 'secretary', 'wiki_url': 'http://en.wikipedia.org/wiki/Secretary', 'match': 'partial'}"
       ]
      },
      {
       "output_type": "stream",
       "stream": "stdout",
       "text": [
        "\n",
        "{'url': 'http://dbpedia.org/resource/1994_Winter_Olympics', 'term': '1994 winter olympics', 'wiki_url': 'http://en.wikipedia.org/wiki/1994_Winter_Olympics', 'match': 'partial'}\n",
        "{'url': 'http://dbpedia.org/resource/Zoo', 'term': 'zoo', 'wiki_url': 'http://en.wikipedia.org/wiki/Zoo', 'match': 'partial'}"
       ]
      },
      {
       "output_type": "stream",
       "stream": "stdout",
       "text": [
        "\n",
        "{'url': 'http://dbpedia.org/resource/Hoboken,_New_Jersey', 'term': 'hoboken, new jersey', 'wiki_url': 'http://en.wikipedia.org/wiki/Hoboken,_New_Jersey', 'match': 'partial'}\n",
        "{'url': 'http://dbpedia.org/resource/Library', 'term': 'library', 'wiki_url': 'http://en.wikipedia.org/wiki/Library', 'match': 'partial'}"
       ]
      },
      {
       "output_type": "stream",
       "stream": "stdout",
       "text": [
        "\n",
        "{'url': 'http://dbpedia.org/resource/Library_of_Congress', 'term': 'library of congress', 'wiki_url': 'http://en.wikipedia.org/wiki/Library_of_Congress', 'match': 'partial'}\n",
        "{'url': 'http://dbpedia.org/resource/Protein\\xe2\\x80\\x93protein_interaction', 'term': 'protein\\xe2\\x80\\x93protein interaction', 'wiki_url': None, 'match': 'partial'}"
       ]
      },
      {
       "output_type": "stream",
       "stream": "stdout",
       "text": [
        "\n",
        "{'url': 'http://dbpedia.org/resource/Gravitation', 'term': 'gravitation', 'wiki_url': 'http://en.wikipedia.org/wiki/Gravitation', 'match': 'partial'}\n",
        "{'url': 'http://dbpedia.org/resource/Protein\\xe2\\x80\\x93protein_interaction', 'term': 'protein\\xe2\\x80\\x93protein interaction', 'wiki_url': None, 'match': 'partial'}"
       ]
      },
      {
       "output_type": "stream",
       "stream": "stdout",
       "text": [
        "\n",
        "{'url': 'http://dbpedia.org/resource/Gravitation', 'term': 'gravitation', 'wiki_url': 'http://en.wikipedia.org/wiki/Gravitation', 'match': 'partial'}\n",
        "{'url': 'http://dbpedia.org/resource/Sergey_Brin', 'term': 'sergey brin', 'wiki_url': 'http://en.wikipedia.org/wiki/Sergey_Brin', 'match': 'good-partial'}"
       ]
      },
      {
       "output_type": "stream",
       "stream": "stdout",
       "text": [
        "\n",
        "{'url': 'http://dbpedia.org/resource/IBM', 'term': 'ibm', 'wiki_url': 'http://en.wikipedia.org/wiki/IBM', 'match': 'partial'}"
       ]
      },
      {
       "output_type": "stream",
       "stream": "stdout",
       "text": [
        "\n",
        "{'url': 'http://dbpedia.org/resource/Central_business_district', 'term': 'central business district', 'wiki_url': 'http://en.wikipedia.org/wiki/Central_business_district', 'match': 'partial'}\n",
        "{'url': 'http://dbpedia.org/resource/Biological_classification', 'term': 'biological classification', 'wiki_url': 'http://en.wikipedia.org/wiki/Biological_classification', 'match': 'partial'}"
       ]
      },
      {
       "output_type": "stream",
       "stream": "stdout",
       "text": [
        "\n",
        "{'url': 'http://dbpedia.org/resource/Categorization', 'term': 'categorization', 'wiki_url': 'http://en.wikipedia.org/wiki/Categorization', 'match': 'partial'}\n",
        "{'url': 'http://dbpedia.org/resource/Google', 'term': 'google', 'wiki_url': 'http://en.wikipedia.org/wiki/Google', 'match': 'partial'}"
       ]
      },
      {
       "output_type": "stream",
       "stream": "stdout",
       "text": [
        "\n",
        "{'url': 'http://dbpedia.org/resource/Android_(operating_system)', 'term': 'android (operating system)', 'wiki_url': 'http://en.wikipedia.org/wiki/Android_(operating_system)', 'match': 'partial'}\n",
        "{'url': 'http://dbpedia.org/resource/Lawyer', 'term': 'lawyer', 'wiki_url': 'http://en.wikipedia.org/wiki/Lawyer', 'match': 'partial'}"
       ]
      },
      {
       "output_type": "stream",
       "stream": "stdout",
       "text": [
        "\n",
        "{'url': 'http://dbpedia.org/resource/Law', 'term': 'law', 'wiki_url': 'http://en.wikipedia.org/wiki/Law', 'match': 'partial'}\n",
        "{'url': 'http://dbpedia.org/resource/Paul_Samuelson', 'term': 'paul samuelson', 'wiki_url': 'http://en.wikipedia.org/wiki/Paul_Samuelson', 'match': 'good-partial'}"
       ]
      },
      {
       "output_type": "stream",
       "stream": "stdout",
       "text": [
        "\n",
        "{'url': 'http://dbpedia.org/resource/Capital_(economics)', 'term': 'capital (economics)', 'wiki_url': 'http://en.wikipedia.org/wiki/Capital_(economics)', 'match': 'partial'}"
       ]
      },
      {
       "output_type": "stream",
       "stream": "stdout",
       "text": [
        "\n",
        "{'url': 'http://dbpedia.org/resource/Mathematical_optimization', 'term': 'mathematical optimization', 'wiki_url': 'http://en.wikipedia.org/wiki/Mathematical_optimization', 'match': 'partial'}\n",
        "{'url': 'http://dbpedia.org/resource/Fair_use', 'term': 'fair use', 'wiki_url': 'http://en.wikipedia.org/wiki/Fair_use', 'match': 'partial'}"
       ]
      },
      {
       "output_type": "stream",
       "stream": "stdout",
       "text": [
        "\n",
        "{'url': 'http://dbpedia.org/resource/Public_domain', 'term': 'public domain', 'wiki_url': 'http://en.wikipedia.org/wiki/Public_domain', 'match': 'partial'}\n",
        "{'url': 'http://dbpedia.org/resource/Extended_play', 'term': 'extended play', 'wiki_url': 'http://en.wikipedia.org/wiki/Extended_play', 'match': 'partial'}"
       ]
      },
      {
       "output_type": "stream",
       "stream": "stdout",
       "text": [
        "\n",
        "{'url': 'http://dbpedia.org/resource/Computer', 'term': 'computer', 'wiki_url': 'http://en.wikipedia.org/wiki/Computer', 'match': 'partial'}\n",
        "{'url': 'http://dbpedia.org/resource/HathiTrust', 'term': 'hathitrust', 'wiki_url': 'http://en.wikipedia.org/wiki/HathiTrust', 'match': 'good-partial'}"
       ]
      },
      {
       "output_type": "stream",
       "stream": "stdout",
       "text": [
        "\n",
        "{'url': 'http://dbpedia.org/resource/Regulation', 'term': 'regulation', 'wiki_url': 'http://en.wikipedia.org/wiki/Regulation', 'match': 'partial'}"
       ]
      },
      {
       "output_type": "stream",
       "stream": "stdout",
       "text": [
        "\n",
        "{'url': 'http://dbpedia.org/resource/Internet_access', 'term': 'internet access', 'wiki_url': 'http://en.wikipedia.org/wiki/Internet_access', 'match': 'partial'}\n",
        "{'url': 'http://dbpedia.org/resource/Secretary', 'term': 'secretary', 'wiki_url': 'http://en.wikipedia.org/wiki/Secretary', 'match': 'partial'}"
       ]
      },
      {
       "output_type": "stream",
       "stream": "stdout",
       "text": [
        "\n",
        "{'url': 'http://dbpedia.org/resource/1994_Winter_Olympics', 'term': '1994 winter olympics', 'wiki_url': 'http://en.wikipedia.org/wiki/1994_Winter_Olympics', 'match': 'partial'}\n",
        "{'url': 'http://dbpedia.org/resource/Secretary', 'term': 'secretary', 'wiki_url': 'http://en.wikipedia.org/wiki/Secretary', 'match': 'partial'}"
       ]
      },
      {
       "output_type": "stream",
       "stream": "stdout",
       "text": [
        "\n",
        "{'url': 'http://dbpedia.org/resource/1994_Winter_Olympics', 'term': '1994 winter olympics', 'wiki_url': 'http://en.wikipedia.org/wiki/1994_Winter_Olympics', 'match': 'partial'}\n",
        "{'url': 'http://dbpedia.org/resource/Tulku', 'term': 'tulku', 'wiki_url': 'http://en.wikipedia.org/wiki/Tulku', 'match': 'good-partial'}"
       ]
      },
      {
       "output_type": "stream",
       "stream": "stdout",
       "text": [
        "\n",
        "{'url': 'http://dbpedia.org/resource/Functional_Requirements_for_Bibliographic_Records', 'term': 'functional requirements for bibliographic records', 'wiki_url': 'http://en.wikipedia.org/wiki/Functional_Requirements_for_Bibliographic_Records', 'match': 'partial'}"
       ]
      },
      {
       "output_type": "stream",
       "stream": "stdout",
       "text": [
        "\n",
        "{'url': 'http://dbpedia.org/resource/Library', 'term': 'library', 'wiki_url': 'http://en.wikipedia.org/wiki/Library', 'match': 'partial'}"
       ]
      },
      {
       "output_type": "stream",
       "stream": "stdout",
       "text": [
        "\n",
        "{'url': 'http://dbpedia.org/resource/Library_of_Congress', 'term': 'library of congress', 'wiki_url': 'http://en.wikipedia.org/wiki/Library_of_Congress', 'match': 'partial'}\n",
        "{'url': 'http://dbpedia.org/resource/Library', 'term': 'library', 'wiki_url': 'http://en.wikipedia.org/wiki/Library', 'match': 'partial'}"
       ]
      },
      {
       "output_type": "stream",
       "stream": "stdout",
       "text": [
        "\n",
        "{'url': 'http://dbpedia.org/resource/Library_of_Congress', 'term': 'library of congress', 'wiki_url': 'http://en.wikipedia.org/wiki/Library_of_Congress', 'match': 'partial'}\n",
        "{'url': 'http://dbpedia.org/resource/Hebrew_University_of_Jerusalem', 'term': 'hebrew university of jerusalem', 'wiki_url': 'http://en.wikipedia.org/wiki/Hebrew_University_of_Jerusalem', 'match': 'partial'}"
       ]
      },
      {
       "output_type": "stream",
       "stream": "stdout",
       "text": [
        "\n",
        "{'url': 'http://dbpedia.org/resource/Rhino_Entertainment', 'term': 'rhino entertainment', 'wiki_url': 'http://en.wikipedia.org/wiki/Rhino_Entertainment', 'match': 'partial'}\n",
        "{'url': 'http://dbpedia.org/resource/Opposition_to_the_legalization_of_abortion', 'term': 'opposition to the legalization of abortion', 'wiki_url': 'http://en.wikipedia.org/wiki/Opposition_to_the_legalization_of_abortion', 'match': 'partial'}"
       ]
      },
      {
       "output_type": "stream",
       "stream": "stdout",
       "text": [
        "\n",
        "{'url': 'http://dbpedia.org/resource/List_of_K-1_events', 'term': 'list of k-1 events', 'wiki_url': 'http://en.wikipedia.org/wiki/List_of_K-1_events', 'match': 'partial'}\n",
        "{'url': 'http://dbpedia.org/resource/Harvard_University', 'term': 'harvard university', 'wiki_url': 'http://en.wikipedia.org/wiki/Harvard_University', 'match': 'partial'}"
       ]
      },
      {
       "output_type": "stream",
       "stream": "stdout",
       "text": [
        "\n",
        "{'url': 'http://dbpedia.org/resource/University_of_Oxford', 'term': 'university of oxford', 'wiki_url': 'http://en.wikipedia.org/wiki/University_of_Oxford', 'match': 'partial'}\n",
        "{'url': 'http://dbpedia.org/resource/Triple_H', 'term': 'triple h', 'wiki_url': 'http://en.wikipedia.org/wiki/Triple_H', 'match': 'partial'}"
       ]
      },
      {
       "output_type": "stream",
       "stream": "stdout",
       "text": [
        "\n",
        "{'url': 'http://dbpedia.org/resource/William_Randolph_Hearst', 'term': 'william randolph hearst', 'wiki_url': 'http://en.wikipedia.org/wiki/William_Randolph_Hearst', 'match': 'partial'}\n",
        "{'url': 'http://dbpedia.org/resource/Hebrew_University_of_Jerusalem', 'term': 'hebrew university of jerusalem', 'wiki_url': 'http://en.wikipedia.org/wiki/Hebrew_University_of_Jerusalem', 'match': 'partial'}"
       ]
      },
      {
       "output_type": "stream",
       "stream": "stdout",
       "text": [
        "\n",
        "{'url': 'http://dbpedia.org/resource/Rhino_Entertainment', 'term': 'rhino entertainment', 'wiki_url': 'http://en.wikipedia.org/wiki/Rhino_Entertainment', 'match': 'partial'}\n",
        "{'url': 'http://dbpedia.org/resource/Library', 'term': 'library', 'wiki_url': 'http://en.wikipedia.org/wiki/Library', 'match': 'partial'}"
       ]
      },
      {
       "output_type": "stream",
       "stream": "stdout",
       "text": [
        "\n",
        "{'url': 'http://dbpedia.org/resource/Library_of_Congress', 'term': 'library of congress', 'wiki_url': 'http://en.wikipedia.org/wiki/Library_of_Congress', 'match': 'partial'}\n",
        "{'url': 'http://dbpedia.org/resource/Library', 'term': 'library', 'wiki_url': 'http://en.wikipedia.org/wiki/Library', 'match': 'partial'}"
       ]
      },
      {
       "output_type": "stream",
       "stream": "stdout",
       "text": [
        "\n",
        "{'url': 'http://dbpedia.org/resource/Library_of_Congress', 'term': 'library of congress', 'wiki_url': 'http://en.wikipedia.org/wiki/Library_of_Congress', 'match': 'partial'}\n",
        "{'url': 'http://dbpedia.org/resource/Secretary', 'term': 'secretary', 'wiki_url': 'http://en.wikipedia.org/wiki/Secretary', 'match': 'partial'}"
       ]
      },
      {
       "output_type": "stream",
       "stream": "stdout",
       "text": [
        "\n",
        "{'url': 'http://dbpedia.org/resource/1994_Winter_Olympics', 'term': '1994 winter olympics', 'wiki_url': 'http://en.wikipedia.org/wiki/1994_Winter_Olympics', 'match': 'partial'}\n",
        "{'url': 'http://dbpedia.org/resource/Zoo', 'term': 'zoo', 'wiki_url': 'http://en.wikipedia.org/wiki/Zoo', 'match': 'partial'}"
       ]
      },
      {
       "output_type": "stream",
       "stream": "stdout",
       "text": [
        "\n",
        "{'url': 'http://dbpedia.org/resource/Hoboken,_New_Jersey', 'term': 'hoboken, new jersey', 'wiki_url': 'http://en.wikipedia.org/wiki/Hoboken,_New_Jersey', 'match': 'partial'}\n",
        "{'url': 'http://dbpedia.org/resource/Cognition', 'term': 'cognition', 'wiki_url': 'http://en.wikipedia.org/wiki/Cognition', 'match': 'partial'}"
       ]
      },
      {
       "output_type": "stream",
       "stream": "stdout",
       "text": [
        "\n",
        "{'url': 'http://dbpedia.org/resource/Dementia', 'term': 'dementia', 'wiki_url': 'http://en.wikipedia.org/wiki/Dementia', 'match': 'partial'}\n",
        "{'url': 'http://dbpedia.org/resource/Library', 'term': 'library', 'wiki_url': 'http://en.wikipedia.org/wiki/Library', 'match': 'partial'}"
       ]
      },
      {
       "output_type": "stream",
       "stream": "stdout",
       "text": [
        "\n",
        "{'url': 'http://dbpedia.org/resource/Library_of_Congress', 'term': 'library of congress', 'wiki_url': 'http://en.wikipedia.org/wiki/Library_of_Congress', 'match': 'partial'}\n",
        "{'url': 'http://dbpedia.org/resource/IBM', 'term': 'ibm', 'wiki_url': 'http://en.wikipedia.org/wiki/IBM', 'match': 'partial'}"
       ]
      },
      {
       "output_type": "stream",
       "stream": "stdout",
       "text": [
        "\n",
        "{'url': 'http://dbpedia.org/resource/Central_business_district', 'term': 'central business district', 'wiki_url': 'http://en.wikipedia.org/wiki/Central_business_district', 'match': 'partial'}\n",
        "{'url': 'http://dbpedia.org/resource/Customer_relationship_management', 'term': 'customer relationship management', 'wiki_url': 'http://en.wikipedia.org/wiki/Customer_relationship_management', 'match': 'partial'}"
       ]
      },
      {
       "output_type": "stream",
       "stream": "stdout",
       "text": [
        "\n",
        "{'url': 'http://dbpedia.org/resource/Salesforce.com', 'term': 'salesforce.com', 'wiki_url': 'http://en.wikipedia.org/wiki/Salesforce.com', 'match': 'partial'}\n",
        "{'url': 'http://dbpedia.org/resource/Midwifery', 'term': 'midwifery', 'wiki_url': 'http://en.wikipedia.org/wiki/Midwifery', 'match': 'partial'}"
       ]
      },
      {
       "output_type": "stream",
       "stream": "stdout",
       "text": [
        "\n",
        "{'url': 'http://dbpedia.org/resource/Supply_chain_management', 'term': 'supply chain management', 'wiki_url': 'http://en.wikipedia.org/wiki/Supply_chain_management', 'match': 'partial'}\n",
        "{'url': 'http://dbpedia.org/resource/Secretary', 'term': 'secretary', 'wiki_url': 'http://en.wikipedia.org/wiki/Secretary', 'match': 'partial'}"
       ]
      },
      {
       "output_type": "stream",
       "stream": "stdout",
       "text": [
        "\n",
        "{'url': 'http://dbpedia.org/resource/1994_Winter_Olympics', 'term': '1994 winter olympics', 'wiki_url': 'http://en.wikipedia.org/wiki/1994_Winter_Olympics', 'match': 'partial'}\n",
        "{'url': 'http://dbpedia.org/resource/Secretary', 'term': 'secretary', 'wiki_url': 'http://en.wikipedia.org/wiki/Secretary', 'match': 'partial'}"
       ]
      },
      {
       "output_type": "stream",
       "stream": "stdout",
       "text": [
        "\n",
        "{'url': 'http://dbpedia.org/resource/1994_Winter_Olympics', 'term': '1994 winter olympics', 'wiki_url': 'http://en.wikipedia.org/wiki/1994_Winter_Olympics', 'match': 'partial'}\n",
        "{'url': 'http://dbpedia.org/resource/Bachelor_of_Arts', 'term': 'bachelor of arts', 'wiki_url': 'http://en.wikipedia.org/wiki/Bachelor_of_Arts', 'match': 'partial'}"
       ]
      },
      {
       "output_type": "stream",
       "stream": "stdout",
       "text": [
        "\n",
        "{'url': 'http://dbpedia.org/resource/Doctor_of_Philosophy', 'term': 'doctor of philosophy', 'wiki_url': 'http://en.wikipedia.org/wiki/Doctor_of_Philosophy', 'match': 'partial'}\n",
        "{'url': 'http://dbpedia.org/resource/Tulku', 'term': 'tulku', 'wiki_url': 'http://en.wikipedia.org/wiki/Tulku', 'match': 'good-partial'}"
       ]
      },
      {
       "output_type": "stream",
       "stream": "stdout",
       "text": [
        "\n",
        "{'url': 'http://dbpedia.org/resource/Capital_(economics)', 'term': 'capital (economics)', 'wiki_url': 'http://en.wikipedia.org/wiki/Capital_(economics)', 'match': 'partial'}"
       ]
      },
      {
       "output_type": "stream",
       "stream": "stdout",
       "text": [
        "\n",
        "{'url': 'http://dbpedia.org/resource/Mathematical_optimization', 'term': 'mathematical optimization', 'wiki_url': 'http://en.wikipedia.org/wiki/Mathematical_optimization', 'match': 'partial'}\n",
        "{'url': 'http://dbpedia.org/resource/Cataloging', 'term': 'cataloging', 'wiki_url': 'http://en.wikipedia.org/wiki/Cataloging', 'match': 'exact'}"
       ]
      },
      {
       "output_type": "stream",
       "stream": "stdout",
       "text": [
        "\n",
        "{'url': 'http://dbpedia.org/resource/Library', 'term': 'library', 'wiki_url': 'http://en.wikipedia.org/wiki/Library', 'match': 'partial'}"
       ]
      },
      {
       "output_type": "stream",
       "stream": "stdout",
       "text": [
        "\n",
        "{'url': 'http://dbpedia.org/resource/Library_of_Congress', 'term': 'library of congress', 'wiki_url': 'http://en.wikipedia.org/wiki/Library_of_Congress', 'match': 'partial'}\n",
        "{'url': 'http://dbpedia.org/resource/Ronald_Coase', 'term': 'ronald coase', 'wiki_url': 'http://en.wikipedia.org/wiki/Ronald_Coase', 'match': 'exact'}"
       ]
      },
      {
       "output_type": "stream",
       "stream": "stdout",
       "text": [
        "\n",
        "{'url': 'http://dbpedia.org/resource/Adam_Smith', 'term': 'adam smith', 'wiki_url': 'http://en.wikipedia.org/wiki/Adam_Smith', 'match': 'exact'}"
       ]
      },
      {
       "output_type": "stream",
       "stream": "stdout",
       "text": [
        "\n",
        "{'url': 'http://dbpedia.org/resource/Financial_services', 'term': 'financial services', 'wiki_url': 'http://en.wikipedia.org/wiki/Financial_services', 'match': 'partial'}"
       ]
      },
      {
       "output_type": "stream",
       "stream": "stdout",
       "text": [
        "\n",
        "{'url': 'http://dbpedia.org/resource/Leveraged_buyout', 'term': 'leveraged buyout', 'wiki_url': 'http://en.wikipedia.org/wiki/Leveraged_buyout', 'match': 'partial'}\n",
        "{'url': 'http://dbpedia.org/resource/Capital_(economics)', 'term': 'capital (economics)', 'wiki_url': 'http://en.wikipedia.org/wiki/Capital_(economics)', 'match': 'partial'}"
       ]
      },
      {
       "output_type": "stream",
       "stream": "stdout",
       "text": [
        "\n",
        "{'url': 'http://dbpedia.org/resource/Mathematical_optimization', 'term': 'mathematical optimization', 'wiki_url': 'http://en.wikipedia.org/wiki/Mathematical_optimization', 'match': 'partial'}\n",
        "{'url': 'http://dbpedia.org/resource/Capital_(economics)', 'term': 'capital (economics)', 'wiki_url': 'http://en.wikipedia.org/wiki/Capital_(economics)', 'match': 'partial'}"
       ]
      },
      {
       "output_type": "stream",
       "stream": "stdout",
       "text": [
        "\n",
        "{'url': 'http://dbpedia.org/resource/Mathematical_optimization', 'term': 'mathematical optimization', 'wiki_url': 'http://en.wikipedia.org/wiki/Mathematical_optimization', 'match': 'partial'}\n",
        "{'url': \"http://dbpedia.org/resource/Moore's_law\", 'term': \"moore's law\", 'wiki_url': 'http://en.wikipedia.org/wiki/Moore%27s_law', 'match': 'good-partial'}"
       ]
      },
      {
       "output_type": "stream",
       "stream": "stdout",
       "text": [
        "\n",
        "{'url': 'http://dbpedia.org/resource/Capital_(economics)', 'term': 'capital (economics)', 'wiki_url': 'http://en.wikipedia.org/wiki/Capital_(economics)', 'match': 'partial'}"
       ]
      },
      {
       "output_type": "stream",
       "stream": "stdout",
       "text": [
        "\n",
        "{'url': 'http://dbpedia.org/resource/Mathematical_optimization', 'term': 'mathematical optimization', 'wiki_url': 'http://en.wikipedia.org/wiki/Mathematical_optimization', 'match': 'partial'}\n",
        "{'url': 'http://dbpedia.org/resource/Secretary', 'term': 'secretary', 'wiki_url': 'http://en.wikipedia.org/wiki/Secretary', 'match': 'partial'}"
       ]
      },
      {
       "output_type": "stream",
       "stream": "stdout",
       "text": [
        "\n",
        "{'url': 'http://dbpedia.org/resource/1994_Winter_Olympics', 'term': '1994 winter olympics', 'wiki_url': 'http://en.wikipedia.org/wiki/1994_Winter_Olympics', 'match': 'partial'}\n",
        "{'url': 'http://dbpedia.org/resource/Time', 'term': 'time', 'wiki_url': 'http://en.wikipedia.org/wiki/Time', 'match': 'partial'}"
       ]
      },
      {
       "output_type": "stream",
       "stream": "stdout",
       "text": [
        "\n",
        "{'url': 'http://dbpedia.org/resource/Time_travel', 'term': 'time travel', 'wiki_url': 'http://en.wikipedia.org/wiki/Time_travel', 'match': 'partial'}\n",
        "{'url': 'http://dbpedia.org/resource/Trade-off', 'term': 'trade-off', 'wiki_url': 'http://en.wikipedia.org/wiki/Trade-off', 'match': 'partial'}"
       ]
      },
      {
       "output_type": "stream",
       "stream": "stdout",
       "text": [
        "\n",
        "{'url': 'http://dbpedia.org/resource/Space\\xe2\\x80\\x93time_tradeoff', 'term': 'space\\xe2\\x80\\x93time tradeoff', 'wiki_url': None, 'match': 'partial'}\n",
        "{'url': 'http://dbpedia.org/resource/EXIF', 'term': 'exif', 'wiki_url': 'http://en.wikipedia.org/wiki/EXIF', 'match': 'exact'}"
       ]
      },
      {
       "output_type": "stream",
       "stream": "stdout",
       "text": [
        "\n",
        "{'url': 'http://dbpedia.org/resource/Flashback_(narrative)', 'term': 'flashback (narrative)', 'wiki_url': 'http://en.wikipedia.org/wiki/Flashback_(narrative)', 'match': 'partial'}"
       ]
      },
      {
       "output_type": "stream",
       "stream": "stdout",
       "text": [
        "\n",
        "{'url': 'http://dbpedia.org/resource/Mesoamerican_chronology', 'term': 'mesoamerican chronology', 'wiki_url': 'http://en.wikipedia.org/wiki/Mesoamerican_chronology', 'match': 'partial'}\n",
        "{'url': 'http://dbpedia.org/resource/Library_(computing)', 'term': 'library (computing)', 'wiki_url': 'http://en.wikipedia.org/wiki/Library_%28computing%29', 'match': 'partial'}"
       ]
      },
      {
       "output_type": "stream",
       "stream": "stdout",
       "text": [
        "\n",
        "{'url': 'http://dbpedia.org/resource/Calculus', 'term': 'calculus', 'wiki_url': 'http://en.wikipedia.org/wiki/Calculus', 'match': 'partial'}\n",
        "{'term': 'loccn', 'match': 'none'}"
       ]
      },
      {
       "output_type": "stream",
       "stream": "stdout",
       "text": [
        "\n",
        "{'term': 'locsh', 'match': 'none'}"
       ]
      },
      {
       "output_type": "stream",
       "stream": "stdout",
       "text": [
        "\n",
        "{'url': 'http://dbpedia.org/resource/International_Standard_Book_Number', 'term': 'international standard book number', 'wiki_url': 'http://en.wikipedia.org/wiki/International_Standard_Book_Number', 'match': 'partial'}"
       ]
      },
      {
       "output_type": "stream",
       "stream": "stdout",
       "text": [
        "\n",
        "{'url': 'http://dbpedia.org/resource/National_Library_of_Norway', 'term': 'national library of norway', 'wiki_url': 'http://en.wikipedia.org/wiki/National_Library_of_Norway', 'match': 'partial'}\n",
        "{'url': 'http://dbpedia.org/resource/Geoffrey_Nunberg', 'term': 'geoffrey nunberg', 'wiki_url': 'http://en.wikipedia.org/wiki/Geoffrey_Nunberg', 'match': 'good-partial'}"
       ]
      },
      {
       "output_type": "stream",
       "stream": "stdout",
       "text": [
        "\n",
        "{'url': 'http://dbpedia.org/resource/Library', 'term': 'library', 'wiki_url': 'http://en.wikipedia.org/wiki/Library', 'match': 'partial'}"
       ]
      },
      {
       "output_type": "stream",
       "stream": "stdout",
       "text": [
        "\n",
        "{'url': 'http://dbpedia.org/resource/Library_of_Congress', 'term': 'library of congress', 'wiki_url': 'http://en.wikipedia.org/wiki/Library_of_Congress', 'match': 'partial'}\n",
        "{'url': 'http://dbpedia.org/resource/Google', 'term': 'google', 'wiki_url': 'http://en.wikipedia.org/wiki/Google', 'match': 'partial'}"
       ]
      },
      {
       "output_type": "stream",
       "stream": "stdout",
       "text": [
        "\n",
        "{'url': 'http://dbpedia.org/resource/Android_(operating_system)', 'term': 'android (operating system)', 'wiki_url': 'http://en.wikipedia.org/wiki/Android_(operating_system)', 'match': 'partial'}\n",
        "{'url': 'http://dbpedia.org/resource/Lowell_Observatory_Near-Earth-Object_Search', 'term': 'lowell observatory near-earth-object search', 'wiki_url': 'http://en.wikipedia.org/wiki/Lowell_Observatory_Near-Earth-Object_Search', 'match': 'partial'}"
       ]
      },
      {
       "output_type": "stream",
       "stream": "stdout",
       "text": [
        "\n",
        "{'url': 'http://dbpedia.org/resource/AOL', 'term': 'aol', 'wiki_url': 'http://en.wikipedia.org/wiki/AOL', 'match': 'partial'}\n",
        "{'url': 'http://dbpedia.org/resource/Social_class', 'term': 'social class', 'wiki_url': 'http://en.wikipedia.org/wiki/Social_class', 'match': 'partial'}"
       ]
      },
      {
       "output_type": "stream",
       "stream": "stdout",
       "text": [
        "\n",
        "{'url': 'http://dbpedia.org/resource/Taxonomic_rank', 'term': 'taxonomic rank', 'wiki_url': 'http://en.wikipedia.org/wiki/Taxonomic_rank', 'match': 'partial'}\n",
        "{'url': 'http://dbpedia.org/resource/Terrorism', 'term': 'terrorism', 'wiki_url': 'http://en.wikipedia.org/wiki/Terrorism', 'match': 'partial'}"
       ]
      },
      {
       "output_type": "stream",
       "stream": "stdout",
       "text": [
        "\n",
        "{'url': 'http://dbpedia.org/resource/Sport', 'term': 'sport', 'wiki_url': 'http://en.wikipedia.org/wiki/Sport', 'match': 'partial'}\n",
        "{'url': 'http://dbpedia.org/resource/Stalinism', 'term': 'stalinism', 'wiki_url': 'http://en.wikipedia.org/wiki/Stalinism', 'match': 'partial'}"
       ]
      },
      {
       "output_type": "stream",
       "stream": "stdout",
       "text": [
        "\n",
        "{'url': 'http://dbpedia.org/resource/Debt', 'term': 'debt', 'wiki_url': 'http://en.wikipedia.org/wiki/Debt', 'match': 'partial'}\n",
        "{'url': 'http://dbpedia.org/resource/Secretary', 'term': 'secretary', 'wiki_url': 'http://en.wikipedia.org/wiki/Secretary', 'match': 'partial'}"
       ]
      },
      {
       "output_type": "stream",
       "stream": "stdout",
       "text": [
        "\n",
        "{'url': 'http://dbpedia.org/resource/1994_Winter_Olympics', 'term': '1994 winter olympics', 'wiki_url': 'http://en.wikipedia.org/wiki/1994_Winter_Olympics', 'match': 'partial'}\n",
        "{'url': 'http://dbpedia.org/resource/Secretary', 'term': 'secretary', 'wiki_url': 'http://en.wikipedia.org/wiki/Secretary', 'match': 'partial'}"
       ]
      },
      {
       "output_type": "stream",
       "stream": "stdout",
       "text": [
        "\n",
        "{'url': 'http://dbpedia.org/resource/1994_Winter_Olympics', 'term': '1994 winter olympics', 'wiki_url': 'http://en.wikipedia.org/wiki/1994_Winter_Olympics', 'match': 'partial'}\n",
        "{'url': 'http://dbpedia.org/resource/Secretary', 'term': 'secretary', 'wiki_url': 'http://en.wikipedia.org/wiki/Secretary', 'match': 'partial'}"
       ]
      },
      {
       "output_type": "stream",
       "stream": "stdout",
       "text": [
        "\n",
        "{'url': 'http://dbpedia.org/resource/1994_Winter_Olympics', 'term': '1994 winter olympics', 'wiki_url': 'http://en.wikipedia.org/wiki/1994_Winter_Olympics', 'match': 'partial'}\n",
        "{'url': 'http://dbpedia.org/resource/Capital_(economics)', 'term': 'capital (economics)', 'wiki_url': 'http://en.wikipedia.org/wiki/Capital_(economics)', 'match': 'partial'}"
       ]
      },
      {
       "output_type": "stream",
       "stream": "stdout",
       "text": [
        "\n",
        "{'url': 'http://dbpedia.org/resource/Mathematical_optimization', 'term': 'mathematical optimization', 'wiki_url': 'http://en.wikipedia.org/wiki/Mathematical_optimization', 'match': 'partial'}\n",
        "{'url': 'http://dbpedia.org/resource/Library', 'term': 'library', 'wiki_url': 'http://en.wikipedia.org/wiki/Library', 'match': 'partial'}"
       ]
      },
      {
       "output_type": "stream",
       "stream": "stdout",
       "text": [
        "\n",
        "{'url': 'http://dbpedia.org/resource/Library_of_Congress', 'term': 'library of congress', 'wiki_url': 'http://en.wikipedia.org/wiki/Library_of_Congress', 'match': 'partial'}\n",
        "{'url': 'http://dbpedia.org/resource/National_Space_Organization', 'term': 'national space organization', 'wiki_url': 'http://en.wikipedia.org/wiki/National_Space_Organization', 'match': 'partial'}"
       ]
      },
      {
       "output_type": "stream",
       "stream": "stdout",
       "text": [
        "\n",
        "{'url': 'http://dbpedia.org/resource/Race_and_ethnicity_in_the_United_States_Census', 'term': 'race and ethnicity in the united states census', 'wiki_url': 'http://en.wikipedia.org/wiki/Race_and_ethnicity_in_the_United_States_Census', 'match': 'partial'}"
       ]
      },
      {
       "output_type": "stream",
       "stream": "stdout",
       "text": [
        "\n",
        "{'url': 'http://dbpedia.org/resource/White_House', 'term': 'white house', 'wiki_url': 'http://en.wikipedia.org/wiki/White_House', 'match': 'partial'}\n",
        "{'url': 'http://dbpedia.org/resource/Library', 'term': 'library', 'wiki_url': 'http://en.wikipedia.org/wiki/Library', 'match': 'partial'}"
       ]
      },
      {
       "output_type": "stream",
       "stream": "stdout",
       "text": [
        "\n",
        "{'url': 'http://dbpedia.org/resource/Library_of_Congress', 'term': 'library of congress', 'wiki_url': 'http://en.wikipedia.org/wiki/Library_of_Congress', 'match': 'partial'}\n",
        "{'url': 'http://dbpedia.org/resource/Museum', 'term': 'museum', 'wiki_url': 'http://en.wikipedia.org/wiki/Museum', 'match': 'partial'}"
       ]
      },
      {
       "output_type": "stream",
       "stream": "stdout",
       "text": [
        "\n",
        "{'url': 'http://dbpedia.org/resource/British_Museum', 'term': 'british museum', 'wiki_url': 'http://en.wikipedia.org/wiki/British_Museum', 'match': 'partial'}\n",
        "{'url': 'http://dbpedia.org/resource/Governor', 'term': 'governor', 'wiki_url': 'http://en.wikipedia.org/wiki/Governor', 'match': 'partial'}"
       ]
      },
      {
       "output_type": "stream",
       "stream": "stdout",
       "text": [
        "\n",
        "{'url': 'http://dbpedia.org/resource/Governor-General', 'term': 'governor-general', 'wiki_url': 'http://en.wikipedia.org/wiki/Governor-General', 'match': 'partial'}\n",
        "{'url': \"http://dbpedia.org/resource/Tim_O'Reilly\", 'term': \"tim o'reilly\", 'wiki_url': \"http://en.wikipedia.org/wiki/Tim_O'Reilly\", 'match': 'good-partial'}"
       ]
      },
      {
       "output_type": "stream",
       "stream": "stdout",
       "text": [
        "\n",
        "{'url': 'http://dbpedia.org/resource/Flipper_(band)', 'term': 'flipper (band)', 'wiki_url': 'http://en.wikipedia.org/wiki/Flipper_(band)', 'match': 'partial'}"
       ]
      },
      {
       "output_type": "stream",
       "stream": "stdout",
       "text": [
        "\n",
        "{'url': 'http://dbpedia.org/resource/Iraq_Veterans_Against_the_War', 'term': 'iraq veterans against the war', 'wiki_url': 'http://en.wikipedia.org/wiki/Iraq_Veterans_Against_the_War', 'match': 'partial'}\n",
        "{'term': 'amazoncom', 'match': 'none'}"
       ]
      },
      {
       "output_type": "stream",
       "stream": "stdout",
       "text": [
        "\n",
        "{'url': 'http://dbpedia.org/resource/EBay', 'term': 'ebay', 'wiki_url': 'http://en.wikipedia.org/wiki/EBay', 'match': 'exact'}"
       ]
      },
      {
       "output_type": "stream",
       "stream": "stdout",
       "text": [
        "\n",
        "{'url': 'http://dbpedia.org/resource/Twitter', 'term': 'twitter', 'wiki_url': 'http://en.wikipedia.org/wiki/Twitter', 'match': 'exact'}"
       ]
      },
      {
       "output_type": "stream",
       "stream": "stdout",
       "text": [
        "\n",
        "{'url': 'http://dbpedia.org/resource/Facebook', 'term': 'facebook', 'wiki_url': 'http://en.wikipedia.org/wiki/Facebook', 'match': 'exact'}"
       ]
      },
      {
       "output_type": "stream",
       "stream": "stdout",
       "text": [
        "\n",
        "{'url': 'http://dbpedia.org/resource/Folksonomy', 'term': 'folksonomy', 'wiki_url': 'http://en.wikipedia.org/wiki/Folksonomy', 'match': 'exact'}"
       ]
      },
      {
       "output_type": "stream",
       "stream": "stdout",
       "text": [
        "\n",
        "{'url': 'http://dbpedia.org/resource/Computer_science', 'term': 'computer science', 'wiki_url': 'http://en.wikipedia.org/wiki/Computer_science', 'match': 'partial'}"
       ]
      },
      {
       "output_type": "stream",
       "stream": "stdout",
       "text": [
        "\n",
        "{'url': 'http://dbpedia.org/resource/Computer', 'term': 'computer', 'wiki_url': 'http://en.wikipedia.org/wiki/Computer', 'match': 'partial'}\n",
        "{'url': 'http://dbpedia.org/resource/Yahoo!', 'term': 'yahoo!', 'wiki_url': 'http://en.wikipedia.org/wiki/Yahoo!', 'match': 'good-partial'}"
       ]
      },
      {
       "output_type": "stream",
       "stream": "stdout",
       "text": [
        "\n",
        "{'url': 'http://dbpedia.org/resource/Secretary', 'term': 'secretary', 'wiki_url': 'http://en.wikipedia.org/wiki/Secretary', 'match': 'partial'}"
       ]
      },
      {
       "output_type": "stream",
       "stream": "stdout",
       "text": [
        "\n",
        "{'url': 'http://dbpedia.org/resource/1994_Winter_Olympics', 'term': '1994 winter olympics', 'wiki_url': 'http://en.wikipedia.org/wiki/1994_Winter_Olympics', 'match': 'partial'}\n",
        "{'url': 'http://dbpedia.org/resource/Trade-off', 'term': 'trade-off', 'wiki_url': 'http://en.wikipedia.org/wiki/Trade-off', 'match': 'partial'}"
       ]
      },
      {
       "output_type": "stream",
       "stream": "stdout",
       "text": [
        "\n",
        "{'url': 'http://dbpedia.org/resource/Space\\xe2\\x80\\x93time_tradeoff', 'term': 'space\\xe2\\x80\\x93time tradeoff', 'wiki_url': None, 'match': 'partial'}\n",
        "{'url': 'http://dbpedia.org/resource/Neural_network', 'term': 'neural network', 'wiki_url': 'http://en.wikipedia.org/wiki/Neural_network', 'match': 'partial'}"
       ]
      },
      {
       "output_type": "stream",
       "stream": "stdout",
       "text": [
        "\n",
        "{'url': 'http://dbpedia.org/resource/Natural_language_processing', 'term': 'natural language processing', 'wiki_url': 'http://en.wikipedia.org/wiki/Natural_language_processing', 'match': 'partial'}\n",
        "{'url': 'http://dbpedia.org/resource/Social_class', 'term': 'social class', 'wiki_url': 'http://en.wikipedia.org/wiki/Social_class', 'match': 'partial'}"
       ]
      },
      {
       "output_type": "stream",
       "stream": "stdout",
       "text": [
        "\n",
        "{'url': 'http://dbpedia.org/resource/Taxonomic_rank', 'term': 'taxonomic rank', 'wiki_url': 'http://en.wikipedia.org/wiki/Taxonomic_rank', 'match': 'partial'}\n",
        "{'url': 'http://dbpedia.org/resource/Trade-off', 'term': 'trade-off', 'wiki_url': 'http://en.wikipedia.org/wiki/Trade-off', 'match': 'partial'}"
       ]
      },
      {
       "output_type": "stream",
       "stream": "stdout",
       "text": [
        "\n",
        "{'url': 'http://dbpedia.org/resource/Space\\xe2\\x80\\x93time_tradeoff', 'term': 'space\\xe2\\x80\\x93time tradeoff', 'wiki_url': None, 'match': 'partial'}\n",
        "{'url': 'http://dbpedia.org/resource/Harvard_University', 'term': 'harvard university', 'wiki_url': 'http://en.wikipedia.org/wiki/Harvard_University', 'match': 'partial'}"
       ]
      },
      {
       "output_type": "stream",
       "stream": "stdout",
       "text": [
        "\n",
        "{'url': 'http://dbpedia.org/resource/University_of_Oxford', 'term': 'university of oxford', 'wiki_url': 'http://en.wikipedia.org/wiki/University_of_Oxford', 'match': 'partial'}\n",
        "{'url': 'http://dbpedia.org/resource/High_school', 'term': 'high school', 'wiki_url': 'http://en.wikipedia.org/wiki/High_school', 'match': 'partial'}"
       ]
      },
      {
       "output_type": "stream",
       "stream": "stdout",
       "text": [
        "\n",
        "{'url': 'http://dbpedia.org/resource/State_school', 'term': 'state school', 'wiki_url': 'http://en.wikipedia.org/wiki/State_school', 'match': 'partial'}\n",
        "{'url': 'http://dbpedia.org/resource/University_of_California,_Berkeley', 'term': 'university of california, berkeley', 'wiki_url': 'http://en.wikipedia.org/wiki/University_of_California%2C_Berkeley', 'match': 'partial'}"
       ]
      },
      {
       "output_type": "stream",
       "stream": "stdout",
       "text": [
        "\n",
        "{'url': 'http://dbpedia.org/resource/Berkeley,_California', 'term': 'berkeley, california', 'wiki_url': 'http://en.wikipedia.org/wiki/Berkeley%2C_California', 'match': 'partial'}\n",
        "{'url': 'http://dbpedia.org/resource/World_War_II', 'term': 'world war ii', 'wiki_url': 'http://en.wikipedia.org/wiki/World_War_II', 'match': 'partial'}"
       ]
      },
      {
       "output_type": "stream",
       "stream": "stdout",
       "text": [
        "\n",
        "{'url': 'http://dbpedia.org/resource/World_War_I', 'term': 'world war i', 'wiki_url': 'http://en.wikipedia.org/wiki/World_War_I', 'match': 'partial'}\n",
        "{'url': 'http://dbpedia.org/resource/United_States', 'term': 'united states', 'wiki_url': None, 'match': 'partial'}"
       ]
      },
      {
       "output_type": "stream",
       "stream": "stdout",
       "text": [
        "\n",
        "{'url': 'http://dbpedia.org/resource/United_States_Census_Bureau', 'term': 'united states census bureau', 'wiki_url': 'http://en.wikipedia.org/wiki/United_States_Census_Bureau', 'match': 'partial'}\n",
        "{'url': 'http://dbpedia.org/resource/England_national_football_team', 'term': 'england national football team', 'wiki_url': 'http://en.wikipedia.org/wiki/England_national_football_team', 'match': 'partial'}"
       ]
      },
      {
       "output_type": "stream",
       "stream": "stdout",
       "text": [
        "\n",
        "{'url': 'http://dbpedia.org/resource/American_Hockey_League', 'term': 'american hockey league', 'wiki_url': 'http://en.wikipedia.org/wiki/American_Hockey_League', 'match': 'partial'}\n",
        "{'url': 'http://dbpedia.org/resource/England_national_football_team', 'term': 'england national football team', 'wiki_url': 'http://en.wikipedia.org/wiki/England_national_football_team', 'match': 'partial'}"
       ]
      },
      {
       "output_type": "stream",
       "stream": "stdout",
       "text": [
        "\n",
        "{'url': 'http://dbpedia.org/resource/American_Hockey_League', 'term': 'american hockey league', 'wiki_url': 'http://en.wikipedia.org/wiki/American_Hockey_League', 'match': 'partial'}\n",
        "{'url': 'http://dbpedia.org/resource/Flickr', 'term': 'flickr', 'wiki_url': 'http://en.wikipedia.org/wiki/Flickr', 'match': 'exact'}"
       ]
      },
      {
       "output_type": "stream",
       "stream": "stdout",
       "text": [
        "\n",
        "{'url': 'http://dbpedia.org/resource/Google', 'term': 'google', 'wiki_url': 'http://en.wikipedia.org/wiki/Google', 'match': 'exact'}"
       ]
      },
      {
       "output_type": "stream",
       "stream": "stdout",
       "text": [
        "\n",
        "{'url': 'http://dbpedia.org/resource/Google', 'term': 'google', 'wiki_url': 'http://en.wikipedia.org/wiki/Google', 'match': 'exact'}"
       ]
      },
      {
       "output_type": "stream",
       "stream": "stdout",
       "text": [
        "\n",
        "{'url': 'http://dbpedia.org/resource/United_States', 'term': 'united states', 'wiki_url': None, 'match': 'partial'}"
       ]
      },
      {
       "output_type": "stream",
       "stream": "stdout",
       "text": [
        "\n",
        "{'url': 'http://dbpedia.org/resource/United_States_Census_Bureau', 'term': 'united states census bureau', 'wiki_url': 'http://en.wikipedia.org/wiki/United_States_Census_Bureau', 'match': 'partial'}\n",
        "{'url': 'http://dbpedia.org/resource/United_States', 'term': 'united states', 'wiki_url': None, 'match': 'partial'}"
       ]
      },
      {
       "output_type": "stream",
       "stream": "stdout",
       "text": [
        "\n",
        "{'url': 'http://dbpedia.org/resource/United_States_Census_Bureau', 'term': 'united states census bureau', 'wiki_url': 'http://en.wikipedia.org/wiki/United_States_Census_Bureau', 'match': 'partial'}\n",
        "{'url': 'http://dbpedia.org/resource/Alfred_Hitchcock', 'term': 'alfred hitchcock', 'wiki_url': 'http://en.wikipedia.org/wiki/Alfred_Hitchcock', 'match': 'partial'}"
       ]
      },
      {
       "output_type": "stream",
       "stream": "stdout",
       "text": [
        "\n",
        "{'url': 'http://dbpedia.org/resource/Henry_Kissinger', 'term': 'henry kissinger', 'wiki_url': 'http://en.wikipedia.org/wiki/Henry_Kissinger', 'match': 'partial'}\n",
        "{'url': 'http://dbpedia.org/resource/Extended_play', 'term': 'extended play', 'wiki_url': 'http://en.wikipedia.org/wiki/Extended_play', 'match': 'partial'}"
       ]
      },
      {
       "output_type": "stream",
       "stream": "stdout",
       "text": [
        "\n",
        "{'url': 'http://dbpedia.org/resource/Computer', 'term': 'computer', 'wiki_url': 'http://en.wikipedia.org/wiki/Computer', 'match': 'partial'}\n",
        "{'url': 'http://dbpedia.org/resource/United_States', 'term': 'united states', 'wiki_url': None, 'match': 'partial'}"
       ]
      },
      {
       "output_type": "stream",
       "stream": "stdout",
       "text": [
        "\n",
        "{'url': 'http://dbpedia.org/resource/United_States_Census_Bureau', 'term': 'united states census bureau', 'wiki_url': 'http://en.wikipedia.org/wiki/United_States_Census_Bureau', 'match': 'partial'}\n",
        "{'url': 'http://dbpedia.org/resource/Habitat', 'term': 'habitat', 'wiki_url': 'http://en.wikipedia.org/wiki/Habitat', 'match': 'partial'}"
       ]
      },
      {
       "output_type": "stream",
       "stream": "stdout",
       "text": [
        "\n",
        "{'url': 'http://dbpedia.org/resource/Horror_film', 'term': 'horror film', 'wiki_url': 'http://en.wikipedia.org/wiki/Horror_film', 'match': 'partial'}\n",
        "{'url': 'http://dbpedia.org/resource/SeaWorld', 'term': 'seaworld', 'wiki_url': 'http://en.wikipedia.org/wiki/SeaWorld', 'match': 'exact'}"
       ]
      },
      {
       "output_type": "stream",
       "stream": "stdout",
       "text": [
        "\n",
        "{'url': 'http://dbpedia.org/resource/Harvard_University', 'term': 'harvard university', 'wiki_url': 'http://en.wikipedia.org/wiki/Harvard_University', 'match': 'partial'}"
       ]
      },
      {
       "output_type": "stream",
       "stream": "stdout",
       "text": [
        "\n",
        "{'url': 'http://dbpedia.org/resource/University_of_Oxford', 'term': 'university of oxford', 'wiki_url': 'http://en.wikipedia.org/wiki/University_of_Oxford', 'match': 'partial'}\n",
        "{'url': 'http://dbpedia.org/resource/Google', 'term': 'google', 'wiki_url': 'http://en.wikipedia.org/wiki/Google', 'match': 'exact'}"
       ]
      },
      {
       "output_type": "stream",
       "stream": "stdout",
       "text": [
        "\n",
        "{'url': 'http://dbpedia.org/resource/Google', 'term': 'google', 'wiki_url': 'http://en.wikipedia.org/wiki/Google', 'match': 'exact'}"
       ]
      },
      {
       "output_type": "stream",
       "stream": "stdout",
       "text": [
        "\n",
        "{'url': 'http://dbpedia.org/resource/Google', 'term': 'google', 'wiki_url': 'http://en.wikipedia.org/wiki/Google', 'match': 'exact'}"
       ]
      },
      {
       "output_type": "stream",
       "stream": "stdout",
       "text": [
        "\n",
        "{'url': 'http://dbpedia.org/resource/Flickr', 'term': 'flickr', 'wiki_url': 'http://en.wikipedia.org/wiki/Flickr', 'match': 'exact'}"
       ]
      },
      {
       "output_type": "stream",
       "stream": "stdout",
       "text": [
        "\n",
        "{'url': 'http://dbpedia.org/resource/Westlaw', 'term': 'westlaw', 'wiki_url': 'http://en.wikipedia.org/wiki/Westlaw', 'match': 'exact'}"
       ]
      },
      {
       "output_type": "stream",
       "stream": "stdout",
       "text": [
        "\n",
        "{'url': 'http://dbpedia.org/resource/LexisNexis', 'term': 'lexisnexis', 'wiki_url': 'http://en.wikipedia.org/wiki/LexisNexis', 'match': 'exact'}"
       ]
      },
      {
       "output_type": "stream",
       "stream": "stdout",
       "text": [
        "\n",
        "{'url': 'http://dbpedia.org/resource/National_Register_of_Historic_Places', 'term': 'national register of historic places', 'wiki_url': 'http://en.wikipedia.org/wiki/National_Register_of_Historic_Places', 'match': 'partial'}"
       ]
      },
      {
       "output_type": "stream",
       "stream": "stdout",
       "text": [
        "\n",
        "{'url': 'http://dbpedia.org/resource/National_Football_League', 'term': 'national football league', 'wiki_url': 'http://en.wikipedia.org/wiki/National_Football_League', 'match': 'partial'}\n",
        "{'url': 'http://dbpedia.org/resource/Google', 'term': 'google', 'wiki_url': 'http://en.wikipedia.org/wiki/Google', 'match': 'exact'}"
       ]
      },
      {
       "output_type": "stream",
       "stream": "stdout",
       "text": [
        "\n",
        "{'term': 'amazoncom', 'match': 'none'}"
       ]
      },
      {
       "output_type": "stream",
       "stream": "stdout",
       "text": [
        "\n",
        "{'url': 'http://dbpedia.org/resource/EBay', 'term': 'ebay', 'wiki_url': 'http://en.wikipedia.org/wiki/EBay', 'match': 'exact'}"
       ]
      },
      {
       "output_type": "stream",
       "stream": "stdout",
       "text": [
        "\n",
        "{'url': 'http://dbpedia.org/resource/Wikipedia', 'term': 'wikipedia', 'wiki_url': 'http://en.wikipedia.org/wiki/Wikipedia', 'match': 'exact'}"
       ]
      },
      {
       "output_type": "stream",
       "stream": "stdout",
       "text": [
        "\n",
        "{'url': 'http://dbpedia.org/resource/Facebook', 'term': 'facebook', 'wiki_url': 'http://en.wikipedia.org/wiki/Facebook', 'match': 'exact'}"
       ]
      },
      {
       "output_type": "stream",
       "stream": "stdout",
       "text": [
        "\n",
        "{'url': 'http://dbpedia.org/resource/Twitter', 'term': 'twitter', 'wiki_url': 'http://en.wikipedia.org/wiki/Twitter', 'match': 'exact'}"
       ]
      },
      {
       "output_type": "stream",
       "stream": "stdout",
       "text": [
        "\n",
        "{'url': 'http://dbpedia.org/resource/YouTube', 'term': 'youtube', 'wiki_url': 'http://en.wikipedia.org/wiki/YouTube', 'match': 'exact'}"
       ]
      },
      {
       "output_type": "stream",
       "stream": "stdout",
       "text": [
        "\n",
        "{'url': 'http://dbpedia.org/resource/Google', 'term': 'google', 'wiki_url': 'http://en.wikipedia.org/wiki/Google', 'match': 'exact'}"
       ]
      },
      {
       "output_type": "stream",
       "stream": "stdout",
       "text": [
        "\n",
        "{'url': 'http://dbpedia.org/resource/Microsoft', 'term': 'microsoft', 'wiki_url': 'http://en.wikipedia.org/wiki/Microsoft', 'match': 'exact'}"
       ]
      },
      {
       "output_type": "stream",
       "stream": "stdout",
       "text": [
        "\n",
        "{'url': 'http://dbpedia.org/resource/Yahoo!', 'term': 'yahoo!', 'wiki_url': 'http://en.wikipedia.org/wiki/Yahoo!', 'match': 'good-partial'}"
       ]
      },
      {
       "output_type": "stream",
       "stream": "stdout",
       "text": [
        "\n",
        "{'url': 'http://dbpedia.org/resource/Google', 'term': 'google', 'wiki_url': 'http://en.wikipedia.org/wiki/Google', 'match': 'exact'}"
       ]
      },
      {
       "output_type": "stream",
       "stream": "stdout",
       "text": [
        "\n",
        "{'url': 'http://dbpedia.org/resource/Microsoft', 'term': 'microsoft', 'wiki_url': 'http://en.wikipedia.org/wiki/Microsoft', 'match': 'exact'}"
       ]
      },
      {
       "output_type": "stream",
       "stream": "stdout",
       "text": [
        "\n",
        "{'url': 'http://dbpedia.org/resource/Herman_Melville', 'term': 'herman melville', 'wiki_url': 'http://en.wikipedia.org/wiki/Herman_Melville', 'match': 'exact'}"
       ]
      },
      {
       "output_type": "stream",
       "stream": "stdout",
       "text": [
        "\n",
        "{'url': 'http://dbpedia.org/resource/Adam_Smith', 'term': 'adam smith', 'wiki_url': 'http://en.wikipedia.org/wiki/Adam_Smith', 'match': 'exact'}"
       ]
      },
      {
       "output_type": "stream",
       "stream": "stdout",
       "text": [
        "\n",
        "{'url': 'http://dbpedia.org/resource/Charles_Darwin', 'term': 'charles darwin', 'wiki_url': 'http://en.wikipedia.org/wiki/Charles_Darwin', 'match': 'exact'}"
       ]
      },
      {
       "output_type": "stream",
       "stream": "stdout",
       "text": [
        "\n",
        "{'url': 'http://dbpedia.org/resource/Queen_Anne_style_architecture', 'term': 'queen anne style architecture', 'wiki_url': 'http://en.wikipedia.org/wiki/Queen_Anne_style_architecture', 'match': 'partial'}"
       ]
      },
      {
       "output_type": "stream",
       "stream": "stdout",
       "text": [
        "\n",
        "{'url': 'http://dbpedia.org/resource/Anne,_Queen_of_Great_Britain', 'term': 'anne, queen of great britain', 'wiki_url': 'http://en.wikipedia.org/wiki/Anne%2C_Queen_of_Great_Britain', 'match': 'partial'}\n",
        "{'url': 'http://dbpedia.org/resource/Miss_World', 'term': 'miss world', 'wiki_url': 'http://en.wikipedia.org/wiki/Miss_World', 'match': 'partial'}"
       ]
      },
      {
       "output_type": "stream",
       "stream": "stdout",
       "text": [
        "\n",
        "{'url': 'http://dbpedia.org/resource/Pula', 'term': 'pula', 'wiki_url': 'http://en.wikipedia.org/wiki/Pula', 'match': 'partial'}\n",
        "{'url': 'http://dbpedia.org/resource/Thomas_Jefferson', 'term': 'thomas jefferson', 'wiki_url': 'http://en.wikipedia.org/wiki/Thomas_Jefferson', 'match': 'partial'}"
       ]
      },
      {
       "output_type": "stream",
       "stream": "stdout",
       "text": [
        "\n",
        "{'url': 'http://dbpedia.org/resource/Woodrow_Wilson', 'term': 'woodrow wilson', 'wiki_url': 'http://en.wikipedia.org/wiki/Woodrow_Wilson', 'match': 'partial'}\n",
        "{'term': 'to organize is to create capabilities by intentionally imposing order and                    structure', 'match': 'none'}"
       ]
      },
      {
       "output_type": "stream",
       "stream": "stdout",
       "text": [
        "\n",
        "{'url': 'http://dbpedia.org/resource/Secretary', 'term': 'secretary', 'wiki_url': 'http://en.wikipedia.org/wiki/Secretary', 'match': 'partial'}"
       ]
      },
      {
       "output_type": "stream",
       "stream": "stdout",
       "text": [
        "\n",
        "{'url': 'http://dbpedia.org/resource/1994_Winter_Olympics', 'term': '1994 winter olympics', 'wiki_url': 'http://en.wikipedia.org/wiki/1994_Winter_Olympics', 'match': 'partial'}\n",
        "{'url': 'http://dbpedia.org/resource/Information_technology', 'term': 'information technology', 'wiki_url': 'http://en.wikipedia.org/wiki/Information_technology', 'match': 'partial'}"
       ]
      },
      {
       "output_type": "stream",
       "stream": "stdout",
       "text": [
        "\n",
        "{'url': 'http://dbpedia.org/resource/Statistics', 'term': 'statistics', 'wiki_url': 'http://en.wikipedia.org/wiki/Statistics', 'match': 'partial'}\n",
        "{'url': 'http://dbpedia.org/resource/Cognition', 'term': 'cognition', 'wiki_url': 'http://en.wikipedia.org/wiki/Cognition', 'match': 'partial'}"
       ]
      },
      {
       "output_type": "stream",
       "stream": "stdout",
       "text": [
        "\n",
        "{'url': 'http://dbpedia.org/resource/Dementia', 'term': 'dementia', 'wiki_url': 'http://en.wikipedia.org/wiki/Dementia', 'match': 'partial'}\n",
        "{'url': 'http://dbpedia.org/resource/State_school', 'term': 'state school', 'wiki_url': 'http://en.wikipedia.org/wiki/State_school', 'match': 'partial'}"
       ]
      },
      {
       "output_type": "stream",
       "stream": "stdout",
       "text": [
        "\n",
        "{'url': 'http://dbpedia.org/resource/Religion', 'term': 'religion', 'wiki_url': 'http://en.wikipedia.org/wiki/Religion', 'match': 'partial'}\n",
        "{'url': 'http://dbpedia.org/resource/Computer_science', 'term': 'computer science', 'wiki_url': 'http://en.wikipedia.org/wiki/Computer_science', 'match': 'exact'}"
       ]
      },
      {
       "output_type": "stream",
       "stream": "stdout",
       "text": [
        "\n",
        "{'url': 'http://dbpedia.org/resource/Information_technology', 'term': 'information technology', 'wiki_url': 'http://en.wikipedia.org/wiki/Information_technology', 'match': 'partial'}"
       ]
      },
      {
       "output_type": "stream",
       "stream": "stdout",
       "text": [
        "\n",
        "{'url': 'http://dbpedia.org/resource/Statistics', 'term': 'statistics', 'wiki_url': 'http://en.wikipedia.org/wiki/Statistics', 'match': 'partial'}\n",
        "{'url': 'http://dbpedia.org/resource/Baroque', 'term': 'baroque', 'wiki_url': 'http://en.wikipedia.org/wiki/Baroque', 'match': 'partial'}"
       ]
      },
      {
       "output_type": "stream",
       "stream": "stdout",
       "text": [
        "\n",
        "{'url': 'http://dbpedia.org/resource/Classical_music', 'term': 'classical music', 'wiki_url': 'http://en.wikipedia.org/wiki/Classical_music', 'match': 'partial'}\n",
        "{'term': 'a discipline is an integrated field of study in which there is some level of agreement about                    the issues and problems that deserve study how they are interrelated how they                    should be studied and how findings or theories about the issues and problems                    should be evaluated', 'match': 'none'}"
       ]
      },
      {
       "output_type": "stream",
       "stream": "stdout",
       "text": [
        "\n",
        "{'term': 'a framework is a set of concepts that provide the basic structure for understanding a                    domain enabling a common vocabulary for different explanatory                    theories', 'match': 'none'}"
       ]
      },
      {
       "output_type": "stream",
       "stream": "stdout",
       "text": [
        "\n",
        "{'term': 'an organizing system is a collection of resources arranged in ways thatenable people or computational agents to interact with them', 'match': 'none'}"
       ]
      },
      {
       "output_type": "stream",
       "stream": "stdout",
       "text": [
        "\n",
        "{'url': 'http://dbpedia.org/resource/Public_domain', 'term': 'public domain', 'wiki_url': 'http://en.wikipedia.org/wiki/Public_domain', 'match': 'partial'}"
       ]
      },
      {
       "output_type": "stream",
       "stream": "stdout",
       "text": [
        "\n",
        "{'url': 'http://dbpedia.org/resource/Contributing_property', 'term': 'contributing property', 'wiki_url': 'http://en.wikipedia.org/wiki/Contributing_property', 'match': 'partial'}\n",
        "{'url': 'http://dbpedia.org/resource/Public_domain', 'term': 'public domain', 'wiki_url': 'http://en.wikipedia.org/wiki/Public_domain', 'match': 'partial'}"
       ]
      },
      {
       "output_type": "stream",
       "stream": "stdout",
       "text": [
        "\n",
        "{'url': 'http://dbpedia.org/resource/Contributing_property', 'term': 'contributing property', 'wiki_url': 'http://en.wikipedia.org/wiki/Contributing_property', 'match': 'partial'}\n",
        "{'url': 'http://dbpedia.org/resource/Radio-frequency_identification', 'term': 'radio-frequency identification', 'wiki_url': 'http://en.wikipedia.org/wiki/Radio-frequency_identification', 'match': 'partial'}"
       ]
      },
      {
       "output_type": "stream",
       "stream": "stdout",
       "text": [
        "\n",
        "{'url': 'http://dbpedia.org/resource/Standardization', 'term': 'standardization', 'wiki_url': 'http://en.wikipedia.org/wiki/Standardization', 'match': 'partial'}\n",
        "{'url': 'http://dbpedia.org/resource/Polygamy', 'term': 'polygamy', 'wiki_url': 'http://en.wikipedia.org/wiki/Polygamy', 'match': 'partial'}"
       ]
      },
      {
       "output_type": "stream",
       "stream": "stdout",
       "text": [
        "\n",
        "{'url': 'http://dbpedia.org/resource/Loanword', 'term': 'loanword', 'wiki_url': 'http://en.wikipedia.org/wiki/Loanword', 'match': 'partial'}\n",
        "{'url': 'http://dbpedia.org/resource/International_Union_for_Conservation_of_Nature', 'term': 'international union for conservation of nature', 'wiki_url': 'http://en.wikipedia.org/wiki/International_Union_for_Conservation_of_Nature', 'match': 'partial'}"
       ]
      },
      {
       "output_type": "stream",
       "stream": "stdout",
       "text": [
        "\n",
        "{'url': 'http://dbpedia.org/resource/Renewable_energy', 'term': 'renewable energy', 'wiki_url': 'http://en.wikipedia.org/wiki/Renewable_energy', 'match': 'partial'}\n",
        "{'term': 'a collection is a group of resources that have been selected for some purpose similar terms                    are set mathematics aggregation data modeling dataset science and                    business and corpus linguistics and literary analysis', 'match': 'none'}"
       ]
      },
      {
       "output_type": "stream",
       "stream": "stdout",
       "text": [
        "\n",
        "{'term': 'an index is                    a description                        resource that contains information about the locations and                    frequencies of terms in a document collection to enable it to be searched                efficiently', 'match': 'none'}"
       ]
      },
      {
       "output_type": "stream",
       "stream": "stdout",
       "text": [
        "\n",
        "{'url': 'http://dbpedia.org/resource/Assault', 'term': 'assault', 'wiki_url': 'http://en.wikipedia.org/wiki/Assault', 'match': 'partial'}"
       ]
      },
      {
       "output_type": "stream",
       "stream": "stdout",
       "text": [
        "\n",
        "{'url': 'http://dbpedia.org/resource/Homicide', 'term': 'homicide', 'wiki_url': 'http://en.wikipedia.org/wiki/Homicide', 'match': 'partial'}\n",
        "{'term': 'selforganizing systems can                    change their internal structure or their function in response to feedback or                    changed circumstances', 'match': 'none'}"
       ]
      },
      {
       "output_type": "stream",
       "stream": "stdout",
       "text": [
        "\n",
        "{'url': 'http://dbpedia.org/resource/Secretary', 'term': 'secretary', 'wiki_url': 'http://en.wikipedia.org/wiki/Secretary', 'match': 'partial'}"
       ]
      },
      {
       "output_type": "stream",
       "stream": "stdout",
       "text": [
        "\n",
        "{'url': 'http://dbpedia.org/resource/1994_Winter_Olympics', 'term': '1994 winter olympics', 'wiki_url': 'http://en.wikipedia.org/wiki/1994_Winter_Olympics', 'match': 'partial'}\n",
        "{'url': 'http://dbpedia.org/resource/Arrangement', 'term': 'arrangement', 'wiki_url': 'http://en.wikipedia.org/wiki/Arrangement', 'match': 'partial'}"
       ]
      },
      {
       "output_type": "stream",
       "stream": "stdout",
       "text": [
        "\n",
        "{'url': 'http://dbpedia.org/resource/Orchestration', 'term': 'orchestration', 'wiki_url': 'http://en.wikipedia.org/wiki/Orchestration', 'match': 'partial'}\n",
        "{'url': 'http://dbpedia.org/resource/Arrangement', 'term': 'arrangement', 'wiki_url': 'http://en.wikipedia.org/wiki/Arrangement', 'match': 'partial'}"
       ]
      },
      {
       "output_type": "stream",
       "stream": "stdout",
       "text": [
        "\n",
        "{'url': 'http://dbpedia.org/resource/Orchestration', 'term': 'orchestration', 'wiki_url': 'http://en.wikipedia.org/wiki/Orchestration', 'match': 'partial'}\n",
        "{'term': 'it is highly desirable when the design and implementation of anorganizing system separates the storage of the resources from thelogic of their arrangement and the methods for interacting withthem this threetier architect is familiar to designers ofcomputerized organizing systems but it is also useful to think aboutorganizing systems in this way even when it involves physicalresources', 'match': 'none'}"
       ]
      },
      {
       "output_type": "stream",
       "stream": "stdout",
       "text": [
        "\n",
        "{'url': 'http://dbpedia.org/resource/Sexism', 'term': 'sexism', 'wiki_url': 'http://en.wikipedia.org/wiki/Sexism', 'match': 'partial'}"
       ]
      },
      {
       "output_type": "stream",
       "stream": "stdout",
       "text": [
        "\n",
        "{'url': 'http://dbpedia.org/resource/MediaWiki', 'term': 'mediawiki', 'wiki_url': 'http://en.wikipedia.org/wiki/MediaWiki', 'match': 'partial'}\n",
        "{'term': 'the organizing system                        for a small collection can sometimes use only the minimal or default                        organizing principle of collocation  putting                        all the resources in the same container on the same                            shelf  or in the same email inbox', 'match': 'none'}"
       ]
      },
      {
       "output_type": "stream",
       "stream": "stdout",
       "text": [
        "\n",
        "{'url': 'http://dbpedia.org/resource/Excommunication', 'term': 'excommunication', 'wiki_url': 'http://en.wikipedia.org/wiki/Excommunication', 'match': 'partial'}"
       ]
      },
      {
       "output_type": "stream",
       "stream": "stdout",
       "text": [
        "\n",
        "{'url': 'http://dbpedia.org/resource/CERN', 'term': 'cern', 'wiki_url': 'http://en.wikipedia.org/wiki/CERN', 'match': 'partial'}\n",
        "{'url': 'http://dbpedia.org/resource/Daily_Mirror', 'term': 'daily mirror', 'wiki_url': 'http://en.wikipedia.org/wiki/Daily_Mirror', 'match': 'partial'}"
       ]
      },
      {
       "output_type": "stream",
       "stream": "stdout",
       "text": [
        "\n",
        "{'url': 'http://dbpedia.org/resource/William_Ewart_Gladstone', 'term': 'william ewart gladstone', 'wiki_url': 'http://en.wikipedia.org/wiki/William_Ewart_Gladstone', 'match': 'partial'}\n",
        "{'url': 'http://dbpedia.org/resource/Central_Intelligence_Agency', 'term': 'central intelligence agency', 'wiki_url': 'http://en.wikipedia.org/wiki/Central_Intelligence_Agency', 'match': 'partial'}"
       ]
      },
      {
       "output_type": "stream",
       "stream": "stdout",
       "text": [
        "\n",
        "{'url': 'http://dbpedia.org/resource/Free_agent', 'term': 'free agent', 'wiki_url': 'http://en.wikipedia.org/wiki/Free_agent', 'match': 'partial'}\n",
        "{'url': 'http://dbpedia.org/resource/Radio-frequency_identification', 'term': 'radio-frequency identification', 'wiki_url': 'http://en.wikipedia.org/wiki/Radio-frequency_identification', 'match': 'partial'}"
       ]
      },
      {
       "output_type": "stream",
       "stream": "stdout",
       "text": [
        "\n",
        "{'url': 'http://dbpedia.org/resource/Standardization', 'term': 'standardization', 'wiki_url': 'http://en.wikipedia.org/wiki/Standardization', 'match': 'partial'}\n",
        "{'term': 'an interaction is an action  function  service  or capability that makes use of the resources in a collection                    or the collection as a whole the interaction of access is fundamental in any collection of                    resources but many organizing systems provide additional functions to make access more efficient                    and to support additional interactions with the accessed                    resources for example libraries and similar organizing systems implement                    catalogs to enable interactions for finding a known resource identifying any resource in the                    collection and discriminating or selecting among similar                    resources', 'match': 'none'}"
       ]
      },
      {
       "output_type": "stream",
       "stream": "stdout",
       "text": [
        "\n",
        "{'url': 'http://dbpedia.org/resource/Daily_Mirror', 'term': 'daily mirror', 'wiki_url': 'http://en.wikipedia.org/wiki/Daily_Mirror', 'match': 'partial'}"
       ]
      },
      {
       "output_type": "stream",
       "stream": "stdout",
       "text": [
        "\n",
        "{'url': 'http://dbpedia.org/resource/William_Ewart_Gladstone', 'term': 'william ewart gladstone', 'wiki_url': 'http://en.wikipedia.org/wiki/William_Ewart_Gladstone', 'match': 'partial'}\n",
        "{'term': 'the original order of the                    resources in an archive embodies the implicit or explicit organizing system of                    the person or entity that created the documents and it is treated as an                    essential part of the meaning of the collection as a result the unit of                    organization for archival collections is the fonds  the                    original arrangement or grouping preserving any hierarchy of boxes  folders  envelopes  and individual documents  and thus they are not                    reorganized according to other perhaps more systematic                    classifications', 'match': 'none'}"
       ]
      },
      {
       "output_type": "stream",
       "stream": "stdout",
       "text": [
        "\n",
        "{'url': 'http://dbpedia.org/resource/Curator', 'term': 'curator', 'wiki_url': 'http://en.wikipedia.org/wiki/Curator', 'match': 'partial'}"
       ]
      },
      {
       "output_type": "stream",
       "stream": "stdout",
       "text": [
        "\n",
        "{'url': 'http://dbpedia.org/resource/Collection_catalog', 'term': 'collection catalog', 'wiki_url': 'http://en.wikipedia.org/wiki/Collection_catalog', 'match': 'partial'}\n",
        "{'url': 'http://dbpedia.org/resource/Fortunately,_Unfortunately', 'term': 'fortunately, unfortunately', 'wiki_url': 'http://en.wikipedia.org/wiki/Fortunately,_Unfortunately', 'match': 'partial'}"
       ]
      },
      {
       "output_type": "stream",
       "stream": "stdout",
       "text": [
        "\n",
        "{'url': 'http://dbpedia.org/resource/Taxonomy', 'term': 'taxonomy', 'wiki_url': 'http://en.wikipedia.org/wiki/Taxonomy', 'match': 'partial'}"
       ]
      },
      {
       "output_type": "stream",
       "stream": "stdout",
       "text": [
        "\n",
        "{'url': 'http://dbpedia.org/resource/K\\xc3\\xb6ppen_climate_classification', 'term': 'k\\xc3\\xb6ppen climate classification', 'wiki_url': None, 'match': 'partial'}\n",
        "{'url': 'http://dbpedia.org/resource/Paleo-Indians', 'term': 'paleo-indians', 'wiki_url': 'http://en.wikipedia.org/wiki/Paleo-Indians', 'match': 'partial'}"
       ]
      },
      {
       "output_type": "stream",
       "stream": "stdout",
       "text": [
        "\n",
        "{'url': 'http://dbpedia.org/resource/Cohabitation', 'term': 'cohabitation', 'wiki_url': 'http://en.wikipedia.org/wiki/Cohabitation', 'match': 'partial'}\n",
        "{'url': 'http://dbpedia.org/resource/DVD', 'term': 'dvd', 'wiki_url': 'http://en.wikipedia.org/wiki/DVD', 'match': 'good-partial'}"
       ]
      },
      {
       "output_type": "stream",
       "stream": "stdout",
       "text": [
        "\n",
        "{'url': 'http://dbpedia.org/resource/Information_technology', 'term': 'information technology', 'wiki_url': 'http://en.wikipedia.org/wiki/Information_technology', 'match': 'partial'}"
       ]
      },
      {
       "output_type": "stream",
       "stream": "stdout",
       "text": [
        "\n",
        "{'url': 'http://dbpedia.org/resource/Statistics', 'term': 'statistics', 'wiki_url': 'http://en.wikipedia.org/wiki/Statistics', 'match': 'partial'}\n",
        "{'url': 'http://dbpedia.org/resource/Extended_play', 'term': 'extended play', 'wiki_url': 'http://en.wikipedia.org/wiki/Extended_play', 'match': 'partial'}"
       ]
      },
      {
       "output_type": "stream",
       "stream": "stdout",
       "text": [
        "\n",
        "{'url': 'http://dbpedia.org/resource/Computer', 'term': 'computer', 'wiki_url': 'http://en.wikipedia.org/wiki/Computer', 'match': 'partial'}\n",
        "{'url': 'http://dbpedia.org/resource/Cultural_heritage', 'term': 'cultural heritage', 'wiki_url': 'http://en.wikipedia.org/wiki/Cultural_heritage', 'match': 'partial'}"
       ]
      },
      {
       "output_type": "stream",
       "stream": "stdout",
       "text": [
        "\n",
        "{'url': 'http://dbpedia.org/resource/Structural_engineering', 'term': 'structural engineering', 'wiki_url': 'http://en.wikipedia.org/wiki/Structural_engineering', 'match': 'partial'}\n",
        "{'url': 'http://dbpedia.org/resource/Secretary', 'term': 'secretary', 'wiki_url': 'http://en.wikipedia.org/wiki/Secretary', 'match': 'partial'}"
       ]
      },
      {
       "output_type": "stream",
       "stream": "stdout",
       "text": [
        "\n",
        "{'url': 'http://dbpedia.org/resource/1994_Winter_Olympics', 'term': '1994 winter olympics', 'wiki_url': 'http://en.wikipedia.org/wiki/1994_Winter_Olympics', 'match': 'partial'}\n",
        "{'url': 'http://dbpedia.org/resource/Pseudonym', 'term': 'pseudonym', 'wiki_url': 'http://en.wikipedia.org/wiki/Pseudonym', 'match': 'partial'}"
       ]
      },
      {
       "output_type": "stream",
       "stream": "stdout",
       "text": [
        "\n",
        "{'url': 'http://dbpedia.org/resource/Advisory_Committee_on_Antarctic_Names', 'term': 'advisory committee on antarctic names', 'wiki_url': 'http://en.wikipedia.org/wiki/Advisory_Committee_on_Antarctic_Names', 'match': 'partial'}\n",
        "{'url': 'http://dbpedia.org/resource/Information_technology', 'term': 'information technology', 'wiki_url': 'http://en.wikipedia.org/wiki/Information_technology', 'match': 'partial'}"
       ]
      },
      {
       "output_type": "stream",
       "stream": "stdout",
       "text": [
        "\n",
        "{'url': 'http://dbpedia.org/resource/Statistics', 'term': 'statistics', 'wiki_url': 'http://en.wikipedia.org/wiki/Statistics', 'match': 'partial'}\n",
        "{'url': 'http://dbpedia.org/resource/Magazine', 'term': 'magazine', 'wiki_url': 'http://en.wikipedia.org/wiki/Magazine', 'match': 'partial'}"
       ]
      },
      {
       "output_type": "stream",
       "stream": "stdout",
       "text": [
        "\n",
        "{'url': 'http://dbpedia.org/resource/Literary_magazine', 'term': 'literary magazine', 'wiki_url': 'http://en.wikipedia.org/wiki/Literary_magazine', 'match': 'partial'}\n",
        "{'url': 'http://dbpedia.org/resource/Presenter', 'term': 'presenter', 'wiki_url': 'http://en.wikipedia.org/wiki/Presenter', 'match': 'good-partial'}"
       ]
      },
      {
       "output_type": "stream",
       "stream": "stdout",
       "text": [
        "\n",
        "{'url': 'http://dbpedia.org/resource/Type_(biology)', 'term': 'type (biology)', 'wiki_url': 'http://en.wikipedia.org/wiki/Type_(biology)', 'match': 'partial'}"
       ]
      },
      {
       "output_type": "stream",
       "stream": "stdout",
       "text": [
        "\n",
        "{'url': 'http://dbpedia.org/resource/Binomial_nomenclature', 'term': 'binomial nomenclature', 'wiki_url': 'http://en.wikipedia.org/wiki/Binomial_nomenclature', 'match': 'partial'}\n",
        "{'url': 'http://dbpedia.org/resource/Museum', 'term': 'museum', 'wiki_url': 'http://en.wikipedia.org/wiki/Museum', 'match': 'partial'}"
       ]
      },
      {
       "output_type": "stream",
       "stream": "stdout",
       "text": [
        "\n",
        "{'url': 'http://dbpedia.org/resource/British_Museum', 'term': 'british museum', 'wiki_url': 'http://en.wikipedia.org/wiki/British_Museum', 'match': 'partial'}\n",
        "{'term': 'humancomputer interaction', 'match': 'none'}"
       ]
      },
      {
       "output_type": "stream",
       "stream": "stdout",
       "text": [
        "\n",
        "{'term': 'hardtodefine terms', 'match': 'none'}"
       ]
      },
      {
       "output_type": "stream",
       "stream": "stdout",
       "text": [
        "\n",
        "{'url': 'http://dbpedia.org/resource/Model_(person)', 'term': 'model (person)', 'wiki_url': 'http://en.wikipedia.org/wiki/Model_(person)', 'match': 'partial'}"
       ]
      },
      {
       "output_type": "stream",
       "stream": "stdout",
       "text": [
        "\n",
        "{'url': 'http://dbpedia.org/resource/Photography', 'term': 'photography', 'wiki_url': 'http://en.wikipedia.org/wiki/Photography', 'match': 'partial'}\n",
        "{'url': 'http://dbpedia.org/resource/Local_Government_Areas_of_Nigeria', 'term': 'local government areas of nigeria', 'wiki_url': None, 'match': 'partial'}"
       ]
      },
      {
       "output_type": "stream",
       "stream": "stdout",
       "text": [
        "\n",
        "{'url': 'http://dbpedia.org/resource/Self-determination', 'term': 'self-determination', 'wiki_url': 'http://en.wikipedia.org/wiki/Self-determination', 'match': 'partial'}\n",
        "{'url': 'http://dbpedia.org/resource/Secretary', 'term': 'secretary', 'wiki_url': 'http://en.wikipedia.org/wiki/Secretary', 'match': 'partial'}"
       ]
      },
      {
       "output_type": "stream",
       "stream": "stdout",
       "text": [
        "\n",
        "{'url': 'http://dbpedia.org/resource/1994_Winter_Olympics', 'term': '1994 winter olympics', 'wiki_url': 'http://en.wikipedia.org/wiki/1994_Winter_Olympics', 'match': 'partial'}\n",
        "{'url': 'http://dbpedia.org/resource/Sound_recording_and_reproduction', 'term': 'sound recording and reproduction', 'wiki_url': 'http://en.wikipedia.org/wiki/Sound_recording_and_reproduction', 'match': 'partial'}"
       ]
      },
      {
       "output_type": "stream",
       "stream": "stdout",
       "text": [
        "\n",
        "{'url': 'http://dbpedia.org/resource/Hard_disk_drive', 'term': 'hard disk drive', 'wiki_url': 'http://en.wikipedia.org/wiki/Hard_disk_drive', 'match': 'partial'}\n",
        "{'url': 'http://dbpedia.org/resource/History', 'term': 'history', 'wiki_url': 'http://en.wikipedia.org/wiki/History', 'match': 'partial'}"
       ]
      },
      {
       "output_type": "stream",
       "stream": "stdout",
       "text": [
        "\n",
        "{'url': 'http://dbpedia.org/resource/Columbia_Records', 'term': 'columbia records', 'wiki_url': 'http://en.wikipedia.org/wiki/Columbia_Records', 'match': 'partial'}\n",
        "{'url': 'http://dbpedia.org/resource/Library', 'term': 'library', 'wiki_url': 'http://en.wikipedia.org/wiki/Library', 'match': 'partial'}"
       ]
      },
      {
       "output_type": "stream",
       "stream": "stdout",
       "text": [
        "\n",
        "{'url': 'http://dbpedia.org/resource/Library_of_Congress', 'term': 'library of congress', 'wiki_url': 'http://en.wikipedia.org/wiki/Library_of_Congress', 'match': 'partial'}\n",
        "{'url': 'http://dbpedia.org/resource/Clothing', 'term': 'clothing', 'wiki_url': 'http://en.wikipedia.org/wiki/Clothing', 'match': 'good-partial'}"
       ]
      },
      {
       "output_type": "stream",
       "stream": "stdout",
       "text": [
        "\n",
        "{'url': 'http://dbpedia.org/resource/Public_domain', 'term': 'public domain', 'wiki_url': 'http://en.wikipedia.org/wiki/Public_domain', 'match': 'partial'}"
       ]
      },
      {
       "output_type": "stream",
       "stream": "stdout",
       "text": [
        "\n",
        "{'url': 'http://dbpedia.org/resource/Contributing_property', 'term': 'contributing property', 'wiki_url': 'http://en.wikipedia.org/wiki/Contributing_property', 'match': 'partial'}\n",
        "{'url': 'http://dbpedia.org/resource/LP_record', 'term': 'lp record', 'wiki_url': 'http://en.wikipedia.org/wiki/LP_record', 'match': 'partial'}"
       ]
      },
      {
       "output_type": "stream",
       "stream": "stdout",
       "text": [
        "\n",
        "{'url': 'http://dbpedia.org/resource/Music_download', 'term': 'music download', 'wiki_url': 'http://en.wikipedia.org/wiki/Music_download', 'match': 'partial'}\n",
        "{'url': 'http://dbpedia.org/resource/Design', 'term': 'design', 'wiki_url': 'http://en.wikipedia.org/wiki/Design', 'match': 'partial'}"
       ]
      },
      {
       "output_type": "stream",
       "stream": "stdout",
       "text": [
        "\n",
        "{'url': 'http://dbpedia.org/resource/Fashion_design', 'term': 'fashion design', 'wiki_url': 'http://en.wikipedia.org/wiki/Fashion_design', 'match': 'partial'}\n",
        "{'url': 'http://dbpedia.org/resource/Database', 'term': 'database', 'wiki_url': 'http://en.wikipedia.org/wiki/Database', 'match': 'partial'}"
       ]
      },
      {
       "output_type": "stream",
       "stream": "stdout",
       "text": [
        "\n",
        "{'url': 'http://dbpedia.org/resource/SQL', 'term': 'sql', 'wiki_url': 'http://en.wikipedia.org/wiki/SQL', 'match': 'partial'}\n",
        "{'url': 'http://dbpedia.org/resource/Cogeneration', 'term': 'cogeneration', 'wiki_url': 'http://en.wikipedia.org/wiki/Cogeneration', 'match': 'partial'}"
       ]
      },
      {
       "output_type": "stream",
       "stream": "stdout",
       "text": [
        "\n",
        "{'url': 'http://dbpedia.org/resource/Isometric_graphics_in_video_games_and_pixel_art', 'term': 'isometric graphics in video games and pixel art', 'wiki_url': 'http://en.wikipedia.org/wiki/Isometric_graphics_in_video_games_and_pixel_art', 'match': 'partial'}\n",
        "{'url': 'http://dbpedia.org/resource/PH', 'term': 'ph', 'wiki_url': 'http://en.wikipedia.org/wiki/PH', 'match': 'partial'}"
       ]
      },
      {
       "output_type": "stream",
       "stream": "stdout",
       "text": [
        "\n",
        "{'url': 'http://dbpedia.org/resource/Random_House', 'term': 'random house', 'wiki_url': 'http://en.wikipedia.org/wiki/Random_House', 'match': 'partial'}\n",
        "{'url': 'http://dbpedia.org/resource/International_Union_for_Conservation_of_Nature', 'term': 'international union for conservation of nature', 'wiki_url': 'http://en.wikipedia.org/wiki/International_Union_for_Conservation_of_Nature', 'match': 'partial'}"
       ]
      },
      {
       "output_type": "stream",
       "stream": "stdout",
       "text": [
        "\n",
        "{'url': 'http://dbpedia.org/resource/Nature_reserve', 'term': 'nature reserve', 'wiki_url': 'http://en.wikipedia.org/wiki/Nature_reserve', 'match': 'partial'}\n",
        "{'url': 'http://dbpedia.org/resource/Archive', 'term': 'archive', 'wiki_url': 'http://en.wikipedia.org/wiki/Archive', 'match': 'partial'}"
       ]
      },
      {
       "output_type": "stream",
       "stream": "stdout",
       "text": [
        "\n",
        "{'url': 'http://dbpedia.org/resource/Heritage_Documentation_Programs', 'term': 'heritage documentation programs', 'wiki_url': 'http://en.wikipedia.org/wiki/Heritage_Documentation_Programs', 'match': 'partial'}\n",
        "{'url': 'http://dbpedia.org/resource/Software_development_process', 'term': 'software development process', 'wiki_url': 'http://en.wikipedia.org/wiki/Software_development_process', 'match': 'partial'}"
       ]
      },
      {
       "output_type": "stream",
       "stream": "stdout",
       "text": [
        "\n",
        "{'url': 'http://dbpedia.org/resource/Cooking', 'term': 'cooking', 'wiki_url': 'http://en.wikipedia.org/wiki/Cooking', 'match': 'exact'}"
       ]
      },
      {
       "output_type": "stream",
       "stream": "stdout",
       "text": [
        "\n",
        "{'url': 'http://dbpedia.org/resource/Phoneme', 'term': 'phoneme', 'wiki_url': 'http://en.wikipedia.org/wiki/Phoneme', 'match': 'partial'}"
       ]
      },
      {
       "output_type": "stream",
       "stream": "stdout",
       "text": [
        "\n",
        "{'url': 'http://dbpedia.org/resource/Allergy', 'term': 'allergy', 'wiki_url': 'http://en.wikipedia.org/wiki/Allergy', 'match': 'partial'}\n",
        "{'url': 'http://dbpedia.org/resource/Lowell_Observatory_Near-Earth-Object_Search', 'term': 'lowell observatory near-earth-object search', 'wiki_url': 'http://en.wikipedia.org/wiki/Lowell_Observatory_Near-Earth-Object_Search', 'match': 'partial'}"
       ]
      },
      {
       "output_type": "stream",
       "stream": "stdout",
       "text": [
        "\n",
        "{'url': 'http://dbpedia.org/resource/AOL', 'term': 'aol', 'wiki_url': 'http://en.wikipedia.org/wiki/AOL', 'match': 'partial'}\n",
        "{'url': 'http://dbpedia.org/resource/Montreal_Canadiens', 'term': 'montreal canadiens', 'wiki_url': 'http://en.wikipedia.org/wiki/Montreal_Canadiens', 'match': 'partial'}"
       ]
      },
      {
       "output_type": "stream",
       "stream": "stdout",
       "text": [
        "\n",
        "{'url': 'http://dbpedia.org/resource/Social_Democratic_Party_of_Switzerland', 'term': 'social democratic party of switzerland', 'wiki_url': 'http://en.wikipedia.org/wiki/Social_Democratic_Party_of_Switzerland', 'match': 'partial'}\n",
        "{'url': 'http://dbpedia.org/resource/Metadata', 'term': 'metadata', 'wiki_url': 'http://en.wikipedia.org/wiki/Metadata', 'match': 'exact'}"
       ]
      },
      {
       "output_type": "stream",
       "stream": "stdout",
       "text": [
        "\n",
        "{'url': 'http://dbpedia.org/resource/Texture_mapping', 'term': 'texture mapping', 'wiki_url': 'http://en.wikipedia.org/wiki/Texture_mapping', 'match': 'partial'}"
       ]
      },
      {
       "output_type": "stream",
       "stream": "stdout",
       "text": [
        "\n",
        "{'url': 'http://dbpedia.org/resource/Century_of_Progress', 'term': 'century of progress', 'wiki_url': 'http://en.wikipedia.org/wiki/Century_of_Progress', 'match': 'partial'}\n",
        "{'url': 'http://dbpedia.org/resource/Interdependence', 'term': 'interdependence', 'wiki_url': 'http://en.wikipedia.org/wiki/Interdependence', 'match': 'good-partial'}"
       ]
      },
      {
       "output_type": "stream",
       "stream": "stdout",
       "text": [
        "\n",
        "{'url': 'http://dbpedia.org/resource/Hundred_(county_subdivision)', 'term': 'hundred (county subdivision)', 'wiki_url': 'http://en.wikipedia.org/wiki/Hundred_(county_subdivision)', 'match': 'partial'}"
       ]
      },
      {
       "output_type": "stream",
       "stream": "stdout",
       "text": [
        "\n",
        "{'url': 'http://dbpedia.org/resource/Century_(cricket)', 'term': 'century (cricket)', 'wiki_url': 'http://en.wikipedia.org/wiki/Century_%28cricket%29', 'match': 'partial'}\n",
        "{'term': 'gillilandswetland ', 'match': 'none'}"
       ]
      },
      {
       "output_type": "stream",
       "stream": "stdout",
       "text": [
        "\n",
        "{'url': 'http://dbpedia.org/resource/Granularity', 'term': 'granularity', 'wiki_url': 'http://en.wikipedia.org/wiki/Granularity', 'match': 'exact'}"
       ]
      },
      {
       "output_type": "stream",
       "stream": "stdout",
       "text": [
        "\n",
        "{'url': 'http://dbpedia.org/resource/International_Union_for_Conservation_of_Nature', 'term': 'international union for conservation of nature', 'wiki_url': 'http://en.wikipedia.org/wiki/International_Union_for_Conservation_of_Nature', 'match': 'partial'}"
       ]
      },
      {
       "output_type": "stream",
       "stream": "stdout",
       "text": [
        "\n",
        "{'url': 'http://dbpedia.org/resource/Renewable_energy', 'term': 'renewable energy', 'wiki_url': 'http://en.wikipedia.org/wiki/Renewable_energy', 'match': 'partial'}\n",
        "{'url': 'http://dbpedia.org/resource/Economics', 'term': 'economics', 'wiki_url': 'http://en.wikipedia.org/wiki/Economics', 'match': 'exact'}"
       ]
      },
      {
       "output_type": "stream",
       "stream": "stdout",
       "text": [
        "\n",
        "{'url': 'http://dbpedia.org/resource/Museum', 'term': 'museum', 'wiki_url': 'http://en.wikipedia.org/wiki/Museum', 'match': 'good-partial'}"
       ]
      },
      {
       "output_type": "stream",
       "stream": "stdout",
       "text": [
        "\n",
        "{'url': 'http://dbpedia.org/resource/20th_Century_Fox', 'term': '20th century fox', 'wiki_url': 'http://en.wikipedia.org/wiki/20th_Century_Fox', 'match': 'partial'}"
       ]
      },
      {
       "output_type": "stream",
       "stream": "stdout",
       "text": [
        "\n",
        "{'url': 'http://dbpedia.org/resource/Real_Madrid_C.F.', 'term': 'real madrid c.f.', 'wiki_url': 'http://en.wikipedia.org/wiki/Real_Madrid_C.F.', 'match': 'partial'}\n",
        "{'url': 'http://dbpedia.org/resource/Secretary', 'term': 'secretary', 'wiki_url': 'http://en.wikipedia.org/wiki/Secretary', 'match': 'partial'}"
       ]
      },
      {
       "output_type": "stream",
       "stream": "stdout",
       "text": [
        "\n",
        "{'url': 'http://dbpedia.org/resource/1994_Winter_Olympics', 'term': '1994 winter olympics', 'wiki_url': 'http://en.wikipedia.org/wiki/1994_Winter_Olympics', 'match': 'partial'}\n",
        "{'url': 'http://dbpedia.org/resource/Motown', 'term': 'motown', 'wiki_url': 'http://en.wikipedia.org/wiki/Motown', 'match': 'partial'}"
       ]
      },
      {
       "output_type": "stream",
       "stream": "stdout",
       "text": [
        "\n",
        "{'url': 'http://dbpedia.org/resource/IUCN_Red_List', 'term': 'iucn red list', 'wiki_url': 'http://en.wikipedia.org/wiki/IUCN_Red_List', 'match': 'partial'}\n",
        "{'url': 'http://dbpedia.org/resource/Environmentalism', 'term': 'environmentalism', 'wiki_url': 'http://en.wikipedia.org/wiki/Environmentalism', 'match': 'partial'}"
       ]
      },
      {
       "output_type": "stream",
       "stream": "stdout",
       "text": [
        "\n",
        "{'url': 'http://dbpedia.org/resource/Consciousness', 'term': 'consciousness', 'wiki_url': 'http://en.wikipedia.org/wiki/Consciousness', 'match': 'partial'}\n",
        "{'url': 'http://dbpedia.org/resource/Springfield_(The_Simpsons)', 'term': 'springfield (the simpsons)', 'wiki_url': 'http://en.wikipedia.org/wiki/Springfield_(The_Simpsons)', 'match': 'partial'}"
       ]
      },
      {
       "output_type": "stream",
       "stream": "stdout",
       "text": [
        "\n",
        "{'url': 'http://dbpedia.org/resource/Professional_wrestling_match_types', 'term': 'professional wrestling match types', 'wiki_url': 'http://en.wikipedia.org/wiki/Professional_wrestling_match_types', 'match': 'partial'}\n",
        "{'url': 'http://dbpedia.org/resource/Database', 'term': 'database', 'wiki_url': 'http://en.wikipedia.org/wiki/Database', 'match': 'partial'}"
       ]
      },
      {
       "output_type": "stream",
       "stream": "stdout",
       "text": [
        "\n",
        "{'url': 'http://dbpedia.org/resource/Supreme_court', 'term': 'supreme court', 'wiki_url': 'http://en.wikipedia.org/wiki/Supreme_court', 'match': 'partial'}\n",
        "{'url': 'http://dbpedia.org/resource/Pula', 'term': 'pula', 'wiki_url': 'http://en.wikipedia.org/wiki/Pula', 'match': 'good-partial'}"
       ]
      },
      {
       "output_type": "stream",
       "stream": "stdout",
       "text": [
        "\n",
        "{'url': 'http://dbpedia.org/resource/Secretary', 'term': 'secretary', 'wiki_url': 'http://en.wikipedia.org/wiki/Secretary', 'match': 'partial'}"
       ]
      },
      {
       "output_type": "stream",
       "stream": "stdout",
       "text": [
        "\n",
        "{'url': 'http://dbpedia.org/resource/1994_Winter_Olympics', 'term': '1994 winter olympics', 'wiki_url': 'http://en.wikipedia.org/wiki/1994_Winter_Olympics', 'match': 'partial'}\n",
        "{'url': 'http://dbpedia.org/resource/Bibliography', 'term': 'bibliography', 'wiki_url': 'http://en.wikipedia.org/wiki/Bibliography', 'match': 'partial'}"
       ]
      },
      {
       "output_type": "stream",
       "stream": "stdout",
       "text": [
        "\n",
        "{'url': 'http://dbpedia.org/resource/Citation', 'term': 'citation', 'wiki_url': 'http://en.wikipedia.org/wiki/Citation', 'match': 'partial'}\n",
        "{'url': 'http://dbpedia.org/resource/AOL', 'term': 'aol', 'wiki_url': 'http://en.wikipedia.org/wiki/AOL', 'match': 'partial'}"
       ]
      },
      {
       "output_type": "stream",
       "stream": "stdout",
       "text": [
        "\n",
        "{'url': 'http://dbpedia.org/resource/Search_engine_optimization', 'term': 'search engine optimization', 'wiki_url': 'http://en.wikipedia.org/wiki/Search_engine_optimization', 'match': 'partial'}\n",
        "{'url': 'http://dbpedia.org/resource/Approval_voting', 'term': 'approval voting', 'wiki_url': 'http://en.wikipedia.org/wiki/Approval_voting', 'match': 'partial'}"
       ]
      },
      {
       "output_type": "stream",
       "stream": "stdout",
       "text": [
        "\n",
        "{'url': 'http://dbpedia.org/resource/List_of_S-phrases', 'term': 'list of s-phrases', 'wiki_url': 'http://en.wikipedia.org/wiki/List_of_S-phrases', 'match': 'partial'}\n",
        "{'url': 'http://dbpedia.org/resource/Concept_car', 'term': 'concept car', 'wiki_url': 'http://en.wikipedia.org/wiki/Concept_car', 'match': 'good-partial'}"
       ]
      },
      {
       "output_type": "stream",
       "stream": "stdout",
       "text": [
        "\n",
        "{'url': 'http://dbpedia.org/resource/Segunda_Divisi\\xc3\\xb3n', 'term': 'segunda divisi\\xc3\\xb3n', 'wiki_url': None, 'match': 'partial'}"
       ]
      },
      {
       "output_type": "stream",
       "stream": "stdout",
       "text": [
        "\n",
        "{'url': 'http://dbpedia.org/resource/Stellar_classification', 'term': 'stellar classification', 'wiki_url': 'http://en.wikipedia.org/wiki/Stellar_classification', 'match': 'partial'}\n",
        "{'url': 'http://dbpedia.org/resource/National_Rugby_League', 'term': 'national rugby league', 'wiki_url': 'http://en.wikipedia.org/wiki/National_Rugby_League', 'match': 'partial'}"
       ]
      },
      {
       "output_type": "stream",
       "stream": "stdout",
       "text": [
        "\n",
        "{'url': 'http://dbpedia.org/resource/Single-elimination_tournament', 'term': 'single-elimination tournament', 'wiki_url': 'http://en.wikipedia.org/wiki/Single-elimination_tournament', 'match': 'partial'}\n",
        "{'url': 'http://dbpedia.org/resource/Pseudonym', 'term': 'pseudonym', 'wiki_url': 'http://en.wikipedia.org/wiki/Pseudonym', 'match': 'partial'}"
       ]
      },
      {
       "output_type": "stream",
       "stream": "stdout",
       "text": [
        "\n",
        "{'url': 'http://dbpedia.org/resource/Advisory_Committee_on_Antarctic_Names', 'term': 'advisory committee on antarctic names', 'wiki_url': 'http://en.wikipedia.org/wiki/Advisory_Committee_on_Antarctic_Names', 'match': 'partial'}\n",
        "{'url': 'http://dbpedia.org/resource/Illegal_drug_trade', 'term': 'illegal drug trade', 'wiki_url': 'http://en.wikipedia.org/wiki/Illegal_drug_trade', 'match': 'partial'}"
       ]
      },
      {
       "output_type": "stream",
       "stream": "stdout",
       "text": [
        "\n",
        "{'url': 'http://dbpedia.org/resource/Video_game_publisher', 'term': 'video game publisher', 'wiki_url': 'http://en.wikipedia.org/wiki/Video_game_publisher', 'match': 'partial'}\n",
        "{'url': 'http://dbpedia.org/resource/Chef', 'term': 'chef', 'wiki_url': 'http://en.wikipedia.org/wiki/Chef', 'match': 'partial'}"
       ]
      },
      {
       "output_type": "stream",
       "stream": "stdout",
       "text": [
        "\n",
        "{'url': 'http://dbpedia.org/resource/KFC', 'term': 'kfc', 'wiki_url': 'http://en.wikipedia.org/wiki/KFC', 'match': 'partial'}\n",
        "{'url': 'http://dbpedia.org/resource/Goldman_Sachs', 'term': 'goldman sachs', 'wiki_url': 'http://en.wikipedia.org/wiki/Goldman_Sachs', 'match': 'partial'}"
       ]
      },
      {
       "output_type": "stream",
       "stream": "stdout",
       "text": [
        "\n",
        "{'url': 'http://dbpedia.org/resource/Cultural_heritage', 'term': 'cultural heritage', 'wiki_url': 'http://en.wikipedia.org/wiki/Cultural_heritage', 'match': 'partial'}\n",
        "{'url': 'http://dbpedia.org/resource/Genesis_creation_narrative', 'term': 'genesis creation narrative', 'wiki_url': 'http://en.wikipedia.org/wiki/Genesis_creation_narrative', 'match': 'partial'}"
       ]
      },
      {
       "output_type": "stream",
       "stream": "stdout",
       "text": [
        "\n",
        "{'url': 'http://dbpedia.org/resource/Eric_Bischoff', 'term': 'eric bischoff', 'wiki_url': 'http://en.wikipedia.org/wiki/Eric_Bischoff', 'match': 'partial'}\n",
        "{'url': 'http://dbpedia.org/resource/Yahoo!', 'term': 'yahoo!', 'wiki_url': 'http://en.wikipedia.org/wiki/Yahoo!', 'match': 'partial'}"
       ]
      },
      {
       "output_type": "stream",
       "stream": "stdout",
       "text": [
        "\n",
        "{'url': 'http://dbpedia.org/resource/Flickr', 'term': 'flickr', 'wiki_url': 'http://en.wikipedia.org/wiki/Flickr', 'match': 'partial'}\n",
        "{'url': 'http://dbpedia.org/resource/Library', 'term': 'library', 'wiki_url': 'http://en.wikipedia.org/wiki/Library', 'match': 'partial'}"
       ]
      },
      {
       "output_type": "stream",
       "stream": "stdout",
       "text": [
        "\n",
        "{'url': 'http://dbpedia.org/resource/Library_of_Congress', 'term': 'library of congress', 'wiki_url': 'http://en.wikipedia.org/wiki/Library_of_Congress', 'match': 'partial'}\n",
        "{'url': 'http://dbpedia.org/resource/Sea_snail', 'term': 'sea snail', 'wiki_url': 'http://en.wikipedia.org/wiki/Sea_snail', 'match': 'partial'}"
       ]
      },
      {
       "output_type": "stream",
       "stream": "stdout",
       "text": [
        "\n",
        "{'url': 'http://dbpedia.org/resource/Mediterranean_Sea', 'term': 'mediterranean sea', 'wiki_url': 'http://en.wikipedia.org/wiki/Mediterranean_Sea', 'match': 'partial'}\n",
        "{'term': 'it', 'match': 'none'}"
       ]
      },
      {
       "output_type": "stream",
       "stream": "stdout",
       "text": [
        "\n",
        "{'url': 'http://dbpedia.org/resource/Retaining_wall', 'term': 'retaining wall', 'wiki_url': 'http://en.wikipedia.org/wiki/Retaining_wall', 'match': 'partial'}"
       ]
      },
      {
       "output_type": "stream",
       "stream": "stdout",
       "text": [
        "\n",
        "{'url': 'http://dbpedia.org/resource/Separatism', 'term': 'separatism', 'wiki_url': 'http://en.wikipedia.org/wiki/Separatism', 'match': 'good-partial'}"
       ]
      },
      {
       "output_type": "stream",
       "stream": "stdout",
       "text": [
        "\n",
        "{'url': 'http://dbpedia.org/resource/Katyn_massacre', 'term': 'katyn massacre', 'wiki_url': 'http://en.wikipedia.org/wiki/Katyn_massacre', 'match': 'partial'}"
       ]
      },
      {
       "output_type": "stream",
       "stream": "stdout",
       "text": [
        "\n",
        "{'url': 'http://dbpedia.org/resource/Indonesian_National_Revolution', 'term': 'indonesian national revolution', 'wiki_url': 'http://en.wikipedia.org/wiki/Indonesian_National_Revolution', 'match': 'partial'}\n",
        "{'url': 'http://dbpedia.org/resource/Walmart', 'term': 'walmart', 'wiki_url': 'http://en.wikipedia.org/wiki/Walmart', 'match': 'partial'}"
       ]
      },
      {
       "output_type": "stream",
       "stream": "stdout",
       "text": [
        "\n",
        "{'url': 'http://dbpedia.org/resource/Retail', 'term': 'retail', 'wiki_url': 'http://en.wikipedia.org/wiki/Retail', 'match': 'partial'}\n",
        "{'url': 'http://dbpedia.org/resource/Sports_commentator', 'term': 'sports commentator', 'wiki_url': 'http://en.wikipedia.org/wiki/Sports_commentator', 'match': 'partial'}"
       ]
      },
      {
       "output_type": "stream",
       "stream": "stdout",
       "text": [
        "\n",
        "{'url': 'http://dbpedia.org/resource/Random_House', 'term': 'random house', 'wiki_url': 'http://en.wikipedia.org/wiki/Random_House', 'match': 'partial'}\n",
        "{'url': 'http://dbpedia.org/resource/Home_page', 'term': 'home page', 'wiki_url': 'http://en.wikipedia.org/wiki/Home_page', 'match': 'good-partial'}"
       ]
      },
      {
       "output_type": "stream",
       "stream": "stdout",
       "text": [
        "\n",
        "{'url': 'http://dbpedia.org/resource/Fender_Stratocaster', 'term': 'fender stratocaster', 'wiki_url': 'http://en.wikipedia.org/wiki/Fender_Stratocaster', 'match': 'partial'}"
       ]
      },
      {
       "output_type": "stream",
       "stream": "stdout",
       "text": [
        "\n",
        "{'url': 'http://dbpedia.org/resource/Basque_Country_(greater_region)', 'term': 'basque country (greater region)', 'wiki_url': 'http://en.wikipedia.org/wiki/Basque_Country_(greater_region)', 'match': 'partial'}\n",
        "{'url': 'http://dbpedia.org/resource/Ottoman_Empire', 'term': 'ottoman empire', 'wiki_url': 'http://en.wikipedia.org/wiki/Ottoman_Empire', 'match': 'partial'}"
       ]
      },
      {
       "output_type": "stream",
       "stream": "stdout",
       "text": [
        "\n",
        "{'url': 'http://dbpedia.org/resource/Nazi_Germany', 'term': 'nazi germany', 'wiki_url': 'http://en.wikipedia.org/wiki/Nazi_Germany', 'match': 'partial'}\n",
        "{'url': 'http://dbpedia.org/resource/Transparency_and_translucency', 'term': 'transparency and translucency', 'wiki_url': 'http://en.wikipedia.org/wiki/Transparency_and_translucency', 'match': 'partial'}"
       ]
      },
      {
       "output_type": "stream",
       "stream": "stdout",
       "text": [
        "\n",
        "{'url': 'http://dbpedia.org/resource/Glasnost', 'term': 'glasnost', 'wiki_url': 'http://en.wikipedia.org/wiki/Glasnost', 'match': 'partial'}\n",
        "{'url': \"http://dbpedia.org/resource/Occam's_razor\", 'term': \"occam's razor\", 'wiki_url': 'http://en.wikipedia.org/wiki/Occam%27s_razor', 'match': 'partial'}"
       ]
      },
      {
       "output_type": "stream",
       "stream": "stdout",
       "text": [
        "\n",
        "{'url': 'http://dbpedia.org/resource/Dependent_and_independent_variables', 'term': 'dependent and independent variables', 'wiki_url': 'http://en.wikipedia.org/wiki/Dependent_and_independent_variables', 'match': 'partial'}\n",
        "{'url': 'http://dbpedia.org/resource/Sidebar', 'term': 'sidebar', 'wiki_url': 'http://en.wikipedia.org/wiki/Sidebar', 'match': 'good-partial'}"
       ]
      },
      {
       "output_type": "stream",
       "stream": "stdout",
       "text": [
        "\n",
        "{'url': 'http://dbpedia.org/resource/Database', 'term': 'database', 'wiki_url': 'http://en.wikipedia.org/wiki/Database', 'match': 'partial'}"
       ]
      },
      {
       "output_type": "stream",
       "stream": "stdout",
       "text": [
        "\n",
        "{'url': 'http://dbpedia.org/resource/SQL', 'term': 'sql', 'wiki_url': 'http://en.wikipedia.org/wiki/SQL', 'match': 'partial'}\n",
        "{'term': 'in contrast computer science', 'match': 'none'}"
       ]
      },
      {
       "output_type": "stream",
       "stream": "stdout",
       "text": [
        "\n",
        "{'url': 'http://dbpedia.org/resource/Architecture', 'term': 'architecture', 'wiki_url': 'http://en.wikipedia.org/wiki/Architecture', 'match': 'partial'}"
       ]
      },
      {
       "output_type": "stream",
       "stream": "stdout",
       "text": [
        "\n",
        "{'url': 'http://dbpedia.org/resource/Gothic_architecture', 'term': 'gothic architecture', 'wiki_url': 'http://en.wikipedia.org/wiki/Gothic_architecture', 'match': 'partial'}\n",
        "{'url': 'http://dbpedia.org/resource/Implementation', 'term': 'implementation', 'wiki_url': 'http://en.wikipedia.org/wiki/Implementation', 'match': 'good-partial'}"
       ]
      },
      {
       "output_type": "stream",
       "stream": "stdout",
       "text": [
        "\n",
        "{'url': 'http://dbpedia.org/resource/United_States', 'term': 'united states', 'wiki_url': None, 'match': 'partial'}"
       ]
      },
      {
       "output_type": "stream",
       "stream": "stdout",
       "text": [
        "\n",
        "{'url': 'http://dbpedia.org/resource/United_States_Census_Bureau', 'term': 'united states census bureau', 'wiki_url': 'http://en.wikipedia.org/wiki/United_States_Census_Bureau', 'match': 'partial'}\n",
        "{'url': 'http://dbpedia.org/resource/Sexual_dimorphism', 'term': 'sexual dimorphism', 'wiki_url': 'http://en.wikipedia.org/wiki/Sexual_dimorphism', 'match': 'partial'}"
       ]
      },
      {
       "output_type": "stream",
       "stream": "stdout",
       "text": [
        "\n",
        "{'url': 'http://dbpedia.org/resource/Avengers_(comics)', 'term': 'avengers (comics)', 'wiki_url': 'http://en.wikipedia.org/wiki/Avengers_(comics)', 'match': 'partial'}\n",
        "{'url': 'http://dbpedia.org/resource/Insurance', 'term': 'insurance', 'wiki_url': 'http://en.wikipedia.org/wiki/Insurance', 'match': 'partial'}"
       ]
      },
      {
       "output_type": "stream",
       "stream": "stdout",
       "text": [
        "\n",
        "{'url': 'http://dbpedia.org/resource/Scottish_League_Cup', 'term': 'scottish league cup', 'wiki_url': 'http://en.wikipedia.org/wiki/Scottish_League_Cup', 'match': 'partial'}\n",
        "{'url': 'http://dbpedia.org/resource/Indigenous_peoples_of_the_Americas', 'term': 'indigenous peoples of the americas', 'wiki_url': 'http://en.wikipedia.org/wiki/Indigenous_peoples_of_the_Americas', 'match': 'partial'}"
       ]
      },
      {
       "output_type": "stream",
       "stream": "stdout",
       "text": [
        "\n",
        "{'url': 'http://dbpedia.org/resource/Hip_hop', 'term': 'hip hop', 'wiki_url': 'http://en.wikipedia.org/wiki/Hip_hop', 'match': 'partial'}\n",
        "{'url': 'http://dbpedia.org/resource/Subset', 'term': 'subset', 'wiki_url': 'http://en.wikipedia.org/wiki/Subset', 'match': 'partial'}"
       ]
      },
      {
       "output_type": "stream",
       "stream": "stdout",
       "text": [
        "\n",
        "{'url': 'http://dbpedia.org/resource/Social', 'term': 'social', 'wiki_url': 'http://en.wikipedia.org/wiki/Social', 'match': 'partial'}\n",
        "{'url': 'http://dbpedia.org/resource/Music_video', 'term': 'music video', 'wiki_url': 'http://en.wikipedia.org/wiki/Music_video', 'match': 'partial'}"
       ]
      },
      {
       "output_type": "stream",
       "stream": "stdout",
       "text": [
        "\n",
        "{'url': 'http://dbpedia.org/resource/VHS', 'term': 'vhs', 'wiki_url': 'http://en.wikipedia.org/wiki/VHS', 'match': 'partial'}\n",
        "{'url': 'http://dbpedia.org/resource/Swiss_Inventory_of_Cultural_Property_of_National_and_Regional_Significance', 'term': 'swiss inventory of cultural property of national and regional significance', 'wiki_url': 'http://en.wikipedia.org/wiki/Swiss_Inventory_of_Cultural_Property_of_National_and_Regional_Significance', 'match': 'partial'}"
       ]
      },
      {
       "output_type": "stream",
       "stream": "stdout",
       "text": [
        "\n",
        "{'url': 'http://dbpedia.org/resource/Roman_mythology', 'term': 'roman mythology', 'wiki_url': 'http://en.wikipedia.org/wiki/Roman_mythology', 'match': 'partial'}\n",
        "{'url': 'http://dbpedia.org/resource/Biological_classification', 'term': 'biological classification', 'wiki_url': 'http://en.wikipedia.org/wiki/Biological_classification', 'match': 'partial'}"
       ]
      },
      {
       "output_type": "stream",
       "stream": "stdout",
       "text": [
        "\n",
        "{'url': 'http://dbpedia.org/resource/Classified_information', 'term': 'classified information', 'wiki_url': 'http://en.wikipedia.org/wiki/Classified_information', 'match': 'partial'}\n",
        "{'url': 'http://dbpedia.org/resource/Biological_classification', 'term': 'biological classification', 'wiki_url': 'http://en.wikipedia.org/wiki/Biological_classification', 'match': 'partial'}"
       ]
      },
      {
       "output_type": "stream",
       "stream": "stdout",
       "text": [
        "\n",
        "{'url': 'http://dbpedia.org/resource/Classified_information', 'term': 'classified information', 'wiki_url': 'http://en.wikipedia.org/wiki/Classified_information', 'match': 'partial'}\n",
        "{'url': 'http://dbpedia.org/resource/Type_(biology)', 'term': 'type (biology)', 'wiki_url': 'http://en.wikipedia.org/wiki/Type_(biology)', 'match': 'partial'}"
       ]
      },
      {
       "output_type": "stream",
       "stream": "stdout",
       "text": [
        "\n",
        "{'url': 'http://dbpedia.org/resource/Binomial_nomenclature', 'term': 'binomial nomenclature', 'wiki_url': 'http://en.wikipedia.org/wiki/Binomial_nomenclature', 'match': 'partial'}\n",
        "{'url': 'http://dbpedia.org/resource/Society_of_Jesus', 'term': 'society of jesus', 'wiki_url': 'http://en.wikipedia.org/wiki/Society_of_Jesus', 'match': 'partial'}"
       ]
      },
      {
       "output_type": "stream",
       "stream": "stdout",
       "text": [
        "\n",
        "{'url': 'http://dbpedia.org/resource/Victorian_era', 'term': 'victorian era', 'wiki_url': 'http://en.wikipedia.org/wiki/Victorian_era', 'match': 'partial'}\n",
        "{'url': 'http://dbpedia.org/resource/Extended_play', 'term': 'extended play', 'wiki_url': 'http://en.wikipedia.org/wiki/Extended_play', 'match': 'partial'}"
       ]
      },
      {
       "output_type": "stream",
       "stream": "stdout",
       "text": [
        "\n",
        "{'url': 'http://dbpedia.org/resource/Computer', 'term': 'computer', 'wiki_url': 'http://en.wikipedia.org/wiki/Computer', 'match': 'partial'}\n",
        "{'url': 'http://dbpedia.org/resource/Law', 'term': 'law', 'wiki_url': 'http://en.wikipedia.org/wiki/Law', 'match': 'exact'}"
       ]
      },
      {
       "output_type": "stream",
       "stream": "stdout",
       "text": [
        "\n",
        "{'url': 'http://dbpedia.org/resource/Secretary', 'term': 'secretary', 'wiki_url': 'http://en.wikipedia.org/wiki/Secretary', 'match': 'partial'}"
       ]
      },
      {
       "output_type": "stream",
       "stream": "stdout",
       "text": [
        "\n",
        "{'url': 'http://dbpedia.org/resource/1994_Winter_Olympics', 'term': '1994 winter olympics', 'wiki_url': 'http://en.wikipedia.org/wiki/1994_Winter_Olympics', 'match': 'partial'}\n",
        "{'url': 'http://dbpedia.org/resource/Software', 'term': 'software', 'wiki_url': 'http://en.wikipedia.org/wiki/Software', 'match': 'partial'}"
       ]
      },
      {
       "output_type": "stream",
       "stream": "stdout",
       "text": [
        "\n",
        "{'url': 'http://dbpedia.org/resource/Open_source', 'term': 'open source', 'wiki_url': 'http://en.wikipedia.org/wiki/Open_source', 'match': 'partial'}\n",
        "{'url': 'http://dbpedia.org/resource/MP3', 'term': 'mp3', 'wiki_url': 'http://en.wikipedia.org/wiki/MP3', 'match': 'good-partial'}"
       ]
      },
      {
       "output_type": "stream",
       "stream": "stdout",
       "text": [
        "\n",
        "{'url': 'http://dbpedia.org/resource/Castle', 'term': 'castle', 'wiki_url': 'http://en.wikipedia.org/wiki/Castle', 'match': 'exact'}"
       ]
      },
      {
       "output_type": "stream",
       "stream": "stdout",
       "text": [
        "\n",
        "{'url': 'http://dbpedia.org/resource/Sexual_intercourse', 'term': 'sexual intercourse', 'wiki_url': 'http://en.wikipedia.org/wiki/Sexual_intercourse', 'match': 'partial'}"
       ]
      },
      {
       "output_type": "stream",
       "stream": "stdout",
       "text": [
        "\n",
        "{'url': 'http://dbpedia.org/resource/American_Film_Institute', 'term': 'american film institute', 'wiki_url': 'http://en.wikipedia.org/wiki/American_Film_Institute', 'match': 'partial'}\n",
        "{'url': 'http://dbpedia.org/resource/Queen_Anne_style_architecture', 'term': 'queen anne style architecture', 'wiki_url': 'http://en.wikipedia.org/wiki/Queen_Anne_style_architecture', 'match': 'partial'}"
       ]
      },
      {
       "output_type": "stream",
       "stream": "stdout",
       "text": [
        "\n",
        "{'url': 'http://dbpedia.org/resource/Anne,_Queen_of_Great_Britain', 'term': 'anne, queen of great britain', 'wiki_url': 'http://en.wikipedia.org/wiki/Anne,_Queen_of_Great_Britain', 'match': 'partial'}\n",
        "{'url': 'http://dbpedia.org/resource/Algorithm', 'term': 'algorithm', 'wiki_url': 'http://en.wikipedia.org/wiki/Algorithm', 'match': 'good-partial'}"
       ]
      },
      {
       "output_type": "stream",
       "stream": "stdout",
       "text": [
        "\n",
        "{'url': 'http://dbpedia.org/resource/Windows_Desktop_Gadgets', 'term': 'windows desktop gadgets', 'wiki_url': 'http://en.wikipedia.org/wiki/Windows_Desktop_Gadgets', 'match': 'partial'}"
       ]
      },
      {
       "output_type": "stream",
       "stream": "stdout",
       "text": [
        "\n",
        "{'url': 'http://dbpedia.org/resource/Microsoft_Gadgets', 'term': 'microsoft gadgets', 'wiki_url': 'http://en.wikipedia.org/wiki/Microsoft_Gadgets', 'match': 'partial'}\n",
        "{'url': 'http://dbpedia.org/resource/Fourth_wall', 'term': 'fourth wall', 'wiki_url': 'http://en.wikipedia.org/wiki/Fourth_wall', 'match': 'partial'}"
       ]
      },
      {
       "output_type": "stream",
       "stream": "stdout",
       "text": [
        "\n",
        "{'url': 'http://dbpedia.org/resource/Wine', 'term': 'wine', 'wiki_url': 'http://en.wikipedia.org/wiki/Wine', 'match': 'exact'}"
       ]
      },
      {
       "output_type": "stream",
       "stream": "stdout",
       "text": [
        "\n",
        "{'url': 'http://dbpedia.org/resource/Gulf_War', 'term': 'gulf war', 'wiki_url': 'http://en.wikipedia.org/wiki/Gulf_War', 'match': 'partial'}"
       ]
      },
      {
       "output_type": "stream",
       "stream": "stdout",
       "text": [
        "\n",
        "{'url': 'http://dbpedia.org/resource/Persian_Gulf', 'term': 'persian gulf', 'wiki_url': 'http://en.wikipedia.org/wiki/Persian_Gulf', 'match': 'partial'}\n",
        "{'url': 'http://dbpedia.org/resource/Database', 'term': 'database', 'wiki_url': 'http://en.wikipedia.org/wiki/Database', 'match': 'partial'}"
       ]
      },
      {
       "output_type": "stream",
       "stream": "stdout",
       "text": [
        "\n",
        "{'url': 'http://dbpedia.org/resource/SQL', 'term': 'sql', 'wiki_url': 'http://en.wikipedia.org/wiki/SQL', 'match': 'partial'}\n",
        "{'url': 'http://dbpedia.org/resource/Secretary', 'term': 'secretary', 'wiki_url': 'http://en.wikipedia.org/wiki/Secretary', 'match': 'partial'}"
       ]
      },
      {
       "output_type": "stream",
       "stream": "stdout",
       "text": [
        "\n",
        "{'url': 'http://dbpedia.org/resource/1994_Winter_Olympics', 'term': '1994 winter olympics', 'wiki_url': 'http://en.wikipedia.org/wiki/1994_Winter_Olympics', 'match': 'partial'}\n",
        "{'url': 'http://dbpedia.org/resource/Arrangement', 'term': 'arrangement', 'wiki_url': 'http://en.wikipedia.org/wiki/Arrangement', 'match': 'partial'}"
       ]
      },
      {
       "output_type": "stream",
       "stream": "stdout",
       "text": [
        "\n",
        "{'url': 'http://dbpedia.org/resource/Arranged_marriage', 'term': 'arranged marriage', 'wiki_url': 'http://en.wikipedia.org/wiki/Arranged_marriage', 'match': 'partial'}\n",
        "{'url': 'http://dbpedia.org/resource/Synonyms', 'term': 'synonyms', 'wiki_url': 'http://en.wikipedia.org/wiki/Synonyms', 'match': 'exact'}"
       ]
      },
      {
       "output_type": "stream",
       "stream": "stdout",
       "text": [
        "\n",
        "{'url': 'http://dbpedia.org/resource/Victorian_restoration', 'term': 'victorian restoration', 'wiki_url': 'http://en.wikipedia.org/wiki/Victorian_restoration', 'match': 'partial'}"
       ]
      },
      {
       "output_type": "stream",
       "stream": "stdout",
       "text": [
        "\n",
        "{'url': 'http://dbpedia.org/resource/Euclidean_vector', 'term': 'euclidean vector', 'wiki_url': 'http://en.wikipedia.org/wiki/Euclidean_vector', 'match': 'partial'}\n",
        "{'url': 'http://dbpedia.org/resource/Windshield', 'term': 'windshield', 'wiki_url': 'http://en.wikipedia.org/wiki/Windshield', 'match': 'exact'}"
       ]
      },
      {
       "output_type": "stream",
       "stream": "stdout",
       "text": [
        "\n",
        "{'url': 'http://dbpedia.org/resource/Broadway_theatre', 'term': 'broadway theatre', 'wiki_url': 'http://en.wikipedia.org/wiki/Broadway_theatre', 'match': 'partial'}"
       ]
      },
      {
       "output_type": "stream",
       "stream": "stdout",
       "text": [
        "\n",
        "{'url': 'http://dbpedia.org/resource/Record_producer', 'term': 'record producer', 'wiki_url': 'http://en.wikipedia.org/wiki/Record_producer', 'match': 'partial'}\n",
        "{'url': 'http://dbpedia.org/resource/Software', 'term': 'software', 'wiki_url': 'http://en.wikipedia.org/wiki/Software', 'match': 'partial'}"
       ]
      },
      {
       "output_type": "stream",
       "stream": "stdout",
       "text": [
        "\n",
        "{'url': 'http://dbpedia.org/resource/Open_source', 'term': 'open source', 'wiki_url': 'http://en.wikipedia.org/wiki/Open_source', 'match': 'partial'}\n",
        "{'url': 'http://dbpedia.org/resource/Information_technology', 'term': 'information technology', 'wiki_url': 'http://en.wikipedia.org/wiki/Information_technology', 'match': 'partial'}"
       ]
      },
      {
       "output_type": "stream",
       "stream": "stdout",
       "text": [
        "\n",
        "{'url': 'http://dbpedia.org/resource/Statistics', 'term': 'statistics', 'wiki_url': 'http://en.wikipedia.org/wiki/Statistics', 'match': 'partial'}\n",
        "{'term': 'socialmedia', 'match': 'none'}"
       ]
      },
      {
       "output_type": "stream",
       "stream": "stdout",
       "text": [
        "\n",
        "{'url': 'http://dbpedia.org/resource/Exhibition', 'term': 'exhibition', 'wiki_url': 'http://en.wikipedia.org/wiki/Exhibition', 'match': 'good-partial'}"
       ]
      },
      {
       "output_type": "stream",
       "stream": "stdout",
       "text": [
        "\n",
        "{'url': 'http://dbpedia.org/resource/Writer', 'term': 'writer', 'wiki_url': 'http://en.wikipedia.org/wiki/Writer', 'match': 'good-partial'}"
       ]
      },
      {
       "output_type": "stream",
       "stream": "stdout",
       "text": [
        "\n",
        "{'url': 'http://dbpedia.org/resource/Federal_Communications_Commission', 'term': 'federal communications commission', 'wiki_url': 'http://en.wikipedia.org/wiki/Federal_Communications_Commission', 'match': 'partial'}"
       ]
      },
      {
       "output_type": "stream",
       "stream": "stdout",
       "text": [
        "\n",
        "{'url': 'http://dbpedia.org/resource/Linguistics', 'term': 'linguistics', 'wiki_url': 'http://en.wikipedia.org/wiki/Linguistics', 'match': 'partial'}\n",
        "{'url': 'http://dbpedia.org/resource/Random-access_memory', 'term': 'random-access memory', 'wiki_url': 'http://en.wikipedia.org/wiki/Random-access_memory', 'match': 'partial'}"
       ]
      },
      {
       "output_type": "stream",
       "stream": "stdout",
       "text": [
        "\n",
        "{'url': 'http://dbpedia.org/resource/Memory', 'term': 'memory', 'wiki_url': 'http://en.wikipedia.org/wiki/Memory', 'match': 'partial'}\n",
        "{'url': 'http://dbpedia.org/resource/Camouflage', 'term': 'camouflage', 'wiki_url': 'http://en.wikipedia.org/wiki/Camouflage', 'match': 'partial'}"
       ]
      },
      {
       "output_type": "stream",
       "stream": "stdout",
       "text": [
        "\n",
        "{'url': 'http://dbpedia.org/resource/Black_market', 'term': 'black market', 'wiki_url': 'http://en.wikipedia.org/wiki/Black_market', 'match': 'partial'}\n",
        "{'url': 'http://dbpedia.org/resource/Library', 'term': 'library', 'wiki_url': 'http://en.wikipedia.org/wiki/Library', 'match': 'partial'}"
       ]
      },
      {
       "output_type": "stream",
       "stream": "stdout",
       "text": [
        "\n",
        "{'url': 'http://dbpedia.org/resource/Bodleian_Library', 'term': 'bodleian library', 'wiki_url': 'http://en.wikipedia.org/wiki/Bodleian_Library', 'match': 'partial'}\n",
        "{'url': 'http://dbpedia.org/resource/Lowell_Observatory_Near-Earth-Object_Search', 'term': 'lowell observatory near-earth-object search', 'wiki_url': 'http://en.wikipedia.org/wiki/Lowell_Observatory_Near-Earth-Object_Search', 'match': 'partial'}"
       ]
      },
      {
       "output_type": "stream",
       "stream": "stdout",
       "text": [
        "\n",
        "{'url': 'http://dbpedia.org/resource/AOL', 'term': 'aol', 'wiki_url': 'http://en.wikipedia.org/wiki/AOL', 'match': 'partial'}\n",
        "{'url': 'http://dbpedia.org/resource/History', 'term': 'history', 'wiki_url': 'http://en.wikipedia.org/wiki/History', 'match': 'good-partial'}"
       ]
      },
      {
       "output_type": "stream",
       "stream": "stdout",
       "text": [
        "\n",
        "{'url': 'http://dbpedia.org/resource/Coffee', 'term': 'coffee', 'wiki_url': 'http://en.wikipedia.org/wiki/Coffee', 'match': 'exact'}"
       ]
      },
      {
       "output_type": "stream",
       "stream": "stdout",
       "text": [
        "\n",
        "{'url': 'http://dbpedia.org/resource/School', 'term': 'school', 'wiki_url': 'http://en.wikipedia.org/wiki/School', 'match': 'good-partial'}"
       ]
      },
      {
       "output_type": "stream",
       "stream": "stdout",
       "text": [
        "\n",
        "{'url': 'http://dbpedia.org/resource/Phoneme', 'term': 'phoneme', 'wiki_url': 'http://en.wikipedia.org/wiki/Phoneme', 'match': 'partial'}"
       ]
      },
      {
       "output_type": "stream",
       "stream": "stdout",
       "text": [
        "\n",
        "{'url': 'http://dbpedia.org/resource/Allergy', 'term': 'allergy', 'wiki_url': 'http://en.wikipedia.org/wiki/Allergy', 'match': 'partial'}\n",
        "{'url': 'http://dbpedia.org/resource/Architecture', 'term': 'architecture', 'wiki_url': 'http://en.wikipedia.org/wiki/Architecture', 'match': 'partial'}"
       ]
      },
      {
       "output_type": "stream",
       "stream": "stdout",
       "text": [
        "\n",
        "{'url': 'http://dbpedia.org/resource/Gothic_architecture', 'term': 'gothic architecture', 'wiki_url': 'http://en.wikipedia.org/wiki/Gothic_architecture', 'match': 'partial'}\n",
        "{'url': 'http://dbpedia.org/resource/Computer_graphics', 'term': 'computer graphics', 'wiki_url': 'http://en.wikipedia.org/wiki/Computer_graphics', 'match': 'partial'}"
       ]
      },
      {
       "output_type": "stream",
       "stream": "stdout",
       "text": [
        "\n",
        "{'url': 'http://dbpedia.org/resource/Do_it_yourself', 'term': 'do it yourself', 'wiki_url': 'http://en.wikipedia.org/wiki/Do_it_yourself', 'match': 'partial'}\n",
        "{'url': 'http://dbpedia.org/resource/Graphical_user_interface', 'term': 'graphical user interface', 'wiki_url': 'http://en.wikipedia.org/wiki/Graphical_user_interface', 'match': 'partial'}"
       ]
      },
      {
       "output_type": "stream",
       "stream": "stdout",
       "text": [
        "\n",
        "{'url': 'http://dbpedia.org/resource/Substance_abuse', 'term': 'substance abuse', 'wiki_url': 'http://en.wikipedia.org/wiki/Substance_abuse', 'match': 'partial'}\n",
        "{'url': 'http://dbpedia.org/resource/State_school', 'term': 'state school', 'wiki_url': 'http://en.wikipedia.org/wiki/State_school', 'match': 'partial'}"
       ]
      },
      {
       "output_type": "stream",
       "stream": "stdout",
       "text": [
        "\n",
        "{'url': 'http://dbpedia.org/resource/Public_Broadcasting_Service', 'term': 'public broadcasting service', 'wiki_url': 'http://en.wikipedia.org/wiki/Public_Broadcasting_Service', 'match': 'partial'}\n",
        "{'url': 'http://dbpedia.org/resource/Assignment_(law)', 'term': 'assignment (law)', 'wiki_url': 'http://en.wikipedia.org/wiki/Assignment_(law)', 'match': 'partial'}"
       ]
      },
      {
       "output_type": "stream",
       "stream": "stdout",
       "text": [
        "\n",
        "{'url': 'http://dbpedia.org/resource/Assignment_(computer_science)', 'term': 'assignment (computer science)', 'wiki_url': 'http://en.wikipedia.org/wiki/Assignment_(computer_science)', 'match': 'partial'}\n",
        "{'url': 'http://dbpedia.org/resource/Flea_market', 'term': 'flea market', 'wiki_url': 'http://en.wikipedia.org/wiki/Flea_market', 'match': 'partial'}"
       ]
      },
      {
       "output_type": "stream",
       "stream": "stdout",
       "text": [
        "\n",
        "{'url': 'http://dbpedia.org/resource/Team_sport', 'term': 'team sport', 'wiki_url': 'http://en.wikipedia.org/wiki/Team_sport', 'match': 'partial'}\n",
        "{'url': 'http://dbpedia.org/resource/British_Mandate_for_Palestine_(legal_instrument)', 'term': 'british mandate for palestine (legal instrument)', 'wiki_url': 'http://en.wikipedia.org/wiki/British_Mandate_for_Palestine_(legal_instrument)', 'match': 'partial'}"
       ]
      },
      {
       "output_type": "stream",
       "stream": "stdout",
       "text": [
        "\n",
        "{'url': 'http://dbpedia.org/resource/Mandate_(international_law)', 'term': 'mandate (international law)', 'wiki_url': 'http://en.wikipedia.org/wiki/Mandate_(international_law)', 'match': 'partial'}\n",
        "{'url': 'http://dbpedia.org/resource/Democracy', 'term': 'democracy', 'wiki_url': 'http://en.wikipedia.org/wiki/Democracy', 'match': 'partial'}"
       ]
      },
      {
       "output_type": "stream",
       "stream": "stdout",
       "text": [
        "\n",
        "{'url': 'http://dbpedia.org/resource/Oxford_English_Dictionary', 'term': 'oxford english dictionary', 'wiki_url': 'http://en.wikipedia.org/wiki/Oxford_English_Dictionary', 'match': 'partial'}\n",
        "{'url': 'http://dbpedia.org/resource/International_Federation_of_Library_Associations_and_Institutions', 'term': 'international federation of library associations and institutions', 'wiki_url': 'http://en.wikipedia.org/wiki/International_Federation_of_Library_Associations_and_Institutions', 'match': 'partial'}"
       ]
      },
      {
       "output_type": "stream",
       "stream": "stdout",
       "text": [
        "\n",
        "{'url': 'http://dbpedia.org/resource/Israel_Free_Loan_Association', 'term': 'israel free loan association', 'wiki_url': 'http://en.wikipedia.org/wiki/Israel_Free_Loan_Association', 'match': 'partial'}\n",
        "{'url': 'http://dbpedia.org/resource/Merchant', 'term': 'merchant', 'wiki_url': 'http://en.wikipedia.org/wiki/Merchant', 'match': 'good-partial'}"
       ]
      },
      {
       "output_type": "stream",
       "stream": "stdout",
       "text": [
        "\n",
        "{'url': 'http://dbpedia.org/resource/Financial_services', 'term': 'financial services', 'wiki_url': 'http://en.wikipedia.org/wiki/Financial_services', 'match': 'partial'}"
       ]
      },
      {
       "output_type": "stream",
       "stream": "stdout",
       "text": [
        "\n",
        "{'url': 'http://dbpedia.org/resource/Leveraged_buyout', 'term': 'leveraged buyout', 'wiki_url': 'http://en.wikipedia.org/wiki/Leveraged_buyout', 'match': 'partial'}\n",
        "{'url': 'http://dbpedia.org/resource/Camera', 'term': 'camera', 'wiki_url': 'http://en.wikipedia.org/wiki/Camera', 'match': 'good-partial'}"
       ]
      },
      {
       "output_type": "stream",
       "stream": "stdout",
       "text": [
        "\n",
        "{'url': 'http://dbpedia.org/resource/English_language', 'term': 'english language', 'wiki_url': None, 'match': 'partial'}"
       ]
      },
      {
       "output_type": "stream",
       "stream": "stdout",
       "text": [
        "\n",
        "{'url': 'http://dbpedia.org/resource/French_language', 'term': 'french language', 'wiki_url': 'http://en.wikipedia.org/wiki/French_language', 'match': 'partial'}\n",
        "{'url': 'http://dbpedia.org/resource/Advocacy_group', 'term': 'advocacy group', 'wiki_url': 'http://en.wikipedia.org/wiki/Advocacy_group', 'match': 'partial'}"
       ]
      },
      {
       "output_type": "stream",
       "stream": "stdout",
       "text": [
        "\n",
        "{'url': 'http://dbpedia.org/resource/Sebasti\\xc3\\xa3o_Jos\\xc3\\xa9_de_Carvalho_e_Melo,_1st_Marquess_of_Pombal', 'term': 'sebasti\\xc3\\xa3o jos\\xc3\\xa9 de carvalho e melo, 1st marquess of pombal', 'wiki_url': None, 'match': 'partial'}\n",
        "{'url': 'http://dbpedia.org/resource/United_States_Navy', 'term': 'united states navy', 'wiki_url': 'http://en.wikipedia.org/wiki/United_States_Navy', 'match': 'partial'}"
       ]
      },
      {
       "output_type": "stream",
       "stream": "stdout",
       "text": [
        "\n",
        "{'url': 'http://dbpedia.org/resource/Public_Broadcasting_Service', 'term': 'public broadcasting service', 'wiki_url': 'http://en.wikipedia.org/wiki/Public_Broadcasting_Service', 'match': 'partial'}\n",
        "{'url': 'http://dbpedia.org/resource/Adaptive_reuse', 'term': 'adaptive reuse', 'wiki_url': 'http://en.wikipedia.org/wiki/Adaptive_reuse', 'match': 'partial'}"
       ]
      },
      {
       "output_type": "stream",
       "stream": "stdout",
       "text": [
        "\n",
        "{'url': 'http://dbpedia.org/resource/Assemblage_(composition)', 'term': 'assemblage (composition)', 'wiki_url': 'http://en.wikipedia.org/wiki/Assemblage_(composition)', 'match': 'partial'}\n",
        "{'url': 'http://dbpedia.org/resource/Semantics', 'term': 'semantics', 'wiki_url': 'http://en.wikipedia.org/wiki/Semantics', 'match': 'partial'}"
       ]
      },
      {
       "output_type": "stream",
       "stream": "stdout",
       "text": [
        "\n",
        "{'url': 'http://dbpedia.org/resource/Budweiser', 'term': 'budweiser', 'wiki_url': 'http://en.wikipedia.org/wiki/Budweiser', 'match': 'partial'}\n",
        "{'url': 'http://dbpedia.org/resource/International_Union_for_Conservation_of_Nature', 'term': 'international union for conservation of nature', 'wiki_url': 'http://en.wikipedia.org/wiki/International_Union_for_Conservation_of_Nature', 'match': 'partial'}"
       ]
      },
      {
       "output_type": "stream",
       "stream": "stdout",
       "text": [
        "\n",
        "{'url': 'http://dbpedia.org/resource/Renewable_energy', 'term': 'renewable energy', 'wiki_url': 'http://en.wikipedia.org/wiki/Renewable_energy', 'match': 'partial'}\n",
        "{'url': 'http://dbpedia.org/resource/Pseudonym', 'term': 'pseudonym', 'wiki_url': 'http://en.wikipedia.org/wiki/Pseudonym', 'match': 'partial'}"
       ]
      },
      {
       "output_type": "stream",
       "stream": "stdout",
       "text": [
        "\n",
        "{'url': 'http://dbpedia.org/resource/Advisory_Committee_on_Antarctic_Names', 'term': 'advisory committee on antarctic names', 'wiki_url': 'http://en.wikipedia.org/wiki/Advisory_Committee_on_Antarctic_Names', 'match': 'partial'}\n",
        "{'url': 'http://dbpedia.org/resource/Swiss_Inventory_of_Cultural_Property_of_National_and_Regional_Significance', 'term': 'swiss inventory of cultural property of national and regional significance', 'wiki_url': 'http://en.wikipedia.org/wiki/Swiss_Inventory_of_Cultural_Property_of_National_and_Regional_Significance', 'match': 'partial'}"
       ]
      },
      {
       "output_type": "stream",
       "stream": "stdout",
       "text": [
        "\n",
        "{'url': 'http://dbpedia.org/resource/Consonant', 'term': 'consonant', 'wiki_url': 'http://en.wikipedia.org/wiki/Consonant', 'match': 'partial'}\n",
        "{'url': 'http://dbpedia.org/resource/Football_League_First_Division', 'term': 'football league first division', 'wiki_url': 'http://en.wikipedia.org/wiki/Football_League_First_Division', 'match': 'partial'}"
       ]
      },
      {
       "output_type": "stream",
       "stream": "stdout",
       "text": [
        "\n",
        "{'url': 'http://dbpedia.org/resource/Football_League_Second_Division', 'term': 'football league second division', 'wiki_url': None, 'match': 'partial'}\n",
        "{'url': 'http://dbpedia.org/resource/Stratum', 'term': 'stratum', 'wiki_url': 'http://en.wikipedia.org/wiki/Stratum', 'match': 'good-partial'}"
       ]
      },
      {
       "output_type": "stream",
       "stream": "stdout",
       "text": [
        "\n",
        "{'url': 'http://dbpedia.org/resource/Grape', 'term': 'grape', 'wiki_url': 'http://en.wikipedia.org/wiki/Grape', 'match': 'good-partial'}"
       ]
      },
      {
       "output_type": "stream",
       "stream": "stdout",
       "text": [
        "\n",
        "{'url': 'http://dbpedia.org/resource/Sensor', 'term': 'sensor', 'wiki_url': 'http://en.wikipedia.org/wiki/Sensor', 'match': 'good-partial'}"
       ]
      },
      {
       "output_type": "stream",
       "stream": "stdout",
       "text": [
        "\n",
        "{'url': 'http://dbpedia.org/resource/Infrastructure', 'term': 'infrastructure', 'wiki_url': 'http://en.wikipedia.org/wiki/Infrastructure', 'match': 'partial'}"
       ]
      },
      {
       "output_type": "stream",
       "stream": "stdout",
       "text": [
        "\n",
        "{'url': 'http://dbpedia.org/resource/Welfare', 'term': 'welfare', 'wiki_url': 'http://en.wikipedia.org/wiki/Welfare', 'match': 'partial'}\n",
        "{'url': 'http://dbpedia.org/resource/Aisle', 'term': 'aisle', 'wiki_url': 'http://en.wikipedia.org/wiki/Aisle', 'match': 'exact'}"
       ]
      },
      {
       "output_type": "stream",
       "stream": "stdout",
       "text": [
        "\n",
        "{'url': 'http://dbpedia.org/resource/Cookbook', 'term': 'cookbook', 'wiki_url': 'http://en.wikipedia.org/wiki/Cookbook', 'match': 'good-partial'}"
       ]
      },
      {
       "output_type": "stream",
       "stream": "stdout",
       "text": [
        "\n",
        "{'url': 'http://dbpedia.org/resource/Batting_average', 'term': 'batting average', 'wiki_url': 'http://en.wikipedia.org/wiki/Batting_average', 'match': 'partial'}"
       ]
      },
      {
       "output_type": "stream",
       "stream": "stdout",
       "text": [
        "\n",
        "{'url': 'http://dbpedia.org/resource/Football_League_First_Division', 'term': 'football league first division', 'wiki_url': 'http://en.wikipedia.org/wiki/Football_League_First_Division', 'match': 'partial'}\n",
        "{'url': 'http://dbpedia.org/resource/Microsoft_Windows', 'term': 'microsoft windows', 'wiki_url': 'http://en.wikipedia.org/wiki/Microsoft_Windows', 'match': 'partial'}"
       ]
      },
      {
       "output_type": "stream",
       "stream": "stdout",
       "text": [
        "\n",
        "{'url': 'http://dbpedia.org/resource/Microsoft', 'term': 'microsoft', 'wiki_url': 'http://en.wikipedia.org/wiki/Microsoft', 'match': 'partial'}\n",
        "{'url': 'http://dbpedia.org/resource/Science_fiction', 'term': 'science fiction', 'wiki_url': 'http://en.wikipedia.org/wiki/Science_fiction', 'match': 'partial'}"
       ]
      },
      {
       "output_type": "stream",
       "stream": "stdout",
       "text": [
        "\n",
        "{'url': 'http://dbpedia.org/resource/Novel', 'term': 'novel', 'wiki_url': 'http://en.wikipedia.org/wiki/Novel', 'match': 'partial'}\n",
        "{'url': 'http://dbpedia.org/resource/Conflict_of_interest', 'term': 'conflict of interest', 'wiki_url': 'http://en.wikipedia.org/wiki/Conflict_of_interest', 'match': 'partial'}"
       ]
      },
      {
       "output_type": "stream",
       "stream": "stdout",
       "text": [
        "\n",
        "{'url': 'http://dbpedia.org/resource/Homestead_Act', 'term': 'homestead act', 'wiki_url': 'http://en.wikipedia.org/wiki/Homestead_Act', 'match': 'partial'}\n",
        "{'url': 'http://dbpedia.org/resource/Scientific_journal', 'term': 'scientific journal', 'wiki_url': 'http://en.wikipedia.org/wiki/Scientific_journal', 'match': 'partial'}"
       ]
      },
      {
       "output_type": "stream",
       "stream": "stdout",
       "text": [
        "\n",
        "{'url': 'http://dbpedia.org/resource/Public_speaking', 'term': 'public speaking', 'wiki_url': 'http://en.wikipedia.org/wiki/Public_speaking', 'match': 'partial'}\n",
        "{'url': 'http://dbpedia.org/resource/Infrared', 'term': 'infrared', 'wiki_url': 'http://en.wikipedia.org/wiki/Infrared', 'match': 'partial'}"
       ]
      },
      {
       "output_type": "stream",
       "stream": "stdout",
       "text": [
        "\n",
        "{'url': 'http://dbpedia.org/resource/International_relations', 'term': 'international relations', 'wiki_url': 'http://en.wikipedia.org/wiki/International_relations', 'match': 'partial'}\n",
        "{'url': 'http://dbpedia.org/resource/Organism', 'term': 'organism', 'wiki_url': 'http://en.wikipedia.org/wiki/Organism', 'match': 'partial'}"
       ]
      },
      {
       "output_type": "stream",
       "stream": "stdout",
       "text": [
        "\n",
        "{'url': 'http://dbpedia.org/resource/Flag_of_the_United_States', 'term': 'flag of the united states', 'wiki_url': 'http://en.wikipedia.org/wiki/Flag_of_the_United_States', 'match': 'partial'}\n",
        "{'url': 'http://dbpedia.org/resource/Cher', 'term': 'cher', 'wiki_url': 'http://en.wikipedia.org/wiki/Cher', 'match': 'partial'}"
       ]
      },
      {
       "output_type": "stream",
       "stream": "stdout",
       "text": [
        "\n",
        "{'url': 'http://dbpedia.org/resource/Cupola', 'term': 'cupola', 'wiki_url': 'http://en.wikipedia.org/wiki/Cupola', 'match': 'partial'}\n",
        "{'url': 'http://dbpedia.org/resource/Arrangement', 'term': 'arrangement', 'wiki_url': 'http://en.wikipedia.org/wiki/Arrangement', 'match': 'partial'}"
       ]
      },
      {
       "output_type": "stream",
       "stream": "stdout",
       "text": [
        "\n",
        "{'url': 'http://dbpedia.org/resource/Rhythm', 'term': 'rhythm', 'wiki_url': 'http://en.wikipedia.org/wiki/Rhythm', 'match': 'partial'}\n",
        "{'url': 'http://dbpedia.org/resource/NASA', 'term': 'nasa', 'wiki_url': 'http://en.wikipedia.org/wiki/NASA', 'match': 'partial'}"
       ]
      },
      {
       "output_type": "stream",
       "stream": "stdout",
       "text": [
        "\n",
        "{'url': 'http://dbpedia.org/resource/Myspace', 'term': 'myspace', 'wiki_url': 'http://en.wikipedia.org/wiki/Myspace', 'match': 'partial'}\n",
        "{'url': 'http://dbpedia.org/resource/XML', 'term': 'xml', 'wiki_url': 'http://en.wikipedia.org/wiki/XML', 'match': 'partial'}"
       ]
      },
      {
       "output_type": "stream",
       "stream": "stdout",
       "text": [
        "\n",
        "{'url': 'http://dbpedia.org/resource/Constitution', 'term': 'constitution', 'wiki_url': 'http://en.wikipedia.org/wiki/Constitution', 'match': 'partial'}\n",
        "{'url': 'http://dbpedia.org/resource/Neighbourhood', 'term': 'neighbourhood', 'wiki_url': 'http://en.wikipedia.org/wiki/Neighbourhood', 'match': 'good-partial'}"
       ]
      },
      {
       "output_type": "stream",
       "stream": "stdout",
       "text": [
        "\n",
        "{'url': 'http://dbpedia.org/resource/Public_domain', 'term': 'public domain', 'wiki_url': 'http://en.wikipedia.org/wiki/Public_domain', 'match': 'partial'}"
       ]
      },
      {
       "output_type": "stream",
       "stream": "stdout",
       "text": [
        "\n",
        "{'url': 'http://dbpedia.org/resource/Contributing_property', 'term': 'contributing property', 'wiki_url': 'http://en.wikipedia.org/wiki/Contributing_property', 'match': 'partial'}\n",
        "{'url': 'http://dbpedia.org/resource/Historian', 'term': 'historian', 'wiki_url': 'http://en.wikipedia.org/wiki/Historian', 'match': 'exact'}"
       ]
      },
      {
       "output_type": "stream",
       "stream": "stdout",
       "text": [
        "\n",
        "{'url': 'http://dbpedia.org/resource/National_Football_League', 'term': 'national football league', 'wiki_url': 'http://en.wikipedia.org/wiki/National_Football_League', 'match': 'partial'}"
       ]
      },
      {
       "output_type": "stream",
       "stream": "stdout",
       "text": [
        "\n",
        "{'url': 'http://dbpedia.org/resource/Boxing', 'term': 'boxing', 'wiki_url': 'http://en.wikipedia.org/wiki/Boxing', 'match': 'partial'}\n",
        "{'url': 'http://dbpedia.org/resource/Morphology_(biology)', 'term': 'morphology (biology)', 'wiki_url': 'http://en.wikipedia.org/wiki/Morphology_(biology)', 'match': 'partial'}"
       ]
      },
      {
       "output_type": "stream",
       "stream": "stdout",
       "text": [
        "\n",
        "{'url': 'http://dbpedia.org/resource/Function_(mathematics)', 'term': 'function (mathematics)', 'wiki_url': 'http://en.wikipedia.org/wiki/Function_(mathematics)', 'match': 'partial'}\n",
        "{'url': 'http://dbpedia.org/resource/Fiction', 'term': 'fiction', 'wiki_url': 'http://en.wikipedia.org/wiki/Fiction', 'match': 'exact'}"
       ]
      },
      {
       "output_type": "stream",
       "stream": "stdout",
       "text": [
        "\n",
        "{'url': 'http://dbpedia.org/resource/Lowell_Observatory_Near-Earth-Object_Search', 'term': 'lowell observatory near-earth-object search', 'wiki_url': 'http://en.wikipedia.org/wiki/Lowell_Observatory_Near-Earth-Object_Search', 'match': 'partial'}"
       ]
      },
      {
       "output_type": "stream",
       "stream": "stdout",
       "text": [
        "\n",
        "{'url': 'http://dbpedia.org/resource/AOL', 'term': 'aol', 'wiki_url': 'http://en.wikipedia.org/wiki/AOL', 'match': 'partial'}\n",
        "{'url': 'http://dbpedia.org/resource/Information_technology', 'term': 'information technology', 'wiki_url': 'http://en.wikipedia.org/wiki/Information_technology', 'match': 'partial'}"
       ]
      },
      {
       "output_type": "stream",
       "stream": "stdout",
       "text": [
        "\n",
        "{'url': 'http://dbpedia.org/resource/Statistics', 'term': 'statistics', 'wiki_url': 'http://en.wikipedia.org/wiki/Statistics', 'match': 'partial'}\n",
        "{'url': 'http://dbpedia.org/resource/Lowell_Observatory_Near-Earth-Object_Search', 'term': 'lowell observatory near-earth-object search', 'wiki_url': 'http://en.wikipedia.org/wiki/Lowell_Observatory_Near-Earth-Object_Search', 'match': 'partial'}"
       ]
      },
      {
       "output_type": "stream",
       "stream": "stdout",
       "text": [
        "\n",
        "{'url': 'http://dbpedia.org/resource/AOL', 'term': 'aol', 'wiki_url': 'http://en.wikipedia.org/wiki/AOL', 'match': 'partial'}\n",
        "{'url': 'http://dbpedia.org/resource/Consistency', 'term': 'consistency', 'wiki_url': 'http://en.wikipedia.org/wiki/Consistency', 'match': 'good-partial'}"
       ]
      },
      {
       "output_type": "stream",
       "stream": "stdout",
       "text": [
        "\n",
        "{'url': 'http://dbpedia.org/resource/Operating_system', 'term': 'operating system', 'wiki_url': 'http://en.wikipedia.org/wiki/Operating_system', 'match': 'good-partial'}"
       ]
      },
      {
       "output_type": "stream",
       "stream": "stdout",
       "text": [
        "\n",
        "{'url': 'http://dbpedia.org/resource/Civil_service', 'term': 'civil service', 'wiki_url': 'http://en.wikipedia.org/wiki/Civil_service', 'match': 'partial'}"
       ]
      },
      {
       "output_type": "stream",
       "stream": "stdout",
       "text": [
        "\n",
        "{'url': 'http://dbpedia.org/resource/Employment', 'term': 'employment', 'wiki_url': 'http://en.wikipedia.org/wiki/Employment', 'match': 'partial'}\n",
        "{'url': 'http://dbpedia.org/resource/Case_citation', 'term': 'case citation', 'wiki_url': 'http://en.wikipedia.org/wiki/Case_citation', 'match': 'partial'}"
       ]
      },
      {
       "output_type": "stream",
       "stream": "stdout",
       "text": [
        "\n",
        "{'url': 'http://dbpedia.org/resource/Mentioned_in_Despatches', 'term': 'mentioned in despatches', 'wiki_url': 'http://en.wikipedia.org/wiki/Mentioned_in_Despatches', 'match': 'partial'}\n",
        "{'url': 'http://dbpedia.org/resource/Geneva', 'term': 'geneva', 'wiki_url': 'http://en.wikipedia.org/wiki/Geneva', 'match': 'exact'}"
       ]
      },
      {
       "output_type": "stream",
       "stream": "stdout",
       "text": [
        "\n",
        "{'url': 'http://dbpedia.org/resource/International_Federation_of_Library_Associations_and_Institutions', 'term': 'international federation of library associations and institutions', 'wiki_url': 'http://en.wikipedia.org/wiki/International_Federation_of_Library_Associations_and_Institutions', 'match': 'partial'}"
       ]
      },
      {
       "output_type": "stream",
       "stream": "stdout",
       "text": [
        "\n",
        "{'url': 'http://dbpedia.org/resource/Israel_Free_Loan_Association', 'term': 'israel free loan association', 'wiki_url': 'http://en.wikipedia.org/wiki/Israel_Free_Loan_Association', 'match': 'partial'}\n",
        "{'url': 'http://dbpedia.org/resource/Tool', 'term': 'tool', 'wiki_url': 'http://en.wikipedia.org/wiki/Tool', 'match': 'exact'}"
       ]
      },
      {
       "output_type": "stream",
       "stream": "stdout",
       "text": [
        "\n",
        "{'url': 'http://dbpedia.org/resource/Comic_book', 'term': 'comic book', 'wiki_url': 'http://en.wikipedia.org/wiki/Comic_book', 'match': 'partial'}"
       ]
      },
      {
       "output_type": "stream",
       "stream": "stdout",
       "text": [
        "\n",
        "{'url': 'http://dbpedia.org/resource/Domesday_Book', 'term': 'domesday book', 'wiki_url': 'http://en.wikipedia.org/wiki/Domesday_Book', 'match': 'partial'}\n",
        "{'term': 'the invention', 'match': 'none'}"
       ]
      },
      {
       "output_type": "stream",
       "stream": "stdout",
       "text": [
        "\n",
        "{'url': 'http://dbpedia.org/resource/Museum', 'term': 'museum', 'wiki_url': 'http://en.wikipedia.org/wiki/Museum', 'match': 'partial'}"
       ]
      },
      {
       "output_type": "stream",
       "stream": "stdout",
       "text": [
        "\n",
        "{'url': 'http://dbpedia.org/resource/British_Museum', 'term': 'british museum', 'wiki_url': 'http://en.wikipedia.org/wiki/British_Museum', 'match': 'partial'}\n",
        "{'url': 'http://dbpedia.org/resource/Supreme_Court_of_the_United_States', 'term': 'supreme court of the united states', 'wiki_url': 'http://en.wikipedia.org/wiki/Supreme_Court_of_the_United_States', 'match': 'partial'}"
       ]
      },
      {
       "output_type": "stream",
       "stream": "stdout",
       "text": [
        "\n",
        "{'url': 'http://dbpedia.org/resource/Lawsuit', 'term': 'lawsuit', 'wiki_url': 'http://en.wikipedia.org/wiki/Lawsuit', 'match': 'partial'}\n",
        "{'url': 'http://dbpedia.org/resource/EBay', 'term': 'ebay', 'wiki_url': 'http://en.wikipedia.org/wiki/EBay', 'match': 'exact'}"
       ]
      },
      {
       "output_type": "stream",
       "stream": "stdout",
       "text": [
        "\n",
        "{'url': 'http://dbpedia.org/resource/Adsorption', 'term': 'adsorption', 'wiki_url': 'http://en.wikipedia.org/wiki/Adsorption', 'match': 'partial'}"
       ]
      },
      {
       "output_type": "stream",
       "stream": "stdout",
       "text": [
        "\n",
        "{'url': 'http://dbpedia.org/resource/French_intervention_in_Mexico', 'term': 'french intervention in mexico', 'wiki_url': 'http://en.wikipedia.org/wiki/French_intervention_in_Mexico', 'match': 'partial'}\n",
        "{'url': 'http://dbpedia.org/resource/Iron', 'term': 'iron', 'wiki_url': 'http://en.wikipedia.org/wiki/Iron', 'match': 'exact'}"
       ]
      },
      {
       "output_type": "stream",
       "stream": "stdout",
       "text": [
        "\n",
        "{'url': 'http://dbpedia.org/resource/Enabling', 'term': 'enabling', 'wiki_url': 'http://en.wikipedia.org/wiki/Enabling', 'match': 'good-partial'}"
       ]
      },
      {
       "output_type": "stream",
       "stream": "stdout",
       "text": [
        "\n",
        "{'url': 'http://dbpedia.org/resource/Fender_Stratocaster', 'term': 'fender stratocaster', 'wiki_url': 'http://en.wikipedia.org/wiki/Fender_Stratocaster', 'match': 'partial'}"
       ]
      },
      {
       "output_type": "stream",
       "stream": "stdout",
       "text": [
        "\n",
        "{'url': 'http://dbpedia.org/resource/Basque_Country_(greater_region)', 'term': 'basque country (greater region)', 'wiki_url': 'http://en.wikipedia.org/wiki/Basque_Country_(greater_region)', 'match': 'partial'}\n",
        "{'url': 'http://dbpedia.org/resource/Bridge', 'term': 'bridge', 'wiki_url': 'http://en.wikipedia.org/wiki/Bridge', 'match': 'exact'}"
       ]
      },
      {
       "output_type": "stream",
       "stream": "stdout",
       "text": [
        "\n",
        "{'url': 'http://dbpedia.org/resource/Fashion', 'term': 'fashion', 'wiki_url': 'http://en.wikipedia.org/wiki/Fashion', 'match': 'exact'}"
       ]
      },
      {
       "output_type": "stream",
       "stream": "stdout",
       "text": [
        "\n",
        "{'url': 'http://dbpedia.org/resource/Terrestrial_animal', 'term': 'terrestrial animal', 'wiki_url': 'http://en.wikipedia.org/wiki/Terrestrial_animal', 'match': 'partial'}"
       ]
      },
      {
       "output_type": "stream",
       "stream": "stdout",
       "text": [
        "\n",
        "{'url': 'http://dbpedia.org/resource/Endangered_species', 'term': 'endangered species', 'wiki_url': 'http://en.wikipedia.org/wiki/Endangered_species', 'match': 'partial'}\n",
        "{'url': 'http://dbpedia.org/resource/Architecture', 'term': 'architecture', 'wiki_url': 'http://en.wikipedia.org/wiki/Architecture', 'match': 'partial'}"
       ]
      },
      {
       "output_type": "stream",
       "stream": "stdout",
       "text": [
        "\n",
        "{'url': 'http://dbpedia.org/resource/Gothic_architecture', 'term': 'gothic architecture', 'wiki_url': 'http://en.wikipedia.org/wiki/Gothic_architecture', 'match': 'partial'}\n",
        "{'url': 'http://dbpedia.org/resource/Pediment', 'term': 'pediment', 'wiki_url': 'http://en.wikipedia.org/wiki/Pediment', 'match': 'partial'}"
       ]
      },
      {
       "output_type": "stream",
       "stream": "stdout",
       "text": [
        "\n",
        "{'url': 'http://dbpedia.org/resource/White', 'term': 'white', 'wiki_url': 'http://en.wikipedia.org/wiki/White', 'match': 'partial'}\n",
        "{'url': 'http://dbpedia.org/resource/Presenter', 'term': 'presenter', 'wiki_url': 'http://en.wikipedia.org/wiki/Presenter', 'match': 'partial'}"
       ]
      },
      {
       "output_type": "stream",
       "stream": "stdout",
       "text": [
        "\n",
        "{'url': 'http://dbpedia.org/resource/Meteorology', 'term': 'meteorology', 'wiki_url': 'http://en.wikipedia.org/wiki/Meteorology', 'match': 'partial'}\n",
        "{'url': 'http://dbpedia.org/resource/Secretary', 'term': 'secretary', 'wiki_url': 'http://en.wikipedia.org/wiki/Secretary', 'match': 'partial'}"
       ]
      },
      {
       "output_type": "stream",
       "stream": "stdout",
       "text": [
        "\n",
        "{'url': 'http://dbpedia.org/resource/1994_Winter_Olympics', 'term': '1994 winter olympics', 'wiki_url': 'http://en.wikipedia.org/wiki/1994_Winter_Olympics', 'match': 'partial'}\n",
        "{'url': 'http://dbpedia.org/resource/Advertising', 'term': 'advertising', 'wiki_url': 'http://en.wikipedia.org/wiki/Advertising', 'match': 'partial'}"
       ]
      },
      {
       "output_type": "stream",
       "stream": "stdout",
       "text": [
        "\n",
        "{'url': 'http://dbpedia.org/resource/Journalism', 'term': 'journalism', 'wiki_url': 'http://en.wikipedia.org/wiki/Journalism', 'match': 'partial'}\n",
        "{'url': 'http://dbpedia.org/resource/IBM', 'term': 'ibm', 'wiki_url': 'http://en.wikipedia.org/wiki/IBM', 'match': 'exact'}"
       ]
      },
      {
       "output_type": "stream",
       "stream": "stdout",
       "text": [
        "\n",
        "{'url': 'http://dbpedia.org/resource/Molecular_biology', 'term': 'molecular biology', 'wiki_url': 'http://en.wikipedia.org/wiki/Molecular_biology', 'match': 'partial'}"
       ]
      },
      {
       "output_type": "stream",
       "stream": "stdout",
       "text": [
        "\n",
        "{'url': 'http://dbpedia.org/resource/Forensic_science', 'term': 'forensic science', 'wiki_url': 'http://en.wikipedia.org/wiki/Forensic_science', 'match': 'partial'}\n",
        "{'term': 'for government ', 'match': 'none'}"
       ]
      },
      {
       "output_type": "stream",
       "stream": "stdout",
       "text": [
        "\n",
        "{'url': 'http://dbpedia.org/resource/Taboo', 'term': 'taboo', 'wiki_url': 'http://en.wikipedia.org/wiki/Taboo', 'match': 'partial'}"
       ]
      },
      {
       "output_type": "stream",
       "stream": "stdout",
       "text": [
        "\n",
        "{'url': 'http://dbpedia.org/resource/Monasticism', 'term': 'monasticism', 'wiki_url': 'http://en.wikipedia.org/wiki/Monasticism', 'match': 'partial'}\n",
        "{'url': 'http://dbpedia.org/resource/Emergency_department', 'term': 'emergency department', 'wiki_url': 'http://en.wikipedia.org/wiki/Emergency_department', 'match': 'partial'}"
       ]
      },
      {
       "output_type": "stream",
       "stream": "stdout",
       "text": [
        "\n",
        "{'url': 'http://dbpedia.org/resource/New_religious_movement', 'term': 'new religious movement', 'wiki_url': 'http://en.wikipedia.org/wiki/New_religious_movement', 'match': 'partial'}\n",
        "{'url': 'http://dbpedia.org/resource/Chess', 'term': 'chess', 'wiki_url': 'http://en.wikipedia.org/wiki/Chess', 'match': 'exact'}"
       ]
      },
      {
       "output_type": "stream",
       "stream": "stdout",
       "text": [
        "\n",
        "{'url': 'http://dbpedia.org/resource/Evidence-based_medicine', 'term': 'evidence-based medicine', 'wiki_url': 'http://en.wikipedia.org/wiki/Evidence-based_medicine', 'match': 'partial'}"
       ]
      },
      {
       "output_type": "stream",
       "stream": "stdout",
       "text": [
        "\n",
        "{'url': 'http://dbpedia.org/resource/Parenting', 'term': 'parenting', 'wiki_url': 'http://en.wikipedia.org/wiki/Parenting', 'match': 'partial'}\n",
        "{'url': 'http://dbpedia.org/resource/LIFO', 'term': 'lifo', 'wiki_url': 'http://en.wikipedia.org/wiki/LIFO', 'match': 'good-partial'}"
       ]
      },
      {
       "output_type": "stream",
       "stream": "stdout",
       "text": [
        "\n",
        "{'url': 'http://dbpedia.org/resource/Electronic_commerce', 'term': 'electronic commerce', 'wiki_url': 'http://en.wikipedia.org/wiki/Electronic_commerce', 'match': 'partial'}"
       ]
      },
      {
       "output_type": "stream",
       "stream": "stdout",
       "text": [
        "\n",
        "{'url': 'http://dbpedia.org/resource/Royal_Society_of_Edinburgh', 'term': 'royal society of edinburgh', 'wiki_url': 'http://en.wikipedia.org/wiki/Royal_Society_of_Edinburgh', 'match': 'partial'}\n",
        "{'url': 'http://dbpedia.org/resource/Lowell_Observatory_Near-Earth-Object_Search', 'term': 'lowell observatory near-earth-object search', 'wiki_url': 'http://en.wikipedia.org/wiki/Lowell_Observatory_Near-Earth-Object_Search', 'match': 'partial'}"
       ]
      },
      {
       "output_type": "stream",
       "stream": "stdout",
       "text": [
        "\n",
        "{'url': 'http://dbpedia.org/resource/Contributing_property', 'term': 'contributing property', 'wiki_url': 'http://en.wikipedia.org/wiki/Contributing_property', 'match': 'partial'}\n",
        "{'url': 'http://dbpedia.org/resource/Phonograph', 'term': 'phonograph', 'wiki_url': 'http://en.wikipedia.org/wiki/Phonograph', 'match': 'exact'}"
       ]
      },
      {
       "output_type": "stream",
       "stream": "stdout",
       "text": [
        "\n",
        "{'url': 'http://dbpedia.org/resource/Anatomy', 'term': 'anatomy', 'wiki_url': 'http://en.wikipedia.org/wiki/Anatomy', 'match': 'exact'}"
       ]
      },
      {
       "output_type": "stream",
       "stream": "stdout",
       "text": [
        "\n",
        "{'url': 'http://dbpedia.org/resource/Model_(person)', 'term': 'model (person)', 'wiki_url': 'http://en.wikipedia.org/wiki/Model_(person)', 'match': 'partial'}"
       ]
      },
      {
       "output_type": "stream",
       "stream": "stdout",
       "text": [
        "\n",
        "{'url': 'http://dbpedia.org/resource/Japanese_people', 'term': 'japanese people', 'wiki_url': 'http://en.wikipedia.org/wiki/Japanese_people', 'match': 'partial'}\n",
        "{'url': 'http://dbpedia.org/resource/Gas', 'term': 'gas', 'wiki_url': 'http://en.wikipedia.org/wiki/Gas', 'match': 'good-partial'}"
       ]
      },
      {
       "output_type": "stream",
       "stream": "stdout",
       "text": [
        "\n",
        "{'url': 'http://dbpedia.org/resource/PAL', 'term': 'pal', 'wiki_url': 'http://en.wikipedia.org/wiki/PAL', 'match': 'good-partial'}\n",
        "{'url': 'http://dbpedia.org/resource/Library', 'term': 'library', 'wiki_url': 'http://en.wikipedia.org/wiki/Library', 'match': 'partial'}"
       ]
      },
      {
       "output_type": "stream",
       "stream": "stdout",
       "text": [
        "\n",
        "{'url': 'http://dbpedia.org/resource/Library_of_Congress', 'term': 'library of congress', 'wiki_url': 'http://en.wikipedia.org/wiki/Library_of_Congress', 'match': 'partial'}\n",
        "{'url': 'http://dbpedia.org/resource/Ottoman_Empire', 'term': 'ottoman empire', 'wiki_url': 'http://en.wikipedia.org/wiki/Ottoman_Empire', 'match': 'partial'}"
       ]
      },
      {
       "output_type": "stream",
       "stream": "stdout",
       "text": [
        "\n",
        "{'url': 'http://dbpedia.org/resource/Nazi_Germany', 'term': 'nazi germany', 'wiki_url': 'http://en.wikipedia.org/wiki/Nazi_Germany', 'match': 'partial'}\n",
        "{'url': 'http://dbpedia.org/resource/Sexual_orientation', 'term': 'sexual orientation', 'wiki_url': 'http://en.wikipedia.org/wiki/Sexual_orientation', 'match': 'partial'}"
       ]
      },
      {
       "output_type": "stream",
       "stream": "stdout",
       "text": [
        "\n",
        "{'url': 'http://dbpedia.org/resource/Single_transferable_vote', 'term': 'single transferable vote', 'wiki_url': 'http://en.wikipedia.org/wiki/Single_transferable_vote', 'match': 'partial'}\n",
        "{'url': 'http://dbpedia.org/resource/Reimbursement', 'term': 'reimbursement', 'wiki_url': 'http://en.wikipedia.org/wiki/Reimbursement', 'match': 'exact'}"
       ]
      },
      {
       "output_type": "stream",
       "stream": "stdout",
       "text": [
        "\n",
        "{'url': 'http://dbpedia.org/resource/Grass', 'term': 'grass', 'wiki_url': 'http://en.wikipedia.org/wiki/Grass', 'match': 'exact'}"
       ]
      },
      {
       "output_type": "stream",
       "stream": "stdout",
       "text": [
        "\n",
        "{'url': 'http://dbpedia.org/resource/Greatest_hits_album', 'term': 'greatest hits album', 'wiki_url': 'http://en.wikipedia.org/wiki/Greatest_hits_album', 'match': 'partial'}"
       ]
      },
      {
       "output_type": "stream",
       "stream": "stdout",
       "text": [
        "\n",
        "{'url': 'http://dbpedia.org/resource/Toll_road', 'term': 'toll road', 'wiki_url': 'http://en.wikipedia.org/wiki/Toll_road', 'match': 'partial'}\n",
        "{'url': 'http://dbpedia.org/resource/Yahoo!', 'term': 'yahoo!', 'wiki_url': 'http://en.wikipedia.org/wiki/Yahoo!', 'match': 'partial'}"
       ]
      },
      {
       "output_type": "stream",
       "stream": "stdout",
       "text": [
        "\n",
        "{'url': 'http://dbpedia.org/resource/Flickr', 'term': 'flickr', 'wiki_url': 'http://en.wikipedia.org/wiki/Flickr', 'match': 'partial'}\n",
        "{'url': 'http://dbpedia.org/resource/Nobel_Prize', 'term': 'nobel prize', 'wiki_url': 'http://en.wikipedia.org/wiki/Nobel_Prize', 'match': 'exact'}"
       ]
      },
      {
       "output_type": "stream",
       "stream": "stdout",
       "text": [
        "\n",
        "{'url': 'http://dbpedia.org/resource/Heuristic', 'term': 'heuristic', 'wiki_url': 'http://en.wikipedia.org/wiki/Heuristic', 'match': 'good-partial'}"
       ]
      },
      {
       "output_type": "stream",
       "stream": "stdout",
       "text": [
        "\n",
        "{'url': 'http://dbpedia.org/resource/Football_League_First_Division', 'term': 'football league first division', 'wiki_url': 'http://en.wikipedia.org/wiki/Football_League_First_Division', 'match': 'partial'}"
       ]
      },
      {
       "output_type": "stream",
       "stream": "stdout",
       "text": [
        "\n",
        "{'url': 'http://dbpedia.org/resource/Football_League_Second_Division', 'term': 'football league second division', 'wiki_url': None, 'match': 'partial'}\n",
        "{'url': 'http://dbpedia.org/resource/Intellectual_property', 'term': 'intellectual property', 'wiki_url': 'http://en.wikipedia.org/wiki/Intellectual_property', 'match': 'partial'}"
       ]
      },
      {
       "output_type": "stream",
       "stream": "stdout",
       "text": [
        "\n",
        "{'url': 'http://dbpedia.org/resource/Mental_retardation', 'term': 'mental retardation', 'wiki_url': 'http://en.wikipedia.org/wiki/Mental_retardation', 'match': 'partial'}\n",
        "{'url': 'http://dbpedia.org/resource/Social_disorganization_theory', 'term': 'social disorganization theory', 'wiki_url': 'http://en.wikipedia.org/wiki/Social_disorganization_theory', 'match': 'partial'}"
       ]
      },
      {
       "output_type": "stream",
       "stream": "stdout",
       "text": [
        "\n",
        "{'url': 'http://dbpedia.org/resource/ECM_Records', 'term': 'ecm records', 'wiki_url': 'http://en.wikipedia.org/wiki/ECM_Records', 'match': 'partial'}"
       ]
      },
      {
       "output_type": "stream",
       "stream": "stdout",
       "text": [
        "\n",
        "{'url': 'http://dbpedia.org/resource/Extracellular_matrix', 'term': 'extracellular matrix', 'wiki_url': 'http://en.wikipedia.org/wiki/Extracellular_matrix', 'match': 'partial'}\n",
        "{'url': 'http://dbpedia.org/resource/XML', 'term': 'xml', 'wiki_url': 'http://en.wikipedia.org/wiki/XML', 'match': 'partial'}"
       ]
      },
      {
       "output_type": "stream",
       "stream": "stdout",
       "text": [
        "\n",
        "{'url': 'http://dbpedia.org/resource/Constitution', 'term': 'constitution', 'wiki_url': 'http://en.wikipedia.org/wiki/Constitution', 'match': 'partial'}\n",
        "{'url': 'http://dbpedia.org/resource/Herbivore', 'term': 'herbivore', 'wiki_url': 'http://en.wikipedia.org/wiki/Herbivore', 'match': 'partial'}"
       ]
      },
      {
       "output_type": "stream",
       "stream": "stdout",
       "text": [
        "\n",
        "{'url': 'http://dbpedia.org/resource/Web_browser', 'term': 'web browser', 'wiki_url': 'http://en.wikipedia.org/wiki/Web_browser', 'match': 'partial'}\n",
        "{'url': 'http://dbpedia.org/resource/Hungarian_Revolution_of_1956', 'term': 'hungarian revolution of 1956', 'wiki_url': 'http://en.wikipedia.org/wiki/Hungarian_Revolution_of_1956', 'match': 'partial'}"
       ]
      },
      {
       "output_type": "stream",
       "stream": "stdout",
       "text": [
        "\n",
        "{'url': 'http://dbpedia.org/resource/Field_goal_(American_and_Canadian_football)', 'term': 'field goal (american and canadian football)', 'wiki_url': 'http://en.wikipedia.org/wiki/Field_goal_(American_and_Canadian_football)', 'match': 'partial'}\n",
        "{'url': 'http://dbpedia.org/resource/RAI', 'term': 'rai', 'wiki_url': 'http://en.wikipedia.org/wiki/RAI', 'match': 'partial'}"
       ]
      },
      {
       "output_type": "stream",
       "stream": "stdout",
       "text": [
        "\n",
        "{'url': 'http://dbpedia.org/resource/University_of_Rhode_Island', 'term': 'university of rhode island', 'wiki_url': 'http://en.wikipedia.org/wiki/University_of_Rhode_Island', 'match': 'partial'}\n",
        "{'url': 'http://dbpedia.org/resource/Solution', 'term': 'solution', 'wiki_url': 'http://en.wikipedia.org/wiki/Solution', 'match': 'good-partial'}"
       ]
      },
      {
       "output_type": "stream",
       "stream": "stdout",
       "text": [
        "\n",
        "{'url': 'http://dbpedia.org/resource/Keywords', 'term': 'keywords', 'wiki_url': 'http://en.wikipedia.org/wiki/Keywords', 'match': 'exact'}"
       ]
      },
      {
       "output_type": "stream",
       "stream": "stdout",
       "text": [
        "\n",
        "{'url': 'http://dbpedia.org/resource/Science_fiction', 'term': 'science fiction', 'wiki_url': 'http://en.wikipedia.org/wiki/Science_fiction', 'match': 'partial'}"
       ]
      },
      {
       "output_type": "stream",
       "stream": "stdout",
       "text": [
        "\n",
        "{'url': 'http://dbpedia.org/resource/Bachelor_of_Science', 'term': 'bachelor of science', 'wiki_url': 'http://en.wikipedia.org/wiki/Bachelor_of_Science', 'match': 'partial'}\n",
        "{'url': 'http://dbpedia.org/resource/Batting_average', 'term': 'batting average', 'wiki_url': 'http://en.wikipedia.org/wiki/Batting_average', 'match': 'partial'}"
       ]
      },
      {
       "output_type": "stream",
       "stream": "stdout",
       "text": [
        "\n",
        "{'url': 'http://dbpedia.org/resource/Football_League_First_Division', 'term': 'football league first division', 'wiki_url': 'http://en.wikipedia.org/wiki/Football_League_First_Division', 'match': 'partial'}\n",
        "{'url': 'http://dbpedia.org/resource/Medicine', 'term': 'medicine', 'wiki_url': 'http://en.wikipedia.org/wiki/Medicine', 'match': 'partial'}"
       ]
      },
      {
       "output_type": "stream",
       "stream": "stdout",
       "text": [
        "\n",
        "{'url': 'http://dbpedia.org/resource/Petroleum', 'term': 'petroleum', 'wiki_url': 'http://en.wikipedia.org/wiki/Petroleum', 'match': 'partial'}\n",
        "{'url': 'http://dbpedia.org/resource/Nuclear_fusion', 'term': 'nuclear fusion', 'wiki_url': 'http://en.wikipedia.org/wiki/Nuclear_fusion', 'match': 'partial'}"
       ]
      },
      {
       "output_type": "stream",
       "stream": "stdout",
       "text": [
        "\n",
        "{'url': 'http://dbpedia.org/resource/Porting', 'term': 'porting', 'wiki_url': 'http://en.wikipedia.org/wiki/Porting', 'match': 'partial'}\n",
        "{'url': 'http://dbpedia.org/resource/Human_sexuality', 'term': 'human sexuality', 'wiki_url': 'http://en.wikipedia.org/wiki/Human_sexuality', 'match': 'partial'}"
       ]
      },
      {
       "output_type": "stream",
       "stream": "stdout",
       "text": [
        "\n",
        "{'url': 'http://dbpedia.org/resource/Socioeconomics', 'term': 'socioeconomics', 'wiki_url': 'http://en.wikipedia.org/wiki/Socioeconomics', 'match': 'partial'}\n",
        "{'url': 'http://dbpedia.org/resource/Sound_recording_and_reproduction', 'term': 'sound recording and reproduction', 'wiki_url': 'http://en.wikipedia.org/wiki/Sound_recording_and_reproduction', 'match': 'partial'}"
       ]
      },
      {
       "output_type": "stream",
       "stream": "stdout",
       "text": [
        "\n",
        "{'url': 'http://dbpedia.org/resource/Hard_disk_drive', 'term': 'hard disk drive', 'wiki_url': 'http://en.wikipedia.org/wiki/Hard_disk_drive', 'match': 'partial'}\n",
        "{'url': 'http://dbpedia.org/resource/Nuclear_fusion', 'term': 'nuclear fusion', 'wiki_url': 'http://en.wikipedia.org/wiki/Nuclear_fusion', 'match': 'partial'}"
       ]
      },
      {
       "output_type": "stream",
       "stream": "stdout",
       "text": [
        "\n",
        "{'url': 'http://dbpedia.org/resource/Porting', 'term': 'porting', 'wiki_url': 'http://en.wikipedia.org/wiki/Porting', 'match': 'partial'}\n",
        "{'url': 'http://dbpedia.org/resource/Information_technology', 'term': 'information technology', 'wiki_url': 'http://en.wikipedia.org/wiki/Information_technology', 'match': 'partial'}"
       ]
      },
      {
       "output_type": "stream",
       "stream": "stdout",
       "text": [
        "\n",
        "{'url': 'http://dbpedia.org/resource/Statistics', 'term': 'statistics', 'wiki_url': 'http://en.wikipedia.org/wiki/Statistics', 'match': 'partial'}\n",
        "{'url': 'http://dbpedia.org/resource/English_Heritage', 'term': 'english heritage', 'wiki_url': 'http://en.wikipedia.org/wiki/English_Heritage', 'match': 'partial'}"
       ]
      },
      {
       "output_type": "stream",
       "stream": "stdout",
       "text": [
        "\n",
        "{'url': 'http://dbpedia.org/resource/Scheduled_monument', 'term': 'scheduled monument', 'wiki_url': 'http://en.wikipedia.org/wiki/Scheduled_monument', 'match': 'partial'}\n",
        "{'url': 'http://dbpedia.org/resource/Conflict_of_interest', 'term': 'conflict of interest', 'wiki_url': 'http://en.wikipedia.org/wiki/Conflict_of_interest', 'match': 'partial'}"
       ]
      },
      {
       "output_type": "stream",
       "stream": "stdout",
       "text": [
        "\n",
        "{'url': 'http://dbpedia.org/resource/Homestead_Act', 'term': 'homestead act', 'wiki_url': 'http://en.wikipedia.org/wiki/Homestead_Act', 'match': 'partial'}\n",
        "{'url': 'http://dbpedia.org/resource/Science_fiction', 'term': 'science fiction', 'wiki_url': 'http://en.wikipedia.org/wiki/Science_fiction', 'match': 'partial'}"
       ]
      },
      {
       "output_type": "stream",
       "stream": "stdout",
       "text": [
        "\n",
        "{'url': 'http://dbpedia.org/resource/Fantasy', 'term': 'fantasy', 'wiki_url': 'http://en.wikipedia.org/wiki/Fantasy', 'match': 'partial'}\n",
        "{'url': 'http://dbpedia.org/resource/Greatest_hits_album', 'term': 'greatest hits album', 'wiki_url': 'http://en.wikipedia.org/wiki/Greatest_hits_album', 'match': 'partial'}"
       ]
      },
      {
       "output_type": "stream",
       "stream": "stdout",
       "text": [
        "\n",
        "{'url': 'http://dbpedia.org/resource/Toll_road', 'term': 'toll road', 'wiki_url': 'http://en.wikipedia.org/wiki/Toll_road', 'match': 'partial'}\n",
        "{'url': 'http://dbpedia.org/resource/Dam', 'term': 'dam', 'wiki_url': 'http://en.wikipedia.org/wiki/Dam', 'match': 'partial'}"
       ]
      },
      {
       "output_type": "stream",
       "stream": "stdout",
       "text": [
        "\n",
        "{'url': 'http://dbpedia.org/resource/Plurality_voting_system', 'term': 'plurality voting system', 'wiki_url': 'http://en.wikipedia.org/wiki/Plurality_voting_system', 'match': 'partial'}\n",
        "{'url': 'http://dbpedia.org/resource/IBM', 'term': 'ibm', 'wiki_url': 'http://en.wikipedia.org/wiki/IBM', 'match': 'partial'}"
       ]
      },
      {
       "output_type": "stream",
       "stream": "stdout",
       "text": [
        "\n",
        "{'url': 'http://dbpedia.org/resource/Central_business_district', 'term': 'central business district', 'wiki_url': 'http://en.wikipedia.org/wiki/Central_business_district', 'match': 'partial'}\n",
        "{'url': 'http://dbpedia.org/resource/Intelligence_quotient', 'term': 'intelligence quotient', 'wiki_url': 'http://en.wikipedia.org/wiki/Intelligence_quotient', 'match': 'partial'}"
       ]
      },
      {
       "output_type": "stream",
       "stream": "stdout",
       "text": [
        "\n",
        "{'url': 'http://dbpedia.org/resource/Measurement', 'term': 'measurement', 'wiki_url': 'http://en.wikipedia.org/wiki/Measurement', 'match': 'partial'}\n",
        "{'url': 'http://dbpedia.org/resource/Secretary', 'term': 'secretary', 'wiki_url': 'http://en.wikipedia.org/wiki/Secretary', 'match': 'partial'}"
       ]
      },
      {
       "output_type": "stream",
       "stream": "stdout",
       "text": [
        "\n",
        "{'url': 'http://dbpedia.org/resource/1994_Winter_Olympics', 'term': '1994 winter olympics', 'wiki_url': 'http://en.wikipedia.org/wiki/1994_Winter_Olympics', 'match': 'partial'}\n",
        "{'url': 'http://dbpedia.org/resource/Textbook', 'term': 'textbook', 'wiki_url': 'http://en.wikipedia.org/wiki/Textbook', 'match': 'good-partial'}"
       ]
      },
      {
       "output_type": "stream",
       "stream": "stdout",
       "text": [
        "\n",
        "{'url': 'http://dbpedia.org/resource/Statistics', 'term': 'statistics', 'wiki_url': 'http://en.wikipedia.org/wiki/Statistics', 'match': 'partial'}"
       ]
      },
      {
       "output_type": "stream",
       "stream": "stdout",
       "text": [
        "\n",
        "{'url': 'http://dbpedia.org/resource/Plurality_voting_system', 'term': 'plurality voting system', 'wiki_url': 'http://en.wikipedia.org/wiki/Plurality_voting_system', 'match': 'partial'}\n",
        "{'url': 'http://dbpedia.org/resource/Cell_(biology)', 'term': 'cell (biology)', 'wiki_url': 'http://en.wikipedia.org/wiki/Cell_(biology)', 'match': 'partial'}"
       ]
      },
      {
       "output_type": "stream",
       "stream": "stdout",
       "text": [
        "\n",
        "{'url': 'http://dbpedia.org/resource/Health', 'term': 'health', 'wiki_url': 'http://en.wikipedia.org/wiki/Health', 'match': 'partial'}\n",
        "{'url': 'http://dbpedia.org/resource/Architecture', 'term': 'architecture', 'wiki_url': 'http://en.wikipedia.org/wiki/Architecture', 'match': 'exact'}"
       ]
      },
      {
       "output_type": "stream",
       "stream": "stdout",
       "text": [
        "\n",
        "{'url': 'http://dbpedia.org/resource/Encyclopedia', 'term': 'encyclopedia', 'wiki_url': 'http://en.wikipedia.org/wiki/Encyclopedia', 'match': 'good-partial'}"
       ]
      },
      {
       "output_type": "stream",
       "stream": "stdout",
       "text": [
        "\n",
        "{'url': 'http://dbpedia.org/resource/Swiss_Inventory_of_Cultural_Property_of_National_and_Regional_Significance', 'term': 'swiss inventory of cultural property of national and regional significance', 'wiki_url': 'http://en.wikipedia.org/wiki/Swiss_Inventory_of_Cultural_Property_of_National_and_Regional_Significance', 'match': 'partial'}"
       ]
      },
      {
       "output_type": "stream",
       "stream": "stdout",
       "text": [
        "\n",
        "{'url': 'http://dbpedia.org/resource/Consonant', 'term': 'consonant', 'wiki_url': 'http://en.wikipedia.org/wiki/Consonant', 'match': 'partial'}\n",
        "{'url': 'http://dbpedia.org/resource/2004_Indian_Ocean_earthquake_and_tsunami', 'term': '2004 indian ocean earthquake and tsunami', 'wiki_url': 'http://en.wikipedia.org/wiki/2004_Indian_Ocean_earthquake_and_tsunami', 'match': 'partial'}"
       ]
      },
      {
       "output_type": "stream",
       "stream": "stdout",
       "text": [
        "\n",
        "{'url': 'http://dbpedia.org/resource/RMS_Titanic', 'term': 'rms titanic', 'wiki_url': 'http://en.wikipedia.org/wiki/RMS_Titanic', 'match': 'partial'}\n",
        "{'url': 'http://dbpedia.org/resource/Order_of_the_British_Empire', 'term': 'order of the british empire', 'wiki_url': 'http://en.wikipedia.org/wiki/Order_of_the_British_Empire', 'match': 'partial'}"
       ]
      },
      {
       "output_type": "stream",
       "stream": "stdout",
       "text": [
        "\n",
        "{'url': 'http://dbpedia.org/resource/Piano', 'term': 'piano', 'wiki_url': 'http://en.wikipedia.org/wiki/Piano', 'match': 'partial'}\n",
        "{'url': 'http://dbpedia.org/resource/Werewolf', 'term': 'werewolf', 'wiki_url': 'http://en.wikipedia.org/wiki/Werewolf', 'match': 'partial'}"
       ]
      },
      {
       "output_type": "stream",
       "stream": "stdout",
       "text": [
        "\n",
        "{'url': 'http://dbpedia.org/resource/Aerodynamics', 'term': 'aerodynamics', 'wiki_url': 'http://en.wikipedia.org/wiki/Aerodynamics', 'match': 'partial'}\n",
        "{'url': 'http://dbpedia.org/resource/Missionary_(LDS_Church)', 'term': 'missionary (lds church)', 'wiki_url': 'http://en.wikipedia.org/wiki/Missionary_%28LDS_Church%29', 'match': 'partial'}"
       ]
      },
      {
       "output_type": "stream",
       "stream": "stdout",
       "text": [
        "\n",
        "{'url': 'http://dbpedia.org/resource/Debate', 'term': 'debate', 'wiki_url': 'http://en.wikipedia.org/wiki/Debate', 'match': 'partial'}\n",
        "{'url': 'http://dbpedia.org/resource/Surgery', 'term': 'surgery', 'wiki_url': 'http://en.wikipedia.org/wiki/Surgery', 'match': 'partial'}"
       ]
      },
      {
       "output_type": "stream",
       "stream": "stdout",
       "text": [
        "\n",
        "{'url': 'http://dbpedia.org/resource/Molecular_biology', 'term': 'molecular biology', 'wiki_url': 'http://en.wikipedia.org/wiki/Molecular_biology', 'match': 'partial'}\n",
        "{'url': 'http://dbpedia.org/resource/Ronald_Coase', 'term': 'ronald coase', 'wiki_url': 'http://en.wikipedia.org/wiki/Ronald_Coase', 'match': 'partial'}"
       ]
      },
      {
       "output_type": "stream",
       "stream": "stdout",
       "text": [
        "\n",
        "{'url': 'http://dbpedia.org/resource/Coase_theorem', 'term': 'coase theorem', 'wiki_url': 'http://en.wikipedia.org/wiki/Coase_theorem', 'match': 'partial'}\n",
        "{'url': 'http://dbpedia.org/resource/Motion_picture_rating_system', 'term': 'motion picture rating system', 'wiki_url': 'http://en.wikipedia.org/wiki/Motion_picture_rating_system', 'match': 'partial'}"
       ]
      },
      {
       "output_type": "stream",
       "stream": "stdout",
       "text": [
        "\n",
        "{'url': 'http://dbpedia.org/resource/Bert_Blyleven', 'term': 'bert blyleven', 'wiki_url': 'http://en.wikipedia.org/wiki/Bert_Blyleven', 'match': 'partial'}\n",
        "{'url': 'http://dbpedia.org/resource/IBM', 'term': 'ibm', 'wiki_url': 'http://en.wikipedia.org/wiki/IBM', 'match': 'partial'}"
       ]
      },
      {
       "output_type": "stream",
       "stream": "stdout",
       "text": [
        "\n",
        "{'url': 'http://dbpedia.org/resource/Central_business_district', 'term': 'central business district', 'wiki_url': 'http://en.wikipedia.org/wiki/Central_business_district', 'match': 'partial'}\n",
        "{'url': 'http://dbpedia.org/resource/Information_technology', 'term': 'information technology', 'wiki_url': 'http://en.wikipedia.org/wiki/Information_technology', 'match': 'partial'}"
       ]
      },
      {
       "output_type": "stream",
       "stream": "stdout",
       "text": [
        "\n",
        "{'url': 'http://dbpedia.org/resource/Statistics', 'term': 'statistics', 'wiki_url': 'http://en.wikipedia.org/wiki/Statistics', 'match': 'partial'}\n",
        "{'url': 'http://dbpedia.org/resource/Secretary', 'term': 'secretary', 'wiki_url': 'http://en.wikipedia.org/wiki/Secretary', 'match': 'partial'}"
       ]
      },
      {
       "output_type": "stream",
       "stream": "stdout",
       "text": [
        "\n",
        "{'url': 'http://dbpedia.org/resource/1994_Winter_Olympics', 'term': '1994 winter olympics', 'wiki_url': 'http://en.wikipedia.org/wiki/1994_Winter_Olympics', 'match': 'partial'}\n",
        "{'url': 'http://dbpedia.org/resource/Bookmarking', 'term': 'bookmarking', 'wiki_url': 'http://en.wikipedia.org/wiki/Bookmarking', 'match': 'exact'}"
       ]
      },
      {
       "output_type": "stream",
       "stream": "stdout",
       "text": [
        "\n",
        "{'url': 'http://dbpedia.org/resource/IBM', 'term': 'ibm', 'wiki_url': 'http://en.wikipedia.org/wiki/IBM', 'match': 'partial'}"
       ]
      },
      {
       "output_type": "stream",
       "stream": "stdout",
       "text": [
        "\n",
        "{'url': 'http://dbpedia.org/resource/Central_business_district', 'term': 'central business district', 'wiki_url': 'http://en.wikipedia.org/wiki/Central_business_district', 'match': 'partial'}\n",
        "{'url': \"http://dbpedia.org/resource/Moore's_law\", 'term': \"moore's law\", 'wiki_url': \"http://en.wikipedia.org/wiki/Moore's_law\", 'match': 'good-partial'}"
       ]
      },
      {
       "output_type": "stream",
       "stream": "stdout",
       "text": [
        "\n",
        "{'url': 'http://dbpedia.org/resource/NPR', 'term': 'npr', 'wiki_url': 'http://en.wikipedia.org/wiki/NPR', 'match': 'good-partial'}"
       ]
      },
      {
       "output_type": "stream",
       "stream": "stdout",
       "text": [
        "\n",
        "{'url': 'http://dbpedia.org/resource/Nuclear_fusion', 'term': 'nuclear fusion', 'wiki_url': 'http://en.wikipedia.org/wiki/Nuclear_fusion', 'match': 'partial'}"
       ]
      },
      {
       "output_type": "stream",
       "stream": "stdout",
       "text": [
        "\n",
        "{'url': 'http://dbpedia.org/resource/Porting', 'term': 'porting', 'wiki_url': 'http://en.wikipedia.org/wiki/Porting', 'match': 'partial'}\n",
        "{'url': 'http://dbpedia.org/resource/Kitchen', 'term': 'kitchen', 'wiki_url': 'http://en.wikipedia.org/wiki/Kitchen', 'match': 'exact'}"
       ]
      },
      {
       "output_type": "stream",
       "stream": "stdout",
       "text": [
        "\n",
        "{'url': 'http://dbpedia.org/resource/Pay-per-view', 'term': 'pay-per-view', 'wiki_url': 'http://en.wikipedia.org/wiki/Pay-per-view', 'match': 'partial'}"
       ]
      },
      {
       "output_type": "stream",
       "stream": "stdout",
       "text": [
        "\n",
        "{'url': 'http://dbpedia.org/resource/First-person_shooter', 'term': 'first-person shooter', 'wiki_url': 'http://en.wikipedia.org/wiki/First-person_shooter', 'match': 'partial'}\n",
        "{'url': 'http://dbpedia.org/resource/Psychologist', 'term': 'psychologist', 'wiki_url': 'http://en.wikipedia.org/wiki/Psychologist', 'match': 'good-partial'}"
       ]
      },
      {
       "output_type": "stream",
       "stream": "stdout",
       "text": [
        "\n",
        "{'url': 'http://dbpedia.org/resource/Algorithm', 'term': 'algorithm', 'wiki_url': 'http://en.wikipedia.org/wiki/Algorithm', 'match': 'partial'}"
       ]
      },
      {
       "output_type": "stream",
       "stream": "stdout",
       "text": [
        "\n",
        "{'url': 'http://dbpedia.org/resource/Cryptography', 'term': 'cryptography', 'wiki_url': 'http://en.wikipedia.org/wiki/Cryptography', 'match': 'partial'}\n",
        "{'term': 'storagetier', 'match': 'none'}"
       ]
      },
      {
       "output_type": "stream",
       "stream": "stdout",
       "text": [
        "\n",
        "{'url': 'http://dbpedia.org/resource/Papyrus', 'term': 'papyrus', 'wiki_url': 'http://en.wikipedia.org/wiki/Papyrus', 'match': 'exact'}"
       ]
      },
      {
       "output_type": "stream",
       "stream": "stdout",
       "text": [
        "\n",
        "{'url': 'http://dbpedia.org/resource/Logic', 'term': 'logic', 'wiki_url': 'http://en.wikipedia.org/wiki/Logic', 'match': 'exact'}"
       ]
      },
      {
       "output_type": "stream",
       "stream": "stdout",
       "text": [
        "\n",
        "{'url': 'http://dbpedia.org/resource/Human_voice', 'term': 'human voice', 'wiki_url': 'http://en.wikipedia.org/wiki/Human_voice', 'match': 'partial'}"
       ]
      },
      {
       "output_type": "stream",
       "stream": "stdout",
       "text": [
        "\n",
        "{'url': 'http://dbpedia.org/resource/Presidential_Medal_of_Freedom', 'term': 'presidential medal of freedom', 'wiki_url': 'http://en.wikipedia.org/wiki/Presidential_Medal_of_Freedom', 'match': 'partial'}\n",
        "{'url': 'http://dbpedia.org/resource/American_Psychological_Association', 'term': 'american psychological association', 'wiki_url': 'http://en.wikipedia.org/wiki/American_Psychological_Association', 'match': 'partial'}"
       ]
      },
      {
       "output_type": "stream",
       "stream": "stdout",
       "text": [
        "\n",
        "{'url': 'http://dbpedia.org/resource/Humanitarianism', 'term': 'humanitarianism', 'wiki_url': 'http://en.wikipedia.org/wiki/Humanitarianism', 'match': 'partial'}\n",
        "{'url': 'http://dbpedia.org/resource/Negotiation', 'term': 'negotiation', 'wiki_url': 'http://en.wikipedia.org/wiki/Negotiation', 'match': 'exact'}"
       ]
      },
      {
       "output_type": "stream",
       "stream": "stdout",
       "text": [
        "\n",
        "{'url': 'http://dbpedia.org/resource/Chef', 'term': 'chef', 'wiki_url': 'http://en.wikipedia.org/wiki/Chef', 'match': 'partial'}"
       ]
      },
      {
       "output_type": "stream",
       "stream": "stdout",
       "text": [
        "\n",
        "{'url': 'http://dbpedia.org/resource/Dining_car', 'term': 'dining car', 'wiki_url': 'http://en.wikipedia.org/wiki/Dining_car', 'match': 'partial'}\n",
        "{'url': 'http://dbpedia.org/resource/Types_of_inhabited_localities_in_Russia', 'term': 'types of inhabited localities in russia', 'wiki_url': 'http://en.wikipedia.org/wiki/Types_of_inhabited_localities_in_Russia', 'match': 'partial'}"
       ]
      },
      {
       "output_type": "stream",
       "stream": "stdout",
       "text": [
        "\n",
        "{'url': 'http://dbpedia.org/resource/Type_species', 'term': 'type species', 'wiki_url': 'http://en.wikipedia.org/wiki/Type_species', 'match': 'partial'}\n",
        "{'url': 'http://dbpedia.org/resource/International_Labour_Organization', 'term': 'international labour organization', 'wiki_url': 'http://en.wikipedia.org/wiki/International_Labour_Organization', 'match': 'partial'}"
       ]
      },
      {
       "output_type": "stream",
       "stream": "stdout",
       "text": [
        "\n",
        "{'url': 'http://dbpedia.org/resource/Treaty', 'term': 'treaty', 'wiki_url': 'http://en.wikipedia.org/wiki/Treaty', 'match': 'partial'}\n",
        "{'url': 'http://dbpedia.org/resource/Fair_use', 'term': 'fair use', 'wiki_url': 'http://en.wikipedia.org/wiki/Fair_use', 'match': 'partial'}"
       ]
      },
      {
       "output_type": "stream",
       "stream": "stdout",
       "text": [
        "\n",
        "{'url': 'http://dbpedia.org/resource/Energy', 'term': 'energy', 'wiki_url': 'http://en.wikipedia.org/wiki/Energy', 'match': 'partial'}\n",
        "{'url': 'http://dbpedia.org/resource/Psychology', 'term': 'psychology', 'wiki_url': 'http://en.wikipedia.org/wiki/Psychology', 'match': 'partial'}"
       ]
      },
      {
       "output_type": "stream",
       "stream": "stdout",
       "text": [
        "\n",
        "{'url': 'http://dbpedia.org/resource/Human_rights', 'term': 'human rights', 'wiki_url': 'http://en.wikipedia.org/wiki/Human_rights', 'match': 'partial'}\n",
        "{'url': 'http://dbpedia.org/resource/IBM', 'term': 'ibm', 'wiki_url': 'http://en.wikipedia.org/wiki/IBM', 'match': 'partial'}"
       ]
      },
      {
       "output_type": "stream",
       "stream": "stdout",
       "text": [
        "\n",
        "{'url': 'http://dbpedia.org/resource/Central_business_district', 'term': 'central business district', 'wiki_url': 'http://en.wikipedia.org/wiki/Central_business_district', 'match': 'partial'}\n",
        "{'url': 'http://dbpedia.org/resource/Analogy', 'term': 'analogy', 'wiki_url': 'http://en.wikipedia.org/wiki/Analogy', 'match': 'good-partial'}"
       ]
      },
      {
       "output_type": "stream",
       "stream": "stdout",
       "text": [
        "\n",
        "{'url': 'http://dbpedia.org/resource/Charitable_organization', 'term': 'charitable organization', 'wiki_url': 'http://en.wikipedia.org/wiki/Charitable_organization', 'match': 'partial'}"
       ]
      },
      {
       "output_type": "stream",
       "stream": "stdout",
       "text": [
        "\n",
        "{'url': 'http://dbpedia.org/resource/National_Trust_for_Places_of_Historic_Interest_or_Natural_Beauty', 'term': 'national trust for places of historic interest or natural beauty', 'wiki_url': 'http://en.wikipedia.org/wiki/National_Trust_for_Places_of_Historic_Interest_or_Natural_Beauty', 'match': 'partial'}\n",
        "{'url': 'http://dbpedia.org/resource/Telecommunication', 'term': 'telecommunication', 'wiki_url': 'http://en.wikipedia.org/wiki/Telecommunication', 'match': 'good-partial'}"
       ]
      },
      {
       "output_type": "stream",
       "stream": "stdout",
       "text": [
        "\n",
        "{'url': 'http://dbpedia.org/resource/V8_engine', 'term': 'v8 engine', 'wiki_url': 'http://en.wikipedia.org/wiki/V8_engine', 'match': 'good-partial'}"
       ]
      },
      {
       "output_type": "stream",
       "stream": "stdout",
       "text": [
        "\n",
        "{'url': 'http://dbpedia.org/resource/Cartesian_coordinate_system', 'term': 'cartesian coordinate system', 'wiki_url': 'http://en.wikipedia.org/wiki/Cartesian_coordinate_system', 'match': 'partial'}"
       ]
      },
      {
       "output_type": "stream",
       "stream": "stdout",
       "text": [
        "\n",
        "{'url': 'http://dbpedia.org/resource/Vector_space', 'term': 'vector space', 'wiki_url': 'http://en.wikipedia.org/wiki/Vector_space', 'match': 'partial'}\n",
        "{'url': 'http://dbpedia.org/resource/State_school', 'term': 'state school', 'wiki_url': 'http://en.wikipedia.org/wiki/State_school', 'match': 'partial'}"
       ]
      },
      {
       "output_type": "stream",
       "stream": "stdout",
       "text": [
        "\n",
        "{'url': 'http://dbpedia.org/resource/Religion', 'term': 'religion', 'wiki_url': 'http://en.wikipedia.org/wiki/Religion', 'match': 'partial'}\n",
        "{'url': 'http://dbpedia.org/resource/Allies_of_World_War_II', 'term': 'allies of world war ii', 'wiki_url': 'http://en.wikipedia.org/wiki/Allies_of_World_War_II', 'match': 'partial'}"
       ]
      },
      {
       "output_type": "stream",
       "stream": "stdout",
       "text": [
        "\n",
        "{'url': 'http://dbpedia.org/resource/Lieutenant_general', 'term': 'lieutenant general', 'wiki_url': 'http://en.wikipedia.org/wiki/Lieutenant_general', 'match': 'partial'}\n",
        "{'url': 'http://dbpedia.org/resource/Vector_space', 'term': 'vector space', 'wiki_url': 'http://en.wikipedia.org/wiki/Vector_space', 'match': 'partial'}"
       ]
      },
      {
       "output_type": "stream",
       "stream": "stdout",
       "text": [
        "\n",
        "{'url': 'http://dbpedia.org/resource/Abstract_art', 'term': 'abstract art', 'wiki_url': 'http://en.wikipedia.org/wiki/Abstract_art', 'match': 'partial'}\n",
        "{'url': 'http://dbpedia.org/resource/Short_story', 'term': 'short story', 'wiki_url': 'http://en.wikipedia.org/wiki/Short_story', 'match': 'partial'}"
       ]
      },
      {
       "output_type": "stream",
       "stream": "stdout",
       "text": [
        "\n",
        "{'url': 'http://dbpedia.org/resource/Anthology', 'term': 'anthology', 'wiki_url': 'http://en.wikipedia.org/wiki/Anthology', 'match': 'partial'}\n",
        "{'term': 'threetier', 'match': 'none'}"
       ]
      },
      {
       "output_type": "stream",
       "stream": "stdout",
       "text": [
        "\n",
        "{'url': 'http://dbpedia.org/resource/Website', 'term': 'website', 'wiki_url': 'http://en.wikipedia.org/wiki/Website', 'match': 'exact'}"
       ]
      },
      {
       "output_type": "stream",
       "stream": "stdout",
       "text": [
        "\n",
        "{'url': 'http://dbpedia.org/resource/Internet', 'term': 'internet', 'wiki_url': 'http://en.wikipedia.org/wiki/Internet', 'match': 'good-partial'}"
       ]
      },
      {
       "output_type": "stream",
       "stream": "stdout",
       "text": [
        "\n",
        "{'url': 'http://dbpedia.org/resource/Publisher', 'term': 'publisher', 'wiki_url': 'http://en.wikipedia.org/wiki/Publisher', 'match': 'exact'}"
       ]
      },
      {
       "output_type": "stream",
       "stream": "stdout",
       "text": [
        "\n",
        "{'url': 'http://dbpedia.org/resource/List_of_tallest_buildings_and_structures_in_the_world', 'term': 'list of tallest buildings and structures in the world', 'wiki_url': 'http://en.wikipedia.org/wiki/List_of_tallest_buildings_and_structures_in_the_world', 'match': 'partial'}"
       ]
      },
      {
       "output_type": "stream",
       "stream": "stdout",
       "text": [
        "\n",
        "{'url': 'http://dbpedia.org/resource/Speech', 'term': 'speech', 'wiki_url': 'http://en.wikipedia.org/wiki/Speech', 'match': 'good-partial'}"
       ]
      },
      {
       "output_type": "stream",
       "stream": "stdout",
       "text": [
        "\n",
        "{'url': 'http://dbpedia.org/resource/Sports_commentator', 'term': 'sports commentator', 'wiki_url': 'http://en.wikipedia.org/wiki/Sports_commentator', 'match': 'partial'}"
       ]
      },
      {
       "output_type": "stream",
       "stream": "stdout",
       "text": [
        "\n",
        "{'url': 'http://dbpedia.org/resource/Random_House', 'term': 'random house', 'wiki_url': 'http://en.wikipedia.org/wiki/Random_House', 'match': 'partial'}\n",
        "{'url': 'http://dbpedia.org/resource/Cult_film', 'term': 'cult film', 'wiki_url': 'http://en.wikipedia.org/wiki/Cult_film', 'match': 'partial'}"
       ]
      },
      {
       "output_type": "stream",
       "stream": "stdout",
       "text": [
        "\n",
        "{'url': 'http://dbpedia.org/resource/Commodity', 'term': 'commodity', 'wiki_url': 'http://en.wikipedia.org/wiki/Commodity', 'match': 'partial'}\n",
        "{'url': 'http://dbpedia.org/resource/Windows_Desktop_Gadgets', 'term': 'windows desktop gadgets', 'wiki_url': 'http://en.wikipedia.org/wiki/Windows_Desktop_Gadgets', 'match': 'partial'}"
       ]
      },
      {
       "output_type": "stream",
       "stream": "stdout",
       "text": [
        "\n",
        "{'url': 'http://dbpedia.org/resource/Microsoft_Gadgets', 'term': 'microsoft gadgets', 'wiki_url': 'http://en.wikipedia.org/wiki/Microsoft_Gadgets', 'match': 'partial'}\n",
        "{'url': 'http://dbpedia.org/resource/Physician', 'term': 'physician', 'wiki_url': 'http://en.wikipedia.org/wiki/Physician', 'match': 'exact'}"
       ]
      },
      {
       "output_type": "stream",
       "stream": "stdout",
       "text": [
        "\n",
        "{'term': 'is it being organized svenonius ', 'match': 'none'}"
       ]
      },
      {
       "output_type": "stream",
       "stream": "stdout",
       "text": [
        "\n",
        "{'url': 'http://dbpedia.org/resource/Leadership', 'term': 'leadership', 'wiki_url': 'http://en.wikipedia.org/wiki/Leadership', 'match': 'partial'}"
       ]
      },
      {
       "output_type": "stream",
       "stream": "stdout",
       "text": [
        "\n",
        "{'url': 'http://dbpedia.org/resource/Civil_society', 'term': 'civil society', 'wiki_url': 'http://en.wikipedia.org/wiki/Civil_society', 'match': 'partial'}\n",
        "{'term': 'the amount', 'match': 'none'}"
       ]
      },
      {
       "output_type": "stream",
       "stream": "stdout",
       "text": [
        "\n",
        "{'url': 'http://dbpedia.org/resource/Library', 'term': 'library', 'wiki_url': 'http://en.wikipedia.org/wiki/Library', 'match': 'partial'}"
       ]
      },
      {
       "output_type": "stream",
       "stream": "stdout",
       "text": [
        "\n",
        "{'url': 'http://dbpedia.org/resource/Library_of_Congress', 'term': 'library of congress', 'wiki_url': 'http://en.wikipedia.org/wiki/Library_of_Congress', 'match': 'partial'}\n",
        "{'url': 'http://dbpedia.org/resource/Complexity', 'term': 'complexity', 'wiki_url': 'http://en.wikipedia.org/wiki/Complexity', 'match': 'exact'}"
       ]
      },
      {
       "output_type": "stream",
       "stream": "stdout",
       "text": [
        "\n",
        "{'term': 'is it', 'match': 'none'}"
       ]
      },
      {
       "output_type": "stream",
       "stream": "stdout",
       "text": [
        "\n",
        "{'url': 'http://dbpedia.org/resource/Soap', 'term': 'soap', 'wiki_url': 'http://en.wikipedia.org/wiki/Soap', 'match': 'good-partial'}"
       ]
      },
      {
       "output_type": "stream",
       "stream": "stdout",
       "text": [
        "\n",
        "{'url': 'http://dbpedia.org/resource/Employment', 'term': 'employment', 'wiki_url': 'http://en.wikipedia.org/wiki/Employment', 'match': 'good-partial'}"
       ]
      },
      {
       "output_type": "stream",
       "stream": "stdout",
       "text": [
        "\n",
        "{'url': 'http://dbpedia.org/resource/Hangar', 'term': 'hangar', 'wiki_url': 'http://en.wikipedia.org/wiki/Hangar', 'match': 'good-partial'}"
       ]
      },
      {
       "output_type": "stream",
       "stream": "stdout",
       "text": [
        "\n",
        "{'url': 'http://dbpedia.org/resource/CBS', 'term': 'cbs', 'wiki_url': 'http://en.wikipedia.org/wiki/CBS', 'match': 'partial'}"
       ]
      },
      {
       "output_type": "stream",
       "stream": "stdout",
       "text": [
        "\n",
        "{'url': 'http://dbpedia.org/resource/Microsoft_Windows', 'term': 'microsoft windows', 'wiki_url': 'http://en.wikipedia.org/wiki/Microsoft_Windows', 'match': 'partial'}\n",
        "{'url': 'http://dbpedia.org/resource/Writer', 'term': 'writer', 'wiki_url': 'http://en.wikipedia.org/wiki/Writer', 'match': 'partial'}"
       ]
      },
      {
       "output_type": "stream",
       "stream": "stdout",
       "text": [
        "\n",
        "{'url': 'http://dbpedia.org/resource/Author', 'term': 'author', 'wiki_url': 'http://en.wikipedia.org/wiki/Author', 'match': 'partial'}\n",
        "{'url': 'http://dbpedia.org/resource/Sexual_intercourse', 'term': 'sexual intercourse', 'wiki_url': 'http://en.wikipedia.org/wiki/Sexual_intercourse', 'match': 'partial'}"
       ]
      },
      {
       "output_type": "stream",
       "stream": "stdout",
       "text": [
        "\n",
        "{'url': 'http://dbpedia.org/resource/American_Film_Institute', 'term': 'american film institute', 'wiki_url': 'http://en.wikipedia.org/wiki/American_Film_Institute', 'match': 'partial'}\n",
        "{'term': 'is', 'match': 'none'}"
       ]
      },
      {
       "output_type": "stream",
       "stream": "stdout",
       "text": [
        "\n",
        "{'url': 'http://dbpedia.org/resource/Information_technology', 'term': 'information technology', 'wiki_url': 'http://en.wikipedia.org/wiki/Information_technology', 'match': 'partial'}"
       ]
      },
      {
       "output_type": "stream",
       "stream": "stdout",
       "text": [
        "\n",
        "{'url': 'http://dbpedia.org/resource/Statistics', 'term': 'statistics', 'wiki_url': 'http://en.wikipedia.org/wiki/Statistics', 'match': 'partial'}\n",
        "{'url': 'http://dbpedia.org/resource/Image', 'term': 'image', 'wiki_url': 'http://en.wikipedia.org/wiki/Image', 'match': 'good-partial'}"
       ]
      },
      {
       "output_type": "stream",
       "stream": "stdout",
       "text": [
        "\n",
        "{'term': 'in', 'match': 'none'}"
       ]
      },
      {
       "output_type": "stream",
       "stream": "stdout",
       "text": [
        "\n",
        "{'url': 'http://dbpedia.org/resource/Public_domain', 'term': 'public domain', 'wiki_url': 'http://en.wikipedia.org/wiki/Public_domain', 'match': 'partial'}"
       ]
      },
      {
       "output_type": "stream",
       "stream": "stdout",
       "text": [
        "\n",
        "{'url': 'http://dbpedia.org/resource/Contributing_property', 'term': 'contributing property', 'wiki_url': 'http://en.wikipedia.org/wiki/Contributing_property', 'match': 'partial'}\n",
        "{'url': 'http://dbpedia.org/resource/Sexual_dimorphism', 'term': 'sexual dimorphism', 'wiki_url': 'http://en.wikipedia.org/wiki/Sexual_dimorphism', 'match': 'partial'}"
       ]
      },
      {
       "output_type": "stream",
       "stream": "stdout",
       "text": [
        "\n",
        "{'url': 'http://dbpedia.org/resource/Fictional_universe', 'term': 'fictional universe', 'wiki_url': 'http://en.wikipedia.org/wiki/Fictional_universe', 'match': 'partial'}\n",
        "{'url': 'http://dbpedia.org/resource/Secretary', 'term': 'secretary', 'wiki_url': 'http://en.wikipedia.org/wiki/Secretary', 'match': 'partial'}"
       ]
      },
      {
       "output_type": "stream",
       "stream": "stdout",
       "text": [
        "\n",
        "{'url': 'http://dbpedia.org/resource/1994_Winter_Olympics', 'term': '1994 winter olympics', 'wiki_url': 'http://en.wikipedia.org/wiki/1994_Winter_Olympics', 'match': 'partial'}\n",
        "{'url': 'http://dbpedia.org/resource/Genetics', 'term': 'genetics', 'wiki_url': 'http://en.wikipedia.org/wiki/Genetics', 'match': 'partial'}"
       ]
      },
      {
       "output_type": "stream",
       "stream": "stdout",
       "text": [
        "\n",
        "{'url': 'http://dbpedia.org/resource/Impact_factor', 'term': 'impact factor', 'wiki_url': 'http://en.wikipedia.org/wiki/Impact_factor', 'match': 'partial'}\n",
        "{'url': 'http://dbpedia.org/resource/Author', 'term': 'author', 'wiki_url': 'http://en.wikipedia.org/wiki/Author', 'match': 'partial'}"
       ]
      },
      {
       "output_type": "stream",
       "stream": "stdout",
       "text": [
        "\n",
        "{'url': \"http://dbpedia.org/resource/Children's_literature\", 'term': \"children's literature\", 'wiki_url': \"http://en.wikipedia.org/wiki/Children's_literature\", 'match': 'partial'}\n",
        "{'url': 'http://dbpedia.org/resource/Utilitarianism', 'term': 'utilitarianism', 'wiki_url': 'http://en.wikipedia.org/wiki/Utilitarianism', 'match': 'good-partial'}"
       ]
      },
      {
       "output_type": "stream",
       "stream": "stdout",
       "text": [
        "\n",
        "{'url': 'http://dbpedia.org/resource/Temple', 'term': 'temple', 'wiki_url': 'http://en.wikipedia.org/wiki/Temple', 'match': 'good-partial'}"
       ]
      },
      {
       "output_type": "stream",
       "stream": "stdout",
       "text": [
        "\n",
        "{'url': 'http://dbpedia.org/resource/IBM', 'term': 'ibm', 'wiki_url': 'http://en.wikipedia.org/wiki/IBM', 'match': 'partial'}"
       ]
      },
      {
       "output_type": "stream",
       "stream": "stdout",
       "text": [
        "\n",
        "{'url': 'http://dbpedia.org/resource/Central_business_district', 'term': 'central business district', 'wiki_url': 'http://en.wikipedia.org/wiki/Central_business_district', 'match': 'partial'}\n",
        "{'url': 'http://dbpedia.org/resource/Europe', 'term': 'europe', 'wiki_url': 'http://en.wikipedia.org/wiki/Europe', 'match': 'good-partial'}"
       ]
      },
      {
       "output_type": "stream",
       "stream": "stdout",
       "text": [
        "\n",
        "{'url': 'http://dbpedia.org/resource/Greatest_hits_album', 'term': 'greatest hits album', 'wiki_url': 'http://en.wikipedia.org/wiki/Greatest_hits_album', 'match': 'partial'}"
       ]
      },
      {
       "output_type": "stream",
       "stream": "stdout",
       "text": [
        "\n",
        "{'url': 'http://dbpedia.org/resource/Toll_road', 'term': 'toll road', 'wiki_url': 'http://en.wikipedia.org/wiki/Toll_road', 'match': 'partial'}\n",
        "{'url': 'http://dbpedia.org/resource/Round-robin_tournament', 'term': 'round-robin tournament', 'wiki_url': 'http://en.wikipedia.org/wiki/Round-robin_tournament', 'match': 'partial'}"
       ]
      },
      {
       "output_type": "stream",
       "stream": "stdout",
       "text": [
        "\n",
        "{'url': 'http://dbpedia.org/resource/Carnivore', 'term': 'carnivore', 'wiki_url': 'http://en.wikipedia.org/wiki/Carnivore', 'match': 'partial'}\n",
        "{'url': 'http://dbpedia.org/resource/Bicycle', 'term': 'bicycle', 'wiki_url': 'http://en.wikipedia.org/wiki/Bicycle', 'match': 'good-partial'}"
       ]
      },
      {
       "output_type": "stream",
       "stream": "stdout",
       "text": [
        "\n",
        "{'url': 'http://dbpedia.org/resource/Cycling', 'term': 'cycling', 'wiki_url': 'http://en.wikipedia.org/wiki/Cycling', 'match': 'good-partial'}\n",
        "{'url': 'http://dbpedia.org/resource/Library', 'term': 'library', 'wiki_url': 'http://en.wikipedia.org/wiki/Library', 'match': 'partial'}"
       ]
      },
      {
       "output_type": "stream",
       "stream": "stdout",
       "text": [
        "\n",
        "{'url': 'http://dbpedia.org/resource/Library_of_Congress', 'term': 'library of congress', 'wiki_url': 'http://en.wikipedia.org/wiki/Library_of_Congress', 'match': 'partial'}\n",
        "{'url': 'http://dbpedia.org/resource/Charitable_organization', 'term': 'charitable organization', 'wiki_url': 'http://en.wikipedia.org/wiki/Charitable_organization', 'match': 'partial'}"
       ]
      },
      {
       "output_type": "stream",
       "stream": "stdout",
       "text": [
        "\n",
        "{'url': 'http://dbpedia.org/resource/Heritage_railway', 'term': 'heritage railway', 'wiki_url': 'http://en.wikipedia.org/wiki/Heritage_railway', 'match': 'partial'}\n",
        "{'url': 'http://dbpedia.org/resource/Mary_(mother_of_Jesus)', 'term': 'mary (mother of jesus)', 'wiki_url': 'http://en.wikipedia.org/wiki/Mary_(mother_of_Jesus)', 'match': 'partial'}"
       ]
      },
      {
       "output_type": "stream",
       "stream": "stdout",
       "text": [
        "\n",
        "{'url': 'http://dbpedia.org/resource/Pregnancy', 'term': 'pregnancy', 'wiki_url': 'http://en.wikipedia.org/wiki/Pregnancy', 'match': 'partial'}\n",
        "{'term': 'the', 'match': 'none'}"
       ]
      },
      {
       "output_type": "stream",
       "stream": "stdout",
       "text": [
        "\n",
        "{'url': 'http://dbpedia.org/resource/Yahoo!', 'term': 'yahoo!', 'wiki_url': 'http://en.wikipedia.org/wiki/Yahoo!', 'match': 'good-partial'}"
       ]
      },
      {
       "output_type": "stream",
       "stream": "stdout",
       "text": [
        "\n",
        "{'url': 'http://dbpedia.org/resource/Internet', 'term': 'internet', 'wiki_url': 'http://en.wikipedia.org/wiki/Internet', 'match': 'partial'}"
       ]
      },
      {
       "output_type": "stream",
       "stream": "stdout",
       "text": [
        "\n",
        "{'url': 'http://dbpedia.org/resource/Blog', 'term': 'blog', 'wiki_url': 'http://en.wikipedia.org/wiki/Blog', 'match': 'partial'}\n",
        "{'url': 'http://dbpedia.org/resource/Business', 'term': 'business', 'wiki_url': 'http://en.wikipedia.org/wiki/Business', 'match': 'exact'}"
       ]
      },
      {
       "output_type": "stream",
       "stream": "stdout",
       "text": [
        "\n",
        "{'url': 'http://dbpedia.org/resource/Library', 'term': 'library', 'wiki_url': 'http://en.wikipedia.org/wiki/Library', 'match': 'partial'}"
       ]
      },
      {
       "output_type": "stream",
       "stream": "stdout",
       "text": [
        "\n",
        "{'url': 'http://dbpedia.org/resource/Library_of_Congress', 'term': 'library of congress', 'wiki_url': 'http://en.wikipedia.org/wiki/Library_of_Congress', 'match': 'partial'}\n",
        "{'url': 'http://dbpedia.org/resource/Human', 'term': 'human', 'wiki_url': 'http://en.wikipedia.org/wiki/Human', 'match': 'exact'}"
       ]
      },
      {
       "output_type": "stream",
       "stream": "stdout",
       "text": [
        "\n",
        "{'url': 'http://dbpedia.org/resource/Monotypic_taxon', 'term': 'monotypic taxon', 'wiki_url': 'http://en.wikipedia.org/wiki/Monotypic_taxon', 'match': 'partial'}"
       ]
      },
      {
       "output_type": "stream",
       "stream": "stdout",
       "text": [
        "\n",
        "{'url': 'http://dbpedia.org/resource/Common_name', 'term': 'common name', 'wiki_url': 'http://en.wikipedia.org/wiki/Common_name', 'match': 'partial'}\n",
        "{'url': 'http://dbpedia.org/resource/Concept_album', 'term': 'concept album', 'wiki_url': 'http://en.wikipedia.org/wiki/Concept_album', 'match': 'partial'}"
       ]
      },
      {
       "output_type": "stream",
       "stream": "stdout",
       "text": [
        "\n",
        "{'url': 'http://dbpedia.org/resource/Social_network', 'term': 'social network', 'wiki_url': 'http://en.wikipedia.org/wiki/Social_network', 'match': 'partial'}\n",
        "{'url': 'http://dbpedia.org/resource/Habeas_corpus_petitions_of_Guantanamo_Bay_detainees', 'term': 'habeas corpus petitions of guantanamo bay detainees', 'wiki_url': 'http://en.wikipedia.org/wiki/Habeas_corpus_petitions_of_Guantanamo_Bay_detainees', 'match': 'partial'}"
       ]
      },
      {
       "output_type": "stream",
       "stream": "stdout",
       "text": [
        "\n",
        "{'url': 'http://dbpedia.org/resource/Habeas_corpus', 'term': 'habeas corpus', 'wiki_url': 'http://en.wikipedia.org/wiki/Habeas_corpus', 'match': 'partial'}\n",
        "{'url': 'http://dbpedia.org/resource/Internet', 'term': 'internet', 'wiki_url': 'http://en.wikipedia.org/wiki/Internet', 'match': 'partial'}"
       ]
      },
      {
       "output_type": "stream",
       "stream": "stdout",
       "text": [
        "\n",
        "{'url': 'http://dbpedia.org/resource/Blog', 'term': 'blog', 'wiki_url': 'http://en.wikipedia.org/wiki/Blog', 'match': 'partial'}\n",
        "{'url': 'http://dbpedia.org/resource/Instantiation', 'term': 'instantiation', 'wiki_url': 'http://en.wikipedia.org/wiki/Instantiation', 'match': 'exact'}"
       ]
      },
      {
       "output_type": "stream",
       "stream": "stdout",
       "text": [
        "\n",
        "{'url': 'http://dbpedia.org/resource/IBM', 'term': 'ibm', 'wiki_url': 'http://en.wikipedia.org/wiki/IBM', 'match': 'partial'}"
       ]
      },
      {
       "output_type": "stream",
       "stream": "stdout",
       "text": [
        "\n",
        "{'url': 'http://dbpedia.org/resource/Central_business_district', 'term': 'central business district', 'wiki_url': 'http://en.wikipedia.org/wiki/Central_business_district', 'match': 'partial'}\n",
        "{'url': 'http://dbpedia.org/resource/Google', 'term': 'google', 'wiki_url': 'http://en.wikipedia.org/wiki/Google', 'match': 'partial'}"
       ]
      },
      {
       "output_type": "stream",
       "stream": "stdout",
       "text": [
        "\n",
        "{'url': 'http://dbpedia.org/resource/Android_(operating_system)', 'term': 'android (operating system)', 'wiki_url': 'http://en.wikipedia.org/wiki/Android_(operating_system)', 'match': 'partial'}\n",
        "{'url': 'http://dbpedia.org/resource/Homology_(biology)', 'term': 'homology (biology)', 'wiki_url': 'http://en.wikipedia.org/wiki/Homology_(biology)', 'match': 'partial'}"
       ]
      },
      {
       "output_type": "stream",
       "stream": "stdout",
       "text": [
        "\n",
        "{'url': 'http://dbpedia.org/resource/Convergent_evolution', 'term': 'convergent evolution', 'wiki_url': 'http://en.wikipedia.org/wiki/Convergent_evolution', 'match': 'partial'}\n",
        "{'url': \"http://dbpedia.org/resource/Occam's_razor\", 'term': \"occam's razor\", 'wiki_url': 'http://en.wikipedia.org/wiki/Occam%27s_razor', 'match': 'partial'}"
       ]
      },
      {
       "output_type": "stream",
       "stream": "stdout",
       "text": [
        "\n",
        "{'url': 'http://dbpedia.org/resource/Dependent_and_independent_variables', 'term': 'dependent and independent variables', 'wiki_url': 'http://en.wikipedia.org/wiki/Dependent_and_independent_variables', 'match': 'partial'}\n",
        "{'url': 'http://dbpedia.org/resource/Social_psychology', 'term': 'social psychology', 'wiki_url': 'http://en.wikipedia.org/wiki/Social_psychology', 'match': 'partial'}"
       ]
      },
      {
       "output_type": "stream",
       "stream": "stdout",
       "text": [
        "\n",
        "{'url': 'http://dbpedia.org/resource/Individualism', 'term': 'individualism', 'wiki_url': 'http://en.wikipedia.org/wiki/Individualism', 'match': 'partial'}\n",
        "{'url': 'http://dbpedia.org/resource/Copyright', 'term': 'copyright', 'wiki_url': 'http://en.wikipedia.org/wiki/Copyright', 'match': 'good-partial'}"
       ]
      },
      {
       "output_type": "stream",
       "stream": "stdout",
       "text": [
        "\n",
        "{'url': 'http://dbpedia.org/resource/State_school', 'term': 'state school', 'wiki_url': 'http://en.wikipedia.org/wiki/State_school', 'match': 'partial'}"
       ]
      },
      {
       "output_type": "stream",
       "stream": "stdout",
       "text": [
        "\n",
        "{'url': 'http://dbpedia.org/resource/Religion', 'term': 'religion', 'wiki_url': 'http://en.wikipedia.org/wiki/Religion', 'match': 'partial'}\n",
        "{'url': 'http://dbpedia.org/resource/Early_Christianity', 'term': 'early christianity', 'wiki_url': 'http://en.wikipedia.org/wiki/Early_Christianity', 'match': 'partial'}"
       ]
      },
      {
       "output_type": "stream",
       "stream": "stdout",
       "text": [
        "\n",
        "{'url': 'http://dbpedia.org/resource/Ancient_history', 'term': 'ancient history', 'wiki_url': 'http://en.wikipedia.org/wiki/Ancient_history', 'match': 'partial'}\n",
        "{'url': 'http://dbpedia.org/resource/Greatest_hits_album', 'term': 'greatest hits album', 'wiki_url': 'http://en.wikipedia.org/wiki/Greatest_hits_album', 'match': 'partial'}"
       ]
      },
      {
       "output_type": "stream",
       "stream": "stdout",
       "text": [
        "\n",
        "{'url': 'http://dbpedia.org/resource/Toll_road', 'term': 'toll road', 'wiki_url': 'http://en.wikipedia.org/wiki/Toll_road', 'match': 'partial'}\n",
        "{'url': 'http://dbpedia.org/resource/Hampshire', 'term': 'hampshire', 'wiki_url': 'http://en.wikipedia.org/wiki/Hampshire', 'match': 'partial'}"
       ]
      },
      {
       "output_type": "stream",
       "stream": "stdout",
       "text": [
        "\n",
        "{'url': 'http://dbpedia.org/resource/Homosexuality', 'term': 'homosexuality', 'wiki_url': 'http://en.wikipedia.org/wiki/Homosexuality', 'match': 'partial'}\n",
        "{'url': 'http://dbpedia.org/resource/Exchangeable_image_file_format', 'term': 'exchangeable image file format', 'wiki_url': 'http://en.wikipedia.org/wiki/Exchangeable_image_file_format', 'match': 'partial'}"
       ]
      },
      {
       "output_type": "stream",
       "stream": "stdout",
       "text": [
        "\n",
        "{'url': 'http://dbpedia.org/resource/Template:R_from_EXIF', 'term': 'template:r from exif', 'wiki_url': None, 'match': 'partial'}\n",
        "{'url': \"http://dbpedia.org/resource/Occam's_razor\", 'term': \"occam's razor\", 'wiki_url': 'http://en.wikipedia.org/wiki/Occam%27s_razor', 'match': 'partial'}"
       ]
      },
      {
       "output_type": "stream",
       "stream": "stdout",
       "text": [
        "\n",
        "{'url': 'http://dbpedia.org/resource/Adaptive_reuse', 'term': 'adaptive reuse', 'wiki_url': 'http://en.wikipedia.org/wiki/Adaptive_reuse', 'match': 'partial'}\n",
        "{'url': 'http://dbpedia.org/resource/Contract', 'term': 'contract', 'wiki_url': 'http://en.wikipedia.org/wiki/Contract', 'match': 'partial'}"
       ]
      },
      {
       "output_type": "stream",
       "stream": "stdout",
       "text": [
        "\n",
        "{'url': 'http://dbpedia.org/resource/Employment', 'term': 'employment', 'wiki_url': 'http://en.wikipedia.org/wiki/Employment', 'match': 'partial'}\n",
        "{'url': 'http://dbpedia.org/resource/Secretary', 'term': 'secretary', 'wiki_url': 'http://en.wikipedia.org/wiki/Secretary', 'match': 'partial'}"
       ]
      },
      {
       "output_type": "stream",
       "stream": "stdout",
       "text": [
        "\n",
        "{'url': 'http://dbpedia.org/resource/1994_Winter_Olympics', 'term': '1994 winter olympics', 'wiki_url': 'http://en.wikipedia.org/wiki/1994_Winter_Olympics', 'match': 'partial'}\n",
        "{'url': 'http://dbpedia.org/resource/National_Football_League', 'term': 'national football league', 'wiki_url': 'http://en.wikipedia.org/wiki/National_Football_League', 'match': 'partial'}"
       ]
      },
      {
       "output_type": "stream",
       "stream": "stdout",
       "text": [
        "\n",
        "{'url': 'http://dbpedia.org/resource/Boxing', 'term': 'boxing', 'wiki_url': 'http://en.wikipedia.org/wiki/Boxing', 'match': 'partial'}\n",
        "{'url': 'http://dbpedia.org/resource/Segunda_Divisi\\xc3\\xb3n', 'term': 'segunda divisi\\xc3\\xb3n', 'wiki_url': None, 'match': 'partial'}"
       ]
      },
      {
       "output_type": "stream",
       "stream": "stdout",
       "text": [
        "\n",
        "{'url': 'http://dbpedia.org/resource/Stellar_classification', 'term': 'stellar classification', 'wiki_url': 'http://en.wikipedia.org/wiki/Stellar_classification', 'match': 'partial'}\n",
        "{'url': 'http://dbpedia.org/resource/Judge', 'term': 'judge', 'wiki_url': 'http://en.wikipedia.org/wiki/Judge', 'match': 'exact'}"
       ]
      },
      {
       "output_type": "stream",
       "stream": "stdout",
       "text": [
        "\n",
        "{'url': 'http://dbpedia.org/resource/Metafiction', 'term': 'metafiction', 'wiki_url': 'http://en.wikipedia.org/wiki/Metafiction', 'match': 'partial'}"
       ]
      },
      {
       "output_type": "stream",
       "stream": "stdout",
       "text": [
        "\n",
        "{'url': 'http://dbpedia.org/resource/Historical_criticism', 'term': 'historical criticism', 'wiki_url': 'http://en.wikipedia.org/wiki/Historical_criticism', 'match': 'partial'}\n",
        "{'url': 'http://dbpedia.org/resource/Standardization', 'term': 'standardization', 'wiki_url': 'http://en.wikipedia.org/wiki/Standardization', 'match': 'exact'}"
       ]
      },
      {
       "output_type": "stream",
       "stream": "stdout",
       "text": [
        "\n",
        "{'url': 'http://dbpedia.org/resource/XML', 'term': 'xml', 'wiki_url': 'http://en.wikipedia.org/wiki/XML', 'match': 'partial'}"
       ]
      },
      {
       "output_type": "stream",
       "stream": "stdout",
       "text": [
        "\n",
        "{'url': 'http://dbpedia.org/resource/HTML', 'term': 'html', 'wiki_url': 'http://en.wikipedia.org/wiki/HTML', 'match': 'partial'}\n",
        "{'url': 'http://dbpedia.org/resource/CBS', 'term': 'cbs', 'wiki_url': 'http://en.wikipedia.org/wiki/CBS', 'match': 'partial'}"
       ]
      },
      {
       "output_type": "stream",
       "stream": "stdout",
       "text": [
        "\n",
        "{'url': 'http://dbpedia.org/resource/Microsoft_Windows', 'term': 'microsoft windows', 'wiki_url': 'http://en.wikipedia.org/wiki/Microsoft_Windows', 'match': 'partial'}\n",
        "{'url': 'http://dbpedia.org/resource/Species', 'term': 'species', 'wiki_url': 'http://en.wikipedia.org/wiki/Species', 'match': 'good-partial'}"
       ]
      },
      {
       "output_type": "stream",
       "stream": "stdout",
       "text": [
        "\n",
        "{'url': 'http://dbpedia.org/resource/Zoo', 'term': 'zoo', 'wiki_url': 'http://en.wikipedia.org/wiki/Zoo', 'match': 'good-partial'}"
       ]
      },
      {
       "output_type": "stream",
       "stream": "stdout",
       "text": [
        "\n",
        "{'url': 'http://dbpedia.org/resource/CBS', 'term': 'cbs', 'wiki_url': 'http://en.wikipedia.org/wiki/CBS', 'match': 'partial'}"
       ]
      },
      {
       "output_type": "stream",
       "stream": "stdout",
       "text": [
        "\n",
        "{'url': 'http://dbpedia.org/resource/Microsoft_Windows', 'term': 'microsoft windows', 'wiki_url': 'http://en.wikipedia.org/wiki/Microsoft_Windows', 'match': 'partial'}\n",
        "{'url': 'http://dbpedia.org/resource/Windows_Desktop_Gadgets', 'term': 'windows desktop gadgets', 'wiki_url': 'http://en.wikipedia.org/wiki/Windows_Desktop_Gadgets', 'match': 'partial'}"
       ]
      },
      {
       "output_type": "stream",
       "stream": "stdout",
       "text": [
        "\n",
        "{'url': 'http://dbpedia.org/resource/Microsoft_Gadgets', 'term': 'microsoft gadgets', 'wiki_url': 'http://en.wikipedia.org/wiki/Microsoft_Gadgets', 'match': 'partial'}\n",
        "{'url': 'http://dbpedia.org/resource/Multiple_sclerosis', 'term': 'multiple sclerosis', 'wiki_url': 'http://en.wikipedia.org/wiki/Multiple_sclerosis', 'match': 'partial'}"
       ]
      },
      {
       "output_type": "stream",
       "stream": "stdout",
       "text": [
        "\n",
        "{'url': 'http://dbpedia.org/resource/Multilingualism', 'term': 'multilingualism', 'wiki_url': 'http://en.wikipedia.org/wiki/Multilingualism', 'match': 'partial'}\n",
        "{'url': 'http://dbpedia.org/resource/Metamodeling', 'term': 'metamodeling', 'wiki_url': 'http://en.wikipedia.org/wiki/Metamodeling', 'match': 'good-partial'}"
       ]
      },
      {
       "output_type": "stream",
       "stream": "stdout",
       "text": [
        "\n",
        "{'url': 'http://dbpedia.org/resource/Paragraph', 'term': 'paragraph', 'wiki_url': 'http://en.wikipedia.org/wiki/Paragraph', 'match': 'good-partial'}"
       ]
      },
      {
       "output_type": "stream",
       "stream": "stdout",
       "text": [
        "\n",
        "{'term': 'an ', 'match': 'none'}"
       ]
      },
      {
       "output_type": "stream",
       "stream": "stdout",
       "text": [
        "\n",
        "{'url': 'http://dbpedia.org/resource/S._Harinarayana', 'term': 's. harinarayana', 'wiki_url': 'http://en.wikipedia.org/wiki/S._Harinarayana', 'match': 'good-partial'}"
       ]
      },
      {
       "output_type": "stream",
       "stream": "stdout",
       "text": [
        "\n",
        "{'url': 'http://dbpedia.org/resource/Count', 'term': 'count', 'wiki_url': 'http://en.wikipedia.org/wiki/Count', 'match': 'good-partial'}"
       ]
      },
      {
       "output_type": "stream",
       "stream": "stdout",
       "text": [
        "\n",
        "{'url': 'http://dbpedia.org/resource/Public_domain', 'term': 'public domain', 'wiki_url': 'http://en.wikipedia.org/wiki/Public_domain', 'match': 'partial'}"
       ]
      },
      {
       "output_type": "stream",
       "stream": "stdout",
       "text": [
        "\n",
        "{'url': 'http://dbpedia.org/resource/Contributing_property', 'term': 'contributing property', 'wiki_url': 'http://en.wikipedia.org/wiki/Contributing_property', 'match': 'partial'}\n",
        "{'url': 'http://dbpedia.org/resource/Petroleum', 'term': 'petroleum', 'wiki_url': 'http://en.wikipedia.org/wiki/Petroleum', 'match': 'partial'}"
       ]
      },
      {
       "output_type": "stream",
       "stream": "stdout",
       "text": [
        "\n",
        "{'url': 'http://dbpedia.org/resource/Broadcast_syndication', 'term': 'broadcast syndication', 'wiki_url': 'http://en.wikipedia.org/wiki/Broadcast_syndication', 'match': 'partial'}\n",
        "{'term': 'for', 'match': 'none'}"
       ]
      },
      {
       "output_type": "stream",
       "stream": "stdout",
       "text": [
        "\n",
        "{'url': 'http://dbpedia.org/resource/Local_Government_Act_1972', 'term': 'local government act 1972', 'wiki_url': 'http://en.wikipedia.org/wiki/Local_Government_Act_1972', 'match': 'partial'}"
       ]
      },
      {
       "output_type": "stream",
       "stream": "stdout",
       "text": [
        "\n",
        "{'url': 'http://dbpedia.org/resource/Plate_tectonics', 'term': 'plate tectonics', 'wiki_url': 'http://en.wikipedia.org/wiki/Plate_tectonics', 'match': 'partial'}\n",
        "{'term': 'embodies', 'match': 'none'}"
       ]
      },
      {
       "output_type": "stream",
       "stream": "stdout",
       "text": [
        "\n",
        "{'url': 'http://dbpedia.org/resource/International_Union_for_Conservation_of_Nature', 'term': 'international union for conservation of nature', 'wiki_url': 'http://en.wikipedia.org/wiki/International_Union_for_Conservation_of_Nature', 'match': 'partial'}"
       ]
      },
      {
       "output_type": "stream",
       "stream": "stdout",
       "text": [
        "\n",
        "{'url': 'http://dbpedia.org/resource/Renewable_energy', 'term': 'renewable energy', 'wiki_url': 'http://en.wikipedia.org/wiki/Renewable_energy', 'match': 'partial'}\n",
        "{'url': 'http://dbpedia.org/resource/Uniform_polyhedron', 'term': 'uniform polyhedron', 'wiki_url': 'http://en.wikipedia.org/wiki/Uniform_polyhedron', 'match': 'partial'}"
       ]
      },
      {
       "output_type": "stream",
       "stream": "stdout",
       "text": [
        "\n",
        "{'url': 'http://dbpedia.org/resource/Non-uniform_rational_B-spline', 'term': 'non-uniform rational b-spline', 'wiki_url': 'http://en.wikipedia.org/wiki/Non-uniform_rational_B-spline', 'match': 'partial'}\n",
        "{'url': 'http://dbpedia.org/resource/Subscription_business_model', 'term': 'subscription business model', 'wiki_url': 'http://en.wikipedia.org/wiki/Subscription_business_model', 'match': 'partial'}"
       ]
      },
      {
       "output_type": "stream",
       "stream": "stdout",
       "text": [
        "\n",
        "{'url': 'http://dbpedia.org/resource/Electronic_publishing', 'term': 'electronic publishing', 'wiki_url': 'http://en.wikipedia.org/wiki/Electronic_publishing', 'match': 'partial'}\n",
        "{'url': 'http://dbpedia.org/resource/WiMAX', 'term': 'wimax', 'wiki_url': 'http://en.wikipedia.org/wiki/WiMAX', 'match': 'partial'}"
       ]
      },
      {
       "output_type": "stream",
       "stream": "stdout",
       "text": [
        "\n",
        "{'url': 'http://dbpedia.org/resource/Interoperability', 'term': 'interoperability', 'wiki_url': 'http://en.wikipedia.org/wiki/Interoperability', 'match': 'partial'}\n",
        "{'url': 'http://dbpedia.org/resource/Early_Christianity', 'term': 'early christianity', 'wiki_url': 'http://en.wikipedia.org/wiki/Early_Christianity', 'match': 'partial'}"
       ]
      },
      {
       "output_type": "stream",
       "stream": "stdout",
       "text": [
        "\n",
        "{'url': 'http://dbpedia.org/resource/Ancient_history', 'term': 'ancient history', 'wiki_url': 'http://en.wikipedia.org/wiki/Ancient_history', 'match': 'partial'}\n",
        "{'url': 'http://dbpedia.org/resource/Manufacturing', 'term': 'manufacturing', 'wiki_url': 'http://en.wikipedia.org/wiki/Manufacturing', 'match': 'exact'}"
       ]
      },
      {
       "output_type": "stream",
       "stream": "stdout",
       "text": [
        "\n",
        "{'url': 'http://dbpedia.org/resource/Cemetery', 'term': 'cemetery', 'wiki_url': 'http://en.wikipedia.org/wiki/Cemetery', 'match': 'exact'}"
       ]
      },
      {
       "output_type": "stream",
       "stream": "stdout",
       "text": [
        "\n",
        "{'url': 'http://dbpedia.org/resource/Charitable_organization', 'term': 'charitable organization', 'wiki_url': 'http://en.wikipedia.org/wiki/Charitable_organization', 'match': 'partial'}"
       ]
      },
      {
       "output_type": "stream",
       "stream": "stdout",
       "text": [
        "\n",
        "{'url': 'http://dbpedia.org/resource/The_New_York_Times_Best_Seller_list', 'term': 'the new york times best seller list', 'wiki_url': 'http://en.wikipedia.org/wiki/The_New_York_Times_Best_Seller_list', 'match': 'partial'}\n",
        "{'url': 'http://dbpedia.org/resource/Substance_abuse', 'term': 'substance abuse', 'wiki_url': 'http://en.wikipedia.org/wiki/Substance_abuse', 'match': 'partial'}"
       ]
      },
      {
       "output_type": "stream",
       "stream": "stdout",
       "text": [
        "\n",
        "{'url': 'http://dbpedia.org/resource/Wheelchair', 'term': 'wheelchair', 'wiki_url': 'http://en.wikipedia.org/wiki/Wheelchair', 'match': 'partial'}\n",
        "{'url': 'http://dbpedia.org/resource/Right-wing_politics', 'term': 'right-wing politics', 'wiki_url': 'http://en.wikipedia.org/wiki/Right-wing_politics', 'match': 'partial'}"
       ]
      },
      {
       "output_type": "stream",
       "stream": "stdout",
       "text": [
        "\n",
        "{'url': 'http://dbpedia.org/resource/Transport', 'term': 'transport', 'wiki_url': 'http://en.wikipedia.org/wiki/Transport', 'match': 'partial'}\n",
        "{'url': 'http://dbpedia.org/resource/Sherd', 'term': 'sherd', 'wiki_url': 'http://en.wikipedia.org/wiki/Sherd', 'match': 'good-partial'}"
       ]
      },
      {
       "output_type": "stream",
       "stream": "stdout",
       "text": [
        "\n",
        "{'url': 'http://dbpedia.org/resource/Public_domain', 'term': 'public domain', 'wiki_url': 'http://en.wikipedia.org/wiki/Public_domain', 'match': 'partial'}"
       ]
      },
      {
       "output_type": "stream",
       "stream": "stdout",
       "text": [
        "\n",
        "{'url': 'http://dbpedia.org/resource/Contributing_property', 'term': 'contributing property', 'wiki_url': 'http://en.wikipedia.org/wiki/Contributing_property', 'match': 'partial'}\n",
        "{'url': 'http://dbpedia.org/resource/BBC_News', 'term': 'bbc news', 'wiki_url': 'http://en.wikipedia.org/wiki/BBC_News', 'match': 'partial'}"
       ]
      },
      {
       "output_type": "stream",
       "stream": "stdout",
       "text": [
        "\n",
        "{'url': 'http://dbpedia.org/resource/Trojan_War', 'term': 'trojan war', 'wiki_url': 'http://en.wikipedia.org/wiki/Trojan_War', 'match': 'partial'}\n",
        "{'url': 'http://dbpedia.org/resource/Sonar', 'term': 'sonar', 'wiki_url': 'http://en.wikipedia.org/wiki/Sonar', 'match': 'partial'}"
       ]
      },
      {
       "output_type": "stream",
       "stream": "stdout",
       "text": [
        "\n",
        "{'url': 'http://dbpedia.org/resource/Alluvium', 'term': 'alluvium', 'wiki_url': 'http://en.wikipedia.org/wiki/Alluvium', 'match': 'partial'}\n",
        "{'url': 'http://dbpedia.org/resource/Climate_change', 'term': 'climate change', 'wiki_url': 'http://en.wikipedia.org/wiki/Climate_change', 'match': 'partial'}"
       ]
      },
      {
       "output_type": "stream",
       "stream": "stdout",
       "text": [
        "\n",
        "{'url': 'http://dbpedia.org/resource/Global_warming', 'term': 'global warming', 'wiki_url': 'http://en.wikipedia.org/wiki/Global_warming', 'match': 'partial'}\n",
        "{'url': 'http://dbpedia.org/resource/The_Church_of_Jesus_Christ_of_Latter-day_Saints', 'term': 'the church of jesus christ of latter-day saints', 'wiki_url': 'http://en.wikipedia.org/wiki/The_Church_of_Jesus_Christ_of_Latter-day_Saints', 'match': 'partial'}"
       ]
      },
      {
       "output_type": "stream",
       "stream": "stdout",
       "text": [
        "\n",
        "{'url': 'http://dbpedia.org/resource/Himalayas', 'term': 'himalayas', 'wiki_url': 'http://en.wikipedia.org/wiki/Himalayas', 'match': 'partial'}\n",
        "{'url': 'http://dbpedia.org/resource/Architect', 'term': 'architect', 'wiki_url': 'http://en.wikipedia.org/wiki/Architect', 'match': 'partial'}"
       ]
      },
      {
       "output_type": "stream",
       "stream": "stdout",
       "text": [
        "\n",
        "{'url': 'http://dbpedia.org/resource/Medicine', 'term': 'medicine', 'wiki_url': 'http://en.wikipedia.org/wiki/Medicine', 'match': 'partial'}\n",
        "{'url': 'http://dbpedia.org/resource/Nuclear_weapon', 'term': 'nuclear weapon', 'wiki_url': 'http://en.wikipedia.org/wiki/Nuclear_weapon', 'match': 'partial'}"
       ]
      },
      {
       "output_type": "stream",
       "stream": "stdout",
       "text": [
        "\n",
        "{'url': 'http://dbpedia.org/resource/Torture', 'term': 'torture', 'wiki_url': 'http://en.wikipedia.org/wiki/Torture', 'match': 'partial'}\n",
        "{'url': 'http://dbpedia.org/resource/Statistics', 'term': 'statistics', 'wiki_url': 'http://en.wikipedia.org/wiki/Statistics', 'match': 'partial'}"
       ]
      },
      {
       "output_type": "stream",
       "stream": "stdout",
       "text": [
        "\n",
        "{'url': 'http://dbpedia.org/resource/Molecule', 'term': 'molecule', 'wiki_url': 'http://en.wikipedia.org/wiki/Molecule', 'match': 'partial'}\n",
        "{'url': 'http://dbpedia.org/resource/Intellectual', 'term': 'intellectual', 'wiki_url': 'http://en.wikipedia.org/wiki/Intellectual', 'match': 'exact'}"
       ]
      },
      {
       "output_type": "stream",
       "stream": "stdout",
       "text": [
        "\n",
        "{'url': 'http://dbpedia.org/resource/Scientific_journal', 'term': 'scientific journal', 'wiki_url': 'http://en.wikipedia.org/wiki/Scientific_journal', 'match': 'partial'}"
       ]
      },
      {
       "output_type": "stream",
       "stream": "stdout",
       "text": [
        "\n",
        "{'url': 'http://dbpedia.org/resource/Public_speaking', 'term': 'public speaking', 'wiki_url': 'http://en.wikipedia.org/wiki/Public_speaking', 'match': 'partial'}\n"
       ]
      }
     ],
     "prompt_number": 19
    },
    {
     "cell_type": "code",
     "collapsed": false,
     "input": [
      "print len(list_for_wiki_df)\n",
      "new_cols_df = pd.DataFrame(list_for_wiki_df)"
     ],
     "language": "python",
     "metadata": {},
     "outputs": [
      {
       "output_type": "stream",
       "stream": "stdout",
       "text": [
        "1154\n"
       ]
      }
     ],
     "prompt_number": 20
    },
    {
     "cell_type": "code",
     "collapsed": false,
     "input": [
      "## extract the exact matches\n",
      "exact_match = new_cols_df[new_cols_df['match'] == 'exact']\n",
      "exact_match[:10]"
     ],
     "language": "python",
     "metadata": {},
     "outputs": [
      {
       "html": [
        "<div style=\"max-height:1000px;max-width:1500px;overflow:auto;\">\n",
        "<table border=\"1\" class=\"dataframe\">\n",
        "  <thead>\n",
        "    <tr style=\"text-align: right;\">\n",
        "      <th></th>\n",
        "      <th>count</th>\n",
        "      <th>match</th>\n",
        "      <th>matched_term</th>\n",
        "      <th>term</th>\n",
        "      <th>url</th>\n",
        "    </tr>\n",
        "  </thead>\n",
        "  <tbody>\n",
        "    <tr>\n",
        "      <th>8  </th>\n",
        "      <td> 1</td>\n",
        "      <td> exact</td>\n",
        "      <td>       metadata</td>\n",
        "      <td>        metadata</td>\n",
        "      <td>       http://en.wikipedia.org/wiki/Metadata</td>\n",
        "    </tr>\n",
        "    <tr>\n",
        "      <th>60 </th>\n",
        "      <td> 1</td>\n",
        "      <td> exact</td>\n",
        "      <td>     cataloging</td>\n",
        "      <td>      cataloging</td>\n",
        "      <td>     http://en.wikipedia.org/wiki/Cataloging</td>\n",
        "    </tr>\n",
        "    <tr>\n",
        "      <th>108</th>\n",
        "      <td> 1</td>\n",
        "      <td> exact</td>\n",
        "      <td>     adam smith</td>\n",
        "      <td>     smith, adam</td>\n",
        "      <td>     http://en.wikipedia.org/wiki/Adam_Smith</td>\n",
        "    </tr>\n",
        "    <tr>\n",
        "      <th>109</th>\n",
        "      <td> 1</td>\n",
        "      <td> exact</td>\n",
        "      <td> charles darwin</td>\n",
        "      <td> darwin, charles</td>\n",
        "      <td> http://en.wikipedia.org/wiki/Charles_Darwin</td>\n",
        "    </tr>\n",
        "    <tr>\n",
        "      <th>116</th>\n",
        "      <td> 1</td>\n",
        "      <td> exact</td>\n",
        "      <td>           cern</td>\n",
        "      <td>            cern</td>\n",
        "      <td>           http://en.wikipedia.org/wiki/CERN</td>\n",
        "    </tr>\n",
        "    <tr>\n",
        "      <th>151</th>\n",
        "      <td> 1</td>\n",
        "      <td> exact</td>\n",
        "      <td>    collocation</td>\n",
        "      <td>     collocation</td>\n",
        "      <td>    http://en.wikipedia.org/wiki/Collocation</td>\n",
        "    </tr>\n",
        "    <tr>\n",
        "      <th>178</th>\n",
        "      <td> 1</td>\n",
        "      <td> exact</td>\n",
        "      <td>           ifla</td>\n",
        "      <td>            ifla</td>\n",
        "      <td>           http://en.wikipedia.org/wiki/IFLA</td>\n",
        "    </tr>\n",
        "    <tr>\n",
        "      <th>309</th>\n",
        "      <td> 1</td>\n",
        "      <td> exact</td>\n",
        "      <td>     cataloging</td>\n",
        "      <td>      cataloging</td>\n",
        "      <td>     http://en.wikipedia.org/wiki/Cataloging</td>\n",
        "    </tr>\n",
        "    <tr>\n",
        "      <th>312</th>\n",
        "      <td> 1</td>\n",
        "      <td> exact</td>\n",
        "      <td>   ronald coase</td>\n",
        "      <td>   coase, ronald</td>\n",
        "      <td>   http://en.wikipedia.org/wiki/Ronald_Coase</td>\n",
        "    </tr>\n",
        "    <tr>\n",
        "      <th>313</th>\n",
        "      <td> 1</td>\n",
        "      <td> exact</td>\n",
        "      <td>     adam smith</td>\n",
        "      <td>     smith, adam</td>\n",
        "      <td>     http://en.wikipedia.org/wiki/Adam_Smith</td>\n",
        "    </tr>\n",
        "  </tbody>\n",
        "</table>\n",
        "</div>"
       ],
       "output_type": "pyout",
       "prompt_number": 21,
       "text": [
        "     count  match    matched_term             term  \\\n",
        "8        1  exact        metadata         metadata   \n",
        "60       1  exact      cataloging       cataloging   \n",
        "108      1  exact      adam smith      smith, adam   \n",
        "109      1  exact  charles darwin  darwin, charles   \n",
        "116      1  exact            cern             cern   \n",
        "151      1  exact     collocation      collocation   \n",
        "178      1  exact            ifla             ifla   \n",
        "309      1  exact      cataloging       cataloging   \n",
        "312      1  exact    ronald coase    coase, ronald   \n",
        "313      1  exact      adam smith      smith, adam   \n",
        "\n",
        "                                             url  \n",
        "8          http://en.wikipedia.org/wiki/Metadata  \n",
        "60       http://en.wikipedia.org/wiki/Cataloging  \n",
        "108      http://en.wikipedia.org/wiki/Adam_Smith  \n",
        "109  http://en.wikipedia.org/wiki/Charles_Darwin  \n",
        "116            http://en.wikipedia.org/wiki/CERN  \n",
        "151     http://en.wikipedia.org/wiki/Collocation  \n",
        "178            http://en.wikipedia.org/wiki/IFLA  \n",
        "309      http://en.wikipedia.org/wiki/Cataloging  \n",
        "312    http://en.wikipedia.org/wiki/Ronald_Coase  \n",
        "313      http://en.wikipedia.org/wiki/Adam_Smith  "
       ]
      }
     ],
     "prompt_number": 21
    },
    {
     "cell_type": "code",
     "collapsed": false,
     "input": [
      "## extract the good matches\n",
      "good_match = new_cols_df[new_cols_df['match'] == 'good-partial']"
     ],
     "language": "python",
     "metadata": {},
     "outputs": [],
     "prompt_number": 22
    },
    {
     "cell_type": "code",
     "collapsed": false,
     "input": [
      "## extract the partial matches\n",
      "partial_match = new_cols_df[new_cols_df['match'] == 'partial']"
     ],
     "language": "python",
     "metadata": {},
     "outputs": [],
     "prompt_number": 23
    },
    {
     "cell_type": "code",
     "collapsed": false,
     "input": [
      "## Create a DataFrame with only good-partial and exact match terms\n",
      "matched_terms = good_match.append(exact_match)"
     ],
     "language": "python",
     "metadata": {},
     "outputs": [],
     "prompt_number": 24
    },
    {
     "cell_type": "code",
     "collapsed": false,
     "input": [
      "matched_terms"
     ],
     "language": "python",
     "metadata": {},
     "outputs": [
      {
       "output_type": "pyout",
       "prompt_number": 26,
       "text": [
        "<class 'pandas.core.frame.DataFrame'>\n",
        "Int64Index: 158 entries, 33 to 1151\n",
        "Data columns:\n",
        "count           158  non-null values\n",
        "match           158  non-null values\n",
        "matched_term    158  non-null values\n",
        "term            158  non-null values\n",
        "url             158  non-null values\n",
        "dtypes: int64(1), object(4)"
       ]
      }
     ],
     "prompt_number": 26
    },
    {
     "cell_type": "code",
     "collapsed": false,
     "input": [
      "## first 10 matched_terms\n",
      "matched_terms[:10]"
     ],
     "language": "python",
     "metadata": {},
     "outputs": [
      {
       "html": [
        "<div style=\"max-height:1000px;max-width:1500px;overflow:auto;\">\n",
        "<table border=\"1\" class=\"dataframe\">\n",
        "  <thead>\n",
        "    <tr style=\"text-align: right;\">\n",
        "      <th></th>\n",
        "      <th>count</th>\n",
        "      <th>match</th>\n",
        "      <th>matched_term</th>\n",
        "      <th>term</th>\n",
        "      <th>url</th>\n",
        "    </tr>\n",
        "  </thead>\n",
        "  <tbody>\n",
        "    <tr>\n",
        "      <th>33 </th>\n",
        "      <td> 1</td>\n",
        "      <td> good-partial</td>\n",
        "      <td> geoffrey nunberg</td>\n",
        "      <td>    nunberg, geoff</td>\n",
        "      <td> http://en.wikipedia.org/wiki/Geoffrey_Nunberg</td>\n",
        "    </tr>\n",
        "    <tr>\n",
        "      <th>73 </th>\n",
        "      <td> 1</td>\n",
        "      <td> good-partial</td>\n",
        "      <td>              rai</td>\n",
        "      <td>               uri</td>\n",
        "      <td>              http://en.wikipedia.org/wiki/RAI</td>\n",
        "    </tr>\n",
        "    <tr>\n",
        "      <th>76 </th>\n",
        "      <td> 1</td>\n",
        "      <td> good-partial</td>\n",
        "      <td>              rai</td>\n",
        "      <td>               uri</td>\n",
        "      <td>              http://en.wikipedia.org/wiki/RAI</td>\n",
        "    </tr>\n",
        "    <tr>\n",
        "      <th>99 </th>\n",
        "      <td> 1</td>\n",
        "      <td> good-partial</td>\n",
        "      <td>         data set</td>\n",
        "      <td>           dataset</td>\n",
        "      <td>         http://en.wikipedia.org/wiki/Data_set</td>\n",
        "    </tr>\n",
        "    <tr>\n",
        "      <th>243</th>\n",
        "      <td> 1</td>\n",
        "      <td> good-partial</td>\n",
        "      <td>      sergey brin</td>\n",
        "      <td>      brin, sergei</td>\n",
        "      <td>      http://en.wikipedia.org/wiki/Sergey_Brin</td>\n",
        "    </tr>\n",
        "    <tr>\n",
        "      <th>252</th>\n",
        "      <td> 1</td>\n",
        "      <td> good-partial</td>\n",
        "      <td>   paul samuelson</td>\n",
        "      <td> samuelson, pamela</td>\n",
        "      <td>   http://en.wikipedia.org/wiki/Paul_Samuelson</td>\n",
        "    </tr>\n",
        "    <tr>\n",
        "      <th>259</th>\n",
        "      <td> 1</td>\n",
        "      <td> good-partial</td>\n",
        "      <td>       hathitrust</td>\n",
        "      <td>       hathi trust</td>\n",
        "      <td>       http://en.wikipedia.org/wiki/HathiTrust</td>\n",
        "    </tr>\n",
        "    <tr>\n",
        "      <th>266</th>\n",
        "      <td> 1</td>\n",
        "      <td> good-partial</td>\n",
        "      <td>            tulku</td>\n",
        "      <td>               sku</td>\n",
        "      <td>            http://en.wikipedia.org/wiki/Tulku</td>\n",
        "    </tr>\n",
        "    <tr>\n",
        "      <th>306</th>\n",
        "      <td> 1</td>\n",
        "      <td> good-partial</td>\n",
        "      <td>            tulku</td>\n",
        "      <td>               sku</td>\n",
        "      <td>            http://en.wikipedia.org/wiki/Tulku</td>\n",
        "    </tr>\n",
        "    <tr>\n",
        "      <th>320</th>\n",
        "      <td> 1</td>\n",
        "      <td> good-partial</td>\n",
        "      <td>      moore's law</td>\n",
        "      <td>       moore's law</td>\n",
        "      <td>    http://en.wikipedia.org/wiki/Moore%27s_law</td>\n",
        "    </tr>\n",
        "  </tbody>\n",
        "</table>\n",
        "</div>"
       ],
       "output_type": "pyout",
       "prompt_number": 25,
       "text": [
        "     count         match      matched_term               term  \\\n",
        "33       1  good-partial  geoffrey nunberg     nunberg, geoff   \n",
        "73       1  good-partial               rai                uri   \n",
        "76       1  good-partial               rai                uri   \n",
        "99       1  good-partial          data set            dataset   \n",
        "243      1  good-partial       sergey brin       brin, sergei   \n",
        "252      1  good-partial    paul samuelson  samuelson, pamela   \n",
        "259      1  good-partial        hathitrust        hathi trust   \n",
        "266      1  good-partial             tulku                sku   \n",
        "306      1  good-partial             tulku                sku   \n",
        "320      1  good-partial       moore's law        moore's law   \n",
        "\n",
        "                                               url  \n",
        "33   http://en.wikipedia.org/wiki/Geoffrey_Nunberg  \n",
        "73                http://en.wikipedia.org/wiki/RAI  \n",
        "76                http://en.wikipedia.org/wiki/RAI  \n",
        "99           http://en.wikipedia.org/wiki/Data_set  \n",
        "243       http://en.wikipedia.org/wiki/Sergey_Brin  \n",
        "252    http://en.wikipedia.org/wiki/Paul_Samuelson  \n",
        "259        http://en.wikipedia.org/wiki/HathiTrust  \n",
        "266             http://en.wikipedia.org/wiki/Tulku  \n",
        "306             http://en.wikipedia.org/wiki/Tulku  \n",
        "320     http://en.wikipedia.org/wiki/Moore%27s_law  "
       ]
      }
     ],
     "prompt_number": 25
    },
    {
     "cell_type": "heading",
     "level": 3,
     "metadata": {},
     "source": [
      "After we get the Wikipedia URL, we use Wiki2Plain to extract the page summary and image for the matched_terms"
     ]
    },
    {
     "cell_type": "markdown",
     "metadata": {},
     "source": [
      "<p>We chose \"exact\" and \"good-partial\" matches for Wikipedia linking. Many of the terms returned correct results (see results below), while some returned incorrect pages, e.g. Radio Televisione Italiana for URI. This shows the challenge of finding good results when looking up Wikipedia URLs. The class Wiki2Plain, allows us to scrape the summary and image from a Wikipedia page. The class is available in the Appendix and on Github.</p>"
     ]
    },
    {
     "cell_type": "code",
     "collapsed": false,
     "input": [
      "## function using Wiki2Plain results to create two new DataFrame columns using apply\n",
      "def get_wiki_textimage(url):\n",
      "    print url\n",
      "    try:\n",
      "        wiki = Wiki2Plain(url)\n",
      "    except:\n",
      "        return \"none\",\"none\"\n",
      "    return wiki.text, wiki.image()"
     ],
     "language": "python",
     "metadata": {},
     "outputs": [],
     "prompt_number": 38
    },
    {
     "cell_type": "code",
     "collapsed": true,
     "input": [
      "## apply and use tuple result to create two DataFrames\n",
      "## from http://manishamde.github.io/blog/2013/03/07/pandas-and-python-top-10/#create\n",
      "\n",
      "matched_terms['wiki_text'],matched_terms['wiki_image'] = zip(*matched_terms['url'].apply(get_wiki_textimage))"
     ],
     "language": "python",
     "metadata": {},
     "outputs": [
      {
       "output_type": "stream",
       "stream": "stdout",
       "text": [
        "http://en.wikipedia.org/wiki/Geoffrey_Nunberg\n",
        "http://en.wikipedia.org/wiki/RAI"
       ]
      },
      {
       "output_type": "stream",
       "stream": "stdout",
       "text": [
        "\n",
        "http://en.wikipedia.org/wiki/RAI"
       ]
      },
      {
       "output_type": "stream",
       "stream": "stdout",
       "text": [
        "\n",
        "http://en.wikipedia.org/wiki/Data_set"
       ]
      },
      {
       "output_type": "stream",
       "stream": "stdout",
       "text": [
        "\n",
        "http://en.wikipedia.org/wiki/Sergey_Brin"
       ]
      },
      {
       "output_type": "stream",
       "stream": "stdout",
       "text": [
        "\n",
        "http://en.wikipedia.org/wiki/Paul_Samuelson"
       ]
      },
      {
       "output_type": "stream",
       "stream": "stdout",
       "text": [
        "\n",
        "http://en.wikipedia.org/wiki/HathiTrust"
       ]
      },
      {
       "output_type": "stream",
       "stream": "stdout",
       "text": [
        "\n",
        "http://en.wikipedia.org/wiki/Tulku"
       ]
      },
      {
       "output_type": "stream",
       "stream": "stdout",
       "text": [
        "\n",
        "http://en.wikipedia.org/wiki/Tulku"
       ]
      },
      {
       "output_type": "stream",
       "stream": "stdout",
       "text": [
        "\n",
        "http://en.wikipedia.org/wiki/Moore%27s_law"
       ]
      },
      {
       "output_type": "stream",
       "stream": "stdout",
       "text": [
        "\n",
        "http://en.wikipedia.org/wiki/Geoffrey_Nunberg"
       ]
      },
      {
       "output_type": "stream",
       "stream": "stdout",
       "text": [
        "\n",
        "http://en.wikipedia.org/wiki/Tim_O'Reilly"
       ]
      },
      {
       "output_type": "stream",
       "stream": "stdout",
       "text": [
        "\n",
        "http://en.wikipedia.org/wiki/Yahoo!"
       ]
      },
      {
       "output_type": "stream",
       "stream": "stdout",
       "text": [
        "\n",
        "http://en.wikipedia.org/wiki/Yahoo!"
       ]
      },
      {
       "output_type": "stream",
       "stream": "stdout",
       "text": [
        "\n",
        "http://en.wikipedia.org/wiki/DVD"
       ]
      },
      {
       "output_type": "stream",
       "stream": "stdout",
       "text": [
        "\n",
        "http://en.wikipedia.org/wiki/Presenter"
       ]
      },
      {
       "output_type": "stream",
       "stream": "stdout",
       "text": [
        "\n",
        "http://en.wikipedia.org/wiki/Clothing"
       ]
      },
      {
       "output_type": "stream",
       "stream": "stdout",
       "text": [
        "\n",
        "http://en.wikipedia.org/wiki/Interdependence"
       ]
      },
      {
       "output_type": "stream",
       "stream": "stdout",
       "text": [
        "\n",
        "http://en.wikipedia.org/wiki/Museum"
       ]
      },
      {
       "output_type": "stream",
       "stream": "stdout",
       "text": [
        "\n",
        "http://en.wikipedia.org/wiki/Pula"
       ]
      },
      {
       "output_type": "stream",
       "stream": "stdout",
       "text": [
        "\n",
        "http://en.wikipedia.org/wiki/Concept_car"
       ]
      },
      {
       "output_type": "stream",
       "stream": "stdout",
       "text": [
        "\n",
        "http://en.wikipedia.org/wiki/Separatism"
       ]
      },
      {
       "output_type": "stream",
       "stream": "stdout",
       "text": [
        "\n",
        "http://en.wikipedia.org/wiki/Home_page"
       ]
      },
      {
       "output_type": "stream",
       "stream": "stdout",
       "text": [
        "\n",
        "http://en.wikipedia.org/wiki/Sidebar"
       ]
      },
      {
       "output_type": "stream",
       "stream": "stdout",
       "text": [
        "\n",
        "http://en.wikipedia.org/wiki/Implementation"
       ]
      },
      {
       "output_type": "stream",
       "stream": "stdout",
       "text": [
        "\n",
        "http://en.wikipedia.org/wiki/MP3"
       ]
      },
      {
       "output_type": "stream",
       "stream": "stdout",
       "text": [
        "\n",
        "http://en.wikipedia.org/wiki/Algorithm"
       ]
      },
      {
       "output_type": "stream",
       "stream": "stdout",
       "text": [
        "\n",
        "http://en.wikipedia.org/wiki/Exhibition"
       ]
      },
      {
       "output_type": "stream",
       "stream": "stdout",
       "text": [
        "\n",
        "http://en.wikipedia.org/wiki/Writer"
       ]
      },
      {
       "output_type": "stream",
       "stream": "stdout",
       "text": [
        "\n",
        "http://en.wikipedia.org/wiki/History"
       ]
      },
      {
       "output_type": "stream",
       "stream": "stdout",
       "text": [
        "\n",
        "http://en.wikipedia.org/wiki/School"
       ]
      },
      {
       "output_type": "stream",
       "stream": "stdout",
       "text": [
        "\n",
        "http://en.wikipedia.org/wiki/Merchant"
       ]
      },
      {
       "output_type": "stream",
       "stream": "stdout",
       "text": [
        "\n",
        "http://en.wikipedia.org/wiki/Camera"
       ]
      },
      {
       "output_type": "stream",
       "stream": "stdout",
       "text": [
        "\n",
        "http://en.wikipedia.org/wiki/Stratum"
       ]
      },
      {
       "output_type": "stream",
       "stream": "stdout",
       "text": [
        "\n",
        "http://en.wikipedia.org/wiki/Grape"
       ]
      },
      {
       "output_type": "stream",
       "stream": "stdout",
       "text": [
        "\n",
        "http://en.wikipedia.org/wiki/Sensor"
       ]
      },
      {
       "output_type": "stream",
       "stream": "stdout",
       "text": [
        "\n",
        "http://en.wikipedia.org/wiki/Cookbook"
       ]
      },
      {
       "output_type": "stream",
       "stream": "stdout",
       "text": [
        "\n",
        "http://en.wikipedia.org/wiki/Neighbourhood"
       ]
      },
      {
       "output_type": "stream",
       "stream": "stdout",
       "text": [
        "\n",
        "http://en.wikipedia.org/wiki/Consistency"
       ]
      },
      {
       "output_type": "stream",
       "stream": "stdout",
       "text": [
        "\n",
        "http://en.wikipedia.org/wiki/Operating_system"
       ]
      },
      {
       "output_type": "stream",
       "stream": "stdout",
       "text": [
        "\n",
        "http://en.wikipedia.org/wiki/Enabling"
       ]
      },
      {
       "output_type": "stream",
       "stream": "stdout",
       "text": [
        "\n",
        "http://en.wikipedia.org/wiki/LIFO"
       ]
      },
      {
       "output_type": "stream",
       "stream": "stdout",
       "text": [
        "\n",
        "http://en.wikipedia.org/wiki/Gas"
       ]
      },
      {
       "output_type": "stream",
       "stream": "stdout",
       "text": [
        "\n",
        "http://en.wikipedia.org/wiki/PAL"
       ]
      },
      {
       "output_type": "stream",
       "stream": "stdout",
       "text": [
        "\n",
        "http://en.wikipedia.org/wiki/Heuristic"
       ]
      },
      {
       "output_type": "stream",
       "stream": "stdout",
       "text": [
        "\n",
        "http://en.wikipedia.org/wiki/Solution"
       ]
      },
      {
       "output_type": "stream",
       "stream": "stdout",
       "text": [
        "\n",
        "http://en.wikipedia.org/wiki/Textbook"
       ]
      },
      {
       "output_type": "stream",
       "stream": "stdout",
       "text": [
        "\n",
        "http://en.wikipedia.org/wiki/Encyclopedia"
       ]
      },
      {
       "output_type": "stream",
       "stream": "stdout",
       "text": [
        "\n",
        "http://en.wikipedia.org/wiki/Moore's_law"
       ]
      },
      {
       "output_type": "stream",
       "stream": "stdout",
       "text": [
        "\n",
        "http://en.wikipedia.org/wiki/NPR"
       ]
      },
      {
       "output_type": "stream",
       "stream": "stdout",
       "text": [
        "\n",
        "http://en.wikipedia.org/wiki/Psychologist"
       ]
      },
      {
       "output_type": "stream",
       "stream": "stdout",
       "text": [
        "\n",
        "http://en.wikipedia.org/wiki/Analogy"
       ]
      },
      {
       "output_type": "stream",
       "stream": "stdout",
       "text": [
        "\n",
        "http://en.wikipedia.org/wiki/Telecommunication"
       ]
      },
      {
       "output_type": "stream",
       "stream": "stdout",
       "text": [
        "\n",
        "http://en.wikipedia.org/wiki/V8_engine"
       ]
      },
      {
       "output_type": "stream",
       "stream": "stdout",
       "text": [
        "\n",
        "http://en.wikipedia.org/wiki/Internet"
       ]
      },
      {
       "output_type": "stream",
       "stream": "stdout",
       "text": [
        "\n",
        "http://en.wikipedia.org/wiki/Speech"
       ]
      },
      {
       "output_type": "stream",
       "stream": "stdout",
       "text": [
        "\n",
        "http://en.wikipedia.org/wiki/Soap"
       ]
      },
      {
       "output_type": "stream",
       "stream": "stdout",
       "text": [
        "\n",
        "http://en.wikipedia.org/wiki/Employment"
       ]
      },
      {
       "output_type": "stream",
       "stream": "stdout",
       "text": [
        "\n",
        "http://en.wikipedia.org/wiki/Hangar"
       ]
      },
      {
       "output_type": "stream",
       "stream": "stdout",
       "text": [
        "\n",
        "http://en.wikipedia.org/wiki/Image"
       ]
      },
      {
       "output_type": "stream",
       "stream": "stdout",
       "text": [
        "\n",
        "http://en.wikipedia.org/wiki/Utilitarianism"
       ]
      },
      {
       "output_type": "stream",
       "stream": "stdout",
       "text": [
        "\n",
        "http://en.wikipedia.org/wiki/Temple"
       ]
      },
      {
       "output_type": "stream",
       "stream": "stdout",
       "text": [
        "\n",
        "http://en.wikipedia.org/wiki/Europe"
       ]
      },
      {
       "output_type": "stream",
       "stream": "stdout",
       "text": [
        "\n",
        "http://en.wikipedia.org/wiki/Bicycle"
       ]
      },
      {
       "output_type": "stream",
       "stream": "stdout",
       "text": [
        "\n",
        "http://en.wikipedia.org/wiki/Cycling"
       ]
      },
      {
       "output_type": "stream",
       "stream": "stdout",
       "text": [
        "\n",
        "http://en.wikipedia.org/wiki/Yahoo!"
       ]
      },
      {
       "output_type": "stream",
       "stream": "stdout",
       "text": [
        "\n",
        "http://en.wikipedia.org/wiki/Copyright"
       ]
      },
      {
       "output_type": "stream",
       "stream": "stdout",
       "text": [
        "\n",
        "http://en.wikipedia.org/wiki/Species"
       ]
      },
      {
       "output_type": "stream",
       "stream": "stdout",
       "text": [
        "\n",
        "http://en.wikipedia.org/wiki/Zoo"
       ]
      },
      {
       "output_type": "stream",
       "stream": "stdout",
       "text": [
        "\n",
        "http://en.wikipedia.org/wiki/Metamodeling"
       ]
      },
      {
       "output_type": "stream",
       "stream": "stdout",
       "text": [
        "\n",
        "http://en.wikipedia.org/wiki/Paragraph"
       ]
      },
      {
       "output_type": "stream",
       "stream": "stdout",
       "text": [
        "\n",
        "http://en.wikipedia.org/wiki/S._Harinarayana"
       ]
      },
      {
       "output_type": "stream",
       "stream": "stdout",
       "text": [
        "\n",
        "http://en.wikipedia.org/wiki/Count"
       ]
      },
      {
       "output_type": "stream",
       "stream": "stdout",
       "text": [
        "\n",
        "http://en.wikipedia.org/wiki/Sherd"
       ]
      },
      {
       "output_type": "stream",
       "stream": "stdout",
       "text": [
        "\n",
        "http://en.wikipedia.org/wiki/Metadata"
       ]
      },
      {
       "output_type": "stream",
       "stream": "stdout",
       "text": [
        "\n",
        "http://en.wikipedia.org/wiki/Cataloging"
       ]
      },
      {
       "output_type": "stream",
       "stream": "stdout",
       "text": [
        "\n",
        "http://en.wikipedia.org/wiki/Adam_Smith"
       ]
      },
      {
       "output_type": "stream",
       "stream": "stdout",
       "text": [
        "\n",
        "http://en.wikipedia.org/wiki/Charles_Darwin"
       ]
      },
      {
       "output_type": "stream",
       "stream": "stdout",
       "text": [
        "\n",
        "http://en.wikipedia.org/wiki/CERN"
       ]
      },
      {
       "output_type": "stream",
       "stream": "stdout",
       "text": [
        "\n",
        "http://en.wikipedia.org/wiki/Collocation"
       ]
      },
      {
       "output_type": "stream",
       "stream": "stdout",
       "text": [
        "\n",
        "http://en.wikipedia.org/wiki/IFLA"
       ]
      },
      {
       "output_type": "stream",
       "stream": "stdout",
       "text": [
        "\n",
        "http://en.wikipedia.org/wiki/Cataloging"
       ]
      },
      {
       "output_type": "stream",
       "stream": "stdout",
       "text": [
        "\n",
        "http://en.wikipedia.org/wiki/Ronald_Coase"
       ]
      },
      {
       "output_type": "stream",
       "stream": "stdout",
       "text": [
        "\n",
        "http://en.wikipedia.org/wiki/Adam_Smith"
       ]
      },
      {
       "output_type": "stream",
       "stream": "stdout",
       "text": [
        "\n",
        "http://en.wikipedia.org/wiki/EXIF"
       ]
      },
      {
       "output_type": "stream",
       "stream": "stdout",
       "text": [
        "\n",
        "http://en.wikipedia.org/wiki/EBay"
       ]
      },
      {
       "output_type": "stream",
       "stream": "stdout",
       "text": [
        "\n",
        "http://en.wikipedia.org/wiki/Twitter"
       ]
      },
      {
       "output_type": "stream",
       "stream": "stdout",
       "text": [
        "\n",
        "http://en.wikipedia.org/wiki/Facebook"
       ]
      },
      {
       "output_type": "stream",
       "stream": "stdout",
       "text": [
        "\n",
        "http://en.wikipedia.org/wiki/Folksonomy"
       ]
      },
      {
       "output_type": "stream",
       "stream": "stdout",
       "text": [
        "\n",
        "http://en.wikipedia.org/wiki/Flickr"
       ]
      },
      {
       "output_type": "stream",
       "stream": "stdout",
       "text": [
        "\n",
        "http://en.wikipedia.org/wiki/Google"
       ]
      },
      {
       "output_type": "stream",
       "stream": "stdout",
       "text": [
        "\n",
        "http://en.wikipedia.org/wiki/Google"
       ]
      },
      {
       "output_type": "stream",
       "stream": "stdout",
       "text": [
        "\n",
        "http://en.wikipedia.org/wiki/SeaWorld"
       ]
      },
      {
       "output_type": "stream",
       "stream": "stdout",
       "text": [
        "\n",
        "http://en.wikipedia.org/wiki/Google"
       ]
      },
      {
       "output_type": "stream",
       "stream": "stdout",
       "text": [
        "\n",
        "http://en.wikipedia.org/wiki/Google"
       ]
      },
      {
       "output_type": "stream",
       "stream": "stdout",
       "text": [
        "\n",
        "http://en.wikipedia.org/wiki/Google"
       ]
      },
      {
       "output_type": "stream",
       "stream": "stdout",
       "text": [
        "\n",
        "http://en.wikipedia.org/wiki/Flickr"
       ]
      },
      {
       "output_type": "stream",
       "stream": "stdout",
       "text": [
        "\n",
        "http://en.wikipedia.org/wiki/Westlaw"
       ]
      },
      {
       "output_type": "stream",
       "stream": "stdout",
       "text": [
        "\n",
        "http://en.wikipedia.org/wiki/LexisNexis"
       ]
      },
      {
       "output_type": "stream",
       "stream": "stdout",
       "text": [
        "\n",
        "http://en.wikipedia.org/wiki/Google"
       ]
      },
      {
       "output_type": "stream",
       "stream": "stdout",
       "text": [
        "\n",
        "http://en.wikipedia.org/wiki/EBay"
       ]
      },
      {
       "output_type": "stream",
       "stream": "stdout",
       "text": [
        "\n",
        "http://en.wikipedia.org/wiki/Wikipedia"
       ]
      },
      {
       "output_type": "stream",
       "stream": "stdout",
       "text": [
        "\n",
        "http://en.wikipedia.org/wiki/Facebook"
       ]
      },
      {
       "output_type": "stream",
       "stream": "stdout",
       "text": [
        "\n",
        "http://en.wikipedia.org/wiki/Twitter"
       ]
      },
      {
       "output_type": "stream",
       "stream": "stdout",
       "text": [
        "\n",
        "http://en.wikipedia.org/wiki/YouTube"
       ]
      },
      {
       "output_type": "stream",
       "stream": "stdout",
       "text": [
        "\n",
        "http://en.wikipedia.org/wiki/Google"
       ]
      },
      {
       "output_type": "stream",
       "stream": "stdout",
       "text": [
        "\n",
        "http://en.wikipedia.org/wiki/Microsoft"
       ]
      },
      {
       "output_type": "stream",
       "stream": "stdout",
       "text": [
        "\n",
        "http://en.wikipedia.org/wiki/Google"
       ]
      },
      {
       "output_type": "stream",
       "stream": "stdout",
       "text": [
        "\n",
        "http://en.wikipedia.org/wiki/Microsoft"
       ]
      },
      {
       "output_type": "stream",
       "stream": "stdout",
       "text": [
        "\n",
        "http://en.wikipedia.org/wiki/Herman_Melville"
       ]
      },
      {
       "output_type": "stream",
       "stream": "stdout",
       "text": [
        "\n",
        "http://en.wikipedia.org/wiki/Adam_Smith"
       ]
      },
      {
       "output_type": "stream",
       "stream": "stdout",
       "text": [
        "\n",
        "http://en.wikipedia.org/wiki/Charles_Darwin"
       ]
      },
      {
       "output_type": "stream",
       "stream": "stdout",
       "text": [
        "\n",
        "http://en.wikipedia.org/wiki/Computer_science"
       ]
      },
      {
       "output_type": "stream",
       "stream": "stdout",
       "text": [
        "\n",
        "http://en.wikipedia.org/wiki/Cooking"
       ]
      },
      {
       "output_type": "stream",
       "stream": "stdout",
       "text": [
        "\n",
        "http://en.wikipedia.org/wiki/Metadata"
       ]
      },
      {
       "output_type": "stream",
       "stream": "stdout",
       "text": [
        "\n",
        "http://en.wikipedia.org/wiki/Granularity"
       ]
      },
      {
       "output_type": "stream",
       "stream": "stdout",
       "text": [
        "\n",
        "http://en.wikipedia.org/wiki/Economics"
       ]
      },
      {
       "output_type": "stream",
       "stream": "stdout",
       "text": [
        "\n",
        "http://en.wikipedia.org/wiki/Law"
       ]
      },
      {
       "output_type": "stream",
       "stream": "stdout",
       "text": [
        "\n",
        "http://en.wikipedia.org/wiki/Castle"
       ]
      },
      {
       "output_type": "stream",
       "stream": "stdout",
       "text": [
        "\n",
        "http://en.wikipedia.org/wiki/Wine"
       ]
      },
      {
       "output_type": "stream",
       "stream": "stdout",
       "text": [
        "\n",
        "http://en.wikipedia.org/wiki/Synonyms"
       ]
      },
      {
       "output_type": "stream",
       "stream": "stdout",
       "text": [
        "\n",
        "http://en.wikipedia.org/wiki/Windshield"
       ]
      },
      {
       "output_type": "stream",
       "stream": "stdout",
       "text": [
        "\n",
        "http://en.wikipedia.org/wiki/Coffee"
       ]
      },
      {
       "output_type": "stream",
       "stream": "stdout",
       "text": [
        "\n",
        "http://en.wikipedia.org/wiki/Aisle"
       ]
      },
      {
       "output_type": "stream",
       "stream": "stdout",
       "text": [
        "\n",
        "http://en.wikipedia.org/wiki/Historian"
       ]
      },
      {
       "output_type": "stream",
       "stream": "stdout",
       "text": [
        "\n",
        "http://en.wikipedia.org/wiki/Fiction"
       ]
      },
      {
       "output_type": "stream",
       "stream": "stdout",
       "text": [
        "\n",
        "http://en.wikipedia.org/wiki/Geneva"
       ]
      },
      {
       "output_type": "stream",
       "stream": "stdout",
       "text": [
        "\n",
        "http://en.wikipedia.org/wiki/Tool"
       ]
      },
      {
       "output_type": "stream",
       "stream": "stdout",
       "text": [
        "\n",
        "http://en.wikipedia.org/wiki/EBay"
       ]
      },
      {
       "output_type": "stream",
       "stream": "stdout",
       "text": [
        "\n",
        "http://en.wikipedia.org/wiki/Iron"
       ]
      },
      {
       "output_type": "stream",
       "stream": "stdout",
       "text": [
        "\n",
        "http://en.wikipedia.org/wiki/Bridge"
       ]
      },
      {
       "output_type": "stream",
       "stream": "stdout",
       "text": [
        "\n",
        "http://en.wikipedia.org/wiki/Fashion"
       ]
      },
      {
       "output_type": "stream",
       "stream": "stdout",
       "text": [
        "\n",
        "http://en.wikipedia.org/wiki/IBM"
       ]
      },
      {
       "output_type": "stream",
       "stream": "stdout",
       "text": [
        "\n",
        "http://en.wikipedia.org/wiki/Chess"
       ]
      },
      {
       "output_type": "stream",
       "stream": "stdout",
       "text": [
        "\n",
        "http://en.wikipedia.org/wiki/Phonograph"
       ]
      },
      {
       "output_type": "stream",
       "stream": "stdout",
       "text": [
        "\n",
        "http://en.wikipedia.org/wiki/Anatomy"
       ]
      },
      {
       "output_type": "stream",
       "stream": "stdout",
       "text": [
        "\n",
        "http://en.wikipedia.org/wiki/Reimbursement"
       ]
      },
      {
       "output_type": "stream",
       "stream": "stdout",
       "text": [
        "\n",
        "http://en.wikipedia.org/wiki/Grass"
       ]
      },
      {
       "output_type": "stream",
       "stream": "stdout",
       "text": [
        "\n",
        "http://en.wikipedia.org/wiki/Nobel_Prize"
       ]
      },
      {
       "output_type": "stream",
       "stream": "stdout",
       "text": [
        "\n",
        "http://en.wikipedia.org/wiki/Keywords"
       ]
      },
      {
       "output_type": "stream",
       "stream": "stdout",
       "text": [
        "\n",
        "http://en.wikipedia.org/wiki/Architecture"
       ]
      },
      {
       "output_type": "stream",
       "stream": "stdout",
       "text": [
        "\n",
        "http://en.wikipedia.org/wiki/Bookmarking"
       ]
      },
      {
       "output_type": "stream",
       "stream": "stdout",
       "text": [
        "\n",
        "http://en.wikipedia.org/wiki/Kitchen"
       ]
      },
      {
       "output_type": "stream",
       "stream": "stdout",
       "text": [
        "\n",
        "http://en.wikipedia.org/wiki/Papyrus"
       ]
      },
      {
       "output_type": "stream",
       "stream": "stdout",
       "text": [
        "\n",
        "http://en.wikipedia.org/wiki/Logic"
       ]
      },
      {
       "output_type": "stream",
       "stream": "stdout",
       "text": [
        "\n",
        "http://en.wikipedia.org/wiki/Negotiation"
       ]
      },
      {
       "output_type": "stream",
       "stream": "stdout",
       "text": [
        "\n",
        "http://en.wikipedia.org/wiki/Website"
       ]
      },
      {
       "output_type": "stream",
       "stream": "stdout",
       "text": [
        "\n",
        "http://en.wikipedia.org/wiki/Publisher"
       ]
      },
      {
       "output_type": "stream",
       "stream": "stdout",
       "text": [
        "\n",
        "http://en.wikipedia.org/wiki/Physician"
       ]
      },
      {
       "output_type": "stream",
       "stream": "stdout",
       "text": [
        "\n",
        "http://en.wikipedia.org/wiki/Complexity"
       ]
      },
      {
       "output_type": "stream",
       "stream": "stdout",
       "text": [
        "\n",
        "http://en.wikipedia.org/wiki/Business"
       ]
      },
      {
       "output_type": "stream",
       "stream": "stdout",
       "text": [
        "\n",
        "http://en.wikipedia.org/wiki/Human"
       ]
      },
      {
       "output_type": "stream",
       "stream": "stdout",
       "text": [
        "\n",
        "http://en.wikipedia.org/wiki/Instantiation"
       ]
      },
      {
       "output_type": "stream",
       "stream": "stdout",
       "text": [
        "\n",
        "http://en.wikipedia.org/wiki/Judge"
       ]
      },
      {
       "output_type": "stream",
       "stream": "stdout",
       "text": [
        "\n",
        "http://en.wikipedia.org/wiki/Standardization"
       ]
      },
      {
       "output_type": "stream",
       "stream": "stdout",
       "text": [
        "\n",
        "http://en.wikipedia.org/wiki/Manufacturing"
       ]
      },
      {
       "output_type": "stream",
       "stream": "stdout",
       "text": [
        "\n",
        "http://en.wikipedia.org/wiki/Cemetery"
       ]
      },
      {
       "output_type": "stream",
       "stream": "stdout",
       "text": [
        "\n",
        "http://en.wikipedia.org/wiki/Intellectual"
       ]
      },
      {
       "output_type": "stream",
       "stream": "stdout",
       "text": [
        "\n"
       ]
      }
     ],
     "prompt_number": 39
    },
    {
     "cell_type": "code",
     "collapsed": false,
     "input": [
      "## first ten terms\n",
      "matched_terms[:10]"
     ],
     "language": "python",
     "metadata": {},
     "outputs": [
      {
       "html": [
        "<div style=\"max-height:1000px;max-width:1500px;overflow:auto;\">\n",
        "<table border=\"1\" class=\"dataframe\">\n",
        "  <thead>\n",
        "    <tr style=\"text-align: right;\">\n",
        "      <th></th>\n",
        "      <th>count</th>\n",
        "      <th>match</th>\n",
        "      <th>matched_term</th>\n",
        "      <th>term</th>\n",
        "      <th>url</th>\n",
        "      <th>wiki_text</th>\n",
        "      <th>wiki_image</th>\n",
        "      <th>flickr_urls</th>\n",
        "    </tr>\n",
        "  </thead>\n",
        "  <tbody>\n",
        "    <tr>\n",
        "      <th>33 </th>\n",
        "      <td> 1</td>\n",
        "      <td> good-partial</td>\n",
        "      <td> geoffrey nunberg</td>\n",
        "      <td>    nunberg, geoff</td>\n",
        "      <td> http://en.wikipedia.org/wiki/Geoffrey_Nunberg</td>\n",
        "      <td> Geoffrey Nunberg (born June, 1945) is an Ameri...</td>\n",
        "      <td>                                              None</td>\n",
        "      <td> [http://farm9.staticflickr.com/8140/8700510731...</td>\n",
        "    </tr>\n",
        "    <tr>\n",
        "      <th>73 </th>\n",
        "      <td> 1</td>\n",
        "      <td> good-partial</td>\n",
        "      <td>              rai</td>\n",
        "      <td>               uri</td>\n",
        "      <td>              http://en.wikipedia.org/wiki/RAI</td>\n",
        "      <td> RAI &mdash; Radiotelevisione Italiana S.p.A. (...</td>\n",
        "      <td>                                              None</td>\n",
        "      <td> [http://farm9.staticflickr.com/8269/8699910887...</td>\n",
        "    </tr>\n",
        "    <tr>\n",
        "      <th>76 </th>\n",
        "      <td> 1</td>\n",
        "      <td> good-partial</td>\n",
        "      <td>              rai</td>\n",
        "      <td>               uri</td>\n",
        "      <td>              http://en.wikipedia.org/wiki/RAI</td>\n",
        "      <td> RAI &mdash; Radiotelevisione Italiana S.p.A. (...</td>\n",
        "      <td>                                              None</td>\n",
        "      <td> [http://farm9.staticflickr.com/8269/8699910887...</td>\n",
        "    </tr>\n",
        "    <tr>\n",
        "      <th>99 </th>\n",
        "      <td> 1</td>\n",
        "      <td> good-partial</td>\n",
        "      <td>         data set</td>\n",
        "      <td>           dataset</td>\n",
        "      <td>         http://en.wikipedia.org/wiki/Data_set</td>\n",
        "      <td> A dataset (or data set) is a collection of dat...</td>\n",
        "      <td>                                              None</td>\n",
        "      <td> [http://farm9.staticflickr.com/8527/8590445473...</td>\n",
        "    </tr>\n",
        "    <tr>\n",
        "      <th>243</th>\n",
        "      <td> 1</td>\n",
        "      <td> good-partial</td>\n",
        "      <td>      sergey brin</td>\n",
        "      <td>      brin, sergei</td>\n",
        "      <td>      http://en.wikipedia.org/wiki/Sergey_Brin</td>\n",
        "      <td> Sergey Mikhaylovich Brin (\u0421\u0435\u0440\u0433\u0435\u0439 \u041c\u0438\u0445\u0430\u0439\u043b\u043e\u0432\u0438\u0447 \u0411\u0440...</td>\n",
        "      <td> http://simple.wikipedia.org/w/index.php?title=...</td>\n",
        "      <td> [http://farm9.staticflickr.com/8407/8699842532...</td>\n",
        "    </tr>\n",
        "    <tr>\n",
        "      <th>252</th>\n",
        "      <td> 1</td>\n",
        "      <td> good-partial</td>\n",
        "      <td>   paul samuelson</td>\n",
        "      <td> samuelson, pamela</td>\n",
        "      <td>   http://en.wikipedia.org/wiki/Paul_Samuelson</td>\n",
        "      <td> Paul Anthony Samuelson (May 15, 1915 \u2013 Decembe...</td>\n",
        "      <td> http://simple.wikipedia.org/w/index.php?title=...</td>\n",
        "      <td> [http://farm9.staticflickr.com/8280/8700678957...</td>\n",
        "    </tr>\n",
        "    <tr>\n",
        "      <th>259</th>\n",
        "      <td> 1</td>\n",
        "      <td> good-partial</td>\n",
        "      <td>       hathitrust</td>\n",
        "      <td>       hathi trust</td>\n",
        "      <td>       http://en.wikipedia.org/wiki/HathiTrust</td>\n",
        "      <td> HathiTrust is a large-scale collaborative repo...</td>\n",
        "      <td>                                              None</td>\n",
        "      <td> [http://farm8.staticflickr.com/7088/7178341310...</td>\n",
        "    </tr>\n",
        "    <tr>\n",
        "      <th>266</th>\n",
        "      <td> 1</td>\n",
        "      <td> good-partial</td>\n",
        "      <td>            tulku</td>\n",
        "      <td>               sku</td>\n",
        "      <td>            http://en.wikipedia.org/wiki/Tulku</td>\n",
        "      <td> In Tibetan Buddhism, \"tulku\" (, also t\u00fclku, tr...</td>\n",
        "      <td>                                              None</td>\n",
        "      <td> [http://farm9.staticflickr.com/8113/8698495870...</td>\n",
        "    </tr>\n",
        "    <tr>\n",
        "      <th>306</th>\n",
        "      <td> 1</td>\n",
        "      <td> good-partial</td>\n",
        "      <td>            tulku</td>\n",
        "      <td>               sku</td>\n",
        "      <td>            http://en.wikipedia.org/wiki/Tulku</td>\n",
        "      <td> In Tibetan Buddhism, \"tulku\" (, also t\u00fclku, tr...</td>\n",
        "      <td>                                              None</td>\n",
        "      <td> [http://farm9.staticflickr.com/8113/8698495870...</td>\n",
        "    </tr>\n",
        "    <tr>\n",
        "      <th>320</th>\n",
        "      <td> 1</td>\n",
        "      <td> good-partial</td>\n",
        "      <td>      moore's law</td>\n",
        "      <td>       moore's law</td>\n",
        "      <td>    http://en.wikipedia.org/wiki/Moore%27s_law</td>\n",
        "      <td>                                              none</td>\n",
        "      <td>                                              none</td>\n",
        "      <td> [http://farm9.staticflickr.com/8230/8597007467...</td>\n",
        "    </tr>\n",
        "  </tbody>\n",
        "</table>\n",
        "</div>"
       ],
       "output_type": "pyout",
       "prompt_number": 94,
       "text": [
        "     count         match      matched_term               term  \\\n",
        "33       1  good-partial  geoffrey nunberg     nunberg, geoff   \n",
        "73       1  good-partial               rai                uri   \n",
        "76       1  good-partial               rai                uri   \n",
        "99       1  good-partial          data set            dataset   \n",
        "243      1  good-partial       sergey brin       brin, sergei   \n",
        "252      1  good-partial    paul samuelson  samuelson, pamela   \n",
        "259      1  good-partial        hathitrust        hathi trust   \n",
        "266      1  good-partial             tulku                sku   \n",
        "306      1  good-partial             tulku                sku   \n",
        "320      1  good-partial       moore's law        moore's law   \n",
        "\n",
        "                                               url  \\\n",
        "33   http://en.wikipedia.org/wiki/Geoffrey_Nunberg   \n",
        "73                http://en.wikipedia.org/wiki/RAI   \n",
        "76                http://en.wikipedia.org/wiki/RAI   \n",
        "99           http://en.wikipedia.org/wiki/Data_set   \n",
        "243       http://en.wikipedia.org/wiki/Sergey_Brin   \n",
        "252    http://en.wikipedia.org/wiki/Paul_Samuelson   \n",
        "259        http://en.wikipedia.org/wiki/HathiTrust   \n",
        "266             http://en.wikipedia.org/wiki/Tulku   \n",
        "306             http://en.wikipedia.org/wiki/Tulku   \n",
        "320     http://en.wikipedia.org/wiki/Moore%27s_law   \n",
        "\n",
        "                                             wiki_text  \\\n",
        "33   Geoffrey Nunberg (born June, 1945) is an Ameri...   \n",
        "73   RAI &mdash; Radiotelevisione Italiana S.p.A. (...   \n",
        "76   RAI &mdash; Radiotelevisione Italiana S.p.A. (...   \n",
        "99   A dataset (or data set) is a collection of dat...   \n",
        "243  Sergey Mikhaylovich Brin (\u0421\u0435\u0440\u0433\u0435\u0439 \u041c\u0438\u0445\u0430\u0439\u043b\u043e\u0432\u0438\u0447 \u0411\u0440...   \n",
        "252  Paul Anthony Samuelson (May 15, 1915 \u2013 Decembe...   \n",
        "259  HathiTrust is a large-scale collaborative repo...   \n",
        "266  In Tibetan Buddhism, \"tulku\" (, also t\u00fclku, tr...   \n",
        "306  In Tibetan Buddhism, \"tulku\" (, also t\u00fclku, tr...   \n",
        "320                                               none   \n",
        "\n",
        "                                            wiki_image  \\\n",
        "33                                                None   \n",
        "73                                                None   \n",
        "76                                                None   \n",
        "99                                                None   \n",
        "243  http://simple.wikipedia.org/w/index.php?title=...   \n",
        "252  http://simple.wikipedia.org/w/index.php?title=...   \n",
        "259                                               None   \n",
        "266                                               None   \n",
        "306                                               None   \n",
        "320                                               none   \n",
        "\n",
        "                                           flickr_urls  \n",
        "33   [http://farm9.staticflickr.com/8140/8700510731...  \n",
        "73   [http://farm9.staticflickr.com/8269/8699910887...  \n",
        "76   [http://farm9.staticflickr.com/8269/8699910887...  \n",
        "99   [http://farm9.staticflickr.com/8527/8590445473...  \n",
        "243  [http://farm9.staticflickr.com/8407/8699842532...  \n",
        "252  [http://farm9.staticflickr.com/8280/8700678957...  \n",
        "259  [http://farm8.staticflickr.com/7088/7178341310...  \n",
        "266  [http://farm9.staticflickr.com/8113/8698495870...  \n",
        "306  [http://farm9.staticflickr.com/8113/8698495870...  \n",
        "320  [http://farm9.staticflickr.com/8230/8597007467...  "
       ]
      }
     ],
     "prompt_number": 94
    },
    {
     "cell_type": "heading",
     "level": 4,
     "metadata": {},
     "source": [
      "Our result for Adam Smith (DataFram index 158)"
     ]
    },
    {
     "cell_type": "code",
     "collapsed": false,
     "input": [
      "# http://ipython.org/ipython-doc/dev/api/generated/IPython.core.display.html#IPython.core.display.Image\n",
      "# width is IPython 14+, this is IPython version 0.13.1\n",
      "from IPython.core.display import Image\n",
      "print matched_terms.ix[243]['wiki_text']\n",
      "Image(url=matched_terms.ix[243]['wiki_image'])"
     ],
     "language": "python",
     "metadata": {},
     "outputs": [
      {
       "output_type": "stream",
       "stream": "stdout",
       "text": [
        "Sergey Mikhaylovich Brin (\u0421\u0435\u0440\u0433\u0435\u0439 \u041c\u0438\u0445\u0430\u0439\u043b\u043e\u0432\u0438\u0447 \u0411\u0440\u0438\u043d) (born August 21, 1973) is an American computer scientist and Internet entrepreneur who, with Larry Page, co-founded Google, one of the most profitable Internet companies. , his personal wealth is estimated to be $20.3 billion. Together, Brin and Page own about 16 percent of the company.\n",
        "\n",
        "Brin immigrated to the United States with his family from the Soviet Union at the age of six. He earned his undergraduate degree at the University of Maryland, following in his father's and grandfather's footsteps by studying mathematics, as well as computer science. After graduation, he moved to Stanford University to acquire a Ph.D. in computer science. There he met Larry Page, with whom he later became friends. They crammed their dormitory room with inexpensive computers and applied Brin's data mining system to build a superior search engine. The program became popular at Stanford and they suspended their PhD studies to start up Google in a rented garage.\n",
        "\n",
        "The Economist newspaper referred to Brin as an \"Enlightenment Man\", and someone who believes that \"knowledge is always good, and certainly always better than ignorance\", a philosophy that is summed up by Google\u2019s motto \"Organize the world\u2019s information and make it universally accessible and useful\" and \"Don't be evil\".\n",
        "\n",
        "\n"
       ]
      },
      {
       "html": [
        "<img src=\"http://simple.wikipedia.org/w/index.php?title=Special:FilePath&file=Sergey_Brin_Ted_2010.jpg\" />"
       ],
       "output_type": "pyout",
       "prompt_number": 70,
       "text": [
        "<IPython.core.display.Image at 0x10de24990>"
       ]
      }
     ],
     "prompt_number": 70
    },
    {
     "cell_type": "heading",
     "level": 2,
     "metadata": {},
     "source": [
      "Other APIs - Flickr and News (Guardian)"
     ]
    },
    {
     "cell_type": "markdown",
     "metadata": {},
     "source": [
      "<p>Our project also explored the use of Flickr and News APIs that run queries based on the terms matched from Wikipedia. These are potentially useful in various ways.</p>"
     ]
    },
    {
     "cell_type": "code",
     "collapsed": false,
     "input": [
      "## load imports and API Keys\n",
      "from flickr_api.auth import AuthHandler\n",
      "from flickr_api import FlickrError\n",
      "import flickr_api\n",
      "from tidings import Guardian, NewYorkTimes\n",
      "\n",
      "def load_api_keys():\n",
      "    if os.path.exists('settings.py'):\n",
      "        from settings import FLICKR_KEY, FLICKR_SECRET, guardian_key, nyt_key\n",
      "        secrets = {'api_key': FLICKR_KEY, 'api_secret': FLICKR_SECRET}\n",
      "        news_keys = {'guardian_key': guardian_key, 'nyt_key': nyt_key }\n",
      "        return secrets, news_keys\n",
      "    else:\n",
      "        print(\"settings.py not found, add to directory or run without flickr and news\")\n",
      "        sys.exit()\n",
      "\n",
      "secrets, news_keys = load_api_keys()"
     ],
     "language": "python",
     "metadata": {},
     "outputs": [],
     "prompt_number": 105
    },
    {
     "cell_type": "heading",
     "level": 3,
     "metadata": {},
     "source": [
      "Flickr"
     ]
    },
    {
     "cell_type": "code",
     "collapsed": false,
     "input": [
      "def get_flickr_url(term):\n",
      "    flickr_api.set_keys(**secrets)\n",
      "    photos = flickr_api.Photo.search(tags=term, sort='date-posted-desc')\n",
      " \n",
      "    if len(photos) == 0 or type(photos) == dict:\n",
      "        return []\n",
      "    \n",
      "    flickr_urls = []\n",
      "    for photo in photos[:3]:\n",
      "        try:\n",
      "            flickr_urls.append(\"http://farm{farm}.staticflickr.com/{server}/{id}_{secret}_m.jpg\".format(**photo.getInfo()))\n",
      "        except FlickrError:\n",
      "            pass\n",
      "\n",
      "    return flickr_urls\n",
      "\n",
      "matched_terms['flickr_urls'] = matched_terms['term'].apply(get_flickr_url)"
     ],
     "language": "python",
     "metadata": {},
     "outputs": [],
     "prompt_number": 72
    },
    {
     "cell_type": "code",
     "collapsed": false,
     "input": [
      "## which flickr images did we get for the term 'museums'?\n",
      "print matched_terms.ix[565]['term']\n",
      "flickr_url = matched_terms.ix[565]['flickr_urls'][1]\n",
      "Image(url=flickr_url)"
     ],
     "language": "python",
     "metadata": {},
     "outputs": [
      {
       "output_type": "stream",
       "stream": "stdout",
       "text": [
        "museums\n"
       ]
      },
      {
       "html": [
        "<img src=\"http://farm9.staticflickr.com/8401/8700137959_1b1229317f_m.jpg\" />"
       ],
       "output_type": "pyout",
       "prompt_number": 99,
       "text": [
        "<IPython.core.display.Image at 0x109850cd0>"
       ]
      }
     ],
     "prompt_number": 99
    },
    {
     "cell_type": "heading",
     "level": 3,
     "metadata": {},
     "source": [
      "Guardian UK"
     ]
    },
    {
     "cell_type": "code",
     "collapsed": false,
     "input": [
      "## blocked from API?\n",
      "def get_news_url(term):\n",
      "    g = Guardian(news_keys['guardian_key'])\n",
      "    print term\n",
      "    g_links = g.query(re.sub(\"\\W\",\"\",term), from_date='2013-01-01', to_date='2013-4-30')\n",
      "    return g_links[:3]\n",
      "\n",
      "matched_terms['news_urls'], = matched_terms['term'].apply(get_news_url)"
     ],
     "language": "python",
     "metadata": {},
     "outputs": [
      {
       "ename": "HTTPError",
       "evalue": "403 Client Error: Forbidden",
       "output_type": "pyerr",
       "traceback": [
        "\u001b[0;31m---------------------------------------------------------------------------\u001b[0m\n\u001b[0;31mHTTPError\u001b[0m                                 Traceback (most recent call last)",
        "\u001b[0;32m<ipython-input-113-e79027e0d9e3>\u001b[0m in \u001b[0;36m<module>\u001b[0;34m()\u001b[0m\n\u001b[1;32m      5\u001b[0m     \u001b[0;32mreturn\u001b[0m \u001b[0mg_links\u001b[0m\u001b[0;34m[\u001b[0m\u001b[0;34m:\u001b[0m\u001b[0;36m3\u001b[0m\u001b[0;34m]\u001b[0m\u001b[0;34m\u001b[0m\u001b[0m\n\u001b[1;32m      6\u001b[0m \u001b[0;34m\u001b[0m\u001b[0m\n\u001b[0;32m----> 7\u001b[0;31m \u001b[0mmatched_terms\u001b[0m\u001b[0;34m[\u001b[0m\u001b[0;34m'news_urls'\u001b[0m\u001b[0;34m]\u001b[0m\u001b[0;34m,\u001b[0m \u001b[0;34m=\u001b[0m \u001b[0mmatched_terms\u001b[0m\u001b[0;34m[\u001b[0m\u001b[0;34m'term'\u001b[0m\u001b[0;34m]\u001b[0m\u001b[0;34m.\u001b[0m\u001b[0mapply\u001b[0m\u001b[0;34m(\u001b[0m\u001b[0mget_news_url\u001b[0m\u001b[0;34m)\u001b[0m\u001b[0;34m\u001b[0m\u001b[0m\n\u001b[0m",
        "\u001b[0;32m/Library/Python/2.7/site-packages/pandas-0.10.1-py2.7-macosx-10.8-intel.egg/pandas/core/series.pyc\u001b[0m in \u001b[0;36mapply\u001b[0;34m(self, func, convert_dtype, args, **kwds)\u001b[0m\n\u001b[1;32m   2294\u001b[0m             \u001b[0mvalues\u001b[0m \u001b[0;34m=\u001b[0m \u001b[0mlib\u001b[0m\u001b[0;34m.\u001b[0m\u001b[0mmap_infer\u001b[0m\u001b[0;34m(\u001b[0m\u001b[0mvalues\u001b[0m\u001b[0;34m,\u001b[0m \u001b[0mlib\u001b[0m\u001b[0;34m.\u001b[0m\u001b[0mTimestamp\u001b[0m\u001b[0;34m)\u001b[0m\u001b[0;34m\u001b[0m\u001b[0m\n\u001b[1;32m   2295\u001b[0m \u001b[0;34m\u001b[0m\u001b[0m\n\u001b[0;32m-> 2296\u001b[0;31m         \u001b[0mmapped\u001b[0m \u001b[0;34m=\u001b[0m \u001b[0mlib\u001b[0m\u001b[0;34m.\u001b[0m\u001b[0mmap_infer\u001b[0m\u001b[0;34m(\u001b[0m\u001b[0mvalues\u001b[0m\u001b[0;34m,\u001b[0m \u001b[0mf\u001b[0m\u001b[0;34m,\u001b[0m \u001b[0mconvert\u001b[0m\u001b[0;34m=\u001b[0m\u001b[0mconvert_dtype\u001b[0m\u001b[0;34m)\u001b[0m\u001b[0;34m\u001b[0m\u001b[0m\n\u001b[0m\u001b[1;32m   2297\u001b[0m         \u001b[0;32mif\u001b[0m \u001b[0misinstance\u001b[0m\u001b[0;34m(\u001b[0m\u001b[0mmapped\u001b[0m\u001b[0;34m[\u001b[0m\u001b[0;36m0\u001b[0m\u001b[0;34m]\u001b[0m\u001b[0;34m,\u001b[0m \u001b[0mSeries\u001b[0m\u001b[0;34m)\u001b[0m\u001b[0;34m:\u001b[0m\u001b[0;34m\u001b[0m\u001b[0m\n\u001b[1;32m   2298\u001b[0m             \u001b[0;32mfrom\u001b[0m \u001b[0mpandas\u001b[0m\u001b[0;34m.\u001b[0m\u001b[0mcore\u001b[0m\u001b[0;34m.\u001b[0m\u001b[0mframe\u001b[0m \u001b[0;32mimport\u001b[0m \u001b[0mDataFrame\u001b[0m\u001b[0;34m\u001b[0m\u001b[0m\n",
        "\u001b[0;32m/Library/Python/2.7/site-packages/pandas-0.10.1-py2.7-macosx-10.8-intel.egg/pandas/lib.so\u001b[0m in \u001b[0;36mpandas.lib.map_infer (pandas/lib.c:39944)\u001b[0;34m()\u001b[0m\n",
        "\u001b[0;32m<ipython-input-113-e79027e0d9e3>\u001b[0m in \u001b[0;36mget_news_url\u001b[0;34m(term)\u001b[0m\n\u001b[1;32m      2\u001b[0m     \u001b[0mg\u001b[0m \u001b[0;34m=\u001b[0m \u001b[0mGuardian\u001b[0m\u001b[0;34m(\u001b[0m\u001b[0mnews_keys\u001b[0m\u001b[0;34m[\u001b[0m\u001b[0;34m'guardian_key'\u001b[0m\u001b[0;34m]\u001b[0m\u001b[0;34m)\u001b[0m\u001b[0;34m\u001b[0m\u001b[0m\n\u001b[1;32m      3\u001b[0m     \u001b[0;32mprint\u001b[0m \u001b[0mterm\u001b[0m\u001b[0;34m\u001b[0m\u001b[0m\n\u001b[0;32m----> 4\u001b[0;31m     \u001b[0mg_links\u001b[0m \u001b[0;34m=\u001b[0m \u001b[0mg\u001b[0m\u001b[0;34m.\u001b[0m\u001b[0mquery\u001b[0m\u001b[0;34m(\u001b[0m\u001b[0mre\u001b[0m\u001b[0;34m.\u001b[0m\u001b[0msub\u001b[0m\u001b[0;34m(\u001b[0m\u001b[0;34m\"\\W\"\u001b[0m\u001b[0;34m,\u001b[0m\u001b[0;34m\"\"\u001b[0m\u001b[0;34m,\u001b[0m\u001b[0mterm\u001b[0m\u001b[0;34m)\u001b[0m\u001b[0;34m,\u001b[0m \u001b[0mfrom_date\u001b[0m\u001b[0;34m=\u001b[0m\u001b[0;34m'2013-01-01'\u001b[0m\u001b[0;34m,\u001b[0m \u001b[0mto_date\u001b[0m\u001b[0;34m=\u001b[0m\u001b[0;34m'2013-4-30'\u001b[0m\u001b[0;34m)\u001b[0m\u001b[0;34m\u001b[0m\u001b[0m\n\u001b[0m\u001b[1;32m      5\u001b[0m     \u001b[0;32mreturn\u001b[0m \u001b[0mg_links\u001b[0m\u001b[0;34m[\u001b[0m\u001b[0;34m:\u001b[0m\u001b[0;36m3\u001b[0m\u001b[0;34m]\u001b[0m\u001b[0;34m\u001b[0m\u001b[0m\n\u001b[1;32m      6\u001b[0m \u001b[0;34m\u001b[0m\u001b[0m\n",
        "\u001b[0;32m/Users/ajrenold/Dropbox/iSchool/2013Spring/OpenData/doctorbook/doctorbook/notebooks/tidings.pyc\u001b[0m in \u001b[0;36mquery\u001b[0;34m(self, query, from_date, to_date)\u001b[0m\n\u001b[1;32m     33\u001b[0m         \u001b[0;32mdef\u001b[0m \u001b[0mquery\u001b[0m\u001b[0;34m(\u001b[0m\u001b[0mself\u001b[0m\u001b[0;34m,\u001b[0m \u001b[0mquery\u001b[0m\u001b[0;34m,\u001b[0m \u001b[0mfrom_date\u001b[0m\u001b[0;34m=\u001b[0m\u001b[0mdate\u001b[0m\u001b[0;34m.\u001b[0m\u001b[0mtoday\u001b[0m\u001b[0;34m(\u001b[0m\u001b[0;34m)\u001b[0m\u001b[0;34m.\u001b[0m\u001b[0mstrftime\u001b[0m\u001b[0;34m(\u001b[0m\u001b[0;34m'%Y-01-01'\u001b[0m\u001b[0;34m)\u001b[0m\u001b[0;34m,\u001b[0m \u001b[0mto_date\u001b[0m\u001b[0;34m=\u001b[0m\u001b[0mdate\u001b[0m\u001b[0;34m.\u001b[0m\u001b[0mtoday\u001b[0m\u001b[0;34m(\u001b[0m\u001b[0;34m)\u001b[0m\u001b[0;34m.\u001b[0m\u001b[0mstrftime\u001b[0m\u001b[0;34m(\u001b[0m\u001b[0;34m'%Y-%m-%d'\u001b[0m\u001b[0;34m)\u001b[0m\u001b[0;34m)\u001b[0m\u001b[0;34m:\u001b[0m\u001b[0;34m\u001b[0m\u001b[0m\n\u001b[1;32m     34\u001b[0m                 \u001b[0mout_list\u001b[0m \u001b[0;34m=\u001b[0m \u001b[0;34m[\u001b[0m\u001b[0;34m]\u001b[0m\u001b[0;34m\u001b[0m\u001b[0m\n\u001b[0;32m---> 35\u001b[0;31m                 \u001b[0mraw_response\u001b[0m \u001b[0;34m=\u001b[0m \u001b[0mself\u001b[0m\u001b[0;34m.\u001b[0m\u001b[0m_request\u001b[0m\u001b[0;34m(\u001b[0m\u001b[0mquery\u001b[0m\u001b[0;34m,\u001b[0m \u001b[0mfrom_date\u001b[0m\u001b[0;34m,\u001b[0m \u001b[0mto_date\u001b[0m\u001b[0;34m)\u001b[0m\u001b[0;34m\u001b[0m\u001b[0m\n\u001b[0m\u001b[1;32m     36\u001b[0m                 \u001b[0mjson_response\u001b[0m \u001b[0;34m=\u001b[0m \u001b[0mjson\u001b[0m\u001b[0;34m.\u001b[0m\u001b[0mloads\u001b[0m\u001b[0;34m(\u001b[0m\u001b[0mraw_response\u001b[0m\u001b[0;34m)\u001b[0m\u001b[0;34m\u001b[0m\u001b[0m\n\u001b[1;32m     37\u001b[0m                 \u001b[0mout_list\u001b[0m \u001b[0;34m+=\u001b[0m \u001b[0mself\u001b[0m\u001b[0;34m.\u001b[0m\u001b[0m_process_result\u001b[0m\u001b[0;34m(\u001b[0m\u001b[0mjson_response\u001b[0m\u001b[0;34m)\u001b[0m\u001b[0;31m#raw_response\u001b[0m\u001b[0;34m\u001b[0m\u001b[0m\n",
        "\u001b[0;32m/Users/ajrenold/Dropbox/iSchool/2013Spring/OpenData/doctorbook/doctorbook/notebooks/tidings.pyc\u001b[0m in \u001b[0;36m_request\u001b[0;34m(self, query, from_date, to_date, page)\u001b[0m\n\u001b[1;32m     22\u001b[0m \t\t}\n\u001b[1;32m     23\u001b[0m                 \u001b[0mapi_response\u001b[0m \u001b[0;34m=\u001b[0m \u001b[0mrequests\u001b[0m\u001b[0;34m.\u001b[0m\u001b[0mget\u001b[0m\u001b[0;34m(\u001b[0m\u001b[0mendpoint\u001b[0m\u001b[0;34m,\u001b[0m \u001b[0mparams\u001b[0m\u001b[0;34m=\u001b[0m\u001b[0mpayload\u001b[0m\u001b[0;34m)\u001b[0m\u001b[0;34m\u001b[0m\u001b[0m\n\u001b[0;32m---> 24\u001b[0;31m                 \u001b[0mapi_response\u001b[0m\u001b[0;34m.\u001b[0m\u001b[0mraise_for_status\u001b[0m\u001b[0;34m(\u001b[0m\u001b[0;34m)\u001b[0m\u001b[0;34m\u001b[0m\u001b[0m\n\u001b[0m\u001b[1;32m     25\u001b[0m                 \u001b[0;32mreturn\u001b[0m \u001b[0mapi_response\u001b[0m\u001b[0;34m.\u001b[0m\u001b[0mtext\u001b[0m\u001b[0;34m\u001b[0m\u001b[0m\n\u001b[1;32m     26\u001b[0m \u001b[0;34m\u001b[0m\u001b[0m\n",
        "\u001b[0;32m/Library/Python/2.7/site-packages/requests/models.pyc\u001b[0m in \u001b[0;36mraise_for_status\u001b[0;34m(self)\u001b[0m\n\u001b[1;32m    636\u001b[0m             \u001b[0mhttp_error\u001b[0m \u001b[0;34m=\u001b[0m \u001b[0mHTTPError\u001b[0m\u001b[0;34m(\u001b[0m\u001b[0mhttp_error_msg\u001b[0m\u001b[0;34m)\u001b[0m\u001b[0;34m\u001b[0m\u001b[0m\n\u001b[1;32m    637\u001b[0m             \u001b[0mhttp_error\u001b[0m\u001b[0;34m.\u001b[0m\u001b[0mresponse\u001b[0m \u001b[0;34m=\u001b[0m \u001b[0mself\u001b[0m\u001b[0;34m\u001b[0m\u001b[0m\n\u001b[0;32m--> 638\u001b[0;31m             \u001b[0;32mraise\u001b[0m \u001b[0mhttp_error\u001b[0m\u001b[0;34m\u001b[0m\u001b[0m\n\u001b[0m\u001b[1;32m    639\u001b[0m \u001b[0;34m\u001b[0m\u001b[0m\n\u001b[1;32m    640\u001b[0m     \u001b[0;32mdef\u001b[0m \u001b[0mclose\u001b[0m\u001b[0;34m(\u001b[0m\u001b[0mself\u001b[0m\u001b[0;34m)\u001b[0m\u001b[0;34m:\u001b[0m\u001b[0;34m\u001b[0m\u001b[0m\n",
        "\u001b[0;31mHTTPError\u001b[0m: 403 Client Error: Forbidden"
       ]
      },
      {
       "output_type": "stream",
       "stream": "stdout",
       "text": [
        "nunberg, geoff\n"
       ]
      }
     ],
     "prompt_number": 113
    },
    {
     "cell_type": "code",
     "collapsed": false,
     "input": [
      "matched_terms[:10]"
     ],
     "language": "python",
     "metadata": {},
     "outputs": [
      {
       "html": [
        "<div style=\"max-height:1000px;max-width:1500px;overflow:auto;\">\n",
        "<table border=\"1\" class=\"dataframe\">\n",
        "  <thead>\n",
        "    <tr style=\"text-align: right;\">\n",
        "      <th></th>\n",
        "      <th>count</th>\n",
        "      <th>match</th>\n",
        "      <th>matched_term</th>\n",
        "      <th>term</th>\n",
        "      <th>url</th>\n",
        "      <th>wiki_text</th>\n",
        "      <th>wiki_image</th>\n",
        "      <th>flickr_urls</th>\n",
        "    </tr>\n",
        "  </thead>\n",
        "  <tbody>\n",
        "    <tr>\n",
        "      <th>33 </th>\n",
        "      <td> 1</td>\n",
        "      <td> good-partial</td>\n",
        "      <td> geoffrey nunberg</td>\n",
        "      <td>    nunberg, geoff</td>\n",
        "      <td> http://en.wikipedia.org/wiki/Geoffrey_Nunberg</td>\n",
        "      <td> Geoffrey Nunberg (born June, 1945) is an Ameri...</td>\n",
        "      <td>                                              None</td>\n",
        "      <td> [http://farm9.staticflickr.com/8140/8700510731...</td>\n",
        "    </tr>\n",
        "    <tr>\n",
        "      <th>73 </th>\n",
        "      <td> 1</td>\n",
        "      <td> good-partial</td>\n",
        "      <td>              rai</td>\n",
        "      <td>               uri</td>\n",
        "      <td>              http://en.wikipedia.org/wiki/RAI</td>\n",
        "      <td> RAI &mdash; Radiotelevisione Italiana S.p.A. (...</td>\n",
        "      <td>                                              None</td>\n",
        "      <td> [http://farm9.staticflickr.com/8269/8699910887...</td>\n",
        "    </tr>\n",
        "    <tr>\n",
        "      <th>76 </th>\n",
        "      <td> 1</td>\n",
        "      <td> good-partial</td>\n",
        "      <td>              rai</td>\n",
        "      <td>               uri</td>\n",
        "      <td>              http://en.wikipedia.org/wiki/RAI</td>\n",
        "      <td> RAI &mdash; Radiotelevisione Italiana S.p.A. (...</td>\n",
        "      <td>                                              None</td>\n",
        "      <td> [http://farm9.staticflickr.com/8269/8699910887...</td>\n",
        "    </tr>\n",
        "    <tr>\n",
        "      <th>99 </th>\n",
        "      <td> 1</td>\n",
        "      <td> good-partial</td>\n",
        "      <td>         data set</td>\n",
        "      <td>           dataset</td>\n",
        "      <td>         http://en.wikipedia.org/wiki/Data_set</td>\n",
        "      <td> A dataset (or data set) is a collection of dat...</td>\n",
        "      <td>                                              None</td>\n",
        "      <td> [http://farm9.staticflickr.com/8527/8590445473...</td>\n",
        "    </tr>\n",
        "    <tr>\n",
        "      <th>243</th>\n",
        "      <td> 1</td>\n",
        "      <td> good-partial</td>\n",
        "      <td>      sergey brin</td>\n",
        "      <td>      brin, sergei</td>\n",
        "      <td>      http://en.wikipedia.org/wiki/Sergey_Brin</td>\n",
        "      <td> Sergey Mikhaylovich Brin (\u0421\u0435\u0440\u0433\u0435\u0439 \u041c\u0438\u0445\u0430\u0439\u043b\u043e\u0432\u0438\u0447 \u0411\u0440...</td>\n",
        "      <td> http://simple.wikipedia.org/w/index.php?title=...</td>\n",
        "      <td> [http://farm9.staticflickr.com/8407/8699842532...</td>\n",
        "    </tr>\n",
        "    <tr>\n",
        "      <th>252</th>\n",
        "      <td> 1</td>\n",
        "      <td> good-partial</td>\n",
        "      <td>   paul samuelson</td>\n",
        "      <td> samuelson, pamela</td>\n",
        "      <td>   http://en.wikipedia.org/wiki/Paul_Samuelson</td>\n",
        "      <td> Paul Anthony Samuelson (May 15, 1915 \u2013 Decembe...</td>\n",
        "      <td> http://simple.wikipedia.org/w/index.php?title=...</td>\n",
        "      <td> [http://farm9.staticflickr.com/8280/8700678957...</td>\n",
        "    </tr>\n",
        "    <tr>\n",
        "      <th>259</th>\n",
        "      <td> 1</td>\n",
        "      <td> good-partial</td>\n",
        "      <td>       hathitrust</td>\n",
        "      <td>       hathi trust</td>\n",
        "      <td>       http://en.wikipedia.org/wiki/HathiTrust</td>\n",
        "      <td> HathiTrust is a large-scale collaborative repo...</td>\n",
        "      <td>                                              None</td>\n",
        "      <td> [http://farm8.staticflickr.com/7088/7178341310...</td>\n",
        "    </tr>\n",
        "    <tr>\n",
        "      <th>266</th>\n",
        "      <td> 1</td>\n",
        "      <td> good-partial</td>\n",
        "      <td>            tulku</td>\n",
        "      <td>               sku</td>\n",
        "      <td>            http://en.wikipedia.org/wiki/Tulku</td>\n",
        "      <td> In Tibetan Buddhism, \"tulku\" (, also t\u00fclku, tr...</td>\n",
        "      <td>                                              None</td>\n",
        "      <td> [http://farm9.staticflickr.com/8113/8698495870...</td>\n",
        "    </tr>\n",
        "    <tr>\n",
        "      <th>306</th>\n",
        "      <td> 1</td>\n",
        "      <td> good-partial</td>\n",
        "      <td>            tulku</td>\n",
        "      <td>               sku</td>\n",
        "      <td>            http://en.wikipedia.org/wiki/Tulku</td>\n",
        "      <td> In Tibetan Buddhism, \"tulku\" (, also t\u00fclku, tr...</td>\n",
        "      <td>                                              None</td>\n",
        "      <td> [http://farm9.staticflickr.com/8113/8698495870...</td>\n",
        "    </tr>\n",
        "    <tr>\n",
        "      <th>320</th>\n",
        "      <td> 1</td>\n",
        "      <td> good-partial</td>\n",
        "      <td>      moore's law</td>\n",
        "      <td>       moore's law</td>\n",
        "      <td>    http://en.wikipedia.org/wiki/Moore%27s_law</td>\n",
        "      <td>                                              none</td>\n",
        "      <td>                                              none</td>\n",
        "      <td> [http://farm9.staticflickr.com/8230/8597007467...</td>\n",
        "    </tr>\n",
        "  </tbody>\n",
        "</table>\n",
        "</div>"
       ],
       "output_type": "pyout",
       "prompt_number": 115,
       "text": [
        "     count         match      matched_term               term  \\\n",
        "33       1  good-partial  geoffrey nunberg     nunberg, geoff   \n",
        "73       1  good-partial               rai                uri   \n",
        "76       1  good-partial               rai                uri   \n",
        "99       1  good-partial          data set            dataset   \n",
        "243      1  good-partial       sergey brin       brin, sergei   \n",
        "252      1  good-partial    paul samuelson  samuelson, pamela   \n",
        "259      1  good-partial        hathitrust        hathi trust   \n",
        "266      1  good-partial             tulku                sku   \n",
        "306      1  good-partial             tulku                sku   \n",
        "320      1  good-partial       moore's law        moore's law   \n",
        "\n",
        "                                               url  \\\n",
        "33   http://en.wikipedia.org/wiki/Geoffrey_Nunberg   \n",
        "73                http://en.wikipedia.org/wiki/RAI   \n",
        "76                http://en.wikipedia.org/wiki/RAI   \n",
        "99           http://en.wikipedia.org/wiki/Data_set   \n",
        "243       http://en.wikipedia.org/wiki/Sergey_Brin   \n",
        "252    http://en.wikipedia.org/wiki/Paul_Samuelson   \n",
        "259        http://en.wikipedia.org/wiki/HathiTrust   \n",
        "266             http://en.wikipedia.org/wiki/Tulku   \n",
        "306             http://en.wikipedia.org/wiki/Tulku   \n",
        "320     http://en.wikipedia.org/wiki/Moore%27s_law   \n",
        "\n",
        "                                             wiki_text  \\\n",
        "33   Geoffrey Nunberg (born June, 1945) is an Ameri...   \n",
        "73   RAI &mdash; Radiotelevisione Italiana S.p.A. (...   \n",
        "76   RAI &mdash; Radiotelevisione Italiana S.p.A. (...   \n",
        "99   A dataset (or data set) is a collection of dat...   \n",
        "243  Sergey Mikhaylovich Brin (\u0421\u0435\u0440\u0433\u0435\u0439 \u041c\u0438\u0445\u0430\u0439\u043b\u043e\u0432\u0438\u0447 \u0411\u0440...   \n",
        "252  Paul Anthony Samuelson (May 15, 1915 \u2013 Decembe...   \n",
        "259  HathiTrust is a large-scale collaborative repo...   \n",
        "266  In Tibetan Buddhism, \"tulku\" (, also t\u00fclku, tr...   \n",
        "306  In Tibetan Buddhism, \"tulku\" (, also t\u00fclku, tr...   \n",
        "320                                               none   \n",
        "\n",
        "                                            wiki_image  \\\n",
        "33                                                None   \n",
        "73                                                None   \n",
        "76                                                None   \n",
        "99                                                None   \n",
        "243  http://simple.wikipedia.org/w/index.php?title=...   \n",
        "252  http://simple.wikipedia.org/w/index.php?title=...   \n",
        "259                                               None   \n",
        "266                                               None   \n",
        "306                                               None   \n",
        "320                                               none   \n",
        "\n",
        "                                           flickr_urls  \n",
        "33   [http://farm9.staticflickr.com/8140/8700510731...  \n",
        "73   [http://farm9.staticflickr.com/8269/8699910887...  \n",
        "76   [http://farm9.staticflickr.com/8269/8699910887...  \n",
        "99   [http://farm9.staticflickr.com/8527/8590445473...  \n",
        "243  [http://farm9.staticflickr.com/8407/8699842532...  \n",
        "252  [http://farm9.staticflickr.com/8280/8700678957...  \n",
        "259  [http://farm8.staticflickr.com/7088/7178341310...  \n",
        "266  [http://farm9.staticflickr.com/8113/8698495870...  \n",
        "306  [http://farm9.staticflickr.com/8113/8698495870...  \n",
        "320  [http://farm9.staticflickr.com/8230/8597007467...  "
       ]
      }
     ],
     "prompt_number": 115
    },
    {
     "cell_type": "heading",
     "level": 2,
     "metadata": {},
     "source": [
      "Future Project Direction"
     ]
    },
    {
     "cell_type": "markdown",
     "metadata": {},
     "source": [
      "<p>As a potentially useful tool for augmenting the reading experience with Open Data. Our group envisions two potential directions for our project or similar</p>\n",
      "<ol>\n",
      "    <li><b>Pre-publishing Processing</b> - where a non-fiction book in its raw form (such as DocBook XML) goes through a process where Open Data sources, such as a Wikipedia links, are inserted into the mark up. This step would take hours to run for an entire book. This would need improvement in the match quality algorithm and possibly human quality assurance of the inserted links.</li>\n",
      "    <li><b>Reading-time Ereader Extension</b> - where our tool (shown in the prototype) could be built as an extension to an open source ereader, such as the product under development by FuturePress. The extension would annotate any document a user is reading at reading-time with annotations linking entities to their Wikipedia pages. For this use case our matching algorithm would need a lot of improvement!</li>\n",
      "</ol>"
     ]
    },
    {
     "cell_type": "heading",
     "level": 2,
     "metadata": {},
     "source": [
      "Appendix"
     ]
    },
    {
     "cell_type": "heading",
     "level": 3,
     "metadata": {},
     "source": [
      "Note on Python String Encoding"
     ]
    },
    {
     "cell_type": "markdown",
     "metadata": {},
     "source": [
      "<p>From <a href=\"http://farmdev.com/talks/unicode/\">http://farmdev.com/talks/unicode/</a></p>\n",
      "\n",
      "<p>When retrieving text from web resources and APIs and then storing the text, it is important to strictly convert strings to unicode. This will help to handle non-ascii characters before unicode only charaters start to create mystical bugs in the application. Areas where we ran into string encoding problems were attempting to store an DataFrame as a csv file and doing string comparisons (Can't compare a non-unicode string to a unicode string!). \n",
      "\n"
     ]
    },
    {
     "cell_type": "heading",
     "level": 3,
     "metadata": {},
     "source": [
      "Save/Open Data Frame"
     ]
    },
    {
     "cell_type": "code",
     "collapsed": false,
     "input": [
      "## write DataFrame\n",
      "import os\n",
      "path = os.getcwd() + '/wiki_urls_saved.csv'\n",
      "encoding = 'UTF-8'\n",
      "sep = ','\n",
      "matched_terms.to_csv(path,sep,encoding)"
     ],
     "language": "python",
     "metadata": {},
     "outputs": [],
     "prompt_number": 73
    },
    {
     "cell_type": "code",
     "collapsed": false,
     "input": [
      "## read DataFrame\n",
      "new_df = pd.read_csv(path)\n",
      "new_df = new_df.drop(['Unnamed: 0'],axis=1)"
     ],
     "language": "python",
     "metadata": {},
     "outputs": []
    },
    {
     "cell_type": "heading",
     "level": 3,
     "metadata": {},
     "source": [
      "WikiUrlFetch Class (two working versions WikiUrlFetch and WikiUrlFetchNonDBPedia)"
     ]
    },
    {
     "cell_type": "code",
     "collapsed": false,
     "input": [
      "#!/usr/bin/env python\n",
      "\n",
      "from urllib2 import urlopen\n",
      "import urllib2\n",
      "import re\n",
      "import json\n",
      "from nltk import metrics\n",
      "from bs4 import BeautifulSoup, Tag\n",
      "\n",
      "class WikiUrlFetch():\n",
      "\n",
      "    def __init__(self):\n",
      "        self.cleaned_term = None\n",
      "\n",
      "    def fetch_wiki(self,term):\n",
      "        self.cleaned_term = self.clean_term(term)\n",
      "        self.results = self.get_wiki_url(self.cleaned_term)\n",
      "        return self.results\n",
      "\n",
      "    def clean_term(self,term):\n",
      "        return re.sub(r\"[^A-Za-z0-9 ]\",\"\",term.lower())\n",
      "        \n",
      "    def check_dbpedia(self, term):\n",
      "        api = 'http://lookup.dbpedia.org/api/search.asmx/KeywordSearch?MaxHits=5&QueryString='\n",
      "        #api = 'http://lookup.dbpedia.org/api/search.asmx/PrefixSearch?MaxHits=10&QueryString='\n",
      "       \n",
      "        #print term\n",
      "\n",
      "        try:\n",
      "            response = urlopen(api+term)\n",
      "        except:\n",
      "            return \"\"\n",
      "    \n",
      "        soup = BeautifulSoup(response.read())\n",
      "    \n",
      "        results = []\n",
      "        for result in soup.findAll('result'):\n",
      "            for child in result.children:\n",
      "                if isinstance(child,Tag):\n",
      "                    if child.name == 'label':\n",
      "                        current_label = child.string.lower()\n",
      "                    if child.name == 'uri':\n",
      "                        results.append({ 'term': current_label.encode('utf-8'), 'url': child.string.encode('utf-8') })\n",
      "        \n",
      "        return self.rank_dbpedia_results(results,term)\n",
      "    \n",
      "    def normalize(self,string):\n",
      "        strings = string.split(\" \")\n",
      "        strings.sort()\n",
      "        return \" \".join(strings)\n",
      "\n",
      "    def rank_dbpedia_results(self,results,term):\n",
      "        \"\"\"\n",
      "        logic:\n",
      "            if edit distance 0, exact match\n",
      "            if edit distance 1-4, good-partial match\n",
      "            if edit distance > 4, partial match (results unsorted)\n",
      "        \"\"\"\n",
      "\n",
      "        matches = []\n",
      "        for result in results:\n",
      "            matches.append([metrics.edit_distance(self.normalize(result['term']), self.normalize(term)), result])\n",
      "\n",
      "        matches.sort()\n",
      "        #print matches\n",
      "        if len(matches) == 0:\n",
      "            return [ { 'match': 'none', 'term': term.encode('utf-8') } ] \n",
      "        \n",
      "        elif matches[0][0] == 0:\n",
      "            new_results = [ matches[0][1] ]\n",
      "            new_results[0]['match'] = 'exact'\n",
      "            return new_results\n",
      "\n",
      "        elif matches[0][0] <= 8:\n",
      "            new_results = []\n",
      "            for match in matches:\n",
      "                if match[0] <= 3:\n",
      "                    result = match[1]\n",
      "                    result['match'] = 'good-partial'\n",
      "                    new_results.append(result)\n",
      "\n",
      "                \"\"\" # needs refinement to provide good matches\n",
      "                elif match[0] <= 5:\n",
      "                    words = self.normalize(result['term']).split(' ')\n",
      "                    if self.normalize(term) in words:\n",
      "                        result = match[1]\n",
      "                        result['match'] = 'good-partial'\n",
      "                        new_results.append(result)\n",
      "                \"\"\"\n",
      "            return new_results\n",
      "\n",
      "        else:\n",
      "            new_results = []\n",
      "            for result in results[0:2]:\n",
      "                result['match'] = 'partial'\n",
      "                new_results.append(result)\n",
      "            return new_results\n",
      "    \n",
      "    def wiki_url(self,url):\n",
      "\n",
      "        term = url[url.rfind('/'):]\n",
      "        entity_page = 'http://dbpedia.org/data/{}.json'.format(term)\n",
      "    \n",
      "        wiki_type = 'http://xmlns.com/foaf/0.1/primaryTopic'\n",
      "    \n",
      "        try:\n",
      "            response = urlopen(entity_page)\n",
      "        except:\n",
      "            return\n",
      "    \n",
      "        data = json.loads(response.read())\n",
      "        for key,value in data.items():\n",
      "            'http://xmlns.com/foaf/0.1/primaryTopic'\n",
      "            if 'http://xmlns.com/foaf/0.1/primaryTopic' in value:\n",
      "                #print key\n",
      "                return key.encode('utf-8')\n",
      "\n",
      "    def get_wiki_url(self, term):\n",
      "    \n",
      "        results = self.check_dbpedia(term)\n",
      "\n",
      "        for result in results:\n",
      "            if result['match'] != 'none' and result['match'] != 'partial':\n",
      "                wiki = self.wiki_url(result['url'])\n",
      "                result['wiki_url'] = wiki\n",
      "\n",
      "        return results\n",
      "\n",
      "class WikiUrlFetchNonDBPedia():\n",
      "\n",
      "    def __init__(self):\n",
      "        self.wiki_api =  'http://en.wikipedia.org/w/api.php?action=query&list=search&format=json&srsearch='\n",
      "        self.cleaned_term = None\n",
      "\n",
      "    def fetch_wiki(self,term):\n",
      "        self.cleaned_term = self.clean_term(term)\n",
      "        self.results = self.get_wiki_url(self.cleaned_term)\n",
      "        return self.results\n",
      "\n",
      "    def check_wikipedia_api(self,term):\n",
      "\n",
      "        url = self.wiki_api+re.sub(' ','_',term)\n",
      "        request = urllib2.Request(url)\n",
      "        request.add_header('User-Agent', 'Mozilla/5.0')\n",
      "\n",
      "        try:\n",
      "            response = urlopen(request)\n",
      "        except urllib2.HTTPError, e:\n",
      "            print e.code\n",
      "            return\n",
      "        except urllib2.URLError, e:\n",
      "            print e.reason\n",
      "            return\n",
      "\n",
      "        results = []\n",
      "        data = json.loads(response.read())\n",
      "        for key,value in data.items():\n",
      "            if 'search' in value:\n",
      "                if type(value['search']) == list:\n",
      "                    results = self.parse_wikipedia_results(value['search'])\n",
      "\n",
      "        if len(results) > 0:\n",
      "            return self.rank_dbpedia_results(results,term)\n",
      "        else:\n",
      "            return [ { 'match': 'none', 'term': term.encode('utf-8') } ]\n",
      "\n",
      "    def parse_wikipedia_results(self,results):\n",
      "        base_wikipedia_url = 'http://en.wikipedia.org/wiki/'\n",
      "        wiki_urls = []\n",
      "        for result in results:\n",
      "            if 'title' in result:\n",
      "                wiki_urls.append( \\\n",
      "                { 'url': (base_wikipedia_url + re.sub(' ','_',result['title'])).encode('UTF-8') , \\\n",
      "                'term': result['title'].encode('UTF-8') } )\n",
      "\n",
      "        return wiki_urls\n",
      "\n",
      "    def clean_term(self,term):\n",
      "        return re.sub(r\"[^A-Za-z0-9 ]\",\"\",term.lower())\n",
      "\n",
      "    def normalize(self,string):\n",
      "        strings = string.lower().split(\" \")\n",
      "        strings.sort()\n",
      "        return \" \".join(strings)\n",
      "\n",
      "    def rank_dbpedia_results(self,results,term):\n",
      "        \"\"\"\n",
      "        logic:\n",
      "            if edit distance 0, exact match\n",
      "            if edit distance 1-4, good-partial match\n",
      "            if edit distance > 4, partial match (results unsorted)\n",
      "        \"\"\"\n",
      "\n",
      "        matches = []\n",
      "        for result in results:\n",
      "            matches.append([metrics.edit_distance(self.normalize(result['term']), self.normalize(term)), result])\n",
      "\n",
      "        matches.sort()\n",
      "        print term,matches\n",
      "        print\n",
      "        if len(matches) == 0:\n",
      "            return [ { 'match': 'none', 'term': term.encode('utf-8') } ] \n",
      "\n",
      "        elif matches[0][0] == 0:\n",
      "            new_results = [ matches[0][1] ]\n",
      "            new_results[0]['match'] = 'exact'\n",
      "            return new_results\n",
      "\n",
      "        elif matches[0][0] <= 5:\n",
      "            new_results = []\n",
      "            for match in matches:\n",
      "                if match[0] <= 3:\n",
      "                    result = match[1]\n",
      "                    result['match'] = 'good-partial'\n",
      "                    new_results.append(result)\n",
      "\n",
      "                # needs refinement to provide good matches\n",
      "                elif match[0] <= 5:\n",
      "                    words = self.normalize(result['term']).split(' ')\n",
      "                    if self.normalize(term) in words:\n",
      "                        result = match[1]\n",
      "                        result['match'] = 'good-partial'\n",
      "                        new_results.append(result)\n",
      "\n",
      "            return new_results\n",
      "\n",
      "        else:\n",
      "            new_results = []\n",
      "            for result in results[0:2]:\n",
      "                result['match'] = 'partial'\n",
      "                new_results.append(result)\n",
      "            return new_results\n",
      "\n",
      "    def get_wiki_url(self, term):\n",
      "\n",
      "        results = self.check_wikipedia_api(term)\n",
      "\n",
      "        for result in results:\n",
      "            if result['match'] != 'none' and result['match'] != 'partial':\n",
      "                result['wiki_url'] = result['url']\n",
      "                \n",
      "\n",
      "        #print results\n",
      "        return results"
     ],
     "language": "python",
     "metadata": {},
     "outputs": []
    },
    {
     "cell_type": "heading",
     "level": 3,
     "metadata": {},
     "source": [
      "Wiki2Plain Class"
     ]
    },
    {
     "cell_type": "code",
     "collapsed": false,
     "input": [
      "# source: http://stackoverflow.com/questions/4460921/extract-the-first-paragraph-from-a-wikipedia-article-python/4461624#4461624\n",
      "#!/usr/bin/env python\n",
      "\n",
      "import re\n",
      "import yaml\n",
      "import urllib\n",
      "import urllib2\n",
      "\n",
      "class WikipediaError(Exception):\n",
      "    pass\n",
      "\n",
      "class Wikipedia:\n",
      "    url_article = 'http://%s.wikipedia.org/w/index.php?action=raw&title=%s'\n",
      "    url_image = 'http://%s.wikipedia.org/w/index.php?title=Special:FilePath&file=%s'\n",
      "    url_search = 'http://%s.wikipedia.org/w/api.php?action=query&list=search&srsearch=%s&sroffset=%d&srlimit=%d&format=yaml'\n",
      "    \n",
      "    def __init__(self, lang):\n",
      "        self.lang = lang\n",
      "    \n",
      "    def __fetch(self, url):\n",
      "        request = urllib2.Request(url)\n",
      "        request.add_header('User-Agent', 'Mozilla/5.0')\n",
      "        \n",
      "        try:\n",
      "            result = urllib2.urlopen(request)\n",
      "        except urllib2.HTTPError, e:\n",
      "            raise WikipediaError(e.code)\n",
      "        except urllib2.URLError, e:\n",
      "            raise WikipediaError(e.reason)\n",
      "        \n",
      "        return result\n",
      "    \n",
      "    def article(self, url):\n",
      "        article = url[url.rfind('/')+1:]\n",
      "        url = self.url_article % (self.lang, urllib.quote_plus(article))\n",
      "        content = self.__fetch(url).read()\n",
      "        \n",
      "        if content.upper().startswith('#REDIRECT'):\n",
      "            match = re.match('(?i)#REDIRECT \\[\\[([^\\[\\]]+)\\]\\]', content)\n",
      "            \n",
      "            if not match == None:\n",
      "                return self.article(match.group(1))\n",
      "            \n",
      "            raise WikipediaError('Can\\'t found redirect article.')\n",
      "        \n",
      "        return content\n",
      "    \n",
      "    def image(self, image, thumb=None):\n",
      "        url = self.url_image % (self.lang, image)\n",
      "        result = self.__fetch(url)\n",
      "        content = result.read()\n",
      "        \n",
      "        if thumb:\n",
      "            url = result.geturl() + '/' + thumb + 'px-' + image\n",
      "            url = url.replace('/commons/', '/commons/thumb/')\n",
      "            url = url.replace('/' + self.lang + '/', '/' + self.lang + '/thumb/')\n",
      "            \n",
      "            return self.__fetch(url).read()\n",
      "        \n",
      "        return content\n",
      "    \n",
      "    def search(self, query, page=1, limit=10):\n",
      "        offset = (page - 1) * limit\n",
      "        url = self.url_search % (self.lang, urllib.quote_plus(query), offset, limit)\n",
      "        content = self.__fetch(url).read()\n",
      "        \n",
      "        parsed = yaml.load(content)\n",
      "        search = parsed['query']['search']\n",
      "        \n",
      "        results = []\n",
      "        \n",
      "        if search:\n",
      "            for article in search:\n",
      "                title = article['title'].strip()\n",
      "                \n",
      "                snippet = article['snippet']\n",
      "                snippet = re.sub(r'(?m)<.*?>', '', snippet)\n",
      "                snippet = re.sub(r'\\s+', ' ', snippet)\n",
      "                snippet = snippet.replace(' . ', '. ')\n",
      "                snippet = snippet.replace(' , ', ', ')\n",
      "                snippet = snippet.strip()\n",
      "                \n",
      "                wordcount = article['wordcount']\n",
      "                \n",
      "                results.append({\n",
      "                    'title' : title,\n",
      "                    'snippet' : snippet,\n",
      "                    'wordcount' : wordcount\n",
      "                })\n",
      "        \n",
      "        # yaml.dump(results, default_style='', default_flow_style=False,\n",
      "        #     allow_unicode=True)\n",
      "        return results\n",
      "\n",
      "class Wiki2Plain:\n",
      "#    url_article = 'http://%s.wikipedia.org/w/index.php?action=raw&title=%s'\n",
      "    url_image = 'http://%s.wikipedia.org/w/index.php?title=Special:FilePath&file=%s'\n",
      "#    url_search = 'http://%s.wikipedia.org/w/api.php?action=query&list=search&srsearch=%s&sroffset=%d&srlimit=%d&format=yaml'\n",
      "    \n",
      "    def __init__(self, url):\n",
      "        self.wiki = Wikipedia('en')\n",
      "        self.wiki_article = self.wiki.article(url)\n",
      "\n",
      "        self.text = self.wiki_article\n",
      "        self.text = self.unhtml(self.text)\n",
      "        self.text = self.unwiki(self.text)\n",
      "        self.text = self.punctuate(self.text)\n",
      "        self.text = self.get_summary(self.text)\n",
      "    \n",
      "    def __str__(self):\n",
      "        return self.text\n",
      "    \n",
      "    def unwiki(self, wiki):\n",
      "        \"\"\"\n",
      "        Remove wiki markup from the text.\n",
      "        \"\"\"\n",
      "        wiki = re.sub(r'(?i)\\{\\{IPA(\\-[^\\|\\{\\}]+)*?\\|([^\\|\\{\\}]+)(\\|[^\\{\\}]+)*?\\}\\}', lambda m: m.group(2), wiki)\n",
      "        wiki = re.sub(r'(?i)\\{\\{Lang(\\-[^\\|\\{\\}]+)*?\\|([^\\|\\{\\}]+)(\\|[^\\{\\}]+)*?\\}\\}', lambda m: m.group(2), wiki)\n",
      "        wiki = re.sub(r'\\{\\{[^\\{\\}]+\\}\\}', '', wiki)\n",
      "        wiki = re.sub(r'(?m)\\{\\{[^\\{\\}]+\\}\\}', '', wiki)\n",
      "        wiki = re.sub(r'(?m)\\{\\|[^\\{\\}]*?\\|\\}', '', wiki)\n",
      "        wiki = re.sub(r'(?i)\\[\\[Category:[^\\[\\]]*?\\]\\]', '', wiki)\n",
      "        wiki = re.sub(r'(?i)\\[\\[Image:[^\\[\\]]*?\\]\\]', '', wiki)\n",
      "        wiki = re.sub(r'(?i)\\[\\[File:[^\\[\\]]*?\\]\\]', '', wiki)\n",
      "        wiki = re.sub(r'\\[\\[[^\\[\\]]*?\\|([^\\[\\]]*?)\\]\\]', lambda m: m.group(1), wiki)\n",
      "        wiki = re.sub(r'\\[\\[([^\\[\\]]+?)\\]\\]', lambda m: m.group(1), wiki)\n",
      "        wiki = re.sub(r'\\[\\[([^\\[\\]]+?)\\]\\]', '', wiki)\n",
      "        wiki = re.sub(r'(?i)File:[^\\[\\]]*?', '', wiki)\n",
      "        wiki = re.sub(r'\\[[^\\[\\]]*? ([^\\[\\]]*?)\\]', lambda m: m.group(1), wiki)\n",
      "        wiki = re.sub(r\"''+\", '', wiki)\n",
      "        wiki = re.sub(r'(?m)^\\*$', '', wiki)\n",
      "        \n",
      "        return wiki\n",
      "    \n",
      "    def unhtml(self, html):\n",
      "        \"\"\"\n",
      "        Remove HTML from the text.\n",
      "        \"\"\"\n",
      "        html = re.sub(r'(?i)&nbsp;', ' ', html)\n",
      "        html = re.sub(r'(?i)<br[ \\\\]*?>', '\\n', html)\n",
      "        html = re.sub(r'(?m)<!--.*?--\\s*>', '', html)\n",
      "        html = re.sub(r'(?i)<ref[^>]*>[^>]*<\\/ ?ref>', '', html)\n",
      "        html = re.sub(r'(?m)<.*?>', '', html)\n",
      "        html = re.sub(r'(?i)&amp;', '&', html)\n",
      "        \n",
      "        return html\n",
      "    \n",
      "    def punctuate(self, text):\n",
      "        \"\"\"\n",
      "        Convert every text part into well-formed one-space\n",
      "        separate paragraph.\n",
      "        \"\"\"\n",
      "        text = re.sub(r'\\r\\n|\\n|\\r', '\\n', text)\n",
      "        text = re.sub(r'\\n\\n+', '\\n\\n', text)\n",
      "        \n",
      "        parts = text.split('\\n\\n')\n",
      "        partsParsed = []\n",
      "        \n",
      "        for part in parts:\n",
      "            part = part.strip()\n",
      "            \n",
      "            if len(part) == 0:\n",
      "                continue\n",
      "            \n",
      "            partsParsed.append(part)\n",
      "        \n",
      "        return '\\n\\n'.join(partsParsed)\n",
      "\n",
      "    def get_summary(self,text):\n",
      "        text = text[:text.find('==')]\n",
      "        return text\n",
      "\n",
      "    def image(self):\n",
      "        url_image = 'http://simple.wikipedia.org/w/index.php?title=Special:FilePath&file=' \n",
      "        \"\"\"\n",
      "        Retrieve the first image in the document.\n",
      "        \"\"\"\n",
      "        # match = re.search(r'(?i)\\|?\\s*(image|img|image_flag)\\s*=\\s*(<!--.*-->)?\\s*([^\\\\/:*?<>\"|%]+\\.[^\\\\/:*?<>\"|%]{3,4})', self.wiki)\n",
      "        match = re.search(r'= (\\b[\\w ]+\\b)+.(gif|jpg|jpeg|png|bmp)', self.wiki_article)\n",
      "        if match:\n",
      "            image_url = url_image + '%s.%s' % match.groups()\n",
      "            image_url = re.sub(' ', '_', image_url)\n",
      "            return image_url\n",
      "        \n",
      "        return None"
     ],
     "language": "python",
     "metadata": {},
     "outputs": []
    }
   ],
   "metadata": {}
  }
 ]
}